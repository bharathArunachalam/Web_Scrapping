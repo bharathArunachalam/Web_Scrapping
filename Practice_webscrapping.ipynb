{
  "nbformat": 4,
  "nbformat_minor": 0,
  "metadata": {
    "colab": {
      "name": "Notebook: WebScrapping.ipynb",
      "provenance": [],
      "collapsed_sections": [
        "SBs5M7K--L1n",
        "dfDZCO2LwsxB",
        "exRW66X3_kGT",
        "3Sx7uaT3hW51",
        "8KHjt7v4MDDv",
        "G3DQctQqL-QL"
      ],
      "authorship_tag": "ABX9TyMMQxk3XpdaiEQ6vYQ9QoNY",
      "include_colab_link": true
    },
    "kernelspec": {
      "name": "python3",
      "display_name": "Python 3"
    },
    "language_info": {
      "name": "python"
    }
  },
  "cells": [
    {
      "cell_type": "markdown",
      "metadata": {
        "id": "view-in-github",
        "colab_type": "text"
      },
      "source": [
        "<a href=\"https://colab.research.google.com/github/bharathArunachalam/Web_Scrapping/blob/main/Notebook_WebScrapping.ipynb\" target=\"_parent\"><img src=\"https://colab.research.google.com/assets/colab-badge.svg\" alt=\"Open In Colab\"/></a>"
      ]
    },
    {
      "cell_type": "markdown",
      "source": [
        "# Practice 1: Web scrapping stock information"
      ],
      "metadata": {
        "id": "SBs5M7K--L1n"
      }
    },
    {
      "cell_type": "markdown",
      "source": [
        "Objective: Scrape the following information from 'https://www.moneycontrol.com/'\n",
        "\n",
        "Build the table below for 6 companies:\n",
        "\n",
        "['Rail Vikas', 'TCS', 'Indigo Paints', 'IOC', 'PVR', 'Reliance']\n",
        "\n",
        "|Name| Date | Time| Closing_price| Change_in_value| Percent_change|\n"
      ],
      "metadata": {
        "id": "VeJN5XC2haak"
      }
    },
    {
      "cell_type": "code",
      "source": [
        "import requests\n",
        "\n",
        "url_1 = 'https://www.moneycontrol.com/india/stockpricequote/'\n",
        "# this page contains links to all the stocks in Indian market.\n",
        "response = requests.get(url_1)\n",
        "response"
      ],
      "metadata": {
        "id": "G8iW4ohh-X2E",
        "colab": {
          "base_uri": "https://localhost:8080/"
        },
        "outputId": "95340b0d-23c4-4295-d016-6a73a522c524"
      },
      "execution_count": 13,
      "outputs": [
        {
          "output_type": "execute_result",
          "data": {
            "text/plain": [
              "<Response [200]>"
            ]
          },
          "metadata": {},
          "execution_count": 13
        }
      ]
    },
    {
      "cell_type": "code",
      "source": [
        "response_str_1 = response.text"
      ],
      "metadata": {
        "id": "obw8mEJsjvlI"
      },
      "execution_count": 14,
      "outputs": []
    },
    {
      "cell_type": "code",
      "source": [
        "from bs4 import BeautifulSoup\n",
        "import lxml\n",
        "\n",
        "soup_1 = BeautifulSoup(response_str_1, 'lxml')\n",
        "\n",
        "#BeautifulSoup object is ready"
      ],
      "metadata": {
        "id": "n8y7mgmGkV0e"
      },
      "execution_count": 15,
      "outputs": []
    },
    {
      "cell_type": "code",
      "source": [
        "link_compilation = soup_1.find('div', {'class': 'PT15'}).table.find_all('a')\n",
        "\n",
        "company_names = ['Rail Vikas', 'TCS', 'Indigo Paints', 'IOC', 'PVR', 'Reliance']\n",
        "#the list of companies we need to track data on. Add company name to this list to see the value in the data frame below.\n",
        "\n",
        "company_links = []\n",
        "\n",
        "for link in link_compilation:\n",
        "    for name in company_names:\n",
        "        if name in link:\n",
        "            company_links.append(link.get('href'))\n",
        "# list of company links we are tracking.\n",
        "\n",
        "company_links"
      ],
      "metadata": {
        "colab": {
          "base_uri": "https://localhost:8080/"
        },
        "id": "Txk49Zp4k1Pc",
        "outputId": "73596c62-ebd5-470e-c5b2-0f0cc2fcf406"
      },
      "execution_count": 16,
      "outputs": [
        {
          "output_type": "execute_result",
          "data": {
            "text/plain": [
              "['https://www.moneycontrol.com/india/stockpricequote/paints/indigopaints/IP08',\n",
              " 'https://www.moneycontrol.com/india/stockpricequote/refineries/indianoilcorporation/IOC',\n",
              " 'https://www.moneycontrol.com/india/stockpricequote/mediaentertainment/pvr/PVR',\n",
              " 'https://www.moneycontrol.com/india/stockpricequote/miscellaneous/railvikasnigam/RVN',\n",
              " 'https://www.moneycontrol.com/india/stockpricequote/refineries/relianceindustries/RI',\n",
              " 'https://www.moneycontrol.com/india/stockpricequote/computerssoftware/tataconsultancyservices/TCS']"
            ]
          },
          "metadata": {},
          "execution_count": 16
        }
      ]
    },
    {
      "cell_type": "code",
      "source": [
        "# response_1  = requests.get(company_links[4])\n",
        "# response_1"
      ],
      "metadata": {
        "id": "37ipBcRS1DgV"
      },
      "execution_count": 17,
      "outputs": []
    },
    {
      "cell_type": "code",
      "source": [
        "\n",
        "# response_1_str = response_1.text"
      ],
      "metadata": {
        "id": "LPILFWU71Qjz"
      },
      "execution_count": 18,
      "outputs": []
    },
    {
      "cell_type": "code",
      "source": [
        "# soup_1 = BeautifulSoup(response_1_str, 'lxml')\n",
        "# company_name = soup_1.find('div', {'class':'indices_namntab clearfix'}).find('div', {'class':'inid_name'}).h1.text\n",
        "# #company_name\n",
        "\n",
        "# time = soup_1.find('div', {'class':'indimprice'}).find('p', {'class': 'nseasondate'}).text[-5:]\n",
        "# #time\n",
        "\n",
        "# date = soup_1.find('div', {'class':'indimprice'}).find('p', {'class': 'nseasondate'}).text[-20:-8]\n",
        "# #date\n",
        "\n",
        "# price_percent = soup_1.find('div', {'class': 'indimprice'}).find('div',{'class': 'nsechange'}).text\n",
        "# price_percent_list = price_percent.split(' ')\n",
        "\n",
        "# price_change = price_percent_list[0]\n",
        "# percent_change = price_percent_list[1].replace('(', '').replace(')', ''). replace('%', '')\n",
        "\n",
        "# #price_change\n",
        "# #percent_change\n",
        "\n",
        "# closing_price = soup_1.find('div', {'class': 'inprice1 nsecp'}).get('rel')\n",
        "# #closing_price\n",
        "\n",
        "# print(company_name, time, date, price_change, percent_change, closing_price)"
      ],
      "metadata": {
        "id": "qXMB9Wj61ima"
      },
      "execution_count": 19,
      "outputs": []
    },
    {
      "cell_type": "code",
      "source": [
        "from datetime import datetime"
      ],
      "metadata": {
        "id": "AGVx7L00Kvc0"
      },
      "execution_count": 20,
      "outputs": []
    },
    {
      "cell_type": "code",
      "source": [
        "# build a function for the above cell:\n",
        "def stock_data_extraction(link):\n",
        "    \n",
        "    response_str_1 = requests.get(link).text\n",
        "    soup_1 = BeautifulSoup(response_str_1, 'lxml')\n",
        "\n",
        "    date = soup_1.find('div', {'class':'indimprice'}).find('p', {'class': 'nseasondate'}).text[-20:-8]\n",
        "    #date =\n",
        "    day = date[0:2]\n",
        "    month = date[3:6].lower()\n",
        "    year = date[-4:]\n",
        "    date_format = day + ' ' + month + ' ' + year\n",
        "    date_format_2 = date_format.replace(' ', '/')\n",
        "    \"\"\"formatting the date. We received it as '25 Feb, 2022', We need it as '25/feb/2022' \"\"\"\n",
        "    \n",
        "    price_percent = soup_1.find('div', {'class': 'indimprice'}).find('div',{'class': 'nsechange'}).text\n",
        "    price_percent_list = price_percent.split(' ')\n",
        "    \"\"\"formatting the price_percent.We received it as '(-0.24)', We need it as '-0.24' \"\"\"\n",
        "    \n",
        "    stock_dict = {\n",
        "                  'company_name' : soup_1.find('div', {'class':'indices_namntab clearfix'}).find('div', {'class':'inid_name'}).h1.text,\n",
        "                  'date' : date_format_2,\n",
        "                  'time' : soup_1.find('div', {'class':'indimprice'}).find('p', {'class': 'nseasondate'}).text[-5:],\n",
        "                  'closing_price' : float(soup_1.find('div', {'class': 'inprice1 nsecp'}).get('rel')),\n",
        "                  'price_change' : float(price_percent_list[0]),\n",
        "                  'percent_change' : float(price_percent_list[1].replace('(', '').replace(')', ''). replace('%', '')),\n",
        "                  }\n",
        "    \n",
        "    return stock_dict\n",
        "\n",
        "stock_data_extraction(company_links[1])"
      ],
      "metadata": {
        "colab": {
          "base_uri": "https://localhost:8080/"
        },
        "id": "DBQ4b6xG_VOb",
        "outputId": "40ffd895-329b-41c8-c9d4-c359b91e23f3"
      },
      "execution_count": 21,
      "outputs": [
        {
          "output_type": "execute_result",
          "data": {
            "text/plain": [
              "{'closing_price': 120.95,\n",
              " 'company_name': 'Indian Oil Corporation Ltd.',\n",
              " 'date': '10/mar/2022',\n",
              " 'percent_change': 3.42,\n",
              " 'price_change': 4.0,\n",
              " 'time': '03:59'}"
            ]
          },
          "metadata": {},
          "execution_count": 21
        }
      ]
    },
    {
      "cell_type": "code",
      "source": [
        "#checking response stat of individual links\n",
        "\n",
        "stock_data_list = []\n",
        "\n",
        "for link in company_links:\n",
        "    stock_data_list.append(stock_data_extraction(link))\n",
        "\n",
        "print(stock_data_list)\n"
      ],
      "metadata": {
        "colab": {
          "base_uri": "https://localhost:8080/"
        },
        "id": "tz4G4gLT3EJV",
        "outputId": "442fa18a-b32f-43fd-e860-490659b1b037"
      },
      "execution_count": 22,
      "outputs": [
        {
          "output_type": "stream",
          "name": "stdout",
          "text": [
            "[{'company_name': 'Indigo Paints Ltd.', 'date': '10/mar/2022', 'time': '03:59', 'closing_price': 1647.7, 'price_change': 115.85, 'percent_change': 7.56}, {'company_name': 'Indian Oil Corporation Ltd.', 'date': '10/mar/2022', 'time': '03:59', 'closing_price': 120.95, 'price_change': 4.0, 'percent_change': 3.42}, {'company_name': 'PVR Ltd.', 'date': '10/mar/2022', 'time': '03:52', 'closing_price': 1673.85, 'price_change': 28.6, 'percent_change': 1.74}, {'company_name': 'Rail Vikas Nigam Ltd.', 'date': '10/mar/2022', 'time': '03:59', 'closing_price': 32.6, 'price_change': 0.6, 'percent_change': 1.88}, {'company_name': 'Reliance Industries Ltd.', 'date': '10/mar/2022', 'time': '03:59', 'closing_price': 2392.25, 'price_change': 38.15, 'percent_change': 1.62}, {'company_name': 'Tata Consultancy Services Ltd.', 'date': '10/mar/2022', 'time': '03:59', 'closing_price': 3620.95, 'price_change': -11.65, 'percent_change': -0.32}]\n"
          ]
        }
      ]
    },
    {
      "cell_type": "code",
      "source": [
        "import pandas as pd\n",
        "\n",
        "stock_data_df = pd.DataFrame(stock_data_list)  \n",
        "stock_data_df "
      ],
      "metadata": {
        "colab": {
          "base_uri": "https://localhost:8080/",
          "height": 237
        },
        "id": "-HcMFeK3_HNd",
        "outputId": "42d5d131-b20c-411a-e687-f80bbfe34b03"
      },
      "execution_count": 23,
      "outputs": [
        {
          "output_type": "execute_result",
          "data": {
            "text/html": [
              "\n",
              "  <div id=\"df-ca9e4cf0-7c6b-4d21-8cb9-55708bde4a2e\">\n",
              "    <div class=\"colab-df-container\">\n",
              "      <div>\n",
              "<style scoped>\n",
              "    .dataframe tbody tr th:only-of-type {\n",
              "        vertical-align: middle;\n",
              "    }\n",
              "\n",
              "    .dataframe tbody tr th {\n",
              "        vertical-align: top;\n",
              "    }\n",
              "\n",
              "    .dataframe thead th {\n",
              "        text-align: right;\n",
              "    }\n",
              "</style>\n",
              "<table border=\"1\" class=\"dataframe\">\n",
              "  <thead>\n",
              "    <tr style=\"text-align: right;\">\n",
              "      <th></th>\n",
              "      <th>company_name</th>\n",
              "      <th>date</th>\n",
              "      <th>time</th>\n",
              "      <th>closing_price</th>\n",
              "      <th>price_change</th>\n",
              "      <th>percent_change</th>\n",
              "    </tr>\n",
              "  </thead>\n",
              "  <tbody>\n",
              "    <tr>\n",
              "      <th>0</th>\n",
              "      <td>Indigo Paints Ltd.</td>\n",
              "      <td>10/mar/2022</td>\n",
              "      <td>03:59</td>\n",
              "      <td>1647.70</td>\n",
              "      <td>115.85</td>\n",
              "      <td>7.56</td>\n",
              "    </tr>\n",
              "    <tr>\n",
              "      <th>1</th>\n",
              "      <td>Indian Oil Corporation Ltd.</td>\n",
              "      <td>10/mar/2022</td>\n",
              "      <td>03:59</td>\n",
              "      <td>120.95</td>\n",
              "      <td>4.00</td>\n",
              "      <td>3.42</td>\n",
              "    </tr>\n",
              "    <tr>\n",
              "      <th>2</th>\n",
              "      <td>PVR Ltd.</td>\n",
              "      <td>10/mar/2022</td>\n",
              "      <td>03:52</td>\n",
              "      <td>1673.85</td>\n",
              "      <td>28.60</td>\n",
              "      <td>1.74</td>\n",
              "    </tr>\n",
              "    <tr>\n",
              "      <th>3</th>\n",
              "      <td>Rail Vikas Nigam Ltd.</td>\n",
              "      <td>10/mar/2022</td>\n",
              "      <td>03:59</td>\n",
              "      <td>32.60</td>\n",
              "      <td>0.60</td>\n",
              "      <td>1.88</td>\n",
              "    </tr>\n",
              "    <tr>\n",
              "      <th>4</th>\n",
              "      <td>Reliance Industries Ltd.</td>\n",
              "      <td>10/mar/2022</td>\n",
              "      <td>03:59</td>\n",
              "      <td>2392.25</td>\n",
              "      <td>38.15</td>\n",
              "      <td>1.62</td>\n",
              "    </tr>\n",
              "    <tr>\n",
              "      <th>5</th>\n",
              "      <td>Tata Consultancy Services Ltd.</td>\n",
              "      <td>10/mar/2022</td>\n",
              "      <td>03:59</td>\n",
              "      <td>3620.95</td>\n",
              "      <td>-11.65</td>\n",
              "      <td>-0.32</td>\n",
              "    </tr>\n",
              "  </tbody>\n",
              "</table>\n",
              "</div>\n",
              "      <button class=\"colab-df-convert\" onclick=\"convertToInteractive('df-ca9e4cf0-7c6b-4d21-8cb9-55708bde4a2e')\"\n",
              "              title=\"Convert this dataframe to an interactive table.\"\n",
              "              style=\"display:none;\">\n",
              "        \n",
              "  <svg xmlns=\"http://www.w3.org/2000/svg\" height=\"24px\"viewBox=\"0 0 24 24\"\n",
              "       width=\"24px\">\n",
              "    <path d=\"M0 0h24v24H0V0z\" fill=\"none\"/>\n",
              "    <path d=\"M18.56 5.44l.94 2.06.94-2.06 2.06-.94-2.06-.94-.94-2.06-.94 2.06-2.06.94zm-11 1L8.5 8.5l.94-2.06 2.06-.94-2.06-.94L8.5 2.5l-.94 2.06-2.06.94zm10 10l.94 2.06.94-2.06 2.06-.94-2.06-.94-.94-2.06-.94 2.06-2.06.94z\"/><path d=\"M17.41 7.96l-1.37-1.37c-.4-.4-.92-.59-1.43-.59-.52 0-1.04.2-1.43.59L10.3 9.45l-7.72 7.72c-.78.78-.78 2.05 0 2.83L4 21.41c.39.39.9.59 1.41.59.51 0 1.02-.2 1.41-.59l7.78-7.78 2.81-2.81c.8-.78.8-2.07 0-2.86zM5.41 20L4 18.59l7.72-7.72 1.47 1.35L5.41 20z\"/>\n",
              "  </svg>\n",
              "      </button>\n",
              "      \n",
              "  <style>\n",
              "    .colab-df-container {\n",
              "      display:flex;\n",
              "      flex-wrap:wrap;\n",
              "      gap: 12px;\n",
              "    }\n",
              "\n",
              "    .colab-df-convert {\n",
              "      background-color: #E8F0FE;\n",
              "      border: none;\n",
              "      border-radius: 50%;\n",
              "      cursor: pointer;\n",
              "      display: none;\n",
              "      fill: #1967D2;\n",
              "      height: 32px;\n",
              "      padding: 0 0 0 0;\n",
              "      width: 32px;\n",
              "    }\n",
              "\n",
              "    .colab-df-convert:hover {\n",
              "      background-color: #E2EBFA;\n",
              "      box-shadow: 0px 1px 2px rgba(60, 64, 67, 0.3), 0px 1px 3px 1px rgba(60, 64, 67, 0.15);\n",
              "      fill: #174EA6;\n",
              "    }\n",
              "\n",
              "    [theme=dark] .colab-df-convert {\n",
              "      background-color: #3B4455;\n",
              "      fill: #D2E3FC;\n",
              "    }\n",
              "\n",
              "    [theme=dark] .colab-df-convert:hover {\n",
              "      background-color: #434B5C;\n",
              "      box-shadow: 0px 1px 3px 1px rgba(0, 0, 0, 0.15);\n",
              "      filter: drop-shadow(0px 1px 2px rgba(0, 0, 0, 0.3));\n",
              "      fill: #FFFFFF;\n",
              "    }\n",
              "  </style>\n",
              "\n",
              "      <script>\n",
              "        const buttonEl =\n",
              "          document.querySelector('#df-ca9e4cf0-7c6b-4d21-8cb9-55708bde4a2e button.colab-df-convert');\n",
              "        buttonEl.style.display =\n",
              "          google.colab.kernel.accessAllowed ? 'block' : 'none';\n",
              "\n",
              "        async function convertToInteractive(key) {\n",
              "          const element = document.querySelector('#df-ca9e4cf0-7c6b-4d21-8cb9-55708bde4a2e');\n",
              "          const dataTable =\n",
              "            await google.colab.kernel.invokeFunction('convertToInteractive',\n",
              "                                                     [key], {});\n",
              "          if (!dataTable) return;\n",
              "\n",
              "          const docLinkHtml = 'Like what you see? Visit the ' +\n",
              "            '<a target=\"_blank\" href=https://colab.research.google.com/notebooks/data_table.ipynb>data table notebook</a>'\n",
              "            + ' to learn more about interactive tables.';\n",
              "          element.innerHTML = '';\n",
              "          dataTable['output_type'] = 'display_data';\n",
              "          await google.colab.output.renderOutput(dataTable, element);\n",
              "          const docLink = document.createElement('div');\n",
              "          docLink.innerHTML = docLinkHtml;\n",
              "          element.appendChild(docLink);\n",
              "        }\n",
              "      </script>\n",
              "    </div>\n",
              "  </div>\n",
              "  "
            ],
            "text/plain": [
              "                     company_name         date   time  closing_price  \\\n",
              "0              Indigo Paints Ltd.  10/mar/2022  03:59        1647.70   \n",
              "1     Indian Oil Corporation Ltd.  10/mar/2022  03:59         120.95   \n",
              "2                        PVR Ltd.  10/mar/2022  03:52        1673.85   \n",
              "3           Rail Vikas Nigam Ltd.  10/mar/2022  03:59          32.60   \n",
              "4        Reliance Industries Ltd.  10/mar/2022  03:59        2392.25   \n",
              "5  Tata Consultancy Services Ltd.  10/mar/2022  03:59        3620.95   \n",
              "\n",
              "   price_change  percent_change  \n",
              "0        115.85            7.56  \n",
              "1          4.00            3.42  \n",
              "2         28.60            1.74  \n",
              "3          0.60            1.88  \n",
              "4         38.15            1.62  \n",
              "5        -11.65           -0.32  "
            ]
          },
          "metadata": {},
          "execution_count": 23
        }
      ]
    },
    {
      "cell_type": "code",
      "source": [
        "import json\n",
        "with open('stock_data_1.json', 'w') as a:\n",
        "    json.dump(stock_data_list, a)\n",
        "\n",
        "# converting the list of dictionaries as .json file"
      ],
      "metadata": {
        "id": "OjeCajO2hnKt"
      },
      "execution_count": 24,
      "outputs": []
    },
    {
      "cell_type": "markdown",
      "source": [
        "# Practice 2: Web scrapping f1 calender 2022"
      ],
      "metadata": {
        "id": "dfDZCO2LwsxB"
      }
    },
    {
      "cell_type": "markdown",
      "source": [
        "Objective: Scrape the following information from 'https://www.formula1.com'\n",
        "\n",
        "Build the table below for all the races:\n",
        "\n",
        "| Country | gp| Race Weekend (from)| Race Weekend (to)|"
      ],
      "metadata": {
        "id": "osaGKharMEmp"
      }
    },
    {
      "cell_type": "code",
      "source": [
        "import requests\n",
        "url_2 = 'https://www.formula1.com'\n",
        "\n",
        "response_2 = requests.get(url_2)\n",
        "response_2"
      ],
      "metadata": {
        "colab": {
          "base_uri": "https://localhost:8080/"
        },
        "id": "k1ZTtsM0xEO_",
        "outputId": "437316da-7ac2-43d8-a772-0e3f4dc235d2"
      },
      "execution_count": 25,
      "outputs": [
        {
          "output_type": "execute_result",
          "data": {
            "text/plain": [
              "<Response [200]>"
            ]
          },
          "metadata": {},
          "execution_count": 25
        }
      ]
    },
    {
      "cell_type": "code",
      "source": [
        "response_str_2 = response_2.text"
      ],
      "metadata": {
        "id": "umcUlSgeyM9s"
      },
      "execution_count": 26,
      "outputs": []
    },
    {
      "cell_type": "code",
      "source": [
        "#response_str_2"
      ],
      "metadata": {
        "id": "yJk7Br7Ky6Wb"
      },
      "execution_count": 27,
      "outputs": []
    },
    {
      "cell_type": "code",
      "source": [
        "from bs4 import BeautifulSoup\n",
        "import lxml\n",
        "\n",
        "soup_2 = BeautifulSoup(response_str_2, 'lxml')\n",
        "#soup_2"
      ],
      "metadata": {
        "id": "7liZBnyQy8Tp"
      },
      "execution_count": 28,
      "outputs": []
    },
    {
      "cell_type": "code",
      "source": [
        "race_list = soup_2.find('div',{'class':'race-list'}).find_all('article')\n",
        "#race_list\n",
        "#the node below which all data is available."
      ],
      "metadata": {
        "id": "6x2ZYv92L8QL"
      },
      "execution_count": 29,
      "outputs": []
    },
    {
      "cell_type": "code",
      "source": [
        "country_names = []\n",
        "for item in race_list:\n",
        "    country_names.append(item.find('span', {'class':'name'}).text)\n"
      ],
      "metadata": {
        "id": "PyjYHm_NK2OQ"
      },
      "execution_count": 30,
      "outputs": []
    },
    {
      "cell_type": "code",
      "source": [
        "gp_names = []\n",
        "for gp in race_list:\n",
        "    gp_names.append(gp.find('h3').a.text)\n"
      ],
      "metadata": {
        "id": "MdFyp64xS3Sn"
      },
      "execution_count": 31,
      "outputs": []
    },
    {
      "cell_type": "code",
      "source": [
        "from_race_dates = []\n",
        "for date in race_list:\n",
        "    from_race_dates.append( date.find('time', {'class': 'from date-full'}).text.strip())\n",
        "\n",
        "to_race_dates = []\n",
        "for date in race_list:\n",
        "    to_race_dates.append( date.find('time', {'class': 'to date-full'}).text.strip())\n"
      ],
      "metadata": {
        "id": "jR31DVR-MIkm"
      },
      "execution_count": 32,
      "outputs": []
    },
    {
      "cell_type": "code",
      "source": [
        "import pandas as pd\n",
        "pd.set_option('display.max_colwidth', 1)\n",
        "\n",
        "race_schedule_data = {'country': country_names, 'gp': gp_names, 'from': from_race_dates,'to': to_race_dates}\n",
        "\n",
        "index= []\n",
        "for i in range (1, len(country_names)+1):\n",
        "    index.append(i)\n",
        "\n",
        "f1_schedule_df = pd.DataFrame(race_schedule_data, index= index)\n",
        "f1_schedule_df"
      ],
      "metadata": {
        "colab": {
          "base_uri": "https://localhost:8080/",
          "height": 739
        },
        "id": "-zAXvunuPu--",
        "outputId": "af3a85ff-7608-4d29-f30b-a91a3bd81a67"
      },
      "execution_count": 33,
      "outputs": [
        {
          "output_type": "execute_result",
          "data": {
            "text/html": [
              "\n",
              "  <div id=\"df-fa5b3d94-d20b-40a9-ac5f-5abaa36c8237\">\n",
              "    <div class=\"colab-df-container\">\n",
              "      <div>\n",
              "<style scoped>\n",
              "    .dataframe tbody tr th:only-of-type {\n",
              "        vertical-align: middle;\n",
              "    }\n",
              "\n",
              "    .dataframe tbody tr th {\n",
              "        vertical-align: top;\n",
              "    }\n",
              "\n",
              "    .dataframe thead th {\n",
              "        text-align: right;\n",
              "    }\n",
              "</style>\n",
              "<table border=\"1\" class=\"dataframe\">\n",
              "  <thead>\n",
              "    <tr style=\"text-align: right;\">\n",
              "      <th></th>\n",
              "      <th>country</th>\n",
              "      <th>gp</th>\n",
              "      <th>from</th>\n",
              "      <th>to</th>\n",
              "    </tr>\n",
              "  </thead>\n",
              "  <tbody>\n",
              "    <tr>\n",
              "      <th>1</th>\n",
              "      <td>Bahrain</td>\n",
              "      <td>FORMULA 1 GULF AIR BAHRAIN GRAND PRIX 2022</td>\n",
              "      <td>18 Mar 2022</td>\n",
              "      <td>20 Mar 2022</td>\n",
              "    </tr>\n",
              "    <tr>\n",
              "      <th>2</th>\n",
              "      <td>Saudi Arabia</td>\n",
              "      <td>FORMULA 1 STC SAUDI ARABIAN GRAND PRIX 2022</td>\n",
              "      <td>25 Mar 2022</td>\n",
              "      <td>27 Mar 2022</td>\n",
              "    </tr>\n",
              "    <tr>\n",
              "      <th>3</th>\n",
              "      <td>Australia</td>\n",
              "      <td>FORMULA 1 HEINEKEN AUSTRALIAN GRAND PRIX 2022</td>\n",
              "      <td>08 Apr 2022</td>\n",
              "      <td>10 Apr 2022</td>\n",
              "    </tr>\n",
              "    <tr>\n",
              "      <th>4</th>\n",
              "      <td>Italy</td>\n",
              "      <td>FORMULA 1 ROLEX GRAN PREMIO DELL'EMILIA ROMAGNA 2022</td>\n",
              "      <td>22 Apr 2022</td>\n",
              "      <td>24 Apr 2022</td>\n",
              "    </tr>\n",
              "    <tr>\n",
              "      <th>5</th>\n",
              "      <td>United States</td>\n",
              "      <td>FORMULA 1 CRYPTO.COM MIAMI GRAND PRIX 2022</td>\n",
              "      <td>06 May 2022</td>\n",
              "      <td>08 May 2022</td>\n",
              "    </tr>\n",
              "    <tr>\n",
              "      <th>6</th>\n",
              "      <td>Spain</td>\n",
              "      <td>FORMULA 1 PIRELLI GRAN PREMIO DE ESPAÃA 2022</td>\n",
              "      <td>20 May 2022</td>\n",
              "      <td>22 May 2022</td>\n",
              "    </tr>\n",
              "    <tr>\n",
              "      <th>7</th>\n",
              "      <td>Monaco</td>\n",
              "      <td>FORMULA 1 GRAND PRIX DE MONACO 2022</td>\n",
              "      <td>27 May 2022</td>\n",
              "      <td>29 May 2022</td>\n",
              "    </tr>\n",
              "    <tr>\n",
              "      <th>8</th>\n",
              "      <td>Azerbaijan</td>\n",
              "      <td>FORMULA 1 AZERBAIJAN GRAND PRIX 2022</td>\n",
              "      <td>10 Jun 2022</td>\n",
              "      <td>12 Jun 2022</td>\n",
              "    </tr>\n",
              "    <tr>\n",
              "      <th>9</th>\n",
              "      <td>Canada</td>\n",
              "      <td>FORMULA 1 GRAND PRIX DU CANADA 2022</td>\n",
              "      <td>17 Jun 2022</td>\n",
              "      <td>19 Jun 2022</td>\n",
              "    </tr>\n",
              "    <tr>\n",
              "      <th>10</th>\n",
              "      <td>Great Britain</td>\n",
              "      <td>FORMULA 1 BRITISH GRAND PRIX 2022</td>\n",
              "      <td>01 Jul 2022</td>\n",
              "      <td>03 Jul 2022</td>\n",
              "    </tr>\n",
              "    <tr>\n",
              "      <th>11</th>\n",
              "      <td>Austria</td>\n",
              "      <td>FORMULA 1 GROSSER PREIS VON ÃSTERREICH 2022</td>\n",
              "      <td>08 Jul 2022</td>\n",
              "      <td>10 Jul 2022</td>\n",
              "    </tr>\n",
              "    <tr>\n",
              "      <th>12</th>\n",
              "      <td>France</td>\n",
              "      <td>FORMULA 1 GRAND PRIX DE FRANCE 2022</td>\n",
              "      <td>22 Jul 2022</td>\n",
              "      <td>24 Jul 2022</td>\n",
              "    </tr>\n",
              "    <tr>\n",
              "      <th>13</th>\n",
              "      <td>Hungary</td>\n",
              "      <td>FORMULA 1 MAGYAR NAGYDÃJ 2022</td>\n",
              "      <td>29 Jul 2022</td>\n",
              "      <td>31 Jul 2022</td>\n",
              "    </tr>\n",
              "    <tr>\n",
              "      <th>14</th>\n",
              "      <td>Belgium</td>\n",
              "      <td>FORMULA 1 ROLEX BELGIAN GRAND PRIX 2022</td>\n",
              "      <td>26 Aug 2022</td>\n",
              "      <td>28 Aug 2022</td>\n",
              "    </tr>\n",
              "    <tr>\n",
              "      <th>15</th>\n",
              "      <td>Netherlands</td>\n",
              "      <td>FORMULA 1 HEINEKEN DUTCH GRAND PRIX 2022</td>\n",
              "      <td>02 Sep 2022</td>\n",
              "      <td>04 Sep 2022</td>\n",
              "    </tr>\n",
              "    <tr>\n",
              "      <th>16</th>\n",
              "      <td>Italy</td>\n",
              "      <td>FORMULA 1 PIRELLI GRAN PREMIO DâITALIA 2022</td>\n",
              "      <td>09 Sep 2022</td>\n",
              "      <td>11 Sep 2022</td>\n",
              "    </tr>\n",
              "    <tr>\n",
              "      <th>17</th>\n",
              "      <td>Singapore</td>\n",
              "      <td>FORMULA 1 SINGAPORE GRAND PRIX 2022</td>\n",
              "      <td>30 Sep 2022</td>\n",
              "      <td>02 Oct 2022</td>\n",
              "    </tr>\n",
              "    <tr>\n",
              "      <th>18</th>\n",
              "      <td>Japan</td>\n",
              "      <td>FORMULA 1 JAPANESE GRAND PRIX 2022</td>\n",
              "      <td>07 Oct 2022</td>\n",
              "      <td>09 Oct 2022</td>\n",
              "    </tr>\n",
              "    <tr>\n",
              "      <th>19</th>\n",
              "      <td>United States</td>\n",
              "      <td>FORMULA 1 ARAMCO UNITED STATES GRAND PRIX 2022</td>\n",
              "      <td>21 Oct 2022</td>\n",
              "      <td>23 Oct 2022</td>\n",
              "    </tr>\n",
              "    <tr>\n",
              "      <th>20</th>\n",
              "      <td>Mexico</td>\n",
              "      <td>FORMULA 1 GRAN PREMIO DE LA CIUDAD DE MÃXICO 2022</td>\n",
              "      <td>28 Oct 2022</td>\n",
              "      <td>30 Oct 2022</td>\n",
              "    </tr>\n",
              "    <tr>\n",
              "      <th>21</th>\n",
              "      <td>Brazil</td>\n",
              "      <td>FORMULA 1 HEINEKEN GRANDE PRÃMIO DE SÃO PAULO 2022</td>\n",
              "      <td>11 Nov 2022</td>\n",
              "      <td>13 Nov 2022</td>\n",
              "    </tr>\n",
              "    <tr>\n",
              "      <th>22</th>\n",
              "      <td>Abu Dhabi</td>\n",
              "      <td>FORMULA 1 ETIHAD AIRWAYS ABU DHABI GRAND PRIX 2022</td>\n",
              "      <td>18 Nov 2022</td>\n",
              "      <td>20 Nov 2022</td>\n",
              "    </tr>\n",
              "  </tbody>\n",
              "</table>\n",
              "</div>\n",
              "      <button class=\"colab-df-convert\" onclick=\"convertToInteractive('df-fa5b3d94-d20b-40a9-ac5f-5abaa36c8237')\"\n",
              "              title=\"Convert this dataframe to an interactive table.\"\n",
              "              style=\"display:none;\">\n",
              "        \n",
              "  <svg xmlns=\"http://www.w3.org/2000/svg\" height=\"24px\"viewBox=\"0 0 24 24\"\n",
              "       width=\"24px\">\n",
              "    <path d=\"M0 0h24v24H0V0z\" fill=\"none\"/>\n",
              "    <path d=\"M18.56 5.44l.94 2.06.94-2.06 2.06-.94-2.06-.94-.94-2.06-.94 2.06-2.06.94zm-11 1L8.5 8.5l.94-2.06 2.06-.94-2.06-.94L8.5 2.5l-.94 2.06-2.06.94zm10 10l.94 2.06.94-2.06 2.06-.94-2.06-.94-.94-2.06-.94 2.06-2.06.94z\"/><path d=\"M17.41 7.96l-1.37-1.37c-.4-.4-.92-.59-1.43-.59-.52 0-1.04.2-1.43.59L10.3 9.45l-7.72 7.72c-.78.78-.78 2.05 0 2.83L4 21.41c.39.39.9.59 1.41.59.51 0 1.02-.2 1.41-.59l7.78-7.78 2.81-2.81c.8-.78.8-2.07 0-2.86zM5.41 20L4 18.59l7.72-7.72 1.47 1.35L5.41 20z\"/>\n",
              "  </svg>\n",
              "      </button>\n",
              "      \n",
              "  <style>\n",
              "    .colab-df-container {\n",
              "      display:flex;\n",
              "      flex-wrap:wrap;\n",
              "      gap: 12px;\n",
              "    }\n",
              "\n",
              "    .colab-df-convert {\n",
              "      background-color: #E8F0FE;\n",
              "      border: none;\n",
              "      border-radius: 50%;\n",
              "      cursor: pointer;\n",
              "      display: none;\n",
              "      fill: #1967D2;\n",
              "      height: 32px;\n",
              "      padding: 0 0 0 0;\n",
              "      width: 32px;\n",
              "    }\n",
              "\n",
              "    .colab-df-convert:hover {\n",
              "      background-color: #E2EBFA;\n",
              "      box-shadow: 0px 1px 2px rgba(60, 64, 67, 0.3), 0px 1px 3px 1px rgba(60, 64, 67, 0.15);\n",
              "      fill: #174EA6;\n",
              "    }\n",
              "\n",
              "    [theme=dark] .colab-df-convert {\n",
              "      background-color: #3B4455;\n",
              "      fill: #D2E3FC;\n",
              "    }\n",
              "\n",
              "    [theme=dark] .colab-df-convert:hover {\n",
              "      background-color: #434B5C;\n",
              "      box-shadow: 0px 1px 3px 1px rgba(0, 0, 0, 0.15);\n",
              "      filter: drop-shadow(0px 1px 2px rgba(0, 0, 0, 0.3));\n",
              "      fill: #FFFFFF;\n",
              "    }\n",
              "  </style>\n",
              "\n",
              "      <script>\n",
              "        const buttonEl =\n",
              "          document.querySelector('#df-fa5b3d94-d20b-40a9-ac5f-5abaa36c8237 button.colab-df-convert');\n",
              "        buttonEl.style.display =\n",
              "          google.colab.kernel.accessAllowed ? 'block' : 'none';\n",
              "\n",
              "        async function convertToInteractive(key) {\n",
              "          const element = document.querySelector('#df-fa5b3d94-d20b-40a9-ac5f-5abaa36c8237');\n",
              "          const dataTable =\n",
              "            await google.colab.kernel.invokeFunction('convertToInteractive',\n",
              "                                                     [key], {});\n",
              "          if (!dataTable) return;\n",
              "\n",
              "          const docLinkHtml = 'Like what you see? Visit the ' +\n",
              "            '<a target=\"_blank\" href=https://colab.research.google.com/notebooks/data_table.ipynb>data table notebook</a>'\n",
              "            + ' to learn more about interactive tables.';\n",
              "          element.innerHTML = '';\n",
              "          dataTable['output_type'] = 'display_data';\n",
              "          await google.colab.output.renderOutput(dataTable, element);\n",
              "          const docLink = document.createElement('div');\n",
              "          docLink.innerHTML = docLinkHtml;\n",
              "          element.appendChild(docLink);\n",
              "        }\n",
              "      </script>\n",
              "    </div>\n",
              "  </div>\n",
              "  "
            ],
            "text/plain": [
              "          country                                                    gp  \\\n",
              "1   Bahrain        FORMULA 1 GULF AIR BAHRAIN GRAND PRIX 2022             \n",
              "2   Saudi Arabia   FORMULA 1 STC SAUDI ARABIAN GRAND PRIX 2022            \n",
              "3   Australia      FORMULA 1 HEINEKEN AUSTRALIAN GRAND PRIX 2022          \n",
              "4   Italy          FORMULA 1 ROLEX GRAN PREMIO DELL'EMILIA ROMAGNA 2022   \n",
              "5   United States  FORMULA 1 CRYPTO.COM MIAMI GRAND PRIX 2022             \n",
              "6   Spain          FORMULA 1 PIRELLI GRAN PREMIO DE ESPAÃA 2022          \n",
              "7   Monaco         FORMULA 1 GRAND PRIX DE MONACO 2022                    \n",
              "8   Azerbaijan     FORMULA 1 AZERBAIJAN GRAND PRIX 2022                   \n",
              "9   Canada         FORMULA 1 GRAND PRIX DU CANADA 2022                    \n",
              "10  Great Britain  FORMULA 1 BRITISH GRAND PRIX 2022                      \n",
              "11  Austria        FORMULA 1 GROSSER PREIS VON ÃSTERREICH 2022           \n",
              "12  France         FORMULA 1 GRAND PRIX DE FRANCE 2022                    \n",
              "13  Hungary        FORMULA 1 MAGYAR NAGYDÃJ 2022                         \n",
              "14  Belgium        FORMULA 1 ROLEX BELGIAN GRAND PRIX 2022                \n",
              "15  Netherlands    FORMULA 1 HEINEKEN DUTCH GRAND PRIX 2022               \n",
              "16  Italy          FORMULA 1 PIRELLI GRAN PREMIO DâITALIA 2022          \n",
              "17  Singapore      FORMULA 1 SINGAPORE GRAND PRIX 2022                    \n",
              "18  Japan          FORMULA 1 JAPANESE GRAND PRIX 2022                     \n",
              "19  United States  FORMULA 1 ARAMCO UNITED STATES GRAND PRIX 2022         \n",
              "20  Mexico         FORMULA 1 GRAN PREMIO DE LA CIUDAD DE MÃXICO 2022     \n",
              "21  Brazil         FORMULA 1 HEINEKEN GRANDE PRÃMIO DE SÃO PAULO 2022   \n",
              "22  Abu Dhabi      FORMULA 1 ETIHAD AIRWAYS ABU DHABI GRAND PRIX 2022     \n",
              "\n",
              "           from           to  \n",
              "1   18 Mar 2022  20 Mar 2022  \n",
              "2   25 Mar 2022  27 Mar 2022  \n",
              "3   08 Apr 2022  10 Apr 2022  \n",
              "4   22 Apr 2022  24 Apr 2022  \n",
              "5   06 May 2022  08 May 2022  \n",
              "6   20 May 2022  22 May 2022  \n",
              "7   27 May 2022  29 May 2022  \n",
              "8   10 Jun 2022  12 Jun 2022  \n",
              "9   17 Jun 2022  19 Jun 2022  \n",
              "10  01 Jul 2022  03 Jul 2022  \n",
              "11  08 Jul 2022  10 Jul 2022  \n",
              "12  22 Jul 2022  24 Jul 2022  \n",
              "13  29 Jul 2022  31 Jul 2022  \n",
              "14  26 Aug 2022  28 Aug 2022  \n",
              "15  02 Sep 2022  04 Sep 2022  \n",
              "16  09 Sep 2022  11 Sep 2022  \n",
              "17  30 Sep 2022  02 Oct 2022  \n",
              "18  07 Oct 2022  09 Oct 2022  \n",
              "19  21 Oct 2022  23 Oct 2022  \n",
              "20  28 Oct 2022  30 Oct 2022  \n",
              "21  11 Nov 2022  13 Nov 2022  \n",
              "22  18 Nov 2022  20 Nov 2022  "
            ]
          },
          "metadata": {},
          "execution_count": 33
        }
      ]
    },
    {
      "cell_type": "code",
      "source": [
        "f1_schedule_df.to_excel(\"f1_schedule_2022.xlsx\")\n",
        "#saving to excel"
      ],
      "metadata": {
        "id": "RnqX2_5hV9jz"
      },
      "execution_count": 34,
      "outputs": []
    },
    {
      "cell_type": "markdown",
      "source": [
        "# Practice 3: Web scrapping of points premier leauge table "
      ],
      "metadata": {
        "id": "exRW66X3_kGT"
      }
    },
    {
      "cell_type": "markdown",
      "source": [
        "Objective: Scrape the following information from 'https://www.premierleague.com/'\n",
        "\n",
        "Build the table below for all the races:\n",
        "\n",
        "|position| club | played| won| drawn| lost| GF| GA| GD| points|"
      ],
      "metadata": {
        "id": "GinaczCfAB4f"
      }
    },
    {
      "cell_type": "code",
      "source": [
        "import requests\n",
        "from bs4 import BeautifulSoup\n",
        "import pandas as pd"
      ],
      "metadata": {
        "id": "7evfk76lABRc"
      },
      "execution_count": 35,
      "outputs": []
    },
    {
      "cell_type": "code",
      "source": [
        "url = 'https://www.premierleague.com/tables'\n",
        "response_3 = requests.get(url)\n",
        "response_3"
      ],
      "metadata": {
        "colab": {
          "base_uri": "https://localhost:8080/"
        },
        "id": "dMS3fmbfBqhC",
        "outputId": "82921393-80be-492e-92d4-450e64a85605"
      },
      "execution_count": 36,
      "outputs": [
        {
          "output_type": "execute_result",
          "data": {
            "text/plain": [
              "<Response [200]>"
            ]
          },
          "metadata": {},
          "execution_count": 36
        }
      ]
    },
    {
      "cell_type": "code",
      "source": [
        "response_3_str = response_3.text\n",
        "#response_3_str"
      ],
      "metadata": {
        "id": "LwcG3659CLBb"
      },
      "execution_count": 37,
      "outputs": []
    },
    {
      "cell_type": "code",
      "source": [
        "soup_3 = BeautifulSoup(response_3_str, 'lxml')\n",
        "#soup_3"
      ],
      "metadata": {
        "id": "HPjcBAglCh8k"
      },
      "execution_count": 38,
      "outputs": []
    },
    {
      "cell_type": "code",
      "source": [
        "len(soup_3.find_all('table'))"
      ],
      "metadata": {
        "colab": {
          "base_uri": "https://localhost:8080/"
        },
        "id": "9KCmwV_rCvqv",
        "outputId": "bea0d277-13f2-4aa3-d2d0-2a6af2dd5993"
      },
      "execution_count": 39,
      "outputs": [
        {
          "output_type": "execute_result",
          "data": {
            "text/plain": [
              "4"
            ]
          },
          "metadata": {},
          "execution_count": 39
        }
      ]
    },
    {
      "cell_type": "code",
      "source": [
        "table = soup_3.find('table')\n",
        "#table"
      ],
      "metadata": {
        "id": "p3_yAhcqDRGZ"
      },
      "execution_count": 40,
      "outputs": []
    },
    {
      "cell_type": "code",
      "source": [
        "#creating column names:\n",
        "\n",
        "column_list = ['rank', 'club', 'played', 'won', 'drawn', 'lost', 'GF', 'GA', 'GD', 'points']"
      ],
      "metadata": {
        "id": "nCzfji64D8XC"
      },
      "execution_count": 41,
      "outputs": []
    },
    {
      "cell_type": "code",
      "source": [
        "# Converting each row of the table into a list item\n",
        "\n",
        "trs = table.find('tbody').find_all('tr')\n",
        "# print(trs[0])\n",
        "all_trs_list = []\n",
        "for tr in trs:\n",
        "    x = tr.find_all('td')[1:11]\n",
        "    if len(x) != 0:\n",
        "        all_trs_list.append(x)\n",
        "print(len(all_trs_list))\n"
      ],
      "metadata": {
        "colab": {
          "base_uri": "https://localhost:8080/"
        },
        "id": "iazJ1acPUDoF",
        "outputId": "79554789-4cdb-4403-a308-d4c04ff93302"
      },
      "execution_count": 42,
      "outputs": [
        {
          "output_type": "stream",
          "name": "stdout",
          "text": [
            "20\n"
          ]
        }
      ]
    },
    {
      "cell_type": "code",
      "source": [
        "# extacting information from each cell of the row\n",
        "a = []\n",
        "for td in all_trs_list:\n",
        "\n",
        "    dictionary = {\n",
        "                    'rank' : td[0].find('span', {'class': 'value'}).text,\n",
        "                    'club' : td[1].find('span', {'class': 'long'}).text,\n",
        "                    'played' : td[2].text,\n",
        "                    'won' : td[3].text,\n",
        "                    'drawn' : td[4].text,\n",
        "                    'lost' : td[5].text,\n",
        "                    'gf' : td[6].text,\n",
        "                    'ga': td[7].text,\n",
        "                    'gd' : td[8].text.strip(),\n",
        "                    'points' : td[9].text\n",
        "                }\n",
        "    a.append(dictionary)\n",
        "print(a)\n"
      ],
      "metadata": {
        "colab": {
          "base_uri": "https://localhost:8080/"
        },
        "id": "PaKPgFMyE-IW",
        "outputId": "5e79b5d4-dacd-4350-eb8f-2f1374f70a85"
      },
      "execution_count": 44,
      "outputs": [
        {
          "output_type": "stream",
          "name": "stdout",
          "text": [
            "[{'rank': '1', 'club': 'Manchester City', 'played': '28', 'won': '22', 'drawn': '3', 'lost': '3', 'gf': '68', 'ga': '18', 'gd': '+50', 'points': '69'}, {'rank': '2', 'club': 'Liverpool', 'played': '27', 'won': '19', 'drawn': '6', 'lost': '2', 'gf': '71', 'ga': '20', 'gd': '+51', 'points': '63'}, {'rank': '3', 'club': 'Chelsea', 'played': '26', 'won': '15', 'drawn': '8', 'lost': '3', 'gf': '53', 'ga': '18', 'gd': '+35', 'points': '53'}, {'rank': '4', 'club': 'Arsenal', 'played': '25', 'won': '15', 'drawn': '3', 'lost': '7', 'gf': '41', 'ga': '29', 'gd': '+12', 'points': '48'}, {'rank': '5', 'club': 'Manchester United', 'played': '28', 'won': '13', 'drawn': '8', 'lost': '7', 'gf': '45', 'ga': '38', 'gd': '+7', 'points': '47'}, {'rank': '6', 'club': 'West Ham United', 'played': '28', 'won': '13', 'drawn': '6', 'lost': '9', 'gf': '46', 'ga': '35', 'gd': '+11', 'points': '45'}, {'rank': '7', 'club': 'Tottenham Hotspur', 'played': '26', 'won': '14', 'drawn': '3', 'lost': '9', 'gf': '40', 'ga': '32', 'gd': '+8', 'points': '45'}, {'rank': '8', 'club': 'Wolverhampton Wanderers', 'played': '27', 'won': '12', 'drawn': '4', 'lost': '11', 'gf': '24', 'ga': '23', 'gd': '+1', 'points': '40'}, {'rank': '9', 'club': 'Southampton', 'played': '27', 'won': '8', 'drawn': '11', 'lost': '8', 'gf': '34', 'ga': '41', 'gd': '-7', 'points': '35'}, {'rank': '10', 'club': 'Crystal Palace', 'played': '28', 'won': '7', 'drawn': '12', 'lost': '9', 'gf': '39', 'ga': '38', 'gd': '+1', 'points': '33'}, {'rank': '11', 'club': 'Aston Villa', 'played': '26', 'won': '10', 'drawn': '3', 'lost': '13', 'gf': '37', 'ga': '37', 'gd': '0', 'points': '33'}, {'rank': '12', 'club': 'Leicester City', 'played': '25', 'won': '9', 'drawn': '6', 'lost': '10', 'gf': '40', 'ga': '43', 'gd': '-3', 'points': '33'}, {'rank': '13', 'club': 'Brighton and Hove Albion', 'played': '27', 'won': '7', 'drawn': '12', 'lost': '8', 'gf': '26', 'ga': '32', 'gd': '-6', 'points': '33'}, {'rank': '14', 'club': 'Newcastle United', 'played': '26', 'won': '6', 'drawn': '10', 'lost': '10', 'gf': '30', 'ga': '46', 'gd': '-16', 'points': '28'}, {'rank': '15', 'club': 'Brentford', 'played': '28', 'won': '7', 'drawn': '6', 'lost': '15', 'gf': '30', 'ga': '45', 'gd': '-15', 'points': '27'}, {'rank': '16', 'club': 'Leeds United', 'played': '27', 'won': '5', 'drawn': '8', 'lost': '14', 'gf': '29', 'ga': '61', 'gd': '-32', 'points': '23'}, {'rank': '17', 'club': 'Everton', 'played': '25', 'won': '6', 'drawn': '4', 'lost': '15', 'gf': '28', 'ga': '46', 'gd': '-18', 'points': '22'}, {'rank': '18', 'club': 'Burnley', 'played': '26', 'won': '3', 'drawn': '12', 'lost': '11', 'gf': '22', 'ga': '36', 'gd': '-14', 'points': '21'}, {'rank': '19', 'club': 'Watford', 'played': '27', 'won': '5', 'drawn': '4', 'lost': '18', 'gf': '27', 'ga': '50', 'gd': '-23', 'points': '19'}, {'rank': '20', 'club': 'Norwich City', 'played': '27', 'won': '4', 'drawn': '5', 'lost': '18', 'gf': '16', 'ga': '58', 'gd': '-42', 'points': '17'}]\n"
          ]
        }
      ]
    },
    {
      "cell_type": "code",
      "source": [
        "pd.DataFrame(a)"
      ],
      "metadata": {
        "colab": {
          "base_uri": "https://localhost:8080/",
          "height": 676
        },
        "id": "Mjz7LWjFQUWp",
        "outputId": "f098a068-f1e0-412e-b752-0314fe245188"
      },
      "execution_count": 45,
      "outputs": [
        {
          "output_type": "execute_result",
          "data": {
            "text/html": [
              "\n",
              "  <div id=\"df-86b828b9-6c17-4dd2-8cfa-e7a81ca3861d\">\n",
              "    <div class=\"colab-df-container\">\n",
              "      <div>\n",
              "<style scoped>\n",
              "    .dataframe tbody tr th:only-of-type {\n",
              "        vertical-align: middle;\n",
              "    }\n",
              "\n",
              "    .dataframe tbody tr th {\n",
              "        vertical-align: top;\n",
              "    }\n",
              "\n",
              "    .dataframe thead th {\n",
              "        text-align: right;\n",
              "    }\n",
              "</style>\n",
              "<table border=\"1\" class=\"dataframe\">\n",
              "  <thead>\n",
              "    <tr style=\"text-align: right;\">\n",
              "      <th></th>\n",
              "      <th>rank</th>\n",
              "      <th>club</th>\n",
              "      <th>played</th>\n",
              "      <th>won</th>\n",
              "      <th>drawn</th>\n",
              "      <th>lost</th>\n",
              "      <th>gf</th>\n",
              "      <th>ga</th>\n",
              "      <th>gd</th>\n",
              "      <th>points</th>\n",
              "    </tr>\n",
              "  </thead>\n",
              "  <tbody>\n",
              "    <tr>\n",
              "      <th>0</th>\n",
              "      <td>1</td>\n",
              "      <td>Manchester City</td>\n",
              "      <td>28</td>\n",
              "      <td>22</td>\n",
              "      <td>3</td>\n",
              "      <td>3</td>\n",
              "      <td>68</td>\n",
              "      <td>18</td>\n",
              "      <td>+50</td>\n",
              "      <td>69</td>\n",
              "    </tr>\n",
              "    <tr>\n",
              "      <th>1</th>\n",
              "      <td>2</td>\n",
              "      <td>Liverpool</td>\n",
              "      <td>27</td>\n",
              "      <td>19</td>\n",
              "      <td>6</td>\n",
              "      <td>2</td>\n",
              "      <td>71</td>\n",
              "      <td>20</td>\n",
              "      <td>+51</td>\n",
              "      <td>63</td>\n",
              "    </tr>\n",
              "    <tr>\n",
              "      <th>2</th>\n",
              "      <td>3</td>\n",
              "      <td>Chelsea</td>\n",
              "      <td>26</td>\n",
              "      <td>15</td>\n",
              "      <td>8</td>\n",
              "      <td>3</td>\n",
              "      <td>53</td>\n",
              "      <td>18</td>\n",
              "      <td>+35</td>\n",
              "      <td>53</td>\n",
              "    </tr>\n",
              "    <tr>\n",
              "      <th>3</th>\n",
              "      <td>4</td>\n",
              "      <td>Arsenal</td>\n",
              "      <td>25</td>\n",
              "      <td>15</td>\n",
              "      <td>3</td>\n",
              "      <td>7</td>\n",
              "      <td>41</td>\n",
              "      <td>29</td>\n",
              "      <td>+12</td>\n",
              "      <td>48</td>\n",
              "    </tr>\n",
              "    <tr>\n",
              "      <th>4</th>\n",
              "      <td>5</td>\n",
              "      <td>Manchester United</td>\n",
              "      <td>28</td>\n",
              "      <td>13</td>\n",
              "      <td>8</td>\n",
              "      <td>7</td>\n",
              "      <td>45</td>\n",
              "      <td>38</td>\n",
              "      <td>+7</td>\n",
              "      <td>47</td>\n",
              "    </tr>\n",
              "    <tr>\n",
              "      <th>5</th>\n",
              "      <td>6</td>\n",
              "      <td>West Ham United</td>\n",
              "      <td>28</td>\n",
              "      <td>13</td>\n",
              "      <td>6</td>\n",
              "      <td>9</td>\n",
              "      <td>46</td>\n",
              "      <td>35</td>\n",
              "      <td>+11</td>\n",
              "      <td>45</td>\n",
              "    </tr>\n",
              "    <tr>\n",
              "      <th>6</th>\n",
              "      <td>7</td>\n",
              "      <td>Tottenham Hotspur</td>\n",
              "      <td>26</td>\n",
              "      <td>14</td>\n",
              "      <td>3</td>\n",
              "      <td>9</td>\n",
              "      <td>40</td>\n",
              "      <td>32</td>\n",
              "      <td>+8</td>\n",
              "      <td>45</td>\n",
              "    </tr>\n",
              "    <tr>\n",
              "      <th>7</th>\n",
              "      <td>8</td>\n",
              "      <td>Wolverhampton Wanderers</td>\n",
              "      <td>27</td>\n",
              "      <td>12</td>\n",
              "      <td>4</td>\n",
              "      <td>11</td>\n",
              "      <td>24</td>\n",
              "      <td>23</td>\n",
              "      <td>+1</td>\n",
              "      <td>40</td>\n",
              "    </tr>\n",
              "    <tr>\n",
              "      <th>8</th>\n",
              "      <td>9</td>\n",
              "      <td>Southampton</td>\n",
              "      <td>27</td>\n",
              "      <td>8</td>\n",
              "      <td>11</td>\n",
              "      <td>8</td>\n",
              "      <td>34</td>\n",
              "      <td>41</td>\n",
              "      <td>-7</td>\n",
              "      <td>35</td>\n",
              "    </tr>\n",
              "    <tr>\n",
              "      <th>9</th>\n",
              "      <td>10</td>\n",
              "      <td>Crystal Palace</td>\n",
              "      <td>28</td>\n",
              "      <td>7</td>\n",
              "      <td>12</td>\n",
              "      <td>9</td>\n",
              "      <td>39</td>\n",
              "      <td>38</td>\n",
              "      <td>+1</td>\n",
              "      <td>33</td>\n",
              "    </tr>\n",
              "    <tr>\n",
              "      <th>10</th>\n",
              "      <td>11</td>\n",
              "      <td>Aston Villa</td>\n",
              "      <td>26</td>\n",
              "      <td>10</td>\n",
              "      <td>3</td>\n",
              "      <td>13</td>\n",
              "      <td>37</td>\n",
              "      <td>37</td>\n",
              "      <td>0</td>\n",
              "      <td>33</td>\n",
              "    </tr>\n",
              "    <tr>\n",
              "      <th>11</th>\n",
              "      <td>12</td>\n",
              "      <td>Leicester City</td>\n",
              "      <td>25</td>\n",
              "      <td>9</td>\n",
              "      <td>6</td>\n",
              "      <td>10</td>\n",
              "      <td>40</td>\n",
              "      <td>43</td>\n",
              "      <td>-3</td>\n",
              "      <td>33</td>\n",
              "    </tr>\n",
              "    <tr>\n",
              "      <th>12</th>\n",
              "      <td>13</td>\n",
              "      <td>Brighton and Hove Albion</td>\n",
              "      <td>27</td>\n",
              "      <td>7</td>\n",
              "      <td>12</td>\n",
              "      <td>8</td>\n",
              "      <td>26</td>\n",
              "      <td>32</td>\n",
              "      <td>-6</td>\n",
              "      <td>33</td>\n",
              "    </tr>\n",
              "    <tr>\n",
              "      <th>13</th>\n",
              "      <td>14</td>\n",
              "      <td>Newcastle United</td>\n",
              "      <td>26</td>\n",
              "      <td>6</td>\n",
              "      <td>10</td>\n",
              "      <td>10</td>\n",
              "      <td>30</td>\n",
              "      <td>46</td>\n",
              "      <td>-16</td>\n",
              "      <td>28</td>\n",
              "    </tr>\n",
              "    <tr>\n",
              "      <th>14</th>\n",
              "      <td>15</td>\n",
              "      <td>Brentford</td>\n",
              "      <td>28</td>\n",
              "      <td>7</td>\n",
              "      <td>6</td>\n",
              "      <td>15</td>\n",
              "      <td>30</td>\n",
              "      <td>45</td>\n",
              "      <td>-15</td>\n",
              "      <td>27</td>\n",
              "    </tr>\n",
              "    <tr>\n",
              "      <th>15</th>\n",
              "      <td>16</td>\n",
              "      <td>Leeds United</td>\n",
              "      <td>27</td>\n",
              "      <td>5</td>\n",
              "      <td>8</td>\n",
              "      <td>14</td>\n",
              "      <td>29</td>\n",
              "      <td>61</td>\n",
              "      <td>-32</td>\n",
              "      <td>23</td>\n",
              "    </tr>\n",
              "    <tr>\n",
              "      <th>16</th>\n",
              "      <td>17</td>\n",
              "      <td>Everton</td>\n",
              "      <td>25</td>\n",
              "      <td>6</td>\n",
              "      <td>4</td>\n",
              "      <td>15</td>\n",
              "      <td>28</td>\n",
              "      <td>46</td>\n",
              "      <td>-18</td>\n",
              "      <td>22</td>\n",
              "    </tr>\n",
              "    <tr>\n",
              "      <th>17</th>\n",
              "      <td>18</td>\n",
              "      <td>Burnley</td>\n",
              "      <td>26</td>\n",
              "      <td>3</td>\n",
              "      <td>12</td>\n",
              "      <td>11</td>\n",
              "      <td>22</td>\n",
              "      <td>36</td>\n",
              "      <td>-14</td>\n",
              "      <td>21</td>\n",
              "    </tr>\n",
              "    <tr>\n",
              "      <th>18</th>\n",
              "      <td>19</td>\n",
              "      <td>Watford</td>\n",
              "      <td>27</td>\n",
              "      <td>5</td>\n",
              "      <td>4</td>\n",
              "      <td>18</td>\n",
              "      <td>27</td>\n",
              "      <td>50</td>\n",
              "      <td>-23</td>\n",
              "      <td>19</td>\n",
              "    </tr>\n",
              "    <tr>\n",
              "      <th>19</th>\n",
              "      <td>20</td>\n",
              "      <td>Norwich City</td>\n",
              "      <td>27</td>\n",
              "      <td>4</td>\n",
              "      <td>5</td>\n",
              "      <td>18</td>\n",
              "      <td>16</td>\n",
              "      <td>58</td>\n",
              "      <td>-42</td>\n",
              "      <td>17</td>\n",
              "    </tr>\n",
              "  </tbody>\n",
              "</table>\n",
              "</div>\n",
              "      <button class=\"colab-df-convert\" onclick=\"convertToInteractive('df-86b828b9-6c17-4dd2-8cfa-e7a81ca3861d')\"\n",
              "              title=\"Convert this dataframe to an interactive table.\"\n",
              "              style=\"display:none;\">\n",
              "        \n",
              "  <svg xmlns=\"http://www.w3.org/2000/svg\" height=\"24px\"viewBox=\"0 0 24 24\"\n",
              "       width=\"24px\">\n",
              "    <path d=\"M0 0h24v24H0V0z\" fill=\"none\"/>\n",
              "    <path d=\"M18.56 5.44l.94 2.06.94-2.06 2.06-.94-2.06-.94-.94-2.06-.94 2.06-2.06.94zm-11 1L8.5 8.5l.94-2.06 2.06-.94-2.06-.94L8.5 2.5l-.94 2.06-2.06.94zm10 10l.94 2.06.94-2.06 2.06-.94-2.06-.94-.94-2.06-.94 2.06-2.06.94z\"/><path d=\"M17.41 7.96l-1.37-1.37c-.4-.4-.92-.59-1.43-.59-.52 0-1.04.2-1.43.59L10.3 9.45l-7.72 7.72c-.78.78-.78 2.05 0 2.83L4 21.41c.39.39.9.59 1.41.59.51 0 1.02-.2 1.41-.59l7.78-7.78 2.81-2.81c.8-.78.8-2.07 0-2.86zM5.41 20L4 18.59l7.72-7.72 1.47 1.35L5.41 20z\"/>\n",
              "  </svg>\n",
              "      </button>\n",
              "      \n",
              "  <style>\n",
              "    .colab-df-container {\n",
              "      display:flex;\n",
              "      flex-wrap:wrap;\n",
              "      gap: 12px;\n",
              "    }\n",
              "\n",
              "    .colab-df-convert {\n",
              "      background-color: #E8F0FE;\n",
              "      border: none;\n",
              "      border-radius: 50%;\n",
              "      cursor: pointer;\n",
              "      display: none;\n",
              "      fill: #1967D2;\n",
              "      height: 32px;\n",
              "      padding: 0 0 0 0;\n",
              "      width: 32px;\n",
              "    }\n",
              "\n",
              "    .colab-df-convert:hover {\n",
              "      background-color: #E2EBFA;\n",
              "      box-shadow: 0px 1px 2px rgba(60, 64, 67, 0.3), 0px 1px 3px 1px rgba(60, 64, 67, 0.15);\n",
              "      fill: #174EA6;\n",
              "    }\n",
              "\n",
              "    [theme=dark] .colab-df-convert {\n",
              "      background-color: #3B4455;\n",
              "      fill: #D2E3FC;\n",
              "    }\n",
              "\n",
              "    [theme=dark] .colab-df-convert:hover {\n",
              "      background-color: #434B5C;\n",
              "      box-shadow: 0px 1px 3px 1px rgba(0, 0, 0, 0.15);\n",
              "      filter: drop-shadow(0px 1px 2px rgba(0, 0, 0, 0.3));\n",
              "      fill: #FFFFFF;\n",
              "    }\n",
              "  </style>\n",
              "\n",
              "      <script>\n",
              "        const buttonEl =\n",
              "          document.querySelector('#df-86b828b9-6c17-4dd2-8cfa-e7a81ca3861d button.colab-df-convert');\n",
              "        buttonEl.style.display =\n",
              "          google.colab.kernel.accessAllowed ? 'block' : 'none';\n",
              "\n",
              "        async function convertToInteractive(key) {\n",
              "          const element = document.querySelector('#df-86b828b9-6c17-4dd2-8cfa-e7a81ca3861d');\n",
              "          const dataTable =\n",
              "            await google.colab.kernel.invokeFunction('convertToInteractive',\n",
              "                                                     [key], {});\n",
              "          if (!dataTable) return;\n",
              "\n",
              "          const docLinkHtml = 'Like what you see? Visit the ' +\n",
              "            '<a target=\"_blank\" href=https://colab.research.google.com/notebooks/data_table.ipynb>data table notebook</a>'\n",
              "            + ' to learn more about interactive tables.';\n",
              "          element.innerHTML = '';\n",
              "          dataTable['output_type'] = 'display_data';\n",
              "          await google.colab.output.renderOutput(dataTable, element);\n",
              "          const docLink = document.createElement('div');\n",
              "          docLink.innerHTML = docLinkHtml;\n",
              "          element.appendChild(docLink);\n",
              "        }\n",
              "      </script>\n",
              "    </div>\n",
              "  </div>\n",
              "  "
            ],
            "text/plain": [
              "   rank                      club played won drawn lost  gf  ga   gd points\n",
              "0   1    Manchester City           28     22  3     3    68  18  +50  69   \n",
              "1   2    Liverpool                 27     19  6     2    71  20  +51  63   \n",
              "2   3    Chelsea                   26     15  8     3    53  18  +35  53   \n",
              "3   4    Arsenal                   25     15  3     7    41  29  +12  48   \n",
              "4   5    Manchester United         28     13  8     7    45  38  +7   47   \n",
              "5   6    West Ham United           28     13  6     9    46  35  +11  45   \n",
              "6   7    Tottenham Hotspur         26     14  3     9    40  32  +8   45   \n",
              "7   8    Wolverhampton Wanderers   27     12  4     11   24  23  +1   40   \n",
              "8   9    Southampton               27     8   11    8    34  41  -7   35   \n",
              "9   10   Crystal Palace            28     7   12    9    39  38  +1   33   \n",
              "10  11   Aston Villa               26     10  3     13   37  37  0    33   \n",
              "11  12   Leicester City            25     9   6     10   40  43  -3   33   \n",
              "12  13   Brighton and Hove Albion  27     7   12    8    26  32  -6   33   \n",
              "13  14   Newcastle United          26     6   10    10   30  46  -16  28   \n",
              "14  15   Brentford                 28     7   6     15   30  45  -15  27   \n",
              "15  16   Leeds United              27     5   8     14   29  61  -32  23   \n",
              "16  17   Everton                   25     6   4     15   28  46  -18  22   \n",
              "17  18   Burnley                   26     3   12    11   22  36  -14  21   \n",
              "18  19   Watford                   27     5   4     18   27  50  -23  19   \n",
              "19  20   Norwich City              27     4   5     18   16  58  -42  17   "
            ]
          },
          "metadata": {},
          "execution_count": 45
        }
      ]
    },
    {
      "cell_type": "markdown",
      "source": [
        "# Practice 4:Scrape the table from wikipidea"
      ],
      "metadata": {
        "id": "3Sx7uaT3hW51"
      }
    },
    {
      "cell_type": "code",
      "source": [
        "import requests\n",
        "from bs4 import BeautifulSoup\n",
        "import pandas as pd"
      ],
      "metadata": {
        "id": "IdvRs6Npbv55"
      },
      "execution_count": 49,
      "outputs": []
    },
    {
      "cell_type": "code",
      "source": [
        "url = 'https://en.wikipedia.org/wiki/Cricket'\n",
        "response_4 = requests.get(url)\n",
        "response_4"
      ],
      "metadata": {
        "colab": {
          "base_uri": "https://localhost:8080/"
        },
        "id": "WJ4WtRFths-f",
        "outputId": "9a143457-038a-4f20-992d-8d9fc5ed44dc"
      },
      "execution_count": 50,
      "outputs": [
        {
          "output_type": "execute_result",
          "data": {
            "text/plain": [
              "<Response [200]>"
            ]
          },
          "metadata": {},
          "execution_count": 50
        }
      ]
    },
    {
      "cell_type": "code",
      "source": [
        "soup = BeautifulSoup(response_4.text, 'lxml')\n",
        "soup.title"
      ],
      "metadata": {
        "colab": {
          "base_uri": "https://localhost:8080/"
        },
        "id": "III_zmlbh51P",
        "outputId": "cf2e2a81-a7ab-40db-d46c-a67775c61e50"
      },
      "execution_count": 51,
      "outputs": [
        {
          "output_type": "execute_result",
          "data": {
            "text/plain": [
              "<title>Cricket - Wikipedia</title>"
            ]
          },
          "metadata": {},
          "execution_count": 51
        }
      ]
    },
    {
      "cell_type": "markdown",
      "source": [
        "Locating the table we need to scrape"
      ],
      "metadata": {
        "id": "S_WslkuijS2v"
      }
    },
    {
      "cell_type": "code",
      "source": [
        "len(soup.find_all('table'))"
      ],
      "metadata": {
        "colab": {
          "base_uri": "https://localhost:8080/"
        },
        "id": "vJtTCstHil5I",
        "outputId": "45098b59-18c3-4837-bafc-feca60fdd4e3"
      },
      "execution_count": 52,
      "outputs": [
        {
          "output_type": "execute_result",
          "data": {
            "text/plain": [
              "28"
            ]
          },
          "metadata": {},
          "execution_count": 52
        }
      ]
    },
    {
      "cell_type": "code",
      "source": [
        "len(soup.find('table', {'class': 'wikitable sortable'}))"
      ],
      "metadata": {
        "colab": {
          "base_uri": "https://localhost:8080/"
        },
        "id": "j3sqQuvLioUJ",
        "outputId": "3f947cce-26d2-443b-bcf4-33329de6986a"
      },
      "execution_count": 53,
      "outputs": [
        {
          "output_type": "execute_result",
          "data": {
            "text/plain": [
              "2"
            ]
          },
          "metadata": {},
          "execution_count": 53
        }
      ]
    },
    {
      "cell_type": "code",
      "source": [
        "table = soup.find_all('table', {'class': 'wikitable sortable'})[0]"
      ],
      "metadata": {
        "id": "yWxf6eSxi-F1"
      },
      "execution_count": 54,
      "outputs": []
    },
    {
      "cell_type": "markdown",
      "source": [
        "Creating the column list - contains the names of the columns"
      ],
      "metadata": {
        "id": "ZtoU1xHdjynn"
      }
    },
    {
      "cell_type": "code",
      "source": [
        "column_list_4 = ['team', 'governing_body', 'member_since']"
      ],
      "metadata": {
        "id": "SQMYP9KPjGjU"
      },
      "execution_count": 55,
      "outputs": []
    },
    {
      "cell_type": "code",
      "source": [
        "table_all_rows = table.tbody.find_all('tr')[1:]\n",
        "table_all_rows[0]"
      ],
      "metadata": {
        "colab": {
          "base_uri": "https://localhost:8080/"
        },
        "id": "5JQHZl0WmK1J",
        "outputId": "eb7426d6-6c84-4aed-cf4d-ced261942fff"
      },
      "execution_count": 56,
      "outputs": [
        {
          "output_type": "execute_result",
          "data": {
            "text/plain": [
              "<tr>\n",
              "<th scope=\"row\"><a href=\"/wiki/Afghanistan\" title=\"Afghanistan\">Afghanistan</a>\n",
              "</th>\n",
              "<td><a href=\"/wiki/Afghanistan_Cricket_Board\" title=\"Afghanistan Cricket Board\">Afghanistan Cricket Board</a>\n",
              "</td>\n",
              "<td>22 June 2017\n",
              "</td></tr>"
            ]
          },
          "metadata": {},
          "execution_count": 56
        }
      ]
    },
    {
      "cell_type": "code",
      "source": [
        "team = table_all_rows[0].th.text.strip()\n",
        "\n",
        "td = table_all_rows[0].find_all('td')\n",
        "governing_body = td[0].text.strip()\n",
        "member_since = td[1].text.strip()\n"
      ],
      "metadata": {
        "id": "0NNalghpkgve"
      },
      "execution_count": 57,
      "outputs": []
    },
    {
      "cell_type": "code",
      "source": [
        "value_list = []\n",
        "for row in table_all_rows:\n",
        "    td = row.find_all('td') \n",
        "    dic_4 = {\n",
        "            'team' : row.th.text.strip(), \n",
        "            'governing_body' : td[0].text.strip() , \n",
        "            'member_since' : td[1].text.strip()\n",
        "            }\n",
        "    value_list.append(dic_4)\n",
        "value_list"
      ],
      "metadata": {
        "colab": {
          "base_uri": "https://localhost:8080/"
        },
        "id": "XazO3DAwjw6Z",
        "outputId": "a70105d6-3b44-4067-f081-e7212cc4d4f6"
      },
      "execution_count": 58,
      "outputs": [
        {
          "output_type": "execute_result",
          "data": {
            "text/plain": [
              "[{'governing_body': 'Afghanistan Cricket Board',\n",
              "  'member_since': '22 June 2017',\n",
              "  'team': 'Afghanistan'},\n",
              " {'governing_body': 'Cricket Australia',\n",
              "  'member_since': '15 July 1909',\n",
              "  'team': 'Australia'},\n",
              " {'governing_body': 'Bangladesh Cricket Board',\n",
              "  'member_since': '26 June 2000',\n",
              "  'team': 'Bangladesh'},\n",
              " {'governing_body': 'England and Wales Cricket Board',\n",
              "  'member_since': '15 July 1909',\n",
              "  'team': 'England'},\n",
              " {'governing_body': 'Board of Control for Cricket in India',\n",
              "  'member_since': '31 May 1926',\n",
              "  'team': 'India'},\n",
              " {'governing_body': 'Cricket Ireland',\n",
              "  'member_since': '22 June 2017',\n",
              "  'team': 'Ireland'},\n",
              " {'governing_body': 'New Zealand Cricket',\n",
              "  'member_since': '31 May 1926',\n",
              "  'team': 'New Zealand'},\n",
              " {'governing_body': 'Pakistan Cricket Board',\n",
              "  'member_since': '28 July 1952',\n",
              "  'team': 'Pakistan'},\n",
              " {'governing_body': 'Cricket South Africa',\n",
              "  'member_since': '15 July 1909',\n",
              "  'team': 'South Africa'},\n",
              " {'governing_body': 'Sri Lanka Cricket',\n",
              "  'member_since': '21 July 1981',\n",
              "  'team': 'Sri Lanka'},\n",
              " {'governing_body': 'Cricket West Indies',\n",
              "  'member_since': '31 May 1926',\n",
              "  'team': 'West Indies'},\n",
              " {'governing_body': 'Zimbabwe Cricket',\n",
              "  'member_since': '6 July 1992',\n",
              "  'team': 'Zimbabwe'}]"
            ]
          },
          "metadata": {},
          "execution_count": 58
        }
      ]
    },
    {
      "cell_type": "code",
      "source": [
        "df_4 = pd.DataFrame(value_list)"
      ],
      "metadata": {
        "id": "VyrdSf9YkDd0"
      },
      "execution_count": 59,
      "outputs": []
    },
    {
      "cell_type": "code",
      "source": [
        "df_4"
      ],
      "metadata": {
        "colab": {
          "base_uri": "https://localhost:8080/",
          "height": 425
        },
        "id": "dy2tlUSBpJWA",
        "outputId": "c196e46d-c641-415c-8659-b65e103ca24f"
      },
      "execution_count": 60,
      "outputs": [
        {
          "output_type": "execute_result",
          "data": {
            "text/html": [
              "\n",
              "  <div id=\"df-0efa2b46-ff02-4441-ac40-fd520fd885b5\">\n",
              "    <div class=\"colab-df-container\">\n",
              "      <div>\n",
              "<style scoped>\n",
              "    .dataframe tbody tr th:only-of-type {\n",
              "        vertical-align: middle;\n",
              "    }\n",
              "\n",
              "    .dataframe tbody tr th {\n",
              "        vertical-align: top;\n",
              "    }\n",
              "\n",
              "    .dataframe thead th {\n",
              "        text-align: right;\n",
              "    }\n",
              "</style>\n",
              "<table border=\"1\" class=\"dataframe\">\n",
              "  <thead>\n",
              "    <tr style=\"text-align: right;\">\n",
              "      <th></th>\n",
              "      <th>team</th>\n",
              "      <th>governing_body</th>\n",
              "      <th>member_since</th>\n",
              "    </tr>\n",
              "  </thead>\n",
              "  <tbody>\n",
              "    <tr>\n",
              "      <th>0</th>\n",
              "      <td>Afghanistan</td>\n",
              "      <td>Afghanistan Cricket Board</td>\n",
              "      <td>22 June 2017</td>\n",
              "    </tr>\n",
              "    <tr>\n",
              "      <th>1</th>\n",
              "      <td>Australia</td>\n",
              "      <td>Cricket Australia</td>\n",
              "      <td>15 July 1909</td>\n",
              "    </tr>\n",
              "    <tr>\n",
              "      <th>2</th>\n",
              "      <td>Bangladesh</td>\n",
              "      <td>Bangladesh Cricket Board</td>\n",
              "      <td>26 June 2000</td>\n",
              "    </tr>\n",
              "    <tr>\n",
              "      <th>3</th>\n",
              "      <td>England</td>\n",
              "      <td>England and Wales Cricket Board</td>\n",
              "      <td>15 July 1909</td>\n",
              "    </tr>\n",
              "    <tr>\n",
              "      <th>4</th>\n",
              "      <td>India</td>\n",
              "      <td>Board of Control for Cricket in India</td>\n",
              "      <td>31 May 1926</td>\n",
              "    </tr>\n",
              "    <tr>\n",
              "      <th>5</th>\n",
              "      <td>Ireland</td>\n",
              "      <td>Cricket Ireland</td>\n",
              "      <td>22 June 2017</td>\n",
              "    </tr>\n",
              "    <tr>\n",
              "      <th>6</th>\n",
              "      <td>New Zealand</td>\n",
              "      <td>New Zealand Cricket</td>\n",
              "      <td>31 May 1926</td>\n",
              "    </tr>\n",
              "    <tr>\n",
              "      <th>7</th>\n",
              "      <td>Pakistan</td>\n",
              "      <td>Pakistan Cricket Board</td>\n",
              "      <td>28 July 1952</td>\n",
              "    </tr>\n",
              "    <tr>\n",
              "      <th>8</th>\n",
              "      <td>South Africa</td>\n",
              "      <td>Cricket South Africa</td>\n",
              "      <td>15 July 1909</td>\n",
              "    </tr>\n",
              "    <tr>\n",
              "      <th>9</th>\n",
              "      <td>Sri Lanka</td>\n",
              "      <td>Sri Lanka Cricket</td>\n",
              "      <td>21 July 1981</td>\n",
              "    </tr>\n",
              "    <tr>\n",
              "      <th>10</th>\n",
              "      <td>West Indies</td>\n",
              "      <td>Cricket West Indies</td>\n",
              "      <td>31 May 1926</td>\n",
              "    </tr>\n",
              "    <tr>\n",
              "      <th>11</th>\n",
              "      <td>Zimbabwe</td>\n",
              "      <td>Zimbabwe Cricket</td>\n",
              "      <td>6 July 1992</td>\n",
              "    </tr>\n",
              "  </tbody>\n",
              "</table>\n",
              "</div>\n",
              "      <button class=\"colab-df-convert\" onclick=\"convertToInteractive('df-0efa2b46-ff02-4441-ac40-fd520fd885b5')\"\n",
              "              title=\"Convert this dataframe to an interactive table.\"\n",
              "              style=\"display:none;\">\n",
              "        \n",
              "  <svg xmlns=\"http://www.w3.org/2000/svg\" height=\"24px\"viewBox=\"0 0 24 24\"\n",
              "       width=\"24px\">\n",
              "    <path d=\"M0 0h24v24H0V0z\" fill=\"none\"/>\n",
              "    <path d=\"M18.56 5.44l.94 2.06.94-2.06 2.06-.94-2.06-.94-.94-2.06-.94 2.06-2.06.94zm-11 1L8.5 8.5l.94-2.06 2.06-.94-2.06-.94L8.5 2.5l-.94 2.06-2.06.94zm10 10l.94 2.06.94-2.06 2.06-.94-2.06-.94-.94-2.06-.94 2.06-2.06.94z\"/><path d=\"M17.41 7.96l-1.37-1.37c-.4-.4-.92-.59-1.43-.59-.52 0-1.04.2-1.43.59L10.3 9.45l-7.72 7.72c-.78.78-.78 2.05 0 2.83L4 21.41c.39.39.9.59 1.41.59.51 0 1.02-.2 1.41-.59l7.78-7.78 2.81-2.81c.8-.78.8-2.07 0-2.86zM5.41 20L4 18.59l7.72-7.72 1.47 1.35L5.41 20z\"/>\n",
              "  </svg>\n",
              "      </button>\n",
              "      \n",
              "  <style>\n",
              "    .colab-df-container {\n",
              "      display:flex;\n",
              "      flex-wrap:wrap;\n",
              "      gap: 12px;\n",
              "    }\n",
              "\n",
              "    .colab-df-convert {\n",
              "      background-color: #E8F0FE;\n",
              "      border: none;\n",
              "      border-radius: 50%;\n",
              "      cursor: pointer;\n",
              "      display: none;\n",
              "      fill: #1967D2;\n",
              "      height: 32px;\n",
              "      padding: 0 0 0 0;\n",
              "      width: 32px;\n",
              "    }\n",
              "\n",
              "    .colab-df-convert:hover {\n",
              "      background-color: #E2EBFA;\n",
              "      box-shadow: 0px 1px 2px rgba(60, 64, 67, 0.3), 0px 1px 3px 1px rgba(60, 64, 67, 0.15);\n",
              "      fill: #174EA6;\n",
              "    }\n",
              "\n",
              "    [theme=dark] .colab-df-convert {\n",
              "      background-color: #3B4455;\n",
              "      fill: #D2E3FC;\n",
              "    }\n",
              "\n",
              "    [theme=dark] .colab-df-convert:hover {\n",
              "      background-color: #434B5C;\n",
              "      box-shadow: 0px 1px 3px 1px rgba(0, 0, 0, 0.15);\n",
              "      filter: drop-shadow(0px 1px 2px rgba(0, 0, 0, 0.3));\n",
              "      fill: #FFFFFF;\n",
              "    }\n",
              "  </style>\n",
              "\n",
              "      <script>\n",
              "        const buttonEl =\n",
              "          document.querySelector('#df-0efa2b46-ff02-4441-ac40-fd520fd885b5 button.colab-df-convert');\n",
              "        buttonEl.style.display =\n",
              "          google.colab.kernel.accessAllowed ? 'block' : 'none';\n",
              "\n",
              "        async function convertToInteractive(key) {\n",
              "          const element = document.querySelector('#df-0efa2b46-ff02-4441-ac40-fd520fd885b5');\n",
              "          const dataTable =\n",
              "            await google.colab.kernel.invokeFunction('convertToInteractive',\n",
              "                                                     [key], {});\n",
              "          if (!dataTable) return;\n",
              "\n",
              "          const docLinkHtml = 'Like what you see? Visit the ' +\n",
              "            '<a target=\"_blank\" href=https://colab.research.google.com/notebooks/data_table.ipynb>data table notebook</a>'\n",
              "            + ' to learn more about interactive tables.';\n",
              "          element.innerHTML = '';\n",
              "          dataTable['output_type'] = 'display_data';\n",
              "          await google.colab.output.renderOutput(dataTable, element);\n",
              "          const docLink = document.createElement('div');\n",
              "          docLink.innerHTML = docLinkHtml;\n",
              "          element.appendChild(docLink);\n",
              "        }\n",
              "      </script>\n",
              "    </div>\n",
              "  </div>\n",
              "  "
            ],
            "text/plain": [
              "            team                         governing_body  member_since\n",
              "0   Afghanistan   Afghanistan Cricket Board              22 June 2017\n",
              "1   Australia     Cricket Australia                      15 July 1909\n",
              "2   Bangladesh    Bangladesh Cricket Board               26 June 2000\n",
              "3   England       England and Wales Cricket Board        15 July 1909\n",
              "4   India         Board of Control for Cricket in India  31 May 1926 \n",
              "5   Ireland       Cricket Ireland                        22 June 2017\n",
              "6   New Zealand   New Zealand Cricket                    31 May 1926 \n",
              "7   Pakistan      Pakistan Cricket Board                 28 July 1952\n",
              "8   South Africa  Cricket South Africa                   15 July 1909\n",
              "9   Sri Lanka     Sri Lanka Cricket                      21 July 1981\n",
              "10  West Indies   Cricket West Indies                    31 May 1926 \n",
              "11  Zimbabwe      Zimbabwe Cricket                       6 July 1992 "
            ]
          },
          "metadata": {},
          "execution_count": 60
        }
      ]
    },
    {
      "cell_type": "markdown",
      "source": [
        "# Practice 5: Scrape the table of planets, diameter and average distance from the Sun"
      ],
      "metadata": {
        "id": "NhKzg67DYUfI"
      }
    },
    {
      "cell_type": "code",
      "source": [
        "import requests\n",
        "from bs4 import BeautifulSoup\n",
        "import pandas as pd"
      ],
      "metadata": {
        "id": "MAmlI5LOYlKc"
      },
      "execution_count": 61,
      "outputs": []
    },
    {
      "cell_type": "code",
      "source": [
        "url = 'https://en.wikipedia.org/wiki/Solar_System'\n",
        "response_5 = requests.get(url)\n",
        "response_5"
      ],
      "metadata": {
        "colab": {
          "base_uri": "https://localhost:8080/"
        },
        "id": "VFH899KBY07g",
        "outputId": "cb4b1cf5-4774-4e93-9bf1-0413f9bb1f3c"
      },
      "execution_count": 62,
      "outputs": [
        {
          "output_type": "execute_result",
          "data": {
            "text/plain": [
              "<Response [200]>"
            ]
          },
          "metadata": {},
          "execution_count": 62
        }
      ]
    },
    {
      "cell_type": "code",
      "source": [
        "response_5_str = response_5.text"
      ],
      "metadata": {
        "id": "_OKV6bmyZBoe"
      },
      "execution_count": 63,
      "outputs": []
    },
    {
      "cell_type": "code",
      "source": [
        "soup_5 = BeautifulSoup(response_5_str)\n",
        "soup_5.title"
      ],
      "metadata": {
        "colab": {
          "base_uri": "https://localhost:8080/"
        },
        "id": "ChX0b93MZH4V",
        "outputId": "8a09b84e-b499-4507-ef94-689632272dc1"
      },
      "execution_count": 64,
      "outputs": [
        {
          "output_type": "execute_result",
          "data": {
            "text/plain": [
              "<title>Solar System - Wikipedia</title>"
            ]
          },
          "metadata": {},
          "execution_count": 64
        }
      ]
    },
    {
      "cell_type": "code",
      "source": [
        "#locate the table\n",
        "len(soup_5.find_all('table'))"
      ],
      "metadata": {
        "colab": {
          "base_uri": "https://localhost:8080/"
        },
        "id": "Nj43LvCfZR8a",
        "outputId": "7a2b87db-83d0-49ca-afdc-1d9ca507ae1a"
      },
      "execution_count": 65,
      "outputs": [
        {
          "output_type": "execute_result",
          "data": {
            "text/plain": [
              "21"
            ]
          },
          "metadata": {},
          "execution_count": 65
        }
      ]
    },
    {
      "cell_type": "code",
      "source": [
        "len(soup_5.find_all('table', {'class': 'wikitable sortable'}))"
      ],
      "metadata": {
        "colab": {
          "base_uri": "https://localhost:8080/"
        },
        "id": "6e9jM_asZZVY",
        "outputId": "8b0a31d8-1a88-4385-cb5e-75fcc0baa279"
      },
      "execution_count": 66,
      "outputs": [
        {
          "output_type": "execute_result",
          "data": {
            "text/plain": [
              "1"
            ]
          },
          "metadata": {},
          "execution_count": 66
        }
      ]
    },
    {
      "cell_type": "code",
      "source": [
        "table_5 = soup_5.find('table', {'class': 'wikitable sortable'})"
      ],
      "metadata": {
        "id": "PI9o0gPLaZ6f"
      },
      "execution_count": 67,
      "outputs": []
    },
    {
      "cell_type": "code",
      "source": [
        "#table_5"
      ],
      "metadata": {
        "id": "T0UZM0B3afAz"
      },
      "execution_count": 68,
      "outputs": []
    },
    {
      "cell_type": "code",
      "source": [
        "#extracting column names\n",
        "column_list = []\n",
        "column_list_raw = table_5.find_all('th')[:3]\n",
        "for column_name in column_list_raw:\n",
        "    column_list.append(column_name.text.strip())\n",
        "\n",
        "column_list"
      ],
      "metadata": {
        "colab": {
          "base_uri": "https://localhost:8080/"
        },
        "id": "3fGTwGq_akWi",
        "outputId": "dd130894-7d45-4a93-8fa3-b06effdd85f1"
      },
      "execution_count": 69,
      "outputs": [
        {
          "output_type": "execute_result",
          "data": {
            "text/plain": [
              "['Body', 'Diameter (km)', 'Average distance from the sun (km)']"
            ]
          },
          "metadata": {},
          "execution_count": 69
        }
      ]
    },
    {
      "cell_type": "code",
      "source": [
        "#extracting 1st row\n",
        "all_rows = table_5.tbody.find_all('tr')[1:]\n",
        "all_rows[0]"
      ],
      "metadata": {
        "colab": {
          "base_uri": "https://localhost:8080/"
        },
        "id": "oUeXoqWEauSg",
        "outputId": "1aa5c070-e8c0-428b-9f3c-0a40b92a1f5a"
      },
      "execution_count": 70,
      "outputs": [
        {
          "output_type": "execute_result",
          "data": {
            "text/plain": [
              "<tr style=\"text-align:right\">\n",
              "<th>Sun\n",
              "</th>\n",
              "<td>1,391,000</td>\n",
              "<td>0\n",
              "</td></tr>"
            ]
          },
          "metadata": {},
          "execution_count": 70
        }
      ]
    },
    {
      "cell_type": "code",
      "source": [
        "def extract_rows(r):\n",
        "\n",
        "    dict_5 = {\n",
        "                'body' : r.th.text.strip(),\n",
        "                'diameter' : r.find_all('td')[0].text.strip(),\n",
        "                'average_dist' : r.find_all('td')[1].text.strip()\n",
        "            }\n",
        "    return dict_5"
      ],
      "metadata": {
        "id": "5IuVhwzDfnW7"
      },
      "execution_count": 71,
      "outputs": []
    },
    {
      "cell_type": "code",
      "source": [
        "list_dicts = []\n",
        "for row in all_rows:\n",
        "    list_dicts.append(extract_rows(row))\n",
        "list_dicts"
      ],
      "metadata": {
        "colab": {
          "base_uri": "https://localhost:8080/"
        },
        "id": "NMScQH8EgA8v",
        "outputId": "b18bc982-036a-4c90-9b45-1dfe2fba88e3"
      },
      "execution_count": 72,
      "outputs": [
        {
          "output_type": "execute_result",
          "data": {
            "text/plain": [
              "[{'average_dist': '0', 'body': 'Sun', 'diameter': '1,391,000'},\n",
              " {'average_dist': '57,910,000', 'body': 'Mercury', 'diameter': '4,880'},\n",
              " {'average_dist': '108,200,000', 'body': 'Venus', 'diameter': '12,104'},\n",
              " {'average_dist': '149,600,000', 'body': 'Earth', 'diameter': '12,756'},\n",
              " {'average_dist': '227,940,000', 'body': 'Mars', 'diameter': '6,794'},\n",
              " {'average_dist': '778,330,000', 'body': 'Jupiter', 'diameter': '142,984'},\n",
              " {'average_dist': '1,429,400,000', 'body': 'Saturn', 'diameter': '120,536'},\n",
              " {'average_dist': '2,870,990,000', 'body': 'Uranus', 'diameter': '51,118'},\n",
              " {'average_dist': '4,504,000,000', 'body': 'Neptune', 'diameter': '49,532'}]"
            ]
          },
          "metadata": {},
          "execution_count": 72
        }
      ]
    },
    {
      "cell_type": "code",
      "source": [
        "pd.DataFrame(list_dicts)"
      ],
      "metadata": {
        "colab": {
          "base_uri": "https://localhost:8080/",
          "height": 331
        },
        "id": "ln6Yyx4NdIKn",
        "outputId": "4c1bb519-5c6f-4333-97ac-d768a49de546"
      },
      "execution_count": 73,
      "outputs": [
        {
          "output_type": "execute_result",
          "data": {
            "text/html": [
              "\n",
              "  <div id=\"df-3911f2ff-f8ed-4e10-b029-30c6b9c1101e\">\n",
              "    <div class=\"colab-df-container\">\n",
              "      <div>\n",
              "<style scoped>\n",
              "    .dataframe tbody tr th:only-of-type {\n",
              "        vertical-align: middle;\n",
              "    }\n",
              "\n",
              "    .dataframe tbody tr th {\n",
              "        vertical-align: top;\n",
              "    }\n",
              "\n",
              "    .dataframe thead th {\n",
              "        text-align: right;\n",
              "    }\n",
              "</style>\n",
              "<table border=\"1\" class=\"dataframe\">\n",
              "  <thead>\n",
              "    <tr style=\"text-align: right;\">\n",
              "      <th></th>\n",
              "      <th>body</th>\n",
              "      <th>diameter</th>\n",
              "      <th>average_dist</th>\n",
              "    </tr>\n",
              "  </thead>\n",
              "  <tbody>\n",
              "    <tr>\n",
              "      <th>0</th>\n",
              "      <td>Sun</td>\n",
              "      <td>1,391,000</td>\n",
              "      <td>0</td>\n",
              "    </tr>\n",
              "    <tr>\n",
              "      <th>1</th>\n",
              "      <td>Mercury</td>\n",
              "      <td>4,880</td>\n",
              "      <td>57,910,000</td>\n",
              "    </tr>\n",
              "    <tr>\n",
              "      <th>2</th>\n",
              "      <td>Venus</td>\n",
              "      <td>12,104</td>\n",
              "      <td>108,200,000</td>\n",
              "    </tr>\n",
              "    <tr>\n",
              "      <th>3</th>\n",
              "      <td>Earth</td>\n",
              "      <td>12,756</td>\n",
              "      <td>149,600,000</td>\n",
              "    </tr>\n",
              "    <tr>\n",
              "      <th>4</th>\n",
              "      <td>Mars</td>\n",
              "      <td>6,794</td>\n",
              "      <td>227,940,000</td>\n",
              "    </tr>\n",
              "    <tr>\n",
              "      <th>5</th>\n",
              "      <td>Jupiter</td>\n",
              "      <td>142,984</td>\n",
              "      <td>778,330,000</td>\n",
              "    </tr>\n",
              "    <tr>\n",
              "      <th>6</th>\n",
              "      <td>Saturn</td>\n",
              "      <td>120,536</td>\n",
              "      <td>1,429,400,000</td>\n",
              "    </tr>\n",
              "    <tr>\n",
              "      <th>7</th>\n",
              "      <td>Uranus</td>\n",
              "      <td>51,118</td>\n",
              "      <td>2,870,990,000</td>\n",
              "    </tr>\n",
              "    <tr>\n",
              "      <th>8</th>\n",
              "      <td>Neptune</td>\n",
              "      <td>49,532</td>\n",
              "      <td>4,504,000,000</td>\n",
              "    </tr>\n",
              "  </tbody>\n",
              "</table>\n",
              "</div>\n",
              "      <button class=\"colab-df-convert\" onclick=\"convertToInteractive('df-3911f2ff-f8ed-4e10-b029-30c6b9c1101e')\"\n",
              "              title=\"Convert this dataframe to an interactive table.\"\n",
              "              style=\"display:none;\">\n",
              "        \n",
              "  <svg xmlns=\"http://www.w3.org/2000/svg\" height=\"24px\"viewBox=\"0 0 24 24\"\n",
              "       width=\"24px\">\n",
              "    <path d=\"M0 0h24v24H0V0z\" fill=\"none\"/>\n",
              "    <path d=\"M18.56 5.44l.94 2.06.94-2.06 2.06-.94-2.06-.94-.94-2.06-.94 2.06-2.06.94zm-11 1L8.5 8.5l.94-2.06 2.06-.94-2.06-.94L8.5 2.5l-.94 2.06-2.06.94zm10 10l.94 2.06.94-2.06 2.06-.94-2.06-.94-.94-2.06-.94 2.06-2.06.94z\"/><path d=\"M17.41 7.96l-1.37-1.37c-.4-.4-.92-.59-1.43-.59-.52 0-1.04.2-1.43.59L10.3 9.45l-7.72 7.72c-.78.78-.78 2.05 0 2.83L4 21.41c.39.39.9.59 1.41.59.51 0 1.02-.2 1.41-.59l7.78-7.78 2.81-2.81c.8-.78.8-2.07 0-2.86zM5.41 20L4 18.59l7.72-7.72 1.47 1.35L5.41 20z\"/>\n",
              "  </svg>\n",
              "      </button>\n",
              "      \n",
              "  <style>\n",
              "    .colab-df-container {\n",
              "      display:flex;\n",
              "      flex-wrap:wrap;\n",
              "      gap: 12px;\n",
              "    }\n",
              "\n",
              "    .colab-df-convert {\n",
              "      background-color: #E8F0FE;\n",
              "      border: none;\n",
              "      border-radius: 50%;\n",
              "      cursor: pointer;\n",
              "      display: none;\n",
              "      fill: #1967D2;\n",
              "      height: 32px;\n",
              "      padding: 0 0 0 0;\n",
              "      width: 32px;\n",
              "    }\n",
              "\n",
              "    .colab-df-convert:hover {\n",
              "      background-color: #E2EBFA;\n",
              "      box-shadow: 0px 1px 2px rgba(60, 64, 67, 0.3), 0px 1px 3px 1px rgba(60, 64, 67, 0.15);\n",
              "      fill: #174EA6;\n",
              "    }\n",
              "\n",
              "    [theme=dark] .colab-df-convert {\n",
              "      background-color: #3B4455;\n",
              "      fill: #D2E3FC;\n",
              "    }\n",
              "\n",
              "    [theme=dark] .colab-df-convert:hover {\n",
              "      background-color: #434B5C;\n",
              "      box-shadow: 0px 1px 3px 1px rgba(0, 0, 0, 0.15);\n",
              "      filter: drop-shadow(0px 1px 2px rgba(0, 0, 0, 0.3));\n",
              "      fill: #FFFFFF;\n",
              "    }\n",
              "  </style>\n",
              "\n",
              "      <script>\n",
              "        const buttonEl =\n",
              "          document.querySelector('#df-3911f2ff-f8ed-4e10-b029-30c6b9c1101e button.colab-df-convert');\n",
              "        buttonEl.style.display =\n",
              "          google.colab.kernel.accessAllowed ? 'block' : 'none';\n",
              "\n",
              "        async function convertToInteractive(key) {\n",
              "          const element = document.querySelector('#df-3911f2ff-f8ed-4e10-b029-30c6b9c1101e');\n",
              "          const dataTable =\n",
              "            await google.colab.kernel.invokeFunction('convertToInteractive',\n",
              "                                                     [key], {});\n",
              "          if (!dataTable) return;\n",
              "\n",
              "          const docLinkHtml = 'Like what you see? Visit the ' +\n",
              "            '<a target=\"_blank\" href=https://colab.research.google.com/notebooks/data_table.ipynb>data table notebook</a>'\n",
              "            + ' to learn more about interactive tables.';\n",
              "          element.innerHTML = '';\n",
              "          dataTable['output_type'] = 'display_data';\n",
              "          await google.colab.output.renderOutput(dataTable, element);\n",
              "          const docLink = document.createElement('div');\n",
              "          docLink.innerHTML = docLinkHtml;\n",
              "          element.appendChild(docLink);\n",
              "        }\n",
              "      </script>\n",
              "    </div>\n",
              "  </div>\n",
              "  "
            ],
            "text/plain": [
              "      body   diameter   average_dist\n",
              "0  Sun      1,391,000  0            \n",
              "1  Mercury  4,880      57,910,000   \n",
              "2  Venus    12,104     108,200,000  \n",
              "3  Earth    12,756     149,600,000  \n",
              "4  Mars     6,794      227,940,000  \n",
              "5  Jupiter  142,984    778,330,000  \n",
              "6  Saturn   120,536    1,429,400,000\n",
              "7  Uranus   51,118     2,870,990,000\n",
              "8  Neptune  49,532     4,504,000,000"
            ]
          },
          "metadata": {},
          "execution_count": 73
        }
      ]
    },
    {
      "cell_type": "markdown",
      "source": [
        "# Practice 6: Scrape this table (Complex-1)"
      ],
      "metadata": {
        "id": "8KHjt7v4MDDv"
      }
    },
    {
      "cell_type": "code",
      "source": [
        "import requests\n",
        "from bs4 import BeautifulSoup\n",
        "import pandas as pd"
      ],
      "metadata": {
        "id": "NSACuqDCMK4D"
      },
      "execution_count": 74,
      "outputs": []
    },
    {
      "cell_type": "code",
      "source": [
        "pd.set_option('max_colwidth', 6000)"
      ],
      "metadata": {
        "id": "UTr4TQ6CZBmf"
      },
      "execution_count": 75,
      "outputs": []
    },
    {
      "cell_type": "code",
      "source": [
        "url = 'https://en.wikipedia.org/wiki/Year'\n",
        "response_6 = requests.get(url)\n",
        "response_6"
      ],
      "metadata": {
        "colab": {
          "base_uri": "https://localhost:8080/"
        },
        "id": "9MPQ9wWFMYxV",
        "outputId": "a5bd7d57-2761-4235-ae35-5a8b94f1d998"
      },
      "execution_count": 76,
      "outputs": [
        {
          "output_type": "execute_result",
          "data": {
            "text/plain": [
              "<Response [200]>"
            ]
          },
          "metadata": {},
          "execution_count": 76
        }
      ]
    },
    {
      "cell_type": "code",
      "source": [
        "response_6_str = response_6.text\n",
        "#response_6_str"
      ],
      "metadata": {
        "id": "ftvFnBTLMiYn"
      },
      "execution_count": 77,
      "outputs": []
    },
    {
      "cell_type": "code",
      "source": [
        "soup_6 = BeautifulSoup(response_6_str, 'lxml')\n",
        "soup_6.title"
      ],
      "metadata": {
        "colab": {
          "base_uri": "https://localhost:8080/"
        },
        "id": "3h0bi7xeM9E7",
        "outputId": "2e7f9f52-3109-4c41-f619-3bd5d2695618"
      },
      "execution_count": 78,
      "outputs": [
        {
          "output_type": "execute_result",
          "data": {
            "text/plain": [
              "<title>Year - Wikipedia</title>"
            ]
          },
          "metadata": {},
          "execution_count": 78
        }
      ]
    },
    {
      "cell_type": "code",
      "source": [
        "len(soup_6.find_all('table'))"
      ],
      "metadata": {
        "colab": {
          "base_uri": "https://localhost:8080/"
        },
        "id": "9A_ssYV6NJgz",
        "outputId": "2ec87911-eb4f-42bf-bf13-89f83afb40b5"
      },
      "execution_count": 79,
      "outputs": [
        {
          "output_type": "execute_result",
          "data": {
            "text/plain": [
              "12"
            ]
          },
          "metadata": {},
          "execution_count": 79
        }
      ]
    },
    {
      "cell_type": "code",
      "source": [
        "len(soup_6.find_all('table', {'class': 'wikitable'}))"
      ],
      "metadata": {
        "colab": {
          "base_uri": "https://localhost:8080/"
        },
        "id": "S813wbqbNZ_j",
        "outputId": "10ddfad9-992f-4774-aca7-747d7479e66d"
      },
      "execution_count": 80,
      "outputs": [
        {
          "output_type": "execute_result",
          "data": {
            "text/plain": [
              "4"
            ]
          },
          "metadata": {},
          "execution_count": 80
        }
      ]
    },
    {
      "cell_type": "code",
      "source": [
        "table_6 = soup_6.find_all('table', {'class': 'wikitable'})[3]"
      ],
      "metadata": {
        "id": "3Ss4qiicNqf0"
      },
      "execution_count": 81,
      "outputs": []
    },
    {
      "cell_type": "code",
      "source": [
        "#extracting column names\n",
        "column_list_6 = []\n",
        "for column_name in table_6.tr.find_all('th'):\n",
        "    column_list_6.append(column_name.text.strip())\n",
        "\n",
        "print(column_list_6)"
      ],
      "metadata": {
        "colab": {
          "base_uri": "https://localhost:8080/"
        },
        "id": "1KDdmt4NN6YR",
        "outputId": "ca9fb466-6b70-4962-fccc-6b145f195929"
      },
      "execution_count": 82,
      "outputs": [
        {
          "output_type": "stream",
          "name": "stdout",
          "text": [
            "['Non-SI abbreviation', 'Short for...', 'SI-prefixed equivalent', 'Comments and examples']\n"
          ]
        }
      ]
    },
    {
      "cell_type": "code",
      "source": [
        "# extracting row values\n",
        "rows = table_6.tbody.find_all('tr')[1:]\n",
        "def row_values(r):\n",
        "    dict_6 = {\n",
        "                'Non-SI abbreviation' : r.find_all('td')[0].text.strip()  ,\n",
        "                'Short for...' : r.find_all('td')[1].text.strip(),\n",
        "                'SI-prefixed equivalent' : r.find_all('td')[2].text.strip().replace('\\n', ',') ,\n",
        "                'Comments and examples' : r.find_all('td')[3].text.strip().replace('\\n', ',')\n",
        "            }\n",
        "    return dict_6\n",
        "\n",
        "list_dict_6 = []            \n",
        "for row in rows:\n",
        "    list_dict_6.append(row_values(row))\n",
        "\n",
        "print(list_dict_6)\n",
        "\n",
        "pd.DataFrame(list_dict_6)\n",
        "\n"
      ],
      "metadata": {
        "colab": {
          "base_uri": "https://localhost:8080/",
          "height": 388
        },
        "id": "_linwcJdOay2",
        "outputId": "e8fd9bf1-e620-4348-8b15-61b14b32fb98"
      },
      "execution_count": 83,
      "outputs": [
        {
          "output_type": "stream",
          "name": "stdout",
          "text": [
            "[{'Non-SI abbreviation': 'kyr', 'Short for...': 'kilo years', 'SI-prefixed equivalent': 'ka', 'Comments and examples': 'Thousand years'}, {'Non-SI abbreviation': 'myrMyr', 'Short for...': 'million yearsMega years', 'SI-prefixed equivalent': 'Ma', 'Comments and examples': 'Million years'}, {'Non-SI abbreviation': 'byr', 'Short for...': 'billion years', 'SI-prefixed equivalent': 'Ga', 'Comments and examples': 'Billion years (thousand million years)'}, {'Non-SI abbreviation': 'kya', 'Short for...': 'kilo years ago', 'SI-prefixed equivalent': 'ka ago', 'Comments and examples': 'Appearance of Homo sapiens, circa 200 kya,Out-of-Africa migration, circa 60 kya,Last Glacial Maximum, circa 20 kya,Neolithic Revolution, circa 10 kya'}, {'Non-SI abbreviation': 'myaMya', 'Short for...': 'million years agoMega years ago', 'SI-prefixed equivalent': 'Ma ago', 'Comments and examples': 'Pliocene, 5.3 to 2.6 mya,The last geomagnetic reversal was 0.78 mya[30],The (Eemian Stage) Ice Age started 0.13 mya,The Holocene started 0.01 mya'}, {'Non-SI abbreviation': 'byaGya', 'Short for...': 'billion years agogiga years ago', 'SI-prefixed equivalent': 'Ga ago', 'Comments and examples': 'oldest Eukaryotes, 2 bya,formation of the Earth, 4.5 bya,Big Bang, 13.8 bya'}]\n"
          ]
        },
        {
          "output_type": "execute_result",
          "data": {
            "text/html": [
              "\n",
              "  <div id=\"df-3f6a30cf-c497-4f24-8aa0-c9c498ca7420\">\n",
              "    <div class=\"colab-df-container\">\n",
              "      <div>\n",
              "<style scoped>\n",
              "    .dataframe tbody tr th:only-of-type {\n",
              "        vertical-align: middle;\n",
              "    }\n",
              "\n",
              "    .dataframe tbody tr th {\n",
              "        vertical-align: top;\n",
              "    }\n",
              "\n",
              "    .dataframe thead th {\n",
              "        text-align: right;\n",
              "    }\n",
              "</style>\n",
              "<table border=\"1\" class=\"dataframe\">\n",
              "  <thead>\n",
              "    <tr style=\"text-align: right;\">\n",
              "      <th></th>\n",
              "      <th>Non-SI abbreviation</th>\n",
              "      <th>Short for...</th>\n",
              "      <th>SI-prefixed equivalent</th>\n",
              "      <th>Comments and examples</th>\n",
              "    </tr>\n",
              "  </thead>\n",
              "  <tbody>\n",
              "    <tr>\n",
              "      <th>0</th>\n",
              "      <td>kyr</td>\n",
              "      <td>kilo years</td>\n",
              "      <td>ka</td>\n",
              "      <td>Thousand years</td>\n",
              "    </tr>\n",
              "    <tr>\n",
              "      <th>1</th>\n",
              "      <td>myrMyr</td>\n",
              "      <td>million yearsMega years</td>\n",
              "      <td>Ma</td>\n",
              "      <td>Million years</td>\n",
              "    </tr>\n",
              "    <tr>\n",
              "      <th>2</th>\n",
              "      <td>byr</td>\n",
              "      <td>billion years</td>\n",
              "      <td>Ga</td>\n",
              "      <td>Billion years (thousand million years)</td>\n",
              "    </tr>\n",
              "    <tr>\n",
              "      <th>3</th>\n",
              "      <td>kya</td>\n",
              "      <td>kilo years ago</td>\n",
              "      <td>ka ago</td>\n",
              "      <td>Appearance of Homo sapiens, circa 200 kya,Out-of-Africa migration, circa 60 kya,Last Glacial Maximum, circa 20 kya,Neolithic Revolution, circa 10 kya</td>\n",
              "    </tr>\n",
              "    <tr>\n",
              "      <th>4</th>\n",
              "      <td>myaMya</td>\n",
              "      <td>million years agoMega years ago</td>\n",
              "      <td>Ma ago</td>\n",
              "      <td>Pliocene, 5.3 to 2.6 mya,The last geomagnetic reversal was 0.78 mya[30],The (Eemian Stage) Ice Age started 0.13 mya,The Holocene started 0.01 mya</td>\n",
              "    </tr>\n",
              "    <tr>\n",
              "      <th>5</th>\n",
              "      <td>byaGya</td>\n",
              "      <td>billion years agogiga years ago</td>\n",
              "      <td>Ga ago</td>\n",
              "      <td>oldest Eukaryotes, 2 bya,formation of the Earth, 4.5 bya,Big Bang, 13.8 bya</td>\n",
              "    </tr>\n",
              "  </tbody>\n",
              "</table>\n",
              "</div>\n",
              "      <button class=\"colab-df-convert\" onclick=\"convertToInteractive('df-3f6a30cf-c497-4f24-8aa0-c9c498ca7420')\"\n",
              "              title=\"Convert this dataframe to an interactive table.\"\n",
              "              style=\"display:none;\">\n",
              "        \n",
              "  <svg xmlns=\"http://www.w3.org/2000/svg\" height=\"24px\"viewBox=\"0 0 24 24\"\n",
              "       width=\"24px\">\n",
              "    <path d=\"M0 0h24v24H0V0z\" fill=\"none\"/>\n",
              "    <path d=\"M18.56 5.44l.94 2.06.94-2.06 2.06-.94-2.06-.94-.94-2.06-.94 2.06-2.06.94zm-11 1L8.5 8.5l.94-2.06 2.06-.94-2.06-.94L8.5 2.5l-.94 2.06-2.06.94zm10 10l.94 2.06.94-2.06 2.06-.94-2.06-.94-.94-2.06-.94 2.06-2.06.94z\"/><path d=\"M17.41 7.96l-1.37-1.37c-.4-.4-.92-.59-1.43-.59-.52 0-1.04.2-1.43.59L10.3 9.45l-7.72 7.72c-.78.78-.78 2.05 0 2.83L4 21.41c.39.39.9.59 1.41.59.51 0 1.02-.2 1.41-.59l7.78-7.78 2.81-2.81c.8-.78.8-2.07 0-2.86zM5.41 20L4 18.59l7.72-7.72 1.47 1.35L5.41 20z\"/>\n",
              "  </svg>\n",
              "      </button>\n",
              "      \n",
              "  <style>\n",
              "    .colab-df-container {\n",
              "      display:flex;\n",
              "      flex-wrap:wrap;\n",
              "      gap: 12px;\n",
              "    }\n",
              "\n",
              "    .colab-df-convert {\n",
              "      background-color: #E8F0FE;\n",
              "      border: none;\n",
              "      border-radius: 50%;\n",
              "      cursor: pointer;\n",
              "      display: none;\n",
              "      fill: #1967D2;\n",
              "      height: 32px;\n",
              "      padding: 0 0 0 0;\n",
              "      width: 32px;\n",
              "    }\n",
              "\n",
              "    .colab-df-convert:hover {\n",
              "      background-color: #E2EBFA;\n",
              "      box-shadow: 0px 1px 2px rgba(60, 64, 67, 0.3), 0px 1px 3px 1px rgba(60, 64, 67, 0.15);\n",
              "      fill: #174EA6;\n",
              "    }\n",
              "\n",
              "    [theme=dark] .colab-df-convert {\n",
              "      background-color: #3B4455;\n",
              "      fill: #D2E3FC;\n",
              "    }\n",
              "\n",
              "    [theme=dark] .colab-df-convert:hover {\n",
              "      background-color: #434B5C;\n",
              "      box-shadow: 0px 1px 3px 1px rgba(0, 0, 0, 0.15);\n",
              "      filter: drop-shadow(0px 1px 2px rgba(0, 0, 0, 0.3));\n",
              "      fill: #FFFFFF;\n",
              "    }\n",
              "  </style>\n",
              "\n",
              "      <script>\n",
              "        const buttonEl =\n",
              "          document.querySelector('#df-3f6a30cf-c497-4f24-8aa0-c9c498ca7420 button.colab-df-convert');\n",
              "        buttonEl.style.display =\n",
              "          google.colab.kernel.accessAllowed ? 'block' : 'none';\n",
              "\n",
              "        async function convertToInteractive(key) {\n",
              "          const element = document.querySelector('#df-3f6a30cf-c497-4f24-8aa0-c9c498ca7420');\n",
              "          const dataTable =\n",
              "            await google.colab.kernel.invokeFunction('convertToInteractive',\n",
              "                                                     [key], {});\n",
              "          if (!dataTable) return;\n",
              "\n",
              "          const docLinkHtml = 'Like what you see? Visit the ' +\n",
              "            '<a target=\"_blank\" href=https://colab.research.google.com/notebooks/data_table.ipynb>data table notebook</a>'\n",
              "            + ' to learn more about interactive tables.';\n",
              "          element.innerHTML = '';\n",
              "          dataTable['output_type'] = 'display_data';\n",
              "          await google.colab.output.renderOutput(dataTable, element);\n",
              "          const docLink = document.createElement('div');\n",
              "          docLink.innerHTML = docLinkHtml;\n",
              "          element.appendChild(docLink);\n",
              "        }\n",
              "      </script>\n",
              "    </div>\n",
              "  </div>\n",
              "  "
            ],
            "text/plain": [
              "  Non-SI abbreviation                     Short for... SI-prefixed equivalent  \\\n",
              "0                 kyr                       kilo years                     ka   \n",
              "1              myrMyr          million yearsMega years                     Ma   \n",
              "2                 byr                    billion years                     Ga   \n",
              "3                 kya                   kilo years ago                 ka ago   \n",
              "4              myaMya  million years agoMega years ago                 Ma ago   \n",
              "5              byaGya  billion years agogiga years ago                 Ga ago   \n",
              "\n",
              "                                                                                                                                   Comments and examples  \n",
              "0                                                                                                                                         Thousand years  \n",
              "1                                                                                                                                          Million years  \n",
              "2                                                                                                                 Billion years (thousand million years)  \n",
              "3  Appearance of Homo sapiens, circa 200 kya,Out-of-Africa migration, circa 60 kya,Last Glacial Maximum, circa 20 kya,Neolithic Revolution, circa 10 kya  \n",
              "4      Pliocene, 5.3 to 2.6 mya,The last geomagnetic reversal was 0.78 mya[30],The (Eemian Stage) Ice Age started 0.13 mya,The Holocene started 0.01 mya  \n",
              "5                                                                            oldest Eukaryotes, 2 bya,formation of the Earth, 4.5 bya,Big Bang, 13.8 bya  "
            ]
          },
          "metadata": {},
          "execution_count": 83
        }
      ]
    },
    {
      "cell_type": "code",
      "source": [
        "import requests\n",
        "\n",
        "url = \"https://www.fifa.com/api/ranking-overview?locale=en&dateId=id13554\"\n",
        "\n",
        "payload={}\n",
        "headers = {\n",
        "  'authority': 'www.fifa.com',\n",
        "  'sec-ch-ua': '\" Not A;Brand\";v=\"99\", \"Chromium\";v=\"99\", \"Google Chrome\";v=\"99\"',\n",
        "  'accept': 'application/json, text/plain, */*',\n",
        "  'traceparent': '00-4d0ccc5884a7464c92d81b4faf094ab5-371eb54f2adb4af2-01',\n",
        "  'request-id': '|4d0ccc5884a7464c92d81b4faf094ab5.371eb54f2adb4af2',\n",
        "  'sec-ch-ua-mobile': '?0',\n",
        "  'user-agent': 'Mozilla/5.0 (Windows NT 10.0; Win64; x64) AppleWebKit/537.36 (KHTML, like Gecko) Chrome/99.0.4844.51 Safari/537.36',\n",
        "  'sec-ch-ua-platform': '\"Windows\"',\n",
        "  'sec-fetch-site': 'same-origin',\n",
        "  'sec-fetch-mode': 'cors',\n",
        "  'sec-fetch-dest': 'empty',\n",
        "  'referer': 'https://www.fifa.com/fifa-world-ranking/men?dateId=id13554',\n",
        "  'accept-language': 'en-GB,en-US;q=0.9,en;q=0.8',\n",
        "  'cookie': 'ai_user=G29HNLMykmZ0kLR2XYTOce|2022-03-05T07:04:00.899Z; OptanonAlertBoxClosed=2022-03-05T07:04:19.663Z; o_ot_persist=%2C1%2C2%2C4%2C3%2C; _cc_id=6549280b000aa679822527b4c4c72c84; TEAL=v:517f58e4aa5062762115357042267597265386a3bb8$t:1646468360794$sn:2$en:9$s:1646466073845%3Bexp-sess; ai_session=NE1dTwwMN5u6LPSU6ccn/0|1646463844326|1646467312097; OptanonConsent=isGpcEnabled=0&datestamp=Sat+Mar+05+2022+13%3A31%3A56+GMT%2B0530+(India+Standard+Time)&version=6.19.0&isIABGlobal=false&hosts=&consentId=9890b194-e726-4053-82bf-03fee5417517&interactionCount=1&landingPath=NotLandingPage&groups=1%3A1%2C2%3A1%2C4%3A1%2C3%3A1&geolocation=IN%3BKA&AwaitingReconsent=false; o_ic_persist=; o_ec_persist=; o_sc_persist=; panoramaId_expiry=1646553730023; AMCVS_2F2827E253DAF0E10A490D4E%40AdobeOrg=1; AMCV_2F2827E253DAF0E10A490D4E%40AdobeOrg=-2121179033%7CMCIDTS%7C19057%7CMCMID%7C11411682502965704482823397432966241190%7CMCAAMLH-1647072133%7C12%7CMCAAMB-1647072133%7CRKhpRz8krg2tLO6pguXWp5olkAcUniQYPHaMWWgdJ3xzPWQmdj0y%7CMCOPTOUT-1646474533s%7CNONE%7CvVersion%7C5.3.0; s_cc=true'\n",
        "}\n",
        "\n",
        "response = requests.request(\"GET\", url, headers=headers, data=payload)\n",
        "\n",
        "print(response.text)\n"
      ],
      "metadata": {
        "id": "qpjBC8ItYCPa",
        "outputId": "ec392f0a-0934-4af5-9277-c7c00860d809",
        "colab": {
          "base_uri": "https://localhost:8080/"
        }
      },
      "execution_count": 84,
      "outputs": [
        {
          "output_type": "stream",
          "name": "stdout",
          "text": [
            "{\"rankings\":[{\"rankingItem\":{\"rank\":1,\"flag\":{\"src\":\"https://api.fifa.com/api/v1/picture/flags-sq-2/BEL\",\"width\":70,\"height\":46,\"title\":\"Belgium\",\"alt\":\"Belgium\"},\"name\":\"Belgium\",\"totalPoints\":1828.45,\"active\":false,\"previousRank\":1,\"countryURL\":\"/fifa-world-ranking/BEL\",\"countryCode\":\"BEL\"},\"previousPoints\":1828.45,\"tag\":{\"id\":\"UEFA\",\"text\":\"UEFA\"}},{\"rankingItem\":{\"rank\":2,\"flag\":{\"src\":\"https://api.fifa.com/api/v1/picture/flags-sq-2/BRA\",\"width\":70,\"height\":46,\"title\":\"Brazil\",\"alt\":\"Brazil\"},\"name\":\"Brazil\",\"totalPoints\":1823.42,\"active\":false,\"previousRank\":2,\"countryURL\":\"/fifa-world-ranking/BRA\",\"countryCode\":\"BRA\"},\"previousPoints\":1826.35,\"tag\":{\"id\":\"CONMEBOL\",\"text\":\"CONMEBOL\"}},{\"rankingItem\":{\"rank\":3,\"flag\":{\"src\":\"https://api.fifa.com/api/v1/picture/flags-sq-2/FRA\",\"width\":70,\"height\":46,\"title\":\"France\",\"alt\":\"France\"},\"name\":\"France\",\"totalPoints\":1786.15,\"active\":false,\"previousRank\":3,\"countryURL\":\"/fifa-world-ranking/FRA\",\"countryCode\":\"FRA\"},\"previousPoints\":1786.15,\"tag\":{\"id\":\"UEFA\",\"text\":\"UEFA\"}},{\"rankingItem\":{\"rank\":4,\"flag\":{\"src\":\"https://api.fifa.com/api/v1/picture/flags-sq-2/ARG\",\"width\":70,\"height\":46,\"title\":\"Argentina\",\"alt\":\"Argentina\"},\"name\":\"Argentina\",\"totalPoints\":1766.99,\"active\":false,\"previousRank\":5,\"countryURL\":\"/fifa-world-ranking/ARG\",\"countryCode\":\"ARG\"},\"previousPoints\":1750.51,\"tag\":{\"id\":\"CONMEBOL\",\"text\":\"CONMEBOL\"}},{\"rankingItem\":{\"rank\":5,\"flag\":{\"src\":\"https://api.fifa.com/api/v1/picture/flags-sq-2/ENG\",\"width\":70,\"height\":46,\"title\":\"England\",\"alt\":\"England\"},\"name\":\"England\",\"totalPoints\":1755.52,\"active\":false,\"previousRank\":4,\"countryURL\":\"/fifa-world-ranking/ENG\",\"countryCode\":\"ENG\"},\"previousPoints\":1755.52,\"tag\":{\"id\":\"UEFA\",\"text\":\"UEFA\"}},{\"rankingItem\":{\"rank\":6,\"flag\":{\"src\":\"https://api.fifa.com/api/v1/picture/flags-sq-2/ITA\",\"width\":70,\"height\":46,\"title\":\"Italy\",\"alt\":\"Italy\"},\"name\":\"Italy\",\"totalPoints\":1740.77,\"active\":false,\"previousRank\":6,\"countryURL\":\"/fifa-world-ranking/ITA\",\"countryCode\":\"ITA\"},\"previousPoints\":1740.77,\"tag\":{\"id\":\"UEFA\",\"text\":\"UEFA\"}},{\"rankingItem\":{\"rank\":7,\"flag\":{\"src\":\"https://api.fifa.com/api/v1/picture/flags-sq-2/ESP\",\"width\":70,\"height\":46,\"title\":\"Spain\",\"alt\":\"Spain\"},\"name\":\"Spain\",\"totalPoints\":1704.75,\"active\":false,\"previousRank\":7,\"countryURL\":\"/fifa-world-ranking/ESP\",\"countryCode\":\"ESP\"},\"previousPoints\":1704.75,\"tag\":{\"id\":\"UEFA\",\"text\":\"UEFA\"}},{\"rankingItem\":{\"rank\":8,\"flag\":{\"src\":\"https://api.fifa.com/api/v1/picture/flags-sq-2/POR\",\"width\":70,\"height\":46,\"title\":\"Portugal\",\"alt\":\"Portugal\"},\"name\":\"Portugal\",\"totalPoints\":1660.25,\"active\":false,\"previousRank\":8,\"countryURL\":\"/fifa-world-ranking/POR\",\"countryCode\":\"POR\"},\"previousPoints\":1660.25,\"tag\":{\"id\":\"UEFA\",\"text\":\"UEFA\"}},{\"rankingItem\":{\"rank\":9,\"flag\":{\"src\":\"https://api.fifa.com/api/v1/picture/flags-sq-2/DEN\",\"width\":70,\"height\":46,\"title\":\"Denmark\",\"alt\":\"Denmark\"},\"name\":\"Denmark\",\"totalPoints\":1654.54,\"active\":false,\"previousRank\":9,\"countryURL\":\"/fifa-world-ranking/DEN\",\"countryCode\":\"DEN\"},\"previousPoints\":1654.54,\"tag\":{\"id\":\"UEFA\",\"text\":\"UEFA\"}},{\"rankingItem\":{\"rank\":10,\"flag\":{\"src\":\"https://api.fifa.com/api/v1/picture/flags-sq-2/NED\",\"width\":70,\"height\":46,\"title\":\"Netherlands\",\"alt\":\"Netherlands\"},\"name\":\"Netherlands\",\"totalPoints\":1653.73,\"active\":false,\"previousRank\":10,\"countryURL\":\"/fifa-world-ranking/NED\",\"countryCode\":\"NED\"},\"previousPoints\":1653.73,\"tag\":{\"id\":\"UEFA\",\"text\":\"UEFA\"}},{\"rankingItem\":{\"rank\":11,\"flag\":{\"src\":\"https://api.fifa.com/api/v1/picture/flags-sq-2/GER\",\"width\":70,\"height\":46,\"title\":\"Germany\",\"alt\":\"Germany\"},\"name\":\"Germany\",\"totalPoints\":1648.33,\"active\":false,\"previousRank\":12,\"countryURL\":\"/fifa-world-ranking/GER\",\"countryCode\":\"GER\"},\"previousPoints\":1648.33,\"tag\":{\"id\":\"UEFA\",\"text\":\"UEFA\"}},{\"rankingItem\":{\"rank\":12,\"flag\":{\"src\":\"https://api.fifa.com/api/v1/picture/flags-sq-2/MEX\",\"width\":70,\"height\":46,\"title\":\"Mexico\",\"alt\":\"Mexico\"},\"name\":\"Mexico\",\"totalPoints\":1647.9,\"active\":false,\"previousRank\":14,\"countryURL\":\"/fifa-world-ranking/MEX\",\"countryCode\":\"MEX\"},\"previousPoints\":1638.3,\"tag\":{\"id\":\"CONCACAF\",\"text\":\"CONCACAF\"}},{\"rankingItem\":{\"rank\":13,\"flag\":{\"src\":\"https://api.fifa.com/api/v1/picture/flags-sq-2/USA\",\"width\":70,\"height\":46,\"title\":\"USA\",\"alt\":\"USA\"},\"name\":\"USA\",\"totalPoints\":1643.34,\"active\":false,\"previousRank\":11,\"countryURL\":\"/fifa-world-ranking/USA\",\"countryCode\":\"USA\"},\"previousPoints\":1648.51,\"tag\":{\"id\":\"CONCACAF\",\"text\":\"CONCACAF\"}},{\"rankingItem\":{\"rank\":14,\"flag\":{\"src\":\"https://api.fifa.com/api/v1/picture/flags-sq-2/SUI\",\"width\":70,\"height\":46,\"title\":\"Switzerland\",\"alt\":\"Switzerland\"},\"name\":\"Switzerland\",\"totalPoints\":1642.83,\"active\":false,\"previousRank\":13,\"countryURL\":\"/fifa-world-ranking/SUI\",\"countryCode\":\"SUI\"},\"previousPoints\":1642.83,\"tag\":{\"id\":\"UEFA\",\"text\":\"UEFA\"}},{\"rankingItem\":{\"rank\":15,\"flag\":{\"src\":\"https://api.fifa.com/api/v1/picture/flags-sq-2/CRO\",\"width\":70,\"height\":46,\"title\":\"Croatia\",\"alt\":\"Croatia\"},\"name\":\"Croatia\",\"totalPoints\":1620.74,\"active\":false,\"previousRank\":15,\"countryURL\":\"/fifa-world-ranking/CRO\",\"countryCode\":\"CRO\"},\"previousPoints\":1620.74,\"tag\":{\"id\":\"UEFA\",\"text\":\"UEFA\"}},{\"rankingItem\":{\"rank\":16,\"flag\":{\"src\":\"https://api.fifa.com/api/v1/picture/flags-sq-2/URU\",\"width\":70,\"height\":46,\"title\":\"Uruguay\",\"alt\":\"Uruguay\"},\"name\":\"Uruguay\",\"totalPoints\":1614.05,\"active\":false,\"previousRank\":17,\"countryURL\":\"/fifa-world-ranking/URU\",\"countryCode\":\"URU\"},\"previousPoints\":1596.66,\"tag\":{\"id\":\"CONMEBOL\",\"text\":\"CONMEBOL\"}},{\"rankingItem\":{\"rank\":17,\"flag\":{\"src\":\"https://api.fifa.com/api/v1/picture/flags-sq-2/SWE\",\"width\":70,\"height\":46,\"title\":\"Sweden\",\"alt\":\"Sweden\"},\"name\":\"Sweden\",\"totalPoints\":1588.26,\"active\":false,\"previousRank\":18,\"countryURL\":\"/fifa-world-ranking/SWE\",\"countryCode\":\"SWE\"},\"previousPoints\":1588.26,\"tag\":{\"id\":\"UEFA\",\"text\":\"UEFA\"}},{\"rankingItem\":{\"rank\":18,\"flag\":{\"src\":\"https://api.fifa.com/api/v1/picture/flags-sq-2/SEN\",\"width\":70,\"height\":46,\"title\":\"Senegal\",\"alt\":\"Senegal\"},\"name\":\"Senegal\",\"totalPoints\":1587.78,\"active\":false,\"previousRank\":20,\"countryURL\":\"/fifa-world-ranking/SEN\",\"countryCode\":\"SEN\"},\"previousPoints\":1561.68,\"tag\":{\"id\":\"CAF\",\"text\":\"CAF\"}},{\"rankingItem\":{\"rank\":19,\"flag\":{\"src\":\"https://api.fifa.com/api/v1/picture/flags-sq-2/COL\",\"width\":70,\"height\":46,\"title\":\"Colombia\",\"alt\":\"Colombia\"},\"name\":\"Colombia\",\"totalPoints\":1585.89,\"active\":false,\"previousRank\":16,\"countryURL\":\"/fifa-world-ranking/COL\",\"countryCode\":\"COL\"},\"previousPoints\":1607.15,\"tag\":{\"id\":\"CONMEBOL\",\"text\":\"CONMEBOL\"}},{\"rankingItem\":{\"rank\":20,\"flag\":{\"src\":\"https://api.fifa.com/api/v1/picture/flags-sq-2/WAL\",\"width\":70,\"height\":46,\"title\":\"Wales\",\"alt\":\"Wales\"},\"name\":\"Wales\",\"totalPoints\":1578.01,\"active\":false,\"previousRank\":19,\"countryURL\":\"/fifa-world-ranking/WAL\",\"countryCode\":\"WAL\"},\"previousPoints\":1578.01,\"tag\":{\"id\":\"UEFA\",\"text\":\"UEFA\"}},{\"rankingItem\":{\"rank\":21,\"flag\":{\"src\":\"https://api.fifa.com/api/v1/picture/flags-sq-2/IRN\",\"width\":70,\"height\":46,\"title\":\"IR Iran\",\"alt\":\"IR Iran\"},\"name\":\"IR Iran\",\"totalPoints\":1572.89,\"active\":false,\"previousRank\":21,\"countryURL\":\"/fifa-world-ranking/IRN\",\"countryCode\":\"IRN\"},\"previousPoints\":1557.58,\"tag\":{\"id\":\"AFC\",\"text\":\"AFC\"}},{\"rankingItem\":{\"rank\":22,\"flag\":{\"src\":\"https://api.fifa.com/api/v1/picture/flags-sq-2/PER\",\"width\":70,\"height\":46,\"title\":\"Peru\",\"alt\":\"Peru\"},\"name\":\"Peru\",\"totalPoints\":1563.45,\"active\":false,\"previousRank\":22,\"countryURL\":\"/fifa-world-ranking/PER\",\"countryCode\":\"PER\"},\"previousPoints\":1551.15,\"tag\":{\"id\":\"CONMEBOL\",\"text\":\"CONMEBOL\"}},{\"rankingItem\":{\"rank\":23,\"flag\":{\"src\":\"https://api.fifa.com/api/v1/picture/flags-sq-2/JPN\",\"width\":70,\"height\":46,\"title\":\"Japan\",\"alt\":\"Japan\"},\"name\":\"Japan\",\"totalPoints\":1549.82,\"active\":false,\"previousRank\":26,\"countryURL\":\"/fifa-world-ranking/JPN\",\"countryCode\":\"JPN\"},\"previousPoints\":1531.53,\"tag\":{\"id\":\"AFC\",\"text\":\"AFC\"}},{\"rankingItem\":{\"rank\":24,\"flag\":{\"src\":\"https://api.fifa.com/api/v1/picture/flags-sq-2/MAR\",\"width\":70,\"height\":46,\"title\":\"Morocco\",\"alt\":\"Morocco\"},\"name\":\"Morocco\",\"totalPoints\":1547.42,\"active\":false,\"previousRank\":28,\"countryURL\":\"/fifa-world-ranking/MAR\",\"countryCode\":\"MAR\"},\"previousPoints\":1529.93,\"tag\":{\"id\":\"CAF\",\"text\":\"CAF\"}},{\"rankingItem\":{\"rank\":25,\"flag\":{\"src\":\"https://api.fifa.com/api/v1/picture/flags-sq-2/SRB\",\"width\":70,\"height\":46,\"title\":\"Serbia\",\"alt\":\"Serbia\"},\"name\":\"Serbia\",\"totalPoints\":1547.38,\"active\":false,\"previousRank\":23,\"countryURL\":\"/fifa-world-ranking/SRB\",\"countryCode\":\"SRB\"},\"previousPoints\":1547.38,\"tag\":{\"id\":\"UEFA\",\"text\":\"UEFA\"}},{\"rankingItem\":{\"rank\":26,\"flag\":{\"src\":\"https://api.fifa.com/api/v1/picture/flags-sq-2/CHI\",\"width\":70,\"height\":46,\"title\":\"Chile\",\"alt\":\"Chile\"},\"name\":\"Chile\",\"totalPoints\":1543.16,\"active\":false,\"previousRank\":24,\"countryURL\":\"/fifa-world-ranking/CHI\",\"countryCode\":\"CHI\"},\"previousPoints\":1543.42,\"tag\":{\"id\":\"CONMEBOL\",\"text\":\"CONMEBOL\"}},{\"rankingItem\":{\"rank\":27,\"flag\":{\"src\":\"https://api.fifa.com/api/v1/picture/flags-sq-2/UKR\",\"width\":70,\"height\":46,\"title\":\"Ukraine\",\"alt\":\"Ukraine\"},\"name\":\"Ukraine\",\"totalPoints\":1535.08,\"active\":false,\"previousRank\":25,\"countryURL\":\"/fifa-world-ranking/UKR\",\"countryCode\":\"UKR\"},\"previousPoints\":1535.08,\"tag\":{\"id\":\"UEFA\",\"text\":\"UEFA\"}},{\"rankingItem\":{\"rank\":28,\"flag\":{\"src\":\"https://api.fifa.com/api/v1/picture/flags-sq-2/POL\",\"width\":70,\"height\":46,\"title\":\"Poland\",\"alt\":\"Poland\"},\"name\":\"Poland\",\"totalPoints\":1530.62,\"active\":false,\"previousRank\":27,\"countryURL\":\"/fifa-world-ranking/POL\",\"countryCode\":\"POL\"},\"previousPoints\":1530.62,\"tag\":{\"id\":\"UEFA\",\"text\":\"UEFA\"}},{\"rankingItem\":{\"rank\":29,\"flag\":{\"src\":\"https://api.fifa.com/api/v1/picture/flags-sq-2/KOR\",\"width\":70,\"height\":46,\"title\":\"Korea Republic\",\"alt\":\"Korea Republic\"},\"name\":\"Korea Republic\",\"totalPoints\":1522.85,\"active\":false,\"previousRank\":33,\"countryURL\":\"/fifa-world-ranking/KOR\",\"countryCode\":\"KOR\"},\"previousPoints\":1507.24,\"tag\":{\"id\":\"AFC\",\"text\":\"AFC\"}},{\"rankingItem\":{\"rank\":30,\"flag\":{\"src\":\"https://api.fifa.com/api/v1/picture/flags-sq-2/AUT\",\"width\":70,\"height\":46,\"title\":\"Austria\",\"alt\":\"Austria\"},\"name\":\"Austria\",\"totalPoints\":1511.56,\"active\":false,\"previousRank\":31,\"countryURL\":\"/fifa-world-ranking/AUT\",\"countryCode\":\"AUT\"},\"previousPoints\":1511.56,\"tag\":{\"id\":\"UEFA\",\"text\":\"UEFA\"}},{\"rankingItem\":{\"rank\":31,\"flag\":{\"src\":\"https://api.fifa.com/api/v1/picture/flags-sq-2/CZE\",\"width\":70,\"height\":46,\"title\":\"Czech Republic\",\"alt\":\"Czech Republic\"},\"name\":\"Czech Republic\",\"totalPoints\":1510.42,\"active\":false,\"previousRank\":32,\"countryURL\":\"/fifa-world-ranking/CZE\",\"countryCode\":\"CZE\"},\"previousPoints\":1510.42,\"tag\":{\"id\":\"UEFA\",\"text\":\"UEFA\"}},{\"rankingItem\":{\"rank\":32,\"flag\":{\"src\":\"https://api.fifa.com/api/v1/picture/flags-sq-2/NGA\",\"width\":70,\"height\":46,\"title\":\"Nigeria\",\"alt\":\"Nigeria\"},\"name\":\"Nigeria\",\"totalPoints\":1509.91,\"active\":false,\"previousRank\":36,\"countryURL\":\"/fifa-world-ranking/NGA\",\"countryCode\":\"NGA\"},\"previousPoints\":1478.78,\"tag\":{\"id\":\"CAF\",\"text\":\"CAF\"}},{\"rankingItem\":{\"rank\":33,\"flag\":{\"src\":\"https://api.fifa.com/api/v1/picture/flags-sq-2/CAN\",\"width\":70,\"height\":46,\"title\":\"Canada\",\"alt\":\"Canada\"},\"name\":\"Canada\",\"totalPoints\":1497.82,\"active\":false,\"previousRank\":40,\"countryURL\":\"/fifa-world-ranking/CAN\",\"countryCode\":\"CAN\"},\"previousPoints\":1462.32,\"tag\":{\"id\":\"CONCACAF\",\"text\":\"CONCACAF\"}},{\"rankingItem\":{\"rank\":34,\"flag\":{\"src\":\"https://api.fifa.com/api/v1/picture/flags-sq-2/EGY\",\"width\":70,\"height\":46,\"title\":\"Egypt\",\"alt\":\"Egypt\"},\"name\":\"Egypt\",\"totalPoints\":1497.05,\"active\":false,\"previousRank\":45,\"countryURL\":\"/fifa-world-ranking/EGY\",\"countryCode\":\"EGY\"},\"previousPoints\":1451.77,\"tag\":{\"id\":\"CAF\",\"text\":\"CAF\"}},{\"rankingItem\":{\"rank\":35,\"flag\":{\"src\":\"https://api.fifa.com/api/v1/picture/flags-sq-2/RUS\",\"width\":70,\"height\":46,\"title\":\"Russia\",\"alt\":\"Russia\"},\"name\":\"Russia\",\"totalPoints\":1493.42,\"active\":false,\"previousRank\":34,\"countryURL\":\"/fifa-world-ranking/RUS\",\"countryCode\":\"RUS\"},\"previousPoints\":1493.42,\"tag\":{\"id\":\"UEFA\",\"text\":\"UEFA\"}},{\"rankingItem\":{\"rank\":36,\"flag\":{\"src\":\"https://api.fifa.com/api/v1/picture/flags-sq-2/TUN\",\"width\":70,\"height\":46,\"title\":\"Tunisia\",\"alt\":\"Tunisia\"},\"name\":\"Tunisia\",\"totalPoints\":1489.92,\"active\":false,\"previousRank\":30,\"countryURL\":\"/fifa-world-ranking/TUN\",\"countryCode\":\"TUN\"},\"previousPoints\":1512.72,\"tag\":{\"id\":\"CAF\",\"text\":\"CAF\"}},{\"rankingItem\":{\"rank\":37,\"flag\":{\"src\":\"https://api.fifa.com/api/v1/picture/flags-sq-2/AUS\",\"width\":70,\"height\":46,\"title\":\"Australia\",\"alt\":\"Australia\"},\"name\":\"Australia\",\"totalPoints\":1486.86,\"active\":false,\"previousRank\":35,\"countryURL\":\"/fifa-world-ranking/AUS\",\"countryCode\":\"AUS\"},\"previousPoints\":1484.88,\"tag\":{\"id\":\"AFC\",\"text\":\"AFC\"}},{\"rankingItem\":{\"rank\":38,\"flag\":{\"src\":\"https://api.fifa.com/api/v1/picture/flags-sq-2/CMR\",\"width\":70,\"height\":46,\"title\":\"Cameroon\",\"alt\":\"Cameroon\"},\"name\":\"Cameroon\",\"totalPoints\":1480.82,\"active\":false,\"previousRank\":50,\"countryURL\":\"/fifa-world-ranking/CMR\",\"countryCode\":\"CMR\"},\"previousPoints\":1437.35,\"tag\":{\"id\":\"CAF\",\"text\":\"CAF\"}},{\"rankingItem\":{\"rank\":39,\"flag\":{\"src\":\"https://api.fifa.com/api/v1/picture/flags-sq-2/TUR\",\"width\":70,\"height\":46,\"title\":\"Turkey\",\"alt\":\"Turkey\"},\"name\":\"Turkey\",\"totalPoints\":1472.72,\"active\":false,\"previousRank\":37,\"countryURL\":\"/fifa-world-ranking/TUR\",\"countryCode\":\"TUR\"},\"previousPoints\":1472.72,\"tag\":{\"id\":\"UEFA\",\"text\":\"UEFA\"}},{\"rankingItem\":{\"rank\":40,\"flag\":{\"src\":\"https://api.fifa.com/api/v1/picture/flags-sq-2/SCO\",\"width\":70,\"height\":46,\"title\":\"Scotland\",\"alt\":\"Scotland\"},\"name\":\"Scotland\",\"totalPoints\":1471.82,\"active\":false,\"previousRank\":38,\"countryURL\":\"/fifa-world-ranking/SCO\",\"countryCode\":\"SCO\"},\"previousPoints\":1471.82,\"tag\":{\"id\":\"UEFA\",\"text\":\"UEFA\"}},{\"rankingItem\":{\"rank\":41,\"flag\":{\"src\":\"https://api.fifa.com/api/v1/picture/flags-sq-2/HUN\",\"width\":70,\"height\":46,\"title\":\"Hungary\",\"alt\":\"Hungary\"},\"name\":\"Hungary\",\"totalPoints\":1465.62,\"active\":false,\"previousRank\":39,\"countryURL\":\"/fifa-world-ranking/HUN\",\"countryCode\":\"HUN\"},\"previousPoints\":1465.62,\"tag\":{\"id\":\"UEFA\",\"text\":\"UEFA\"}},{\"rankingItem\":{\"rank\":42,\"flag\":{\"src\":\"https://api.fifa.com/api/v1/picture/flags-sq-2/CRC\",\"width\":70,\"height\":46,\"title\":\"Costa Rica\",\"alt\":\"Costa Rica\"},\"name\":\"Costa Rica\",\"totalPoints\":1464.06,\"active\":false,\"previousRank\":49,\"countryURL\":\"/fifa-world-ranking/CRC\",\"countryCode\":\"CRC\"},\"previousPoints\":1437.43,\"tag\":{\"id\":\"CONCACAF\",\"text\":\"CONCACAF\"}},{\"rankingItem\":{\"rank\":43,\"flag\":{\"src\":\"https://api.fifa.com/api/v1/picture/flags-sq-2/ALG\",\"width\":70,\"height\":46,\"title\":\"Algeria\",\"alt\":\"Algeria\"},\"name\":\"Algeria\",\"totalPoints\":1460.93,\"active\":false,\"previousRank\":29,\"countryURL\":\"/fifa-world-ranking/ALG\",\"countryCode\":\"ALG\"},\"previousPoints\":1516.51,\"tag\":{\"id\":\"CAF\",\"text\":\"CAF\"}},{\"rankingItem\":{\"rank\":44,\"flag\":{\"src\":\"https://api.fifa.com/api/v1/picture/flags-sq-2/ECU\",\"width\":70,\"height\":46,\"title\":\"Ecuador\",\"alt\":\"Ecuador\"},\"name\":\"Ecuador\",\"totalPoints\":1458.63,\"active\":false,\"previousRank\":46,\"countryURL\":\"/fifa-world-ranking/ECU\",\"countryCode\":\"ECU\"},\"previousPoints\":1448.27,\"tag\":{\"id\":\"CONMEBOL\",\"text\":\"CONMEBOL\"}},{\"rankingItem\":{\"rank\":45,\"flag\":{\"src\":\"https://api.fifa.com/api/v1/picture/flags-sq-2/NOR\",\"width\":70,\"height\":46,\"title\":\"Norway\",\"alt\":\"Norway\"},\"name\":\"Norway\",\"totalPoints\":1455.43,\"active\":false,\"previousRank\":41,\"countryURL\":\"/fifa-world-ranking/NOR\",\"countryCode\":\"NOR\"},\"previousPoints\":1455.43,\"tag\":{\"id\":\"UEFA\",\"text\":\"UEFA\"}},{\"rankingItem\":{\"rank\":46,\"flag\":{\"src\":\"https://api.fifa.com/api/v1/picture/flags-sq-2/SVK\",\"width\":70,\"height\":46,\"title\":\"Slovakia\",\"alt\":\"Slovakia\"},\"name\":\"Slovakia\",\"totalPoints\":1455.36,\"active\":false,\"previousRank\":42,\"countryURL\":\"/fifa-world-ranking/SVK\",\"countryCode\":\"SVK\"},\"previousPoints\":1455.36,\"tag\":{\"id\":\"UEFA\",\"text\":\"UEFA\"}},{\"rankingItem\":{\"rank\":47,\"flag\":{\"src\":\"https://api.fifa.com/api/v1/picture/flags-sq-2/ROU\",\"width\":70,\"height\":46,\"title\":\"Romania\",\"alt\":\"Romania\"},\"name\":\"Romania\",\"totalPoints\":1453.18,\"active\":false,\"previousRank\":44,\"countryURL\":\"/fifa-world-ranking/ROU\",\"countryCode\":\"ROU\"},\"previousPoints\":1453.18,\"tag\":{\"id\":\"UEFA\",\"text\":\"UEFA\"}},{\"rankingItem\":{\"rank\":48,\"flag\":{\"src\":\"https://api.fifa.com/api/v1/picture/flags-sq-2/MLI\",\"width\":70,\"height\":46,\"title\":\"Mali\",\"alt\":\"Mali\"},\"name\":\"Mali\",\"totalPoints\":1446.49,\"active\":false,\"previousRank\":53,\"countryURL\":\"/fifa-world-ranking/MLI\",\"countryCode\":\"MLI\"},\"previousPoints\":1427.98,\"tag\":{\"id\":\"CAF\",\"text\":\"CAF\"}},{\"rankingItem\":{\"rank\":49,\"flag\":{\"src\":\"https://api.fifa.com/api/v1/picture/flags-sq-2/IRL\",\"width\":70,\"height\":46,\"title\":\"Republic of Ireland\",\"alt\":\"Republic of Ireland\"},\"name\":\"Republic of Ireland\",\"totalPoints\":1444.29,\"active\":false,\"previousRank\":47,\"countryURL\":\"/fifa-world-ranking/IRL\",\"countryCode\":\"IRL\"},\"previousPoints\":1444.29,\"tag\":{\"id\":\"UEFA\",\"text\":\"UEFA\"}},{\"rankingItem\":{\"rank\":50,\"flag\":{\"src\":\"https://api.fifa.com/api/v1/picture/flags-sq-2/PAR\",\"width\":70,\"height\":46,\"title\":\"Paraguay\",\"alt\":\"Paraguay\"},\"name\":\"Paraguay\",\"totalPoints\":1440.53,\"active\":false,\"previousRank\":43,\"countryURL\":\"/fifa-world-ranking/PAR\",\"countryCode\":\"PAR\"},\"previousPoints\":1454.52,\"tag\":{\"id\":\"CONMEBOL\",\"text\":\"CONMEBOL\"}},{\"rankingItem\":{\"rank\":51,\"flag\":{\"src\":\"https://api.fifa.com/api/v1/picture/flags-sq-2/CIV\",\"width\":70,\"height\":46,\"title\":\"Côte d'Ivoire\",\"alt\":\"Côte d'Ivoire\"},\"name\":\"Côte d'Ivoire\",\"totalPoints\":1439.62,\"active\":false,\"previousRank\":56,\"countryURL\":\"/fifa-world-ranking/CIV\",\"countryCode\":\"CIV\"},\"previousPoints\":1417.86,\"tag\":{\"id\":\"CAF\",\"text\":\"CAF\"}},{\"rankingItem\":{\"rank\":52,\"flag\":{\"src\":\"https://api.fifa.com/api/v1/picture/flags-sq-2/QAT\",\"width\":70,\"height\":46,\"title\":\"Qatar\",\"alt\":\"Qatar\"},\"name\":\"Qatar\",\"totalPoints\":1437.91,\"active\":false,\"previousRank\":48,\"countryURL\":\"/fifa-world-ranking/QAT\",\"countryCode\":\"QAT\"},\"previousPoints\":1437.91,\"tag\":{\"id\":\"AFC\",\"text\":\"AFC\"}},{\"rankingItem\":{\"rank\":53,\"flag\":{\"src\":\"https://api.fifa.com/api/v1/picture/flags-sq-2/KSA\",\"width\":70,\"height\":46,\"title\":\"Saudi Arabia\",\"alt\":\"Saudi Arabia\"},\"name\":\"Saudi Arabia\",\"totalPoints\":1433.95,\"active\":false,\"previousRank\":51,\"countryURL\":\"/fifa-world-ranking/KSA\",\"countryCode\":\"KSA\"},\"previousPoints\":1434.71,\"tag\":{\"id\":\"AFC\",\"text\":\"AFC\"}},{\"rankingItem\":{\"rank\":54,\"flag\":{\"src\":\"https://api.fifa.com/api/v1/picture/flags-sq-2/NIR\",\"width\":70,\"height\":46,\"title\":\"Northern Ireland\",\"alt\":\"Northern Ireland\"},\"name\":\"Northern Ireland\",\"totalPoints\":1424.97,\"active\":false,\"previousRank\":54,\"countryURL\":\"/fifa-world-ranking/NIR\",\"countryCode\":\"NIR\"},\"previousPoints\":1424.97,\"tag\":{\"id\":\"UEFA\",\"text\":\"UEFA\"}},{\"rankingItem\":{\"rank\":55,\"flag\":{\"src\":\"https://api.fifa.com/api/v1/picture/flags-sq-2/GRE\",\"width\":70,\"height\":46,\"title\":\"Greece\",\"alt\":\"Greece\"},\"name\":\"Greece\",\"totalPoints\":1421.99,\"active\":false,\"previousRank\":55,\"countryURL\":\"/fifa-world-ranking/GRE\",\"countryCode\":\"GRE\"},\"previousPoints\":1421.99,\"tag\":{\"id\":\"UEFA\",\"text\":\"UEFA\"}},{\"rankingItem\":{\"rank\":56,\"flag\":{\"src\":\"https://api.fifa.com/api/v1/picture/flags-sq-2/BFA\",\"width\":70,\"height\":46,\"title\":\"Burkina Faso\",\"alt\":\"Burkina Faso\"},\"name\":\"Burkina Faso\",\"totalPoints\":1418.58,\"active\":false,\"previousRank\":60,\"countryURL\":\"/fifa-world-ranking/BFA\",\"countryCode\":\"BFA\"},\"previousPoints\":1397.64,\"tag\":{\"id\":\"CAF\",\"text\":\"CAF\"}},{\"rankingItem\":{\"rank\":57,\"flag\":{\"src\":\"https://api.fifa.com/api/v1/picture/flags-sq-2/FIN\",\"width\":70,\"height\":46,\"title\":\"Finland\",\"alt\":\"Finland\"},\"name\":\"Finland\",\"totalPoints\":1411.77,\"active\":false,\"previousRank\":58,\"countryURL\":\"/fifa-world-ranking/FIN\",\"countryCode\":\"FIN\"},\"previousPoints\":1411.77,\"tag\":{\"id\":\"UEFA\",\"text\":\"UEFA\"}},{\"rankingItem\":{\"rank\":58,\"flag\":{\"src\":\"https://api.fifa.com/api/v1/picture/flags-sq-2/VEN\",\"width\":70,\"height\":46,\"title\":\"Venezuela\",\"alt\":\"Venezuela\"},\"name\":\"Venezuela\",\"totalPoints\":1411.45,\"active\":false,\"previousRank\":59,\"countryURL\":\"/fifa-world-ranking/VEN\",\"countryCode\":\"VEN\"},\"previousPoints\":1409.14,\"tag\":{\"id\":\"CONMEBOL\",\"text\":\"CONMEBOL\"}},{\"rankingItem\":{\"rank\":59,\"flag\":{\"src\":\"https://api.fifa.com/api/v1/picture/flags-sq-2/BIH\",\"width\":70,\"height\":46,\"title\":\"Bosnia and Herzegovina\",\"alt\":\"Bosnia and Herzegovina\"},\"name\":\"Bosnia and Herzegovina\",\"totalPoints\":1391.19,\"active\":false,\"previousRank\":61,\"countryURL\":\"/fifa-world-ranking/BIH\",\"countryCode\":\"BIH\"},\"previousPoints\":1391.19,\"tag\":{\"id\":\"UEFA\",\"text\":\"UEFA\"}},{\"rankingItem\":{\"rank\":60,\"flag\":{\"src\":\"https://api.fifa.com/api/v1/picture/flags-sq-2/ISL\",\"width\":70,\"height\":46,\"title\":\"Iceland\",\"alt\":\"Iceland\"},\"name\":\"Iceland\",\"totalPoints\":1382.81,\"active\":false,\"previousRank\":62,\"countryURL\":\"/fifa-world-ranking/ISL\",\"countryCode\":\"ISL\"},\"previousPoints\":1385.21,\"tag\":{\"id\":\"UEFA\",\"text\":\"UEFA\"}},{\"rankingItem\":{\"rank\":61,\"flag\":{\"src\":\"https://api.fifa.com/api/v1/picture/flags-sq-2/GHA\",\"width\":70,\"height\":46,\"title\":\"Ghana\",\"alt\":\"Ghana\"},\"name\":\"Ghana\",\"totalPoints\":1381.45,\"active\":false,\"previousRank\":52,\"countryURL\":\"/fifa-world-ranking/GHA\",\"countryCode\":\"GHA\"},\"previousPoints\":1428.97,\"tag\":{\"id\":\"CAF\",\"text\":\"CAF\"}},{\"rankingItem\":{\"rank\":62,\"flag\":{\"src\":\"https://api.fifa.com/api/v1/picture/flags-sq-2/JAM\",\"width\":70,\"height\":46,\"title\":\"Jamaica\",\"alt\":\"Jamaica\"},\"name\":\"Jamaica\",\"totalPoints\":1378.62,\"active\":false,\"previousRank\":57,\"countryURL\":\"/fifa-world-ranking/JAM\",\"countryCode\":\"JAM\"},\"previousPoints\":1412.13,\"tag\":{\"id\":\"CONCACAF\",\"text\":\"CONCACAF\"}},{\"rankingItem\":{\"rank\":63,\"flag\":{\"src\":\"https://api.fifa.com/api/v1/picture/flags-sq-2/PAN\",\"width\":70,\"height\":46,\"title\":\"Panama\",\"alt\":\"Panama\"},\"name\":\"Panama\",\"totalPoints\":1375.56,\"active\":false,\"previousRank\":63,\"countryURL\":\"/fifa-world-ranking/PAN\",\"countryCode\":\"PAN\"},\"previousPoints\":1379.34,\"tag\":{\"id\":\"CONCACAF\",\"text\":\"CONCACAF\"}},{\"rankingItem\":{\"rank\":64,\"flag\":{\"src\":\"https://api.fifa.com/api/v1/picture/flags-sq-2/SVN\",\"width\":70,\"height\":46,\"title\":\"Slovenia\",\"alt\":\"Slovenia\"},\"name\":\"Slovenia\",\"totalPoints\":1375.42,\"active\":false,\"previousRank\":65,\"countryURL\":\"/fifa-world-ranking/SVN\",\"countryCode\":\"SVN\"},\"previousPoints\":1375.42,\"tag\":{\"id\":\"UEFA\",\"text\":\"UEFA\"}},{\"rankingItem\":{\"rank\":65,\"flag\":{\"src\":\"https://api.fifa.com/api/v1/picture/flags-sq-2/ALB\",\"width\":70,\"height\":46,\"title\":\"Albania\",\"alt\":\"Albania\"},\"name\":\"Albania\",\"totalPoints\":1374.98,\"active\":false,\"previousRank\":66,\"countryURL\":\"/fifa-world-ranking/ALB\",\"countryCode\":\"ALB\"},\"previousPoints\":1374.98,\"tag\":{\"id\":\"UEFA\",\"text\":\"UEFA\"}},{\"rankingItem\":{\"rank\":66,\"flag\":{\"src\":\"https://api.fifa.com/api/v1/picture/flags-sq-2/COD\",\"width\":70,\"height\":46,\"title\":\"Congo DR\",\"alt\":\"Congo DR\"},\"name\":\"Congo DR\",\"totalPoints\":1369.53,\"active\":false,\"previousRank\":64,\"countryURL\":\"/fifa-world-ranking/COD\",\"countryCode\":\"COD\"},\"previousPoints\":1375.64,\"tag\":{\"id\":\"CAF\",\"text\":\"CAF\"}},{\"rankingItem\":{\"rank\":67,\"flag\":{\"src\":\"https://api.fifa.com/api/v1/picture/flags-sq-2/MKD\",\"width\":70,\"height\":46,\"title\":\"North Macedonia\",\"alt\":\"North Macedonia\"},\"name\":\"North Macedonia\",\"totalPoints\":1367.23,\"active\":false,\"previousRank\":67,\"countryURL\":\"/fifa-world-ranking/MKD\",\"countryCode\":\"MKD\"},\"previousPoints\":1367.23,\"tag\":{\"id\":\"UEFA\",\"text\":\"UEFA\"}},{\"rankingItem\":{\"rank\":68,\"flag\":{\"src\":\"https://api.fifa.com/api/v1/picture/flags-sq-2/RSA\",\"width\":70,\"height\":46,\"title\":\"South Africa\",\"alt\":\"South Africa\"},\"name\":\"South Africa\",\"totalPoints\":1358.24,\"active\":false,\"previousRank\":68,\"countryURL\":\"/fifa-world-ranking/RSA\",\"countryCode\":\"RSA\"},\"previousPoints\":1358.24,\"tag\":{\"id\":\"CAF\",\"text\":\"CAF\"}},{\"rankingItem\":{\"rank\":69,\"flag\":{\"src\":\"https://api.fifa.com/api/v1/picture/flags-sq-2/UAE\",\"width\":70,\"height\":46,\"title\":\"United Arab Emirates\",\"alt\":\"United Arab Emirates\"},\"name\":\"United Arab Emirates\",\"totalPoints\":1353.1,\"active\":false,\"previousRank\":69,\"countryURL\":\"/fifa-world-ranking/UAE\",\"countryCode\":\"UAE\"},\"previousPoints\":1350.39,\"tag\":{\"id\":\"AFC\",\"text\":\"AFC\"}},{\"rankingItem\":{\"rank\":70,\"flag\":{\"src\":\"https://api.fifa.com/api/v1/picture/flags-sq-2/SLV\",\"width\":70,\"height\":46,\"title\":\"El Salvador\",\"alt\":\"El Salvador\"},\"name\":\"El Salvador\",\"totalPoints\":1346.04,\"active\":false,\"previousRank\":70,\"countryURL\":\"/fifa-world-ranking/SLV\",\"countryCode\":\"SLV\"},\"previousPoints\":1349.47,\"tag\":{\"id\":\"CONCACAF\",\"text\":\"CONCACAF\"}},{\"rankingItem\":{\"rank\":71,\"flag\":{\"src\":\"https://api.fifa.com/api/v1/picture/flags-sq-2/BUL\",\"width\":70,\"height\":46,\"title\":\"Bulgaria\",\"alt\":\"Bulgaria\"},\"name\":\"Bulgaria\",\"totalPoints\":1345.47,\"active\":false,\"previousRank\":71,\"countryURL\":\"/fifa-world-ranking/BUL\",\"countryCode\":\"BUL\"},\"previousPoints\":1345.47,\"tag\":{\"id\":\"UEFA\",\"text\":\"UEFA\"}},{\"rankingItem\":{\"rank\":72,\"flag\":{\"src\":\"https://api.fifa.com/api/v1/picture/flags-sq-2/MNE\",\"width\":70,\"height\":46,\"title\":\"Montenegro\",\"alt\":\"Montenegro\"},\"name\":\"Montenegro\",\"totalPoints\":1342.89,\"active\":false,\"previousRank\":72,\"countryURL\":\"/fifa-world-ranking/MNE\",\"countryCode\":\"MNE\"},\"previousPoints\":1342.89,\"tag\":{\"id\":\"UEFA\",\"text\":\"UEFA\"}},{\"rankingItem\":{\"rank\":73,\"flag\":{\"src\":\"https://api.fifa.com/api/v1/picture/flags-sq-2/CPV\",\"width\":70,\"height\":46,\"title\":\"Cabo Verde\",\"alt\":\"Cabo Verde\"},\"name\":\"Cabo Verde\",\"totalPoints\":1336.88,\"active\":false,\"previousRank\":73,\"countryURL\":\"/fifa-world-ranking/CPV\",\"countryCode\":\"CPV\"},\"previousPoints\":1339.48,\"tag\":{\"id\":\"CAF\",\"text\":\"CAF\"}},{\"rankingItem\":{\"rank\":74,\"flag\":{\"src\":\"https://api.fifa.com/api/v1/picture/flags-sq-2/IRQ\",\"width\":70,\"height\":46,\"title\":\"Iraq\",\"alt\":\"Iraq\"},\"name\":\"Iraq\",\"totalPoints\":1325.44,\"active\":false,\"previousRank\":75,\"countryURL\":\"/fifa-world-ranking/IRQ\",\"countryCode\":\"IRQ\"},\"previousPoints\":1333.03,\"tag\":{\"id\":\"AFC\",\"text\":\"AFC\"}},{\"rankingItem\":{\"rank\":75,\"flag\":{\"src\":\"https://api.fifa.com/api/v1/picture/flags-sq-2/CHN\",\"width\":70,\"height\":46,\"title\":\"China PR\",\"alt\":\"China PR\"},\"name\":\"China PR\",\"totalPoints\":1313.81,\"active\":false,\"previousRank\":74,\"countryURL\":\"/fifa-world-ranking/CHN\",\"countryCode\":\"CHN\"},\"previousPoints\":1337.33,\"tag\":{\"id\":\"AFC\",\"text\":\"AFC\"}},{\"rankingItem\":{\"rank\":76,\"flag\":{\"src\":\"https://api.fifa.com/api/v1/picture/flags-sq-2/BOL\",\"width\":70,\"height\":46,\"title\":\"Bolivia\",\"alt\":\"Bolivia\"},\"name\":\"Bolivia\",\"totalPoints\":1308.12,\"active\":false,\"previousRank\":77,\"countryURL\":\"/fifa-world-ranking/BOL\",\"countryCode\":\"BOL\"},\"previousPoints\":1324.21,\"tag\":{\"id\":\"CONMEBOL\",\"text\":\"CONMEBOL\"}},{\"rankingItem\":{\"rank\":77,\"flag\":{\"src\":\"https://api.fifa.com/api/v1/picture/flags-sq-2/ISR\",\"width\":70,\"height\":46,\"title\":\"Israel\",\"alt\":\"Israel\"},\"name\":\"Israel\",\"totalPoints\":1306.7,\"active\":false,\"previousRank\":78,\"countryURL\":\"/fifa-world-ranking/ISR\",\"countryCode\":\"ISR\"},\"previousPoints\":1306.7,\"tag\":{\"id\":\"UEFA\",\"text\":\"UEFA\"}},{\"rankingItem\":{\"rank\":78,\"flag\":{\"src\":\"https://api.fifa.com/api/v1/picture/flags-sq-2/HON\",\"width\":70,\"height\":46,\"title\":\"Honduras\",\"alt\":\"Honduras\"},\"name\":\"Honduras\",\"totalPoints\":1303.96,\"active\":false,\"previousRank\":76,\"countryURL\":\"/fifa-world-ranking/HON\",\"countryCode\":\"HON\"},\"previousPoints\":1332.16,\"tag\":{\"id\":\"CONCACAF\",\"text\":\"CONCACAF\"}},{\"rankingItem\":{\"rank\":79,\"flag\":{\"src\":\"https://api.fifa.com/api/v1/picture/flags-sq-2/OMA\",\"width\":70,\"height\":46,\"title\":\"Oman\",\"alt\":\"Oman\"},\"name\":\"Oman\",\"totalPoints\":1301,\"active\":false,\"previousRank\":79,\"countryURL\":\"/fifa-world-ranking/OMA\",\"countryCode\":\"OMA\"},\"previousPoints\":1306.01,\"tag\":{\"id\":\"AFC\",\"text\":\"AFC\"}},{\"rankingItem\":{\"rank\":80,\"flag\":{\"src\":\"https://api.fifa.com/api/v1/picture/flags-sq-2/CUW\",\"width\":70,\"height\":46,\"title\":\"Curaçao\",\"alt\":\"Curaçao\"},\"name\":\"Curaçao\",\"totalPoints\":1298.39,\"active\":false,\"previousRank\":80,\"countryURL\":\"/fifa-world-ranking/CUW\",\"countryCode\":\"CUW\"},\"previousPoints\":1298.39,\"tag\":{\"id\":\"CONCACAF\",\"text\":\"CONCACAF\"}},{\"rankingItem\":{\"rank\":81,\"flag\":{\"src\":\"https://api.fifa.com/api/v1/picture/flags-sq-2/GUI\",\"width\":70,\"height\":46,\"title\":\"Guinea\",\"alt\":\"Guinea\"},\"name\":\"Guinea\",\"totalPoints\":1292.58,\"active\":false,\"previousRank\":81,\"countryURL\":\"/fifa-world-ranking/GUI\",\"countryCode\":\"GUI\"},\"previousPoints\":1298.32,\"tag\":{\"id\":\"CAF\",\"text\":\"CAF\"}},{\"rankingItem\":{\"rank\":82,\"flag\":{\"src\":\"https://api.fifa.com/api/v1/picture/flags-sq-2/GAB\",\"width\":70,\"height\":46,\"title\":\"Gabon\",\"alt\":\"Gabon\"},\"name\":\"Gabon\",\"totalPoints\":1290.65,\"active\":false,\"previousRank\":89,\"countryURL\":\"/fifa-world-ranking/GAB\",\"countryCode\":\"GAB\"},\"previousPoints\":1262,\"tag\":{\"id\":\"CAF\",\"text\":\"CAF\"}},{\"rankingItem\":{\"rank\":83,\"flag\":{\"src\":\"https://api.fifa.com/api/v1/picture/flags-sq-2/BEN\",\"width\":70,\"height\":46,\"title\":\"Benin\",\"alt\":\"Benin\"},\"name\":\"Benin\",\"totalPoints\":1282.53,\"active\":false,\"previousRank\":83,\"countryURL\":\"/fifa-world-ranking/BEN\",\"countryCode\":\"BEN\"},\"previousPoints\":1282.53,\"tag\":{\"id\":\"CAF\",\"text\":\"CAF\"}},{\"rankingItem\":{\"rank\":84,\"flag\":{\"src\":\"https://api.fifa.com/api/v1/picture/flags-sq-2/UGA\",\"width\":70,\"height\":46,\"title\":\"Uganda\",\"alt\":\"Uganda\"},\"name\":\"Uganda\",\"totalPoints\":1279.18,\"active\":false,\"previousRank\":82,\"countryURL\":\"/fifa-world-ranking/UGA\",\"countryCode\":\"UGA\"},\"previousPoints\":1285.28,\"tag\":{\"id\":\"CAF\",\"text\":\"CAF\"}},{\"rankingItem\":{\"rank\":85,\"flag\":{\"src\":\"https://api.fifa.com/api/v1/picture/flags-sq-2/UZB\",\"width\":70,\"height\":46,\"title\":\"Uzbekistan\",\"alt\":\"Uzbekistan\"},\"name\":\"Uzbekistan\",\"totalPoints\":1277.02,\"active\":false,\"previousRank\":84,\"countryURL\":\"/fifa-world-ranking/UZB\",\"countryCode\":\"UZB\"},\"previousPoints\":1274.58,\"tag\":{\"id\":\"AFC\",\"text\":\"AFC\"}},{\"rankingItem\":{\"rank\":86,\"flag\":{\"src\":\"https://api.fifa.com/api/v1/picture/flags-sq-2/GEO\",\"width\":70,\"height\":46,\"title\":\"Georgia\",\"alt\":\"Georgia\"},\"name\":\"Georgia\",\"totalPoints\":1269.24,\"active\":false,\"previousRank\":85,\"countryURL\":\"/fifa-world-ranking/GEO\",\"countryCode\":\"GEO\"},\"previousPoints\":1269.24,\"tag\":{\"id\":\"UEFA\",\"text\":\"UEFA\"}},{\"rankingItem\":{\"rank\":87,\"flag\":{\"src\":\"https://api.fifa.com/api/v1/picture/flags-sq-2/HAI\",\"width\":70,\"height\":46,\"title\":\"Haiti\",\"alt\":\"Haiti\"},\"name\":\"Haiti\",\"totalPoints\":1268.05,\"active\":false,\"previousRank\":87,\"countryURL\":\"/fifa-world-ranking/HAI\",\"countryCode\":\"HAI\"},\"previousPoints\":1268.05,\"tag\":{\"id\":\"CONCACAF\",\"text\":\"CONCACAF\"}},{\"rankingItem\":{\"rank\":88,\"flag\":{\"src\":\"https://api.fifa.com/api/v1/picture/flags-sq-2/ZAM\",\"width\":70,\"height\":46,\"title\":\"Zambia\",\"alt\":\"Zambia\"},\"name\":\"Zambia\",\"totalPoints\":1264.64,\"active\":false,\"previousRank\":88,\"countryURL\":\"/fifa-world-ranking/ZAM\",\"countryCode\":\"ZAM\"},\"previousPoints\":1264.64,\"tag\":{\"id\":\"CAF\",\"text\":\"CAF\"}},{\"rankingItem\":{\"rank\":89,\"flag\":{\"src\":\"https://api.fifa.com/api/v1/picture/flags-sq-2/BHR\",\"width\":70,\"height\":46,\"title\":\"Bahrain\",\"alt\":\"Bahrain\"},\"name\":\"Bahrain\",\"totalPoints\":1263.61,\"active\":false,\"previousRank\":91,\"countryURL\":\"/fifa-world-ranking/BHR\",\"countryCode\":\"BHR\"},\"previousPoints\":1252.19,\"tag\":{\"id\":\"AFC\",\"text\":\"AFC\"}},{\"rankingItem\":{\"rank\":90,\"flag\":{\"src\":\"https://api.fifa.com/api/v1/picture/flags-sq-2/JOR\",\"width\":70,\"height\":46,\"title\":\"Jordan\",\"alt\":\"Jordan\"},\"name\":\"Jordan\",\"totalPoints\":1259.84,\"active\":false,\"previousRank\":90,\"countryURL\":\"/fifa-world-ranking/JOR\",\"countryCode\":\"JOR\"},\"previousPoints\":1255.69,\"tag\":{\"id\":\"AFC\",\"text\":\"AFC\"}},{\"rankingItem\":{\"rank\":91,\"flag\":{\"src\":\"https://api.fifa.com/api/v1/picture/flags-sq-2/SYR\",\"width\":70,\"height\":46,\"title\":\"Syria\",\"alt\":\"Syria\"},\"name\":\"Syria\",\"totalPoints\":1251.22,\"active\":false,\"previousRank\":86,\"countryURL\":\"/fifa-world-ranking/SYR\",\"countryCode\":\"SYR\"},\"previousPoints\":1268.54,\"tag\":{\"id\":\"AFC\",\"text\":\"AFC\"}},{\"rankingItem\":{\"rank\":92,\"flag\":{\"src\":\"https://api.fifa.com/api/v1/picture/flags-sq-2/ARM\",\"width\":70,\"height\":46,\"title\":\"Armenia\",\"alt\":\"Armenia\"},\"name\":\"Armenia\",\"totalPoints\":1242.24,\"active\":false,\"previousRank\":92,\"countryURL\":\"/fifa-world-ranking/ARM\",\"countryCode\":\"ARM\"},\"previousPoints\":1242.24,\"tag\":{\"id\":\"UEFA\",\"text\":\"UEFA\"}},{\"rankingItem\":{\"rank\":93,\"flag\":{\"src\":\"https://api.fifa.com/api/v1/picture/flags-sq-2/LUX\",\"width\":70,\"height\":46,\"title\":\"Luxembourg\",\"alt\":\"Luxembourg\"},\"name\":\"Luxembourg\",\"totalPoints\":1236.45,\"active\":false,\"previousRank\":93,\"countryURL\":\"/fifa-world-ranking/LUX\",\"countryCode\":\"LUX\"},\"previousPoints\":1236.45,\"tag\":{\"id\":\"UEFA\",\"text\":\"UEFA\"}},{\"rankingItem\":{\"rank\":94,\"flag\":{\"src\":\"https://api.fifa.com/api/v1/picture/flags-sq-2/BLR\",\"width\":70,\"height\":46,\"title\":\"Belarus\",\"alt\":\"Belarus\"},\"name\":\"Belarus\",\"totalPoints\":1233.43,\"active\":false,\"previousRank\":94,\"countryURL\":\"/fifa-world-ranking/BLR\",\"countryCode\":\"BLR\"},\"previousPoints\":1233.43,\"tag\":{\"id\":\"UEFA\",\"text\":\"UEFA\"}},{\"rankingItem\":{\"rank\":95,\"flag\":{\"src\":\"https://api.fifa.com/api/v1/picture/flags-sq-2/LBN\",\"width\":70,\"height\":46,\"title\":\"Lebanon\",\"alt\":\"Lebanon\"},\"name\":\"Lebanon\",\"totalPoints\":1228.97,\"active\":false,\"previousRank\":95,\"countryURL\":\"/fifa-world-ranking/LBN\",\"countryCode\":\"LBN\"},\"previousPoints\":1233,\"tag\":{\"id\":\"AFC\",\"text\":\"AFC\"}},{\"rankingItem\":{\"rank\":96,\"flag\":{\"src\":\"https://api.fifa.com/api/v1/picture/flags-sq-2/KGZ\",\"width\":70,\"height\":46,\"title\":\"Kyrgyz Republic\",\"alt\":\"Kyrgyz Republic\"},\"name\":\"Kyrgyz Republic\",\"totalPoints\":1228.69,\"active\":false,\"previousRank\":96,\"countryURL\":\"/fifa-world-ranking/KGZ\",\"countryCode\":\"KGZ\"},\"previousPoints\":1228.69,\"tag\":{\"id\":\"AFC\",\"text\":\"AFC\"}},{\"rankingItem\":{\"rank\":97,\"flag\":{\"src\":\"https://api.fifa.com/api/v1/picture/flags-sq-2/CGO\",\"width\":70,\"height\":46,\"title\":\"Congo\",\"alt\":\"Congo\"},\"name\":\"Congo\",\"totalPoints\":1221.4,\"active\":false,\"previousRank\":97,\"countryURL\":\"/fifa-world-ranking/CGO\",\"countryCode\":\"CGO\"},\"previousPoints\":1221.4,\"tag\":{\"id\":\"CAF\",\"text\":\"CAF\"}},{\"rankingItem\":{\"rank\":98,\"flag\":{\"src\":\"https://api.fifa.com/api/v1/picture/flags-sq-2/VIE\",\"width\":70,\"height\":46,\"title\":\"Vietnam\",\"alt\":\"Vietnam\"},\"name\":\"Vietnam\",\"totalPoints\":1218.55,\"active\":false,\"previousRank\":98,\"countryURL\":\"/fifa-world-ranking/VIE\",\"countryCode\":\"VIE\"},\"previousPoints\":1212.54,\"tag\":{\"id\":\"AFC\",\"text\":\"AFC\"}},{\"rankingItem\":{\"rank\":99,\"flag\":{\"src\":\"https://api.fifa.com/api/v1/picture/flags-sq-2/EQG\",\"width\":70,\"height\":46,\"title\":\"Equatorial Guinea\",\"alt\":\"Equatorial Guinea\"},\"name\":\"Equatorial Guinea\",\"totalPoints\":1210.07,\"active\":false,\"previousRank\":114,\"countryURL\":\"/fifa-world-ranking/EQG\",\"countryCode\":\"EQG\"},\"previousPoints\":1156.78,\"tag\":{\"id\":\"CAF\",\"text\":\"CAF\"}},{\"rankingItem\":{\"rank\":100,\"flag\":{\"src\":\"https://api.fifa.com/api/v1/picture/flags-sq-2/PLE\",\"width\":70,\"height\":46,\"title\":\"Palestine\",\"alt\":\"Palestine\"},\"name\":\"Palestine\",\"totalPoints\":1208.9,\"active\":false,\"previousRank\":99,\"countryURL\":\"/fifa-world-ranking/PLE\",\"countryCode\":\"PLE\"},\"previousPoints\":1208.9,\"tag\":{\"id\":\"AFC\",\"text\":\"AFC\"}},{\"rankingItem\":{\"rank\":101,\"flag\":{\"src\":\"https://api.fifa.com/api/v1/picture/flags-sq-2/TRI\",\"width\":70,\"height\":46,\"title\":\"Trinidad and Tobago\",\"alt\":\"Trinidad and Tobago\"},\"name\":\"Trinidad and Tobago\",\"totalPoints\":1205.99,\"active\":false,\"previousRank\":100,\"countryURL\":\"/fifa-world-ranking/TRI\",\"countryCode\":\"TRI\"},\"previousPoints\":1207.94,\"tag\":{\"id\":\"CONCACAF\",\"text\":\"CONCACAF\"}},{\"rankingItem\":{\"rank\":102,\"flag\":{\"src\":\"https://api.fifa.com/api/v1/picture/flags-sq-2/MAD\",\"width\":70,\"height\":46,\"title\":\"Madagascar\",\"alt\":\"Madagascar\"},\"name\":\"Madagascar\",\"totalPoints\":1205.61,\"active\":false,\"previousRank\":101,\"countryURL\":\"/fifa-world-ranking/MAD\",\"countryCode\":\"MAD\"},\"previousPoints\":1205.61,\"tag\":{\"id\":\"CAF\",\"text\":\"CAF\"}},{\"rankingItem\":{\"rank\":103,\"flag\":{\"src\":\"https://api.fifa.com/api/v1/picture/flags-sq-2/KEN\",\"width\":70,\"height\":46,\"title\":\"Kenya\",\"alt\":\"Kenya\"},\"name\":\"Kenya\",\"totalPoints\":1202.26,\"active\":false,\"previousRank\":102,\"countryURL\":\"/fifa-world-ranking/KEN\",\"countryCode\":\"KEN\"},\"previousPoints\":1202.26,\"tag\":{\"id\":\"CAF\",\"text\":\"CAF\"}},{\"rankingItem\":{\"rank\":104,\"flag\":{\"src\":\"https://api.fifa.com/api/v1/picture/flags-sq-2/IND\",\"width\":70,\"height\":46,\"title\":\"India\",\"alt\":\"India\"},\"name\":\"India\",\"totalPoints\":1182.75,\"active\":false,\"previousRank\":104,\"countryURL\":\"/fifa-world-ranking/IND\",\"countryCode\":\"IND\"},\"previousPoints\":1182.75,\"tag\":{\"id\":\"AFC\",\"text\":\"AFC\"}},{\"rankingItem\":{\"rank\":105,\"flag\":{\"src\":\"https://api.fifa.com/api/v1/picture/flags-sq-2/CYP\",\"width\":70,\"height\":46,\"title\":\"Cyprus\",\"alt\":\"Cyprus\"},\"name\":\"Cyprus\",\"totalPoints\":1178.65,\"active\":false,\"previousRank\":105,\"countryURL\":\"/fifa-world-ranking/CYP\",\"countryCode\":\"CYP\"},\"previousPoints\":1178.65,\"tag\":{\"id\":\"UEFA\",\"text\":\"UEFA\"}},{\"rankingItem\":{\"rank\":106,\"flag\":{\"src\":\"https://api.fifa.com/api/v1/picture/flags-sq-2/EST\",\"width\":70,\"height\":46,\"title\":\"Estonia\",\"alt\":\"Estonia\"},\"name\":\"Estonia\",\"totalPoints\":1176.5,\"active\":false,\"previousRank\":107,\"countryURL\":\"/fifa-world-ranking/EST\",\"countryCode\":\"EST\"},\"previousPoints\":1176.5,\"tag\":{\"id\":\"UEFA\",\"text\":\"UEFA\"}},{\"rankingItem\":{\"rank\":107,\"flag\":{\"src\":\"https://api.fifa.com/api/v1/picture/flags-sq-2/SLE\",\"width\":70,\"height\":46,\"title\":\"Sierra Leone\",\"alt\":\"Sierra Leone\"},\"name\":\"Sierra Leone\",\"totalPoints\":1173.81,\"active\":false,\"previousRank\":108,\"countryURL\":\"/fifa-world-ranking/SLE\",\"countryCode\":\"SLE\"},\"previousPoints\":1174.12,\"tag\":{\"id\":\"CAF\",\"text\":\"CAF\"}},{\"rankingItem\":{\"rank\":108,\"flag\":{\"src\":\"https://api.fifa.com/api/v1/picture/flags-sq-2/PRK\",\"width\":70,\"height\":46,\"title\":\"Korea DPR\",\"alt\":\"Korea DPR\"},\"name\":\"Korea DPR\",\"totalPoints\":1169.96,\"active\":false,\"previousRank\":109,\"countryURL\":\"/fifa-world-ranking/PRK\",\"countryCode\":\"PRK\"},\"previousPoints\":1169.96,\"tag\":{\"id\":\"AFC\",\"text\":\"AFC\"}},{\"rankingItem\":{\"rank\":109,\"flag\":{\"src\":\"https://api.fifa.com/api/v1/picture/flags-sq-2/KVX\",\"width\":70,\"height\":46,\"title\":\"Kosovo\",\"alt\":\"Kosovo\"},\"name\":\"Kosovo\",\"totalPoints\":1163.05,\"active\":false,\"previousRank\":111,\"countryURL\":\"/fifa-world-ranking/KVX\",\"countryCode\":\"KVX\"},\"previousPoints\":1163.05,\"tag\":{\"id\":\"UEFA\",\"text\":\"UEFA\"}},{\"rankingItem\":{\"rank\":110,\"flag\":{\"src\":\"https://api.fifa.com/api/v1/picture/flags-sq-2/NAM\",\"width\":70,\"height\":46,\"title\":\"Namibia\",\"alt\":\"Namibia\"},\"name\":\"Namibia\",\"totalPoints\":1162.93,\"active\":false,\"previousRank\":112,\"countryURL\":\"/fifa-world-ranking/NAM\",\"countryCode\":\"NAM\"},\"previousPoints\":1162.93,\"tag\":{\"id\":\"CAF\",\"text\":\"CAF\"}},{\"rankingItem\":{\"rank\":111,\"flag\":{\"src\":\"https://api.fifa.com/api/v1/picture/flags-sq-2/NZL\",\"width\":70,\"height\":46,\"title\":\"New Zealand\",\"alt\":\"New Zealand\"},\"name\":\"New Zealand\",\"totalPoints\":1161.66,\"active\":false,\"previousRank\":110,\"countryURL\":\"/fifa-world-ranking/NZL\",\"countryCode\":\"NZL\"},\"previousPoints\":1165.81,\"tag\":{\"id\":\"OFC\",\"text\":\"OFC\"}},{\"rankingItem\":{\"rank\":112,\"flag\":{\"src\":\"https://api.fifa.com/api/v1/picture/flags-sq-2/THA\",\"width\":70,\"height\":46,\"title\":\"Thailand\",\"alt\":\"Thailand\"},\"name\":\"Thailand\",\"totalPoints\":1160.14,\"active\":false,\"previousRank\":115,\"countryURL\":\"/fifa-world-ranking/THA\",\"countryCode\":\"THA\"},\"previousPoints\":1156.16,\"tag\":{\"id\":\"AFC\",\"text\":\"AFC\"}},{\"rankingItem\":{\"rank\":113,\"flag\":{\"src\":\"https://api.fifa.com/api/v1/picture/flags-sq-2/GNB\",\"width\":70,\"height\":46,\"title\":\"Guinea-Bissau\",\"alt\":\"Guinea-Bissau\"},\"name\":\"Guinea-Bissau\",\"totalPoints\":1158.62,\"active\":false,\"previousRank\":106,\"countryURL\":\"/fifa-world-ranking/GNB\",\"countryCode\":\"GNB\"},\"previousPoints\":1177.14,\"tag\":{\"id\":\"CAF\",\"text\":\"CAF\"}},{\"rankingItem\":{\"rank\":114,\"flag\":{\"src\":\"https://api.fifa.com/api/v1/picture/flags-sq-2/NIG\",\"width\":70,\"height\":46,\"title\":\"Niger\",\"alt\":\"Niger\"},\"name\":\"Niger\",\"totalPoints\":1158.39,\"active\":false,\"previousRank\":113,\"countryURL\":\"/fifa-world-ranking/NIG\",\"countryCode\":\"NIG\"},\"previousPoints\":1158.39,\"tag\":{\"id\":\"CAF\",\"text\":\"CAF\"}},{\"rankingItem\":{\"rank\":115,\"flag\":{\"src\":\"https://api.fifa.com/api/v1/picture/flags-sq-2/TJK\",\"width\":70,\"height\":46,\"title\":\"Tajikistan\",\"alt\":\"Tajikistan\"},\"name\":\"Tajikistan\",\"totalPoints\":1152.56,\"active\":false,\"previousRank\":116,\"countryURL\":\"/fifa-world-ranking/TJK\",\"countryCode\":\"TJK\"},\"previousPoints\":1152.56,\"tag\":{\"id\":\"AFC\",\"text\":\"AFC\"}},{\"rankingItem\":{\"rank\":116,\"flag\":{\"src\":\"https://api.fifa.com/api/v1/picture/flags-sq-2/MTN\",\"width\":70,\"height\":46,\"title\":\"Mauritania\",\"alt\":\"Mauritania\"},\"name\":\"Mauritania\",\"totalPoints\":1152.52,\"active\":false,\"previousRank\":103,\"countryURL\":\"/fifa-world-ranking/MTN\",\"countryCode\":\"MTN\"},\"previousPoints\":1190.26,\"tag\":{\"id\":\"CAF\",\"text\":\"CAF\"}},{\"rankingItem\":{\"rank\":117,\"flag\":{\"src\":\"https://api.fifa.com/api/v1/picture/flags-sq-2/MOZ\",\"width\":70,\"height\":46,\"title\":\"Mozambique\",\"alt\":\"Mozambique\"},\"name\":\"Mozambique\",\"totalPoints\":1151,\"active\":false,\"previousRank\":118,\"countryURL\":\"/fifa-world-ranking/MOZ\",\"countryCode\":\"MOZ\"},\"previousPoints\":1151,\"tag\":{\"id\":\"CAF\",\"text\":\"CAF\"}},{\"rankingItem\":{\"rank\":118,\"flag\":{\"src\":\"https://api.fifa.com/api/v1/picture/flags-sq-2/LBY\",\"width\":70,\"height\":46,\"title\":\"Libya\",\"alt\":\"Libya\"},\"name\":\"Libya\",\"totalPoints\":1149.51,\"active\":false,\"previousRank\":117,\"countryURL\":\"/fifa-world-ranking/LBY\",\"countryCode\":\"LBY\"},\"previousPoints\":1151.06,\"tag\":{\"id\":\"CAF\",\"text\":\"CAF\"}},{\"rankingItem\":{\"rank\":119,\"flag\":{\"src\":\"https://api.fifa.com/api/v1/picture/flags-sq-2/MWI\",\"width\":70,\"height\":46,\"title\":\"Malawi\",\"alt\":\"Malawi\"},\"name\":\"Malawi\",\"totalPoints\":1145.08,\"active\":false,\"previousRank\":129,\"countryURL\":\"/fifa-world-ranking/MWI\",\"countryCode\":\"MWI\"},\"previousPoints\":1127.21,\"tag\":{\"id\":\"CAF\",\"text\":\"CAF\"}},{\"rankingItem\":{\"rank\":120,\"flag\":{\"src\":\"https://api.fifa.com/api/v1/picture/flags-sq-2/KAZ\",\"width\":70,\"height\":46,\"title\":\"Kazakhstan\",\"alt\":\"Kazakhstan\"},\"name\":\"Kazakhstan\",\"totalPoints\":1140.71,\"active\":false,\"previousRank\":119,\"countryURL\":\"/fifa-world-ranking/KAZ\",\"countryCode\":\"KAZ\"},\"previousPoints\":1140.71,\"tag\":{\"id\":\"UEFA\",\"text\":\"UEFA\"}},{\"rankingItem\":{\"rank\":121,\"flag\":{\"src\":\"https://api.fifa.com/api/v1/picture/flags-sq-2/AZE\",\"width\":70,\"height\":46,\"title\":\"Azerbaijan\",\"alt\":\"Azerbaijan\"},\"name\":\"Azerbaijan\",\"totalPoints\":1139.02,\"active\":false,\"previousRank\":120,\"countryURL\":\"/fifa-world-ranking/AZE\",\"countryCode\":\"AZE\"},\"previousPoints\":1139.02,\"tag\":{\"id\":\"UEFA\",\"text\":\"UEFA\"}},{\"rankingItem\":{\"rank\":122,\"flag\":{\"src\":\"https://api.fifa.com/api/v1/picture/flags-sq-2/ZIM\",\"width\":70,\"height\":46,\"title\":\"Zimbabwe\",\"alt\":\"Zimbabwe\"},\"name\":\"Zimbabwe\",\"totalPoints\":1138.56,\"active\":false,\"previousRank\":121,\"countryURL\":\"/fifa-world-ranking/ZIM\",\"countryCode\":\"ZIM\"},\"previousPoints\":1138.44,\"tag\":{\"id\":\"CAF\",\"text\":\"CAF\"}},{\"rankingItem\":{\"rank\":123,\"flag\":{\"src\":\"https://api.fifa.com/api/v1/picture/flags-sq-2/GUA\",\"width\":70,\"height\":46,\"title\":\"Guatemala\",\"alt\":\"Guatemala\"},\"name\":\"Guatemala\",\"totalPoints\":1138.4,\"active\":false,\"previousRank\":122,\"countryURL\":\"/fifa-world-ranking/GUA\",\"countryCode\":\"GUA\"},\"previousPoints\":1138.4,\"tag\":{\"id\":\"CONCACAF\",\"text\":\"CONCACAF\"}},{\"rankingItem\":{\"rank\":124,\"flag\":{\"src\":\"https://api.fifa.com/api/v1/picture/flags-sq-2/FRO\",\"width\":70,\"height\":46,\"title\":\"Faroe Islands\",\"alt\":\"Faroe Islands\"},\"name\":\"Faroe Islands\",\"totalPoints\":1136.99,\"active\":false,\"previousRank\":123,\"countryURL\":\"/fifa-world-ranking/FRO\",\"countryCode\":\"FRO\"},\"previousPoints\":1136.99,\"tag\":{\"id\":\"UEFA\",\"text\":\"UEFA\"}},{\"rankingItem\":{\"rank\":125,\"flag\":{\"src\":\"https://api.fifa.com/api/v1/picture/flags-sq-2/GAM\",\"width\":70,\"height\":46,\"title\":\"Gambia\",\"alt\":\"Gambia\"},\"name\":\"Gambia\",\"totalPoints\":1135.18,\"active\":false,\"previousRank\":150,\"countryURL\":\"/fifa-world-ranking/GAM\",\"countryCode\":\"GAM\"},\"previousPoints\":1049.74,\"tag\":{\"id\":\"CAF\",\"text\":\"CAF\"}},{\"rankingItem\":{\"rank\":126,\"flag\":{\"src\":\"https://api.fifa.com/api/v1/picture/flags-sq-2/TOG\",\"width\":70,\"height\":46,\"title\":\"Togo\",\"alt\":\"Togo\"},\"name\":\"Togo\",\"totalPoints\":1133.24,\"active\":false,\"previousRank\":124,\"countryURL\":\"/fifa-world-ranking/TOG\",\"countryCode\":\"TOG\"},\"previousPoints\":1133.24,\"tag\":{\"id\":\"CAF\",\"text\":\"CAF\"}},{\"rankingItem\":{\"rank\":127,\"flag\":{\"src\":\"https://api.fifa.com/api/v1/picture/flags-sq-2/ANG\",\"width\":70,\"height\":46,\"title\":\"Angola\",\"alt\":\"Angola\"},\"name\":\"Angola\",\"totalPoints\":1131.72,\"active\":false,\"previousRank\":126,\"countryURL\":\"/fifa-world-ranking/ANG\",\"countryCode\":\"ANG\"},\"previousPoints\":1131.72,\"tag\":{\"id\":\"CAF\",\"text\":\"CAF\"}},{\"rankingItem\":{\"rank\":128,\"flag\":{\"src\":\"https://api.fifa.com/api/v1/picture/flags-sq-2/ATG\",\"width\":70,\"height\":46,\"title\":\"Antigua and Barbuda\",\"alt\":\"Antigua and Barbuda\"},\"name\":\"Antigua and Barbuda\",\"totalPoints\":1131.07,\"active\":false,\"previousRank\":127,\"countryURL\":\"/fifa-world-ranking/ATG\",\"countryCode\":\"ATG\"},\"previousPoints\":1131.07,\"tag\":{\"id\":\"CONCACAF\",\"text\":\"CONCACAF\"}},{\"rankingItem\":{\"rank\":129,\"flag\":{\"src\":\"https://api.fifa.com/api/v1/picture/flags-sq-2/PHI\",\"width\":70,\"height\":46,\"title\":\"Philippines\",\"alt\":\"Philippines\"},\"name\":\"Philippines\",\"totalPoints\":1129.91,\"active\":false,\"previousRank\":128,\"countryURL\":\"/fifa-world-ranking/PHI\",\"countryCode\":\"PHI\"},\"previousPoints\":1129.91,\"tag\":{\"id\":\"AFC\",\"text\":\"AFC\"}},{\"rankingItem\":{\"rank\":130,\"flag\":{\"src\":\"https://api.fifa.com/api/v1/picture/flags-sq-2/CTA\",\"width\":70,\"height\":46,\"title\":\"Central African Republic\",\"alt\":\"Central African Republic\"},\"name\":\"Central African Republic\",\"totalPoints\":1127.2,\"active\":false,\"previousRank\":130,\"countryURL\":\"/fifa-world-ranking/CTA\",\"countryCode\":\"CTA\"},\"previousPoints\":1127.2,\"tag\":{\"id\":\"CAF\",\"text\":\"CAF\"}},{\"rankingItem\":{\"rank\":131,\"flag\":{\"src\":\"https://api.fifa.com/api/v1/picture/flags-sq-2/COM\",\"width\":70,\"height\":46,\"title\":\"Comoros\",\"alt\":\"Comoros\"},\"name\":\"Comoros\",\"totalPoints\":1126.2,\"active\":false,\"previousRank\":132,\"countryURL\":\"/fifa-world-ranking/COM\",\"countryCode\":\"COM\"},\"previousPoints\":1117.65,\"tag\":{\"id\":\"CAF\",\"text\":\"CAF\"}},{\"rankingItem\":{\"rank\":132,\"flag\":{\"src\":\"https://api.fifa.com/api/v1/picture/flags-sq-2/TAN\",\"width\":70,\"height\":46,\"title\":\"Tanzania\",\"alt\":\"Tanzania\"},\"name\":\"Tanzania\",\"totalPoints\":1118.76,\"active\":false,\"previousRank\":131,\"countryURL\":\"/fifa-world-ranking/TAN\",\"countryCode\":\"TAN\"},\"previousPoints\":1118.76,\"tag\":{\"id\":\"CAF\",\"text\":\"CAF\"}},{\"rankingItem\":{\"rank\":133,\"flag\":{\"src\":\"https://api.fifa.com/api/v1/picture/flags-sq-2/SDN\",\"width\":70,\"height\":46,\"title\":\"Sudan\",\"alt\":\"Sudan\"},\"name\":\"Sudan\",\"totalPoints\":1118.31,\"active\":false,\"previousRank\":125,\"countryURL\":\"/fifa-world-ranking/SDN\",\"countryCode\":\"SDN\"},\"previousPoints\":1131.74,\"tag\":{\"id\":\"CAF\",\"text\":\"CAF\"}},{\"rankingItem\":{\"rank\":134,\"flag\":{\"src\":\"https://api.fifa.com/api/v1/picture/flags-sq-2/TKM\",\"width\":70,\"height\":46,\"title\":\"Turkmenistan\",\"alt\":\"Turkmenistan\"},\"name\":\"Turkmenistan\",\"totalPoints\":1117.6,\"active\":false,\"previousRank\":133,\"countryURL\":\"/fifa-world-ranking/TKM\",\"countryCode\":\"TKM\"},\"previousPoints\":1117.6,\"tag\":{\"id\":\"AFC\",\"text\":\"AFC\"}},{\"rankingItem\":{\"rank\":135,\"flag\":{\"src\":\"https://api.fifa.com/api/v1/picture/flags-sq-2/LVA\",\"width\":70,\"height\":46,\"title\":\"Latvia\",\"alt\":\"Latvia\"},\"name\":\"Latvia\",\"totalPoints\":1100.03,\"active\":false,\"previousRank\":134,\"countryURL\":\"/fifa-world-ranking/LVA\",\"countryCode\":\"LVA\"},\"previousPoints\":1100.03,\"tag\":{\"id\":\"UEFA\",\"text\":\"UEFA\"}},{\"rankingItem\":{\"rank\":136,\"flag\":{\"src\":\"https://api.fifa.com/api/v1/picture/flags-sq-2/RWA\",\"width\":70,\"height\":46,\"title\":\"Rwanda\",\"alt\":\"Rwanda\"},\"name\":\"Rwanda\",\"totalPoints\":1097.16,\"active\":false,\"previousRank\":135,\"countryURL\":\"/fifa-world-ranking/RWA\",\"countryCode\":\"RWA\"},\"previousPoints\":1095.34,\"tag\":{\"id\":\"CAF\",\"text\":\"CAF\"}},{\"rankingItem\":{\"rank\":137,\"flag\":{\"src\":\"https://api.fifa.com/api/v1/picture/flags-sq-2/LTU\",\"width\":70,\"height\":46,\"title\":\"Lithuania\",\"alt\":\"Lithuania\"},\"name\":\"Lithuania\",\"totalPoints\":1091.77,\"active\":false,\"previousRank\":136,\"countryURL\":\"/fifa-world-ranking/LTU\",\"countryCode\":\"LTU\"},\"previousPoints\":1091.77,\"tag\":{\"id\":\"UEFA\",\"text\":\"UEFA\"}},{\"rankingItem\":{\"rank\":138,\"flag\":{\"src\":\"https://api.fifa.com/api/v1/picture/flags-sq-2/ETH\",\"width\":70,\"height\":46,\"title\":\"Ethiopia\",\"alt\":\"Ethiopia\"},\"name\":\"Ethiopia\",\"totalPoints\":1081.24,\"active\":false,\"previousRank\":137,\"countryURL\":\"/fifa-world-ranking/ETH\",\"countryCode\":\"ETH\"},\"previousPoints\":1087.89,\"tag\":{\"id\":\"CAF\",\"text\":\"CAF\"}},{\"rankingItem\":{\"rank\":139,\"flag\":{\"src\":\"https://api.fifa.com/api/v1/picture/flags-sq-2/SKN\",\"width\":70,\"height\":46,\"title\":\"St. Kitts and Nevis\",\"alt\":\"St. Kitts and Nevis\"},\"name\":\"St. Kitts and Nevis\",\"totalPoints\":1077.76,\"active\":false,\"previousRank\":138,\"countryURL\":\"/fifa-world-ranking/SKN\",\"countryCode\":\"SKN\"},\"previousPoints\":1077.76,\"tag\":{\"id\":\"CONCACAF\",\"text\":\"CONCACAF\"}},{\"rankingItem\":{\"rank\":140,\"flag\":{\"src\":\"https://api.fifa.com/api/v1/picture/flags-sq-2/SUR\",\"width\":70,\"height\":46,\"title\":\"Suriname\",\"alt\":\"Suriname\"},\"name\":\"Suriname\",\"totalPoints\":1077.57,\"active\":false,\"previousRank\":139,\"countryURL\":\"/fifa-world-ranking/SUR\",\"countryCode\":\"SUR\"},\"previousPoints\":1077.57,\"tag\":{\"id\":\"CONCACAF\",\"text\":\"CONCACAF\"}},{\"rankingItem\":{\"rank\":141,\"flag\":{\"src\":\"https://api.fifa.com/api/v1/picture/flags-sq-2/BDI\",\"width\":70,\"height\":46,\"title\":\"Burundi\",\"alt\":\"Burundi\"},\"name\":\"Burundi\",\"totalPoints\":1075.82,\"active\":false,\"previousRank\":140,\"countryURL\":\"/fifa-world-ranking/BDI\",\"countryCode\":\"BDI\"},\"previousPoints\":1075.82,\"tag\":{\"id\":\"CAF\",\"text\":\"CAF\"}},{\"rankingItem\":{\"rank\":142,\"flag\":{\"src\":\"https://api.fifa.com/api/v1/picture/flags-sq-2/SOL\",\"width\":70,\"height\":46,\"title\":\"Solomon Islands\",\"alt\":\"Solomon Islands\"},\"name\":\"Solomon Islands\",\"totalPoints\":1072.78,\"active\":false,\"previousRank\":141,\"countryURL\":\"/fifa-world-ranking/SOL\",\"countryCode\":\"SOL\"},\"previousPoints\":1072.78,\"tag\":{\"id\":\"OFC\",\"text\":\"OFC\"}},{\"rankingItem\":{\"rank\":143,\"flag\":{\"src\":\"https://api.fifa.com/api/v1/picture/flags-sq-2/KUW\",\"width\":70,\"height\":46,\"title\":\"Kuwait\",\"alt\":\"Kuwait\"},\"name\":\"Kuwait\",\"totalPoints\":1065.56,\"active\":false,\"previousRank\":142,\"countryURL\":\"/fifa-world-ranking/KUW\",\"countryCode\":\"KUW\"},\"previousPoints\":1064.02,\"tag\":{\"id\":\"AFC\",\"text\":\"AFC\"}},{\"rankingItem\":{\"rank\":144,\"flag\":{\"src\":\"https://api.fifa.com/api/v1/picture/flags-sq-2/NCA\",\"width\":70,\"height\":46,\"title\":\"Nicaragua\",\"alt\":\"Nicaragua\"},\"name\":\"Nicaragua\",\"totalPoints\":1062.21,\"active\":false,\"previousRank\":143,\"countryURL\":\"/fifa-world-ranking/NCA\",\"countryCode\":\"NCA\"},\"previousPoints\":1062.21,\"tag\":{\"id\":\"CONCACAF\",\"text\":\"CONCACAF\"}},{\"rankingItem\":{\"rank\":145,\"flag\":{\"src\":\"https://api.fifa.com/api/v1/picture/flags-sq-2/LBR\",\"width\":70,\"height\":46,\"title\":\"Liberia\",\"alt\":\"Liberia\"},\"name\":\"Liberia\",\"totalPoints\":1058.28,\"active\":false,\"previousRank\":144,\"countryURL\":\"/fifa-world-ranking/LBR\",\"countryCode\":\"LBR\"},\"previousPoints\":1058.28,\"tag\":{\"id\":\"CAF\",\"text\":\"CAF\"}},{\"rankingItem\":{\"rank\":146,\"flag\":{\"src\":\"https://api.fifa.com/api/v1/picture/flags-sq-2/LES\",\"width\":70,\"height\":46,\"title\":\"Lesotho\",\"alt\":\"Lesotho\"},\"name\":\"Lesotho\",\"totalPoints\":1057.62,\"active\":false,\"previousRank\":145,\"countryURL\":\"/fifa-world-ranking/LES\",\"countryCode\":\"LES\"},\"previousPoints\":1057.62,\"tag\":{\"id\":\"CAF\",\"text\":\"CAF\"}},{\"rankingItem\":{\"rank\":147,\"flag\":{\"src\":\"https://api.fifa.com/api/v1/picture/flags-sq-2/SWZ\",\"width\":70,\"height\":46,\"title\":\"Eswatini\",\"alt\":\"Eswatini\"},\"name\":\"Eswatini\",\"totalPoints\":1054.14,\"active\":false,\"previousRank\":146,\"countryURL\":\"/fifa-world-ranking/SWZ\",\"countryCode\":\"SWZ\"},\"previousPoints\":1054.14,\"tag\":{\"id\":\"CAF\",\"text\":\"CAF\"}},{\"rankingItem\":{\"rank\":148,\"flag\":{\"src\":\"https://api.fifa.com/api/v1/picture/flags-sq-2/HKG\",\"width\":70,\"height\":46,\"title\":\"Hong Kong\",\"alt\":\"Hong Kong\"},\"name\":\"Hong Kong\",\"totalPoints\":1053.39,\"active\":false,\"previousRank\":147,\"countryURL\":\"/fifa-world-ranking/HKG\",\"countryCode\":\"HKG\"},\"previousPoints\":1053.39,\"tag\":{\"id\":\"AFC\",\"text\":\"AFC\"}},{\"rankingItem\":{\"rank\":149,\"flag\":{\"src\":\"https://api.fifa.com/api/v1/picture/flags-sq-2/BOT\",\"width\":70,\"height\":46,\"title\":\"Botswana\",\"alt\":\"Botswana\"},\"name\":\"Botswana\",\"totalPoints\":1051.59,\"active\":false,\"previousRank\":148,\"countryURL\":\"/fifa-world-ranking/BOT\",\"countryCode\":\"BOT\"},\"previousPoints\":1051.59,\"tag\":{\"id\":\"CAF\",\"text\":\"CAF\"}},{\"rankingItem\":{\"rank\":150,\"flag\":{\"src\":\"https://api.fifa.com/api/v1/picture/flags-sq-2/AFG\",\"width\":70,\"height\":46,\"title\":\"Afghanistan\",\"alt\":\"Afghanistan\"},\"name\":\"Afghanistan\",\"totalPoints\":1049.77,\"active\":false,\"previousRank\":149,\"countryURL\":\"/fifa-world-ranking/AFG\",\"countryCode\":\"AFG\"},\"previousPoints\":1049.77,\"tag\":{\"id\":\"AFC\",\"text\":\"AFC\"}},{\"rankingItem\":{\"rank\":151,\"flag\":{\"src\":\"https://api.fifa.com/api/v1/picture/flags-sq-2/YEM\",\"width\":70,\"height\":46,\"title\":\"Yemen\",\"alt\":\"Yemen\"},\"name\":\"Yemen\",\"totalPoints\":1046.26,\"active\":false,\"previousRank\":151,\"countryURL\":\"/fifa-world-ranking/YEM\",\"countryCode\":\"YEM\"},\"previousPoints\":1046.26,\"tag\":{\"id\":\"AFC\",\"text\":\"AFC\"}},{\"rankingItem\":{\"rank\":152,\"flag\":{\"src\":\"https://api.fifa.com/api/v1/picture/flags-sq-2/MYA\",\"width\":70,\"height\":46,\"title\":\"Myanmar\",\"alt\":\"Myanmar\"},\"name\":\"Myanmar\",\"totalPoints\":1044.56,\"active\":false,\"previousRank\":152,\"countryURL\":\"/fifa-world-ranking/MYA\",\"countryCode\":\"MYA\"},\"previousPoints\":1044.56,\"tag\":{\"id\":\"AFC\",\"text\":\"AFC\"}},{\"rankingItem\":{\"rank\":153,\"flag\":{\"src\":\"https://api.fifa.com/api/v1/picture/flags-sq-2/NCL\",\"width\":70,\"height\":46,\"title\":\"New Caledonia\",\"alt\":\"New Caledonia\"},\"name\":\"New Caledonia\",\"totalPoints\":1035.12,\"active\":false,\"previousRank\":153,\"countryURL\":\"/fifa-world-ranking/NCL\",\"countryCode\":\"NCL\"},\"previousPoints\":1035.12,\"tag\":{\"id\":\"OFC\",\"text\":\"OFC\"}},{\"rankingItem\":{\"rank\":154,\"flag\":{\"src\":\"https://api.fifa.com/api/v1/picture/flags-sq-2/MAS\",\"width\":70,\"height\":46,\"title\":\"Malaysia\",\"alt\":\"Malaysia\"},\"name\":\"Malaysia\",\"totalPoints\":1034.53,\"active\":false,\"previousRank\":154,\"countryURL\":\"/fifa-world-ranking/MAS\",\"countryCode\":\"MAS\"},\"previousPoints\":1034.53,\"tag\":{\"id\":\"AFC\",\"text\":\"AFC\"}},{\"rankingItem\":{\"rank\":155,\"flag\":{\"src\":\"https://api.fifa.com/api/v1/picture/flags-sq-2/AND\",\"width\":70,\"height\":46,\"title\":\"Andorra\",\"alt\":\"Andorra\"},\"name\":\"Andorra\",\"totalPoints\":1030.28,\"active\":false,\"previousRank\":155,\"countryURL\":\"/fifa-world-ranking/AND\",\"countryCode\":\"AND\"},\"previousPoints\":1030.28,\"tag\":{\"id\":\"UEFA\",\"text\":\"UEFA\"}},{\"rankingItem\":{\"rank\":156,\"flag\":{\"src\":\"https://api.fifa.com/api/v1/picture/flags-sq-2/DOM\",\"width\":70,\"height\":46,\"title\":\"Dominican Republic\",\"alt\":\"Dominican Republic\"},\"name\":\"Dominican Republic\",\"totalPoints\":1029.42,\"active\":false,\"previousRank\":156,\"countryURL\":\"/fifa-world-ranking/DOM\",\"countryCode\":\"DOM\"},\"previousPoints\":1029.42,\"tag\":{\"id\":\"CONCACAF\",\"text\":\"CONCACAF\"}},{\"rankingItem\":{\"rank\":157,\"flag\":{\"src\":\"https://api.fifa.com/api/v1/picture/flags-sq-2/MDV\",\"width\":70,\"height\":46,\"title\":\"Maldives\",\"alt\":\"Maldives\"},\"name\":\"Maldives\",\"totalPoints\":1021.58,\"active\":false,\"previousRank\":157,\"countryURL\":\"/fifa-world-ranking/MDV\",\"countryCode\":\"MDV\"},\"previousPoints\":1021.58,\"tag\":{\"id\":\"AFC\",\"text\":\"AFC\"}},{\"rankingItem\":{\"rank\":158,\"flag\":{\"src\":\"https://api.fifa.com/api/v1/picture/flags-sq-2/TPE\",\"width\":70,\"height\":46,\"title\":\"Chinese Taipei\",\"alt\":\"Chinese Taipei\"},\"name\":\"Chinese Taipei\",\"totalPoints\":1017.78,\"active\":false,\"previousRank\":158,\"countryURL\":\"/fifa-world-ranking/TPE\",\"countryCode\":\"TPE\"},\"previousPoints\":1017.78,\"tag\":{\"id\":\"AFC\",\"text\":\"AFC\"}},{\"rankingItem\":{\"rank\":159,\"flag\":{\"src\":\"https://api.fifa.com/api/v1/picture/flags-sq-2/TAH\",\"width\":70,\"height\":46,\"title\":\"Tahiti\",\"alt\":\"Tahiti\"},\"name\":\"Tahiti\",\"totalPoints\":1014.27,\"active\":false,\"previousRank\":159,\"countryURL\":\"/fifa-world-ranking/TAH\",\"countryCode\":\"TAH\"},\"previousPoints\":1014.27,\"tag\":{\"id\":\"OFC\",\"text\":\"OFC\"}},{\"rankingItem\":{\"rank\":160,\"flag\":{\"src\":\"https://api.fifa.com/api/v1/picture/flags-sq-2/IDN\",\"width\":70,\"height\":46,\"title\":\"Indonesia\",\"alt\":\"Indonesia\"},\"name\":\"Indonesia\",\"totalPoints\":1001.61,\"active\":false,\"previousRank\":164,\"countryURL\":\"/fifa-world-ranking/IDN\",\"countryCode\":\"IDN\"},\"previousPoints\":992.31,\"tag\":{\"id\":\"AFC\",\"text\":\"AFC\"}},{\"rankingItem\":{\"rank\":161,\"flag\":{\"src\":\"https://api.fifa.com/api/v1/picture/flags-sq-2/SIN\",\"width\":70,\"height\":46,\"title\":\"Singapore\",\"alt\":\"Singapore\"},\"name\":\"Singapore\",\"totalPoints\":1000.78,\"active\":false,\"previousRank\":160,\"countryURL\":\"/fifa-world-ranking/SIN\",\"countryCode\":\"SIN\"},\"previousPoints\":1003.39,\"tag\":{\"id\":\"AFC\",\"text\":\"AFC\"}},{\"rankingItem\":{\"rank\":162,\"flag\":{\"src\":\"https://api.fifa.com/api/v1/picture/flags-sq-2/FIJ\",\"width\":70,\"height\":46,\"title\":\"Fiji\",\"alt\":\"Fiji\"},\"name\":\"Fiji\",\"totalPoints\":996.27,\"active\":false,\"previousRank\":161,\"countryURL\":\"/fifa-world-ranking/FIJ\",\"countryCode\":\"FIJ\"},\"previousPoints\":996.27,\"tag\":{\"id\":\"OFC\",\"text\":\"OFC\"}},{\"rankingItem\":{\"rank\":163,\"flag\":{\"src\":\"https://api.fifa.com/api/v1/picture/flags-sq-2/BRB\",\"width\":70,\"height\":46,\"title\":\"Barbados\",\"alt\":\"Barbados\"},\"name\":\"Barbados\",\"totalPoints\":995.94,\"active\":false,\"previousRank\":162,\"countryURL\":\"/fifa-world-ranking/BRB\",\"countryCode\":\"BRB\"},\"previousPoints\":995.94,\"tag\":{\"id\":\"CONCACAF\",\"text\":\"CONCACAF\"}},{\"rankingItem\":{\"rank\":164,\"flag\":{\"src\":\"https://api.fifa.com/api/v1/picture/flags-sq-2/VAN\",\"width\":70,\"height\":46,\"title\":\"Vanuatu\",\"alt\":\"Vanuatu\"},\"name\":\"Vanuatu\",\"totalPoints\":995.62,\"active\":false,\"previousRank\":163,\"countryURL\":\"/fifa-world-ranking/VAN\",\"countryCode\":\"VAN\"},\"previousPoints\":995.62,\"tag\":{\"id\":\"OFC\",\"text\":\"OFC\"}},{\"rankingItem\":{\"rank\":165,\"flag\":{\"src\":\"https://api.fifa.com/api/v1/picture/flags-sq-2/PNG\",\"width\":70,\"height\":46,\"title\":\"Papua New Guinea\",\"alt\":\"Papua New Guinea\"},\"name\":\"Papua New Guinea\",\"totalPoints\":990.55,\"active\":false,\"previousRank\":165,\"countryURL\":\"/fifa-world-ranking/PNG\",\"countryCode\":\"PNG\"},\"previousPoints\":990.55,\"tag\":{\"id\":\"OFC\",\"text\":\"OFC\"}},{\"rankingItem\":{\"rank\":166,\"flag\":{\"src\":\"https://api.fifa.com/api/v1/picture/flags-sq-2/BER\",\"width\":70,\"height\":46,\"title\":\"Bermuda\",\"alt\":\"Bermuda\"},\"name\":\"Bermuda\",\"totalPoints\":982.43,\"active\":false,\"previousRank\":166,\"countryURL\":\"/fifa-world-ranking/BER\",\"countryCode\":\"BER\"},\"previousPoints\":982.43,\"tag\":{\"id\":\"CONCACAF\",\"text\":\"CONCACAF\"}},{\"rankingItem\":{\"rank\":167,\"flag\":{\"src\":\"https://api.fifa.com/api/v1/picture/flags-sq-2/NEP\",\"width\":70,\"height\":46,\"title\":\"Nepal\",\"alt\":\"Nepal\"},\"name\":\"Nepal\",\"totalPoints\":982.22,\"active\":false,\"previousRank\":169,\"countryURL\":\"/fifa-world-ranking/NEP\",\"countryCode\":\"NEP\"},\"previousPoints\":972.45,\"tag\":{\"id\":\"AFC\",\"text\":\"AFC\"}},{\"rankingItem\":{\"rank\":168,\"flag\":{\"src\":\"https://api.fifa.com/api/v1/picture/flags-sq-2/SSD\",\"width\":70,\"height\":46,\"title\":\"South Sudan\",\"alt\":\"South Sudan\"},\"name\":\"South Sudan\",\"totalPoints\":977.81,\"active\":false,\"previousRank\":167,\"countryURL\":\"/fifa-world-ranking/SSD\",\"countryCode\":\"SSD\"},\"previousPoints\":980.25,\"tag\":{\"id\":\"CAF\",\"text\":\"CAF\"}},{\"rankingItem\":{\"rank\":169,\"flag\":{\"src\":\"https://api.fifa.com/api/v1/picture/flags-sq-2/GRN\",\"width\":70,\"height\":46,\"title\":\"Grenada\",\"alt\":\"Grenada\"},\"name\":\"Grenada\",\"totalPoints\":974.03,\"active\":false,\"previousRank\":168,\"countryURL\":\"/fifa-world-ranking/GRN\",\"countryCode\":\"GRN\"},\"previousPoints\":974.03,\"tag\":{\"id\":\"CONCACAF\",\"text\":\"CONCACAF\"}},{\"rankingItem\":{\"rank\":170,\"flag\":{\"src\":\"https://api.fifa.com/api/v1/picture/flags-sq-2/BLZ\",\"width\":70,\"height\":46,\"title\":\"Belize\",\"alt\":\"Belize\"},\"name\":\"Belize\",\"totalPoints\":967.42,\"active\":false,\"previousRank\":170,\"countryURL\":\"/fifa-world-ranking/BLZ\",\"countryCode\":\"BLZ\"},\"previousPoints\":967.42,\"tag\":{\"id\":\"CONCACAF\",\"text\":\"CONCACAF\"}},{\"rankingItem\":{\"rank\":171,\"flag\":{\"src\":\"https://api.fifa.com/api/v1/picture/flags-sq-2/CAM\",\"width\":70,\"height\":46,\"title\":\"Cambodia\",\"alt\":\"Cambodia\"},\"name\":\"Cambodia\",\"totalPoints\":966.61,\"active\":false,\"previousRank\":171,\"countryURL\":\"/fifa-world-ranking/CAM\",\"countryCode\":\"CAM\"},\"previousPoints\":966.61,\"tag\":{\"id\":\"AFC\",\"text\":\"AFC\"}},{\"rankingItem\":{\"rank\":172,\"flag\":{\"src\":\"https://api.fifa.com/api/v1/picture/flags-sq-2/PUR\",\"width\":70,\"height\":46,\"title\":\"Puerto Rico\",\"alt\":\"Puerto Rico\"},\"name\":\"Puerto Rico\",\"totalPoints\":962.77,\"active\":false,\"previousRank\":173,\"countryURL\":\"/fifa-world-ranking/PUR\",\"countryCode\":\"PUR\"},\"previousPoints\":962.77,\"tag\":{\"id\":\"CONCACAF\",\"text\":\"CONCACAF\"}},{\"rankingItem\":{\"rank\":173,\"flag\":{\"src\":\"https://api.fifa.com/api/v1/picture/flags-sq-2/VIN\",\"width\":70,\"height\":46,\"title\":\"St. Vincent and the Grenadines\",\"alt\":\"St. Vincent and the Grenadines\"},\"name\":\"St. Vincent and the Grenadines\",\"totalPoints\":960.71,\"active\":false,\"previousRank\":174,\"countryURL\":\"/fifa-world-ranking/VIN\",\"countryCode\":\"VIN\"},\"previousPoints\":960.71,\"tag\":{\"id\":\"CONCACAF\",\"text\":\"CONCACAF\"}},{\"rankingItem\":{\"rank\":174,\"flag\":{\"src\":\"https://api.fifa.com/api/v1/picture/flags-sq-2/MLT\",\"width\":70,\"height\":46,\"title\":\"Malta\",\"alt\":\"Malta\"},\"name\":\"Malta\",\"totalPoints\":958.95,\"active\":false,\"previousRank\":175,\"countryURL\":\"/fifa-world-ranking/MLT\",\"countryCode\":\"MLT\"},\"previousPoints\":958.95,\"tag\":{\"id\":\"UEFA\",\"text\":\"UEFA\"}},{\"rankingItem\":{\"rank\":175,\"flag\":{\"src\":\"https://api.fifa.com/api/v1/picture/flags-sq-2/GUY\",\"width\":70,\"height\":46,\"title\":\"Guyana\",\"alt\":\"Guyana\"},\"name\":\"Guyana\",\"totalPoints\":958.87,\"active\":false,\"previousRank\":176,\"countryURL\":\"/fifa-world-ranking/GUY\",\"countryCode\":\"GUY\"},\"previousPoints\":958.87,\"tag\":{\"id\":\"CONCACAF\",\"text\":\"CONCACAF\"}},{\"rankingItem\":{\"rank\":176,\"flag\":{\"src\":\"https://api.fifa.com/api/v1/picture/flags-sq-2/MRI\",\"width\":70,\"height\":46,\"title\":\"Mauritius\",\"alt\":\"Mauritius\"},\"name\":\"Mauritius\",\"totalPoints\":955.18,\"active\":false,\"previousRank\":172,\"countryURL\":\"/fifa-world-ranking/MRI\",\"countryCode\":\"MRI\"},\"previousPoints\":964.94,\"tag\":{\"id\":\"CAF\",\"text\":\"CAF\"}},{\"rankingItem\":{\"rank\":177,\"flag\":{\"src\":\"https://api.fifa.com/api/v1/picture/flags-sq-2/LCA\",\"width\":70,\"height\":46,\"title\":\"St. Lucia\",\"alt\":\"St. Lucia\"},\"name\":\"St. Lucia\",\"totalPoints\":953.45,\"active\":false,\"previousRank\":177,\"countryURL\":\"/fifa-world-ranking/LCA\",\"countryCode\":\"LCA\"},\"previousPoints\":953.45,\"tag\":{\"id\":\"CONCACAF\",\"text\":\"CONCACAF\"}},{\"rankingItem\":{\"rank\":178,\"flag\":{\"src\":\"https://api.fifa.com/api/v1/picture/flags-sq-2/MSR\",\"width\":70,\"height\":46,\"title\":\"Montserrat\",\"alt\":\"Montserrat\"},\"name\":\"Montserrat\",\"totalPoints\":950.71,\"active\":false,\"previousRank\":178,\"countryURL\":\"/fifa-world-ranking/MSR\",\"countryCode\":\"MSR\"},\"previousPoints\":950.71,\"tag\":{\"id\":\"CONCACAF\",\"text\":\"CONCACAF\"}},{\"rankingItem\":{\"rank\":179,\"flag\":{\"src\":\"https://api.fifa.com/api/v1/picture/flags-sq-2/CUB\",\"width\":70,\"height\":46,\"title\":\"Cuba\",\"alt\":\"Cuba\"},\"name\":\"Cuba\",\"totalPoints\":948.96,\"active\":false,\"previousRank\":179,\"countryURL\":\"/fifa-world-ranking/CUB\",\"countryCode\":\"CUB\"},\"previousPoints\":948.96,\"tag\":{\"id\":\"CONCACAF\",\"text\":\"CONCACAF\"}},{\"rankingItem\":{\"rank\":180,\"flag\":{\"src\":\"https://api.fifa.com/api/v1/picture/flags-sq-2/CHA\",\"width\":70,\"height\":46,\"title\":\"Chad\",\"alt\":\"Chad\"},\"name\":\"Chad\",\"totalPoints\":935,\"active\":false,\"previousRank\":180,\"countryURL\":\"/fifa-world-ranking/CHA\",\"countryCode\":\"CHA\"},\"previousPoints\":935,\"tag\":{\"id\":\"CAF\",\"text\":\"CAF\"}},{\"rankingItem\":{\"rank\":181,\"flag\":{\"src\":\"https://api.fifa.com/api/v1/picture/flags-sq-2/MDA\",\"width\":70,\"height\":46,\"title\":\"Moldova\",\"alt\":\"Moldova\"},\"name\":\"Moldova\",\"totalPoints\":926.85,\"active\":false,\"previousRank\":181,\"countryURL\":\"/fifa-world-ranking/MDA\",\"countryCode\":\"MDA\"},\"previousPoints\":928.35,\"tag\":{\"id\":\"UEFA\",\"text\":\"UEFA\"}},{\"rankingItem\":{\"rank\":182,\"flag\":{\"src\":\"https://api.fifa.com/api/v1/picture/flags-sq-2/MAC\",\"width\":70,\"height\":46,\"title\":\"Macau\",\"alt\":\"Macau\"},\"name\":\"Macau\",\"totalPoints\":922.1,\"active\":false,\"previousRank\":182,\"countryURL\":\"/fifa-world-ranking/MAC\",\"countryCode\":\"MAC\"},\"previousPoints\":922.1,\"tag\":{\"id\":\"AFC\",\"text\":\"AFC\"}},{\"rankingItem\":{\"rank\":183,\"flag\":{\"src\":\"https://api.fifa.com/api/v1/picture/flags-sq-2/DMA\",\"width\":70,\"height\":46,\"title\":\"Dominica\",\"alt\":\"Dominica\"},\"name\":\"Dominica\",\"totalPoints\":916.72,\"active\":false,\"previousRank\":183,\"countryURL\":\"/fifa-world-ranking/DMA\",\"countryCode\":\"DMA\"},\"previousPoints\":916.72,\"tag\":{\"id\":\"CONCACAF\",\"text\":\"CONCACAF\"}},{\"rankingItem\":{\"rank\":184,\"flag\":{\"src\":\"https://api.fifa.com/api/v1/picture/flags-sq-2/MNG\",\"width\":70,\"height\":46,\"title\":\"Mongolia\",\"alt\":\"Mongolia\"},\"name\":\"Mongolia\",\"totalPoints\":916.68,\"active\":false,\"previousRank\":184,\"countryURL\":\"/fifa-world-ranking/MNG\",\"countryCode\":\"MNG\"},\"previousPoints\":916.68,\"tag\":{\"id\":\"AFC\",\"text\":\"AFC\"}},{\"rankingItem\":{\"rank\":185,\"flag\":{\"src\":\"https://api.fifa.com/api/v1/picture/flags-sq-2/BHU\",\"width\":70,\"height\":46,\"title\":\"Bhutan\",\"alt\":\"Bhutan\"},\"name\":\"Bhutan\",\"totalPoints\":910.96,\"active\":false,\"previousRank\":185,\"countryURL\":\"/fifa-world-ranking/BHU\",\"countryCode\":\"BHU\"},\"previousPoints\":910.96,\"tag\":{\"id\":\"AFC\",\"text\":\"AFC\"}},{\"rankingItem\":{\"rank\":186,\"flag\":{\"src\":\"https://api.fifa.com/api/v1/picture/flags-sq-2/BAN\",\"width\":70,\"height\":46,\"title\":\"Bangladesh\",\"alt\":\"Bangladesh\"},\"name\":\"Bangladesh\",\"totalPoints\":907.83,\"active\":false,\"previousRank\":186,\"countryURL\":\"/fifa-world-ranking/BAN\",\"countryCode\":\"BAN\"},\"previousPoints\":907.83,\"tag\":{\"id\":\"AFC\",\"text\":\"AFC\"}},{\"rankingItem\":{\"rank\":187,\"flag\":{\"src\":\"https://api.fifa.com/api/v1/picture/flags-sq-2/LAO\",\"width\":70,\"height\":46,\"title\":\"Laos\",\"alt\":\"Laos\"},\"name\":\"Laos\",\"totalPoints\":904.6,\"active\":false,\"previousRank\":187,\"countryURL\":\"/fifa-world-ranking/LAO\",\"countryCode\":\"LAO\"},\"previousPoints\":904.6,\"tag\":{\"id\":\"AFC\",\"text\":\"AFC\"}},{\"rankingItem\":{\"rank\":188,\"flag\":{\"src\":\"https://api.fifa.com/api/v1/picture/flags-sq-2/BRU\",\"width\":70,\"height\":46,\"title\":\"Brunei Darussalam\",\"alt\":\"Brunei Darussalam\"},\"name\":\"Brunei Darussalam\",\"totalPoints\":903.9,\"active\":false,\"previousRank\":188,\"countryURL\":\"/fifa-world-ranking/BRU\",\"countryCode\":\"BRU\"},\"previousPoints\":903.9,\"tag\":{\"id\":\"AFC\",\"text\":\"AFC\"}},{\"rankingItem\":{\"rank\":189,\"flag\":{\"src\":\"https://api.fifa.com/api/v1/picture/flags-sq-2/STP\",\"width\":70,\"height\":46,\"title\":\"São Tomé and Príncipe\",\"alt\":\"São Tomé and Príncipe\"},\"name\":\"São Tomé and Príncipe\",\"totalPoints\":903.31,\"active\":false,\"previousRank\":189,\"countryURL\":\"/fifa-world-ranking/STP\",\"countryCode\":\"STP\"},\"previousPoints\":903.31,\"tag\":{\"id\":\"CAF\",\"text\":\"CAF\"}},{\"rankingItem\":{\"rank\":190,\"flag\":{\"src\":\"https://api.fifa.com/api/v1/picture/flags-sq-2/ASA\",\"width\":70,\"height\":46,\"title\":\"American Samoa\",\"alt\":\"American Samoa\"},\"name\":\"American Samoa\",\"totalPoints\":900.27,\"active\":false,\"previousRank\":190,\"countryURL\":\"/fifa-world-ranking/ASA\",\"countryCode\":\"ASA\"},\"previousPoints\":900.27,\"tag\":{\"id\":\"OFC\",\"text\":\"OFC\"}},{\"rankingItem\":{\"rank\":191,\"flag\":{\"src\":\"https://api.fifa.com/api/v1/picture/flags-sq-2/LIE\",\"width\":70,\"height\":46,\"title\":\"Liechtenstein\",\"alt\":\"Liechtenstein\"},\"name\":\"Liechtenstein\",\"totalPoints\":899.52,\"active\":false,\"previousRank\":191,\"countryURL\":\"/fifa-world-ranking/LIE\",\"countryCode\":\"LIE\"},\"previousPoints\":899.52,\"tag\":{\"id\":\"UEFA\",\"text\":\"UEFA\"}},{\"rankingItem\":{\"rank\":192,\"flag\":{\"src\":\"https://api.fifa.com/api/v1/picture/flags-sq-2/DJI\",\"width\":70,\"height\":46,\"title\":\"Djibouti\",\"alt\":\"Djibouti\"},\"name\":\"Djibouti\",\"totalPoints\":896.62,\"active\":false,\"previousRank\":192,\"countryURL\":\"/fifa-world-ranking/DJI\",\"countryCode\":\"DJI\"},\"previousPoints\":896.62,\"tag\":{\"id\":\"CAF\",\"text\":\"CAF\"}},{\"rankingItem\":{\"rank\":193,\"flag\":{\"src\":\"https://api.fifa.com/api/v1/picture/flags-sq-2/SAM\",\"width\":70,\"height\":46,\"title\":\"Samoa\",\"alt\":\"Samoa\"},\"name\":\"Samoa\",\"totalPoints\":894.26,\"active\":false,\"previousRank\":193,\"countryURL\":\"/fifa-world-ranking/SAM\",\"countryCode\":\"SAM\"},\"previousPoints\":894.26,\"tag\":{\"id\":\"OFC\",\"text\":\"OFC\"}},{\"rankingItem\":{\"rank\":194,\"flag\":{\"src\":\"https://api.fifa.com/api/v1/picture/flags-sq-2/SOM\",\"width\":70,\"height\":46,\"title\":\"Somalia\",\"alt\":\"Somalia\"},\"name\":\"Somalia\",\"totalPoints\":873.71,\"active\":false,\"previousRank\":194,\"countryURL\":\"/fifa-world-ranking/SOM\",\"countryCode\":\"SOM\"},\"previousPoints\":873.71,\"tag\":{\"id\":\"CAF\",\"text\":\"CAF\"}},{\"rankingItem\":{\"rank\":195,\"flag\":{\"src\":\"https://api.fifa.com/api/v1/picture/flags-sq-2/CAY\",\"width\":70,\"height\":46,\"title\":\"Cayman Islands\",\"alt\":\"Cayman Islands\"},\"name\":\"Cayman Islands\",\"totalPoints\":873.64,\"active\":false,\"previousRank\":195,\"countryURL\":\"/fifa-world-ranking/CAY\",\"countryCode\":\"CAY\"},\"previousPoints\":873.64,\"tag\":{\"id\":\"CONCACAF\",\"text\":\"CONCACAF\"}},{\"rankingItem\":{\"rank\":196,\"flag\":{\"src\":\"https://api.fifa.com/api/v1/picture/flags-sq-2/SEY\",\"width\":70,\"height\":46,\"title\":\"Seychelles\",\"alt\":\"Seychelles\"},\"name\":\"Seychelles\",\"totalPoints\":870.63,\"active\":false,\"previousRank\":197,\"countryURL\":\"/fifa-world-ranking/SEY\",\"countryCode\":\"SEY\"},\"previousPoints\":870.63,\"tag\":{\"id\":\"CAF\",\"text\":\"CAF\"}},{\"rankingItem\":{\"rank\":197,\"flag\":{\"src\":\"https://api.fifa.com/api/v1/picture/flags-sq-2/PAK\",\"width\":70,\"height\":46,\"title\":\"Pakistan\",\"alt\":\"Pakistan\"},\"name\":\"Pakistan\",\"totalPoints\":866.81,\"active\":false,\"previousRank\":198,\"countryURL\":\"/fifa-world-ranking/PAK\",\"countryCode\":\"PAK\"},\"previousPoints\":866.81,\"tag\":{\"id\":\"AFC\",\"text\":\"AFC\"}},{\"rankingItem\":{\"rank\":198,\"flag\":{\"src\":\"https://api.fifa.com/api/v1/picture/flags-sq-2/TLS\",\"width\":70,\"height\":46,\"title\":\"Timor-Leste\",\"alt\":\"Timor-Leste\"},\"name\":\"Timor-Leste\",\"totalPoints\":865.47,\"active\":false,\"previousRank\":196,\"countryURL\":\"/fifa-world-ranking/TLS\",\"countryCode\":\"TLS\"},\"previousPoints\":873.13,\"tag\":{\"id\":\"AFC\",\"text\":\"AFC\"}},{\"rankingItem\":{\"rank\":199,\"flag\":{\"src\":\"https://api.fifa.com/api/v1/picture/flags-sq-2/TGA\",\"width\":70,\"height\":46,\"title\":\"Tonga\",\"alt\":\"Tonga\"},\"name\":\"Tonga\",\"totalPoints\":861.81,\"active\":false,\"previousRank\":199,\"countryURL\":\"/fifa-world-ranking/TGA\",\"countryCode\":\"TGA\"},\"previousPoints\":861.81,\"tag\":{\"id\":\"OFC\",\"text\":\"OFC\"}},{\"rankingItem\":{\"rank\":200,\"flag\":{\"src\":\"https://api.fifa.com/api/v1/picture/flags-sq-2/ARU\",\"width\":70,\"height\":46,\"title\":\"Aruba\",\"alt\":\"Aruba\"},\"name\":\"Aruba\",\"totalPoints\":859.97,\"active\":false,\"previousRank\":200,\"countryURL\":\"/fifa-world-ranking/ARU\",\"countryCode\":\"ARU\"},\"previousPoints\":859.97,\"tag\":{\"id\":\"CONCACAF\",\"text\":\"CONCACAF\"}},{\"rankingItem\":{\"rank\":201,\"flag\":{\"src\":\"https://api.fifa.com/api/v1/picture/flags-sq-2/BAH\",\"width\":70,\"height\":46,\"title\":\"Bahamas\",\"alt\":\"Bahamas\"},\"name\":\"Bahamas\",\"totalPoints\":858.5,\"active\":false,\"previousRank\":201,\"countryURL\":\"/fifa-world-ranking/BAH\",\"countryCode\":\"BAH\"},\"previousPoints\":858.5,\"tag\":{\"id\":\"CONCACAF\",\"text\":\"CONCACAF\"}},{\"rankingItem\":{\"rank\":202,\"flag\":{\"src\":\"https://api.fifa.com/api/v1/picture/flags-sq-2/ERI\",\"width\":70,\"height\":46,\"title\":\"Eritrea\",\"alt\":\"Eritrea\"},\"name\":\"Eritrea\",\"totalPoints\":855.56,\"active\":false,\"previousRank\":202,\"countryURL\":\"/fifa-world-ranking/ERI\",\"countryCode\":\"ERI\"},\"previousPoints\":855.56,\"tag\":{\"id\":\"CAF\",\"text\":\"CAF\"}},{\"rankingItem\":{\"rank\":203,\"flag\":{\"src\":\"https://api.fifa.com/api/v1/picture/flags-sq-2/GIB\",\"width\":70,\"height\":46,\"title\":\"Gibraltar\",\"alt\":\"Gibraltar\"},\"name\":\"Gibraltar\",\"totalPoints\":853.6,\"active\":false,\"previousRank\":203,\"countryURL\":\"/fifa-world-ranking/GIB\",\"countryCode\":\"GIB\"},\"previousPoints\":853.6,\"tag\":{\"id\":\"UEFA\",\"text\":\"UEFA\"}},{\"rankingItem\":{\"rank\":204,\"flag\":{\"src\":\"https://api.fifa.com/api/v1/picture/flags-sq-2/SRI\",\"width\":70,\"height\":46,\"title\":\"Sri Lanka\",\"alt\":\"Sri Lanka\"},\"name\":\"Sri Lanka\",\"totalPoints\":842.93,\"active\":false,\"previousRank\":204,\"countryURL\":\"/fifa-world-ranking/SRI\",\"countryCode\":\"SRI\"},\"previousPoints\":842.93,\"tag\":{\"id\":\"AFC\",\"text\":\"AFC\"}},{\"rankingItem\":{\"rank\":205,\"flag\":{\"src\":\"https://api.fifa.com/api/v1/picture/flags-sq-2/TCA\",\"width\":70,\"height\":46,\"title\":\"Turks and Caicos Islands\",\"alt\":\"Turks and Caicos Islands\"},\"name\":\"Turks and Caicos Islands\",\"totalPoints\":839.84,\"active\":false,\"previousRank\":205,\"countryURL\":\"/fifa-world-ranking/TCA\",\"countryCode\":\"TCA\"},\"previousPoints\":839.84,\"tag\":{\"id\":\"CONCACAF\",\"text\":\"CONCACAF\"}},{\"rankingItem\":{\"rank\":206,\"flag\":{\"src\":\"https://api.fifa.com/api/v1/picture/flags-sq-2/GUM\",\"width\":70,\"height\":46,\"title\":\"Guam\",\"alt\":\"Guam\"},\"name\":\"Guam\",\"totalPoints\":838.33,\"active\":false,\"previousRank\":206,\"countryURL\":\"/fifa-world-ranking/GUM\",\"countryCode\":\"GUM\"},\"previousPoints\":838.33,\"tag\":{\"id\":\"AFC\",\"text\":\"AFC\"}},{\"rankingItem\":{\"rank\":207,\"flag\":{\"src\":\"https://api.fifa.com/api/v1/picture/flags-sq-2/VIR\",\"width\":70,\"height\":46,\"title\":\"US Virgin Islands\",\"alt\":\"US Virgin Islands\"},\"name\":\"US Virgin Islands\",\"totalPoints\":816.13,\"active\":false,\"previousRank\":207,\"countryURL\":\"/fifa-world-ranking/VIR\",\"countryCode\":\"VIR\"},\"previousPoints\":816.13,\"tag\":{\"id\":\"CONCACAF\",\"text\":\"CONCACAF\"}},{\"rankingItem\":{\"rank\":208,\"flag\":{\"src\":\"https://api.fifa.com/api/v1/picture/flags-sq-2/VGB\",\"width\":70,\"height\":46,\"title\":\"British Virgin Islands\",\"alt\":\"British Virgin Islands\"},\"name\":\"British Virgin Islands\",\"totalPoints\":812.94,\"active\":false,\"previousRank\":208,\"countryURL\":\"/fifa-world-ranking/VGB\",\"countryCode\":\"VGB\"},\"previousPoints\":812.94,\"tag\":{\"id\":\"CONCACAF\",\"text\":\"CONCACAF\"}},{\"rankingItem\":{\"rank\":209,\"flag\":{\"src\":\"https://api.fifa.com/api/v1/picture/flags-sq-2/AIA\",\"width\":70,\"height\":46,\"title\":\"Anguilla\",\"alt\":\"Anguilla\"},\"name\":\"Anguilla\",\"totalPoints\":792.34,\"active\":false,\"previousRank\":209,\"countryURL\":\"/fifa-world-ranking/AIA\",\"countryCode\":\"AIA\"},\"previousPoints\":792.34,\"tag\":{\"id\":\"CONCACAF\",\"text\":\"CONCACAF\"}},{\"rankingItem\":{\"rank\":210,\"flag\":{\"src\":\"https://api.fifa.com/api/v1/picture/flags-sq-2/SMR\",\"width\":70,\"height\":46,\"title\":\"San Marino\",\"alt\":\"San Marino\"},\"name\":\"San Marino\",\"totalPoints\":780.33,\"active\":false,\"previousRank\":210,\"countryURL\":\"/fifa-world-ranking/SMR\",\"countryCode\":\"SMR\"},\"previousPoints\":780.33,\"tag\":{\"id\":\"UEFA\",\"text\":\"UEFA\"}}]}\n"
          ]
        }
      ]
    },
    {
      "cell_type": "markdown",
      "source": [
        "# Practice 7: Scrape the table"
      ],
      "metadata": {
        "id": "G3DQctQqL-QL"
      }
    },
    {
      "cell_type": "code",
      "source": [
        "import requests\n",
        "from bs4 import BeautifulSoup\n",
        "import pandas as pd"
      ],
      "metadata": {
        "id": "GpLQ_iq0K6Fm"
      },
      "execution_count": 85,
      "outputs": []
    },
    {
      "cell_type": "code",
      "source": [
        "pd.set_option('display.max_colwidth', 600)"
      ],
      "metadata": {
        "id": "MP_WcF1HorS8"
      },
      "execution_count": 86,
      "outputs": []
    },
    {
      "cell_type": "code",
      "source": [
        "url = 'https://en.wikipedia.org/wiki/Russia'\n",
        "response_7 = requests.get(url)\n",
        "response_7"
      ],
      "metadata": {
        "colab": {
          "base_uri": "https://localhost:8080/"
        },
        "id": "rpdm4nt9MPWd",
        "outputId": "6a17076f-2427-4bfb-dec7-94d1a9d179c8"
      },
      "execution_count": 87,
      "outputs": [
        {
          "output_type": "execute_result",
          "data": {
            "text/plain": [
              "<Response [200]>"
            ]
          },
          "metadata": {},
          "execution_count": 87
        }
      ]
    },
    {
      "cell_type": "code",
      "source": [
        "response_7_str = response_7.text\n",
        "#response_7_str"
      ],
      "metadata": {
        "id": "_8m5aUMhMfGy"
      },
      "execution_count": 88,
      "outputs": []
    },
    {
      "cell_type": "code",
      "source": [
        "soup_7 = BeautifulSoup(response_7_str, 'lxml')\n",
        "#soup_7"
      ],
      "metadata": {
        "id": "qZ21lXH8MnAI"
      },
      "execution_count": 89,
      "outputs": []
    },
    {
      "cell_type": "code",
      "source": [
        "len(soup_7.find_all('table'))"
      ],
      "metadata": {
        "colab": {
          "base_uri": "https://localhost:8080/"
        },
        "id": "YZVcPyC4M0zr",
        "outputId": "fd4ad340-2329-4109-91b1-9bfc3b67f75a"
      },
      "execution_count": 90,
      "outputs": [
        {
          "output_type": "execute_result",
          "data": {
            "text/plain": [
              "19"
            ]
          },
          "metadata": {},
          "execution_count": 90
        }
      ]
    },
    {
      "cell_type": "code",
      "source": [
        "table_7 = soup_7.find('table', {'class': 'wikitable sortable'})\n",
        "#table_7\n"
      ],
      "metadata": {
        "id": "vmaEuSbrNBKs"
      },
      "execution_count": 91,
      "outputs": []
    },
    {
      "cell_type": "code",
      "source": [
        "#extract column names:\n",
        "column_name_list = []\n",
        "for column_name in table_7.find_all('th'):\n",
        "    column_name_list.append(column_name.text.strip())\n",
        "\n",
        "column_name_list"
      ],
      "metadata": {
        "colab": {
          "base_uri": "https://localhost:8080/"
        },
        "id": "bDGxzqRANT4Y",
        "outputId": "ccad87fd-28ff-4465-e9bb-7df1aa37af73"
      },
      "execution_count": 92,
      "outputs": [
        {
          "output_type": "execute_result",
          "data": {
            "text/plain": [
              "['Federal subjects', 'Governance']"
            ]
          },
          "metadata": {},
          "execution_count": 92
        }
      ]
    },
    {
      "cell_type": "code",
      "source": [
        "#extract row values:\n",
        "rows = table_7.find_all('tr')[1:]\n",
        "rows\n",
        "# for row in rows:\n",
        "#     print(row.text.strip())\n",
        "\n",
        "\n",
        "def content_7(r):\n",
        "\n",
        "    dict_rows ={\n",
        "    'federal_subjects':r.find_all('td')[0].div.text.strip(),\n",
        "    'governance':r.find_all('td')[1].text.strip()\n",
        "    }\n",
        "\n",
        "\n",
        "    return dict_rows\n",
        "\n",
        "content_list = []\n",
        "for row in rows:\n",
        "    content_list.append(content_7(row))\n",
        "\n",
        "print(content_list)\n",
        "\n",
        "pd.DataFrame(content_list)\n",
        "    "
      ],
      "metadata": {
        "colab": {
          "base_uri": "https://localhost:8080/",
          "height": 371
        },
        "id": "Rz5Ig0j_Nu1-",
        "outputId": "72631145-18d2-41ad-8be3-64649c464557"
      },
      "execution_count": 93,
      "outputs": [
        {
          "output_type": "stream",
          "name": "stdout",
          "text": [
            "[{'federal_subjects': '46\\xa0oblasts', 'governance': 'The most common type of federal subject with a governor and locally elected legislature. Commonly named after their administrative centres.[240]'}, {'federal_subjects': '22\\xa0republics', 'governance': 'Each is nominally autonomous—home to a specific ethnic minority, and has its own constitution, language, and legislature, but is represented by the federal government in international affairs.[241]'}, {'federal_subjects': '9\\xa0krais', 'governance': 'For all intents and purposes, krais are legally identical to oblasts. The title \"krai\" (\"frontier\" or \"territory\") is historic, related to geographic (frontier) position in a certain period of history. The current krais are not related to frontiers.[242]'}, {'federal_subjects': '4\\xa0autonomous okrugs', 'governance': 'Occasionally referred to as \"autonomous district\", \"autonomous area\", and \"autonomous region\", each with a substantial or predominant ethnic minority.[243]'}, {'federal_subjects': '3\\xa0federal cities', 'governance': 'Major cities that function as separate regions (Moscow, Saint Petersburg, and Sevastopol).[244]'}, {'federal_subjects': '1\\xa0autonomous oblast', 'governance': 'The only autonomous oblast is the Jewish Autonomous Oblast.[245]'}]\n"
          ]
        },
        {
          "output_type": "execute_result",
          "data": {
            "text/html": [
              "\n",
              "  <div id=\"df-7831a31b-66c0-47e3-8e29-cf7c9b99a234\">\n",
              "    <div class=\"colab-df-container\">\n",
              "      <div>\n",
              "<style scoped>\n",
              "    .dataframe tbody tr th:only-of-type {\n",
              "        vertical-align: middle;\n",
              "    }\n",
              "\n",
              "    .dataframe tbody tr th {\n",
              "        vertical-align: top;\n",
              "    }\n",
              "\n",
              "    .dataframe thead th {\n",
              "        text-align: right;\n",
              "    }\n",
              "</style>\n",
              "<table border=\"1\" class=\"dataframe\">\n",
              "  <thead>\n",
              "    <tr style=\"text-align: right;\">\n",
              "      <th></th>\n",
              "      <th>federal_subjects</th>\n",
              "      <th>governance</th>\n",
              "    </tr>\n",
              "  </thead>\n",
              "  <tbody>\n",
              "    <tr>\n",
              "      <th>0</th>\n",
              "      <td>46 oblasts</td>\n",
              "      <td>The most common type of federal subject with a governor and locally elected legislature. Commonly named after their administrative centres.[240]</td>\n",
              "    </tr>\n",
              "    <tr>\n",
              "      <th>1</th>\n",
              "      <td>22 republics</td>\n",
              "      <td>Each is nominally autonomous—home to a specific ethnic minority, and has its own constitution, language, and legislature, but is represented by the federal government in international affairs.[241]</td>\n",
              "    </tr>\n",
              "    <tr>\n",
              "      <th>2</th>\n",
              "      <td>9 krais</td>\n",
              "      <td>For all intents and purposes, krais are legally identical to oblasts. The title \"krai\" (\"frontier\" or \"territory\") is historic, related to geographic (frontier) position in a certain period of history. The current krais are not related to frontiers.[242]</td>\n",
              "    </tr>\n",
              "    <tr>\n",
              "      <th>3</th>\n",
              "      <td>4 autonomous okrugs</td>\n",
              "      <td>Occasionally referred to as \"autonomous district\", \"autonomous area\", and \"autonomous region\", each with a substantial or predominant ethnic minority.[243]</td>\n",
              "    </tr>\n",
              "    <tr>\n",
              "      <th>4</th>\n",
              "      <td>3 federal cities</td>\n",
              "      <td>Major cities that function as separate regions (Moscow, Saint Petersburg, and Sevastopol).[244]</td>\n",
              "    </tr>\n",
              "    <tr>\n",
              "      <th>5</th>\n",
              "      <td>1 autonomous oblast</td>\n",
              "      <td>The only autonomous oblast is the Jewish Autonomous Oblast.[245]</td>\n",
              "    </tr>\n",
              "  </tbody>\n",
              "</table>\n",
              "</div>\n",
              "      <button class=\"colab-df-convert\" onclick=\"convertToInteractive('df-7831a31b-66c0-47e3-8e29-cf7c9b99a234')\"\n",
              "              title=\"Convert this dataframe to an interactive table.\"\n",
              "              style=\"display:none;\">\n",
              "        \n",
              "  <svg xmlns=\"http://www.w3.org/2000/svg\" height=\"24px\"viewBox=\"0 0 24 24\"\n",
              "       width=\"24px\">\n",
              "    <path d=\"M0 0h24v24H0V0z\" fill=\"none\"/>\n",
              "    <path d=\"M18.56 5.44l.94 2.06.94-2.06 2.06-.94-2.06-.94-.94-2.06-.94 2.06-2.06.94zm-11 1L8.5 8.5l.94-2.06 2.06-.94-2.06-.94L8.5 2.5l-.94 2.06-2.06.94zm10 10l.94 2.06.94-2.06 2.06-.94-2.06-.94-.94-2.06-.94 2.06-2.06.94z\"/><path d=\"M17.41 7.96l-1.37-1.37c-.4-.4-.92-.59-1.43-.59-.52 0-1.04.2-1.43.59L10.3 9.45l-7.72 7.72c-.78.78-.78 2.05 0 2.83L4 21.41c.39.39.9.59 1.41.59.51 0 1.02-.2 1.41-.59l7.78-7.78 2.81-2.81c.8-.78.8-2.07 0-2.86zM5.41 20L4 18.59l7.72-7.72 1.47 1.35L5.41 20z\"/>\n",
              "  </svg>\n",
              "      </button>\n",
              "      \n",
              "  <style>\n",
              "    .colab-df-container {\n",
              "      display:flex;\n",
              "      flex-wrap:wrap;\n",
              "      gap: 12px;\n",
              "    }\n",
              "\n",
              "    .colab-df-convert {\n",
              "      background-color: #E8F0FE;\n",
              "      border: none;\n",
              "      border-radius: 50%;\n",
              "      cursor: pointer;\n",
              "      display: none;\n",
              "      fill: #1967D2;\n",
              "      height: 32px;\n",
              "      padding: 0 0 0 0;\n",
              "      width: 32px;\n",
              "    }\n",
              "\n",
              "    .colab-df-convert:hover {\n",
              "      background-color: #E2EBFA;\n",
              "      box-shadow: 0px 1px 2px rgba(60, 64, 67, 0.3), 0px 1px 3px 1px rgba(60, 64, 67, 0.15);\n",
              "      fill: #174EA6;\n",
              "    }\n",
              "\n",
              "    [theme=dark] .colab-df-convert {\n",
              "      background-color: #3B4455;\n",
              "      fill: #D2E3FC;\n",
              "    }\n",
              "\n",
              "    [theme=dark] .colab-df-convert:hover {\n",
              "      background-color: #434B5C;\n",
              "      box-shadow: 0px 1px 3px 1px rgba(0, 0, 0, 0.15);\n",
              "      filter: drop-shadow(0px 1px 2px rgba(0, 0, 0, 0.3));\n",
              "      fill: #FFFFFF;\n",
              "    }\n",
              "  </style>\n",
              "\n",
              "      <script>\n",
              "        const buttonEl =\n",
              "          document.querySelector('#df-7831a31b-66c0-47e3-8e29-cf7c9b99a234 button.colab-df-convert');\n",
              "        buttonEl.style.display =\n",
              "          google.colab.kernel.accessAllowed ? 'block' : 'none';\n",
              "\n",
              "        async function convertToInteractive(key) {\n",
              "          const element = document.querySelector('#df-7831a31b-66c0-47e3-8e29-cf7c9b99a234');\n",
              "          const dataTable =\n",
              "            await google.colab.kernel.invokeFunction('convertToInteractive',\n",
              "                                                     [key], {});\n",
              "          if (!dataTable) return;\n",
              "\n",
              "          const docLinkHtml = 'Like what you see? Visit the ' +\n",
              "            '<a target=\"_blank\" href=https://colab.research.google.com/notebooks/data_table.ipynb>data table notebook</a>'\n",
              "            + ' to learn more about interactive tables.';\n",
              "          element.innerHTML = '';\n",
              "          dataTable['output_type'] = 'display_data';\n",
              "          await google.colab.output.renderOutput(dataTable, element);\n",
              "          const docLink = document.createElement('div');\n",
              "          docLink.innerHTML = docLinkHtml;\n",
              "          element.appendChild(docLink);\n",
              "        }\n",
              "      </script>\n",
              "    </div>\n",
              "  </div>\n",
              "  "
            ],
            "text/plain": [
              "      federal_subjects  \\\n",
              "0           46 oblasts   \n",
              "1         22 republics   \n",
              "2              9 krais   \n",
              "3  4 autonomous okrugs   \n",
              "4     3 federal cities   \n",
              "5  1 autonomous oblast   \n",
              "\n",
              "                                                                                                                                                                                                                                                       governance  \n",
              "0                                                                                                                The most common type of federal subject with a governor and locally elected legislature. Commonly named after their administrative centres.[240]  \n",
              "1                                                           Each is nominally autonomous—home to a specific ethnic minority, and has its own constitution, language, and legislature, but is represented by the federal government in international affairs.[241]  \n",
              "2  For all intents and purposes, krais are legally identical to oblasts. The title \"krai\" (\"frontier\" or \"territory\") is historic, related to geographic (frontier) position in a certain period of history. The current krais are not related to frontiers.[242]  \n",
              "3                                                                                                     Occasionally referred to as \"autonomous district\", \"autonomous area\", and \"autonomous region\", each with a substantial or predominant ethnic minority.[243]  \n",
              "4                                                                                                                                                                 Major cities that function as separate regions (Moscow, Saint Petersburg, and Sevastopol).[244]  \n",
              "5                                                                                                                                                                                                The only autonomous oblast is the Jewish Autonomous Oblast.[245]  "
            ]
          },
          "metadata": {},
          "execution_count": 93
        }
      ]
    },
    {
      "cell_type": "markdown",
      "source": [
        "# Practice 8: Scrape the table F1 2021 standings"
      ],
      "metadata": {
        "id": "gs0qOASo2No6"
      }
    },
    {
      "cell_type": "code",
      "source": [
        "import requests\n",
        "from bs4 import BeautifulSoup\n",
        "import pandas as pd"
      ],
      "metadata": {
        "id": "_Kq1uYgRUVkm"
      },
      "execution_count": 94,
      "outputs": []
    },
    {
      "cell_type": "code",
      "source": [
        "url = 'https://www.formula1.com/en/results.html/2021/drivers.html'\n",
        "\n",
        "response_8 = requests.get(url)\n",
        "response_8"
      ],
      "metadata": {
        "colab": {
          "base_uri": "https://localhost:8080/"
        },
        "id": "Q5epSe1l2bv4",
        "outputId": "fe8b74f5-049e-488d-a89b-3417e417e7e5"
      },
      "execution_count": 95,
      "outputs": [
        {
          "output_type": "execute_result",
          "data": {
            "text/plain": [
              "<Response [200]>"
            ]
          },
          "metadata": {},
          "execution_count": 95
        }
      ]
    },
    {
      "cell_type": "code",
      "source": [
        "response_8_str = response_8.text\n",
        "#response_8_str"
      ],
      "metadata": {
        "id": "oyq9P43G2qnX"
      },
      "execution_count": 96,
      "outputs": []
    },
    {
      "cell_type": "code",
      "source": [
        "soup_8 = BeautifulSoup(response_8_str, 'lxml')\n",
        "table_8 = soup_8.find('table', {'class': 'resultsarchive-table'})\n",
        "#table_8"
      ],
      "metadata": {
        "id": "haKAXynUFYvj"
      },
      "execution_count": 97,
      "outputs": []
    },
    {
      "cell_type": "code",
      "source": [
        "#extract column names\n",
        "column_name_list_raw_8 = []\n",
        "for th in table_8.thead.find_all('th'):\n",
        "    column_name_list_raw_8.append(th.text.strip())\n",
        "\n",
        "column_name_list_8 = column_name_list_raw_8[1:-1]\n",
        "column_name_list_8"
      ],
      "metadata": {
        "colab": {
          "base_uri": "https://localhost:8080/"
        },
        "id": "VBgEIlKkFg16",
        "outputId": "9d83d761-6d74-4ca7-8793-ab81e9d0f087"
      },
      "execution_count": 98,
      "outputs": [
        {
          "output_type": "execute_result",
          "data": {
            "text/plain": [
              "['Pos', 'Driver', 'Nationality', 'Car', 'PTS']"
            ]
          },
          "metadata": {},
          "execution_count": 98
        }
      ]
    },
    {
      "cell_type": "code",
      "source": [
        "# extract row values\n",
        "rows = table_8.tbody.find_all('tr')\n",
        "len(rows)"
      ],
      "metadata": {
        "colab": {
          "base_uri": "https://localhost:8080/"
        },
        "id": "HJ4b-bxXGVXV",
        "outputId": "010336f3-11e7-4693-eb89-72169bae34e4"
      },
      "execution_count": 99,
      "outputs": [
        {
          "output_type": "execute_result",
          "data": {
            "text/plain": [
              "21"
            ]
          },
          "metadata": {},
          "execution_count": 99
        }
      ]
    },
    {
      "cell_type": "code",
      "source": [
        "rows[0]"
      ],
      "metadata": {
        "colab": {
          "base_uri": "https://localhost:8080/"
        },
        "id": "kuNPWaj5JfaQ",
        "outputId": "6842504e-4a56-4db2-985c-09a0eb480284"
      },
      "execution_count": 100,
      "outputs": [
        {
          "output_type": "execute_result",
          "data": {
            "text/plain": [
              "<tr>\n",
              "<td class=\"limiter\"></td>\n",
              "<td class=\"dark\">1</td>\n",
              "<td>\n",
              "<a class=\"dark bold ArchiveLink\" data-ajax-url=\"/content/fom-website/en/results/jcr:content/resultsarchive.html/2021/drivers/MAXVER01/max-verstappen.html\" href=\"/en/results.html/2021/drivers/MAXVER01/max-verstappen.html\">\n",
              "<span class=\"hide-for-tablet\">Max</span>\n",
              "<span class=\"hide-for-mobile\">Verstappen</span>\n",
              "<span class=\"uppercase hide-for-desktop\">VER</span>\n",
              "</a>\n",
              "</td>\n",
              "<td class=\"dark semi-bold uppercase\">NED</td>\n",
              "<td>\n",
              "<a class=\"grey semi-bold uppercase ArchiveLink\" data-ajax-url=\"/content/fom-website/en/results/jcr:content/resultsarchive.html/2021/team/red_bull_racing_honda.html\" href=\"/en/results.html/2021/team/red_bull_racing_honda.html\">Red Bull Racing Honda</a>\n",
              "</td>\n",
              "<td class=\"dark bold\">395.5</td>\n",
              "<td class=\"limiter\"></td>\n",
              "</tr>"
            ]
          },
          "metadata": {},
          "execution_count": 100
        }
      ]
    },
    {
      "cell_type": "code",
      "source": [
        "standings_list = []\n",
        "for row in rows:\n",
        "    dict_ = {\n",
        "    'pos' : row.find_all('td')[1].text.strip(),\n",
        "    'driver' : row.find_all('td')[2].find('span', {'class': 'uppercase hide-for-desktop'}).text.strip(),\n",
        "    'nationality' : row.find_all('td')[3].text.strip(),\n",
        "    'car' : row.find_all('td')[4].text.strip(),\n",
        "    'pts' : row.find_all('td')[5].text.strip()\n",
        "    }\n",
        "    standings_list.append(dict_)\n",
        "\n",
        "print(standings_list)"
      ],
      "metadata": {
        "colab": {
          "base_uri": "https://localhost:8080/"
        },
        "id": "wi6o0XgsIBUC",
        "outputId": "bb28b341-3775-4443-bb73-ecb77c9479c5"
      },
      "execution_count": 101,
      "outputs": [
        {
          "output_type": "stream",
          "name": "stdout",
          "text": [
            "[{'pos': '1', 'driver': 'VER', 'nationality': 'NED', 'car': 'Red Bull Racing Honda', 'pts': '395.5'}, {'pos': '2', 'driver': 'HAM', 'nationality': 'GBR', 'car': 'Mercedes', 'pts': '387.5'}, {'pos': '3', 'driver': 'BOT', 'nationality': 'FIN', 'car': 'Mercedes', 'pts': '226'}, {'pos': '4', 'driver': 'PER', 'nationality': 'MEX', 'car': 'Red Bull Racing Honda', 'pts': '190'}, {'pos': '5', 'driver': 'SAI', 'nationality': 'ESP', 'car': 'Ferrari', 'pts': '164.5'}, {'pos': '6', 'driver': 'NOR', 'nationality': 'GBR', 'car': 'McLaren Mercedes', 'pts': '160'}, {'pos': '7', 'driver': 'LEC', 'nationality': 'MON', 'car': 'Ferrari', 'pts': '159'}, {'pos': '8', 'driver': 'RIC', 'nationality': 'AUS', 'car': 'McLaren Mercedes', 'pts': '115'}, {'pos': '9', 'driver': 'GAS', 'nationality': 'FRA', 'car': 'AlphaTauri Honda', 'pts': '110'}, {'pos': '10', 'driver': 'ALO', 'nationality': 'ESP', 'car': 'Alpine Renault', 'pts': '81'}, {'pos': '11', 'driver': 'OCO', 'nationality': 'FRA', 'car': 'Alpine Renault', 'pts': '74'}, {'pos': '12', 'driver': 'VET', 'nationality': 'GER', 'car': 'Aston Martin Mercedes', 'pts': '43'}, {'pos': '13', 'driver': 'STR', 'nationality': 'CAN', 'car': 'Aston Martin Mercedes', 'pts': '34'}, {'pos': '14', 'driver': 'TSU', 'nationality': 'JPN', 'car': 'AlphaTauri Honda', 'pts': '32'}, {'pos': '15', 'driver': 'RUS', 'nationality': 'GBR', 'car': 'Williams Mercedes', 'pts': '16'}, {'pos': '16', 'driver': 'RAI', 'nationality': 'FIN', 'car': 'Alfa Romeo Racing Ferrari', 'pts': '10'}, {'pos': '17', 'driver': 'LAT', 'nationality': 'CAN', 'car': 'Williams Mercedes', 'pts': '7'}, {'pos': '18', 'driver': 'GIO', 'nationality': 'ITA', 'car': 'Alfa Romeo Racing Ferrari', 'pts': '3'}, {'pos': '19', 'driver': 'MSC', 'nationality': 'GER', 'car': 'Haas Ferrari', 'pts': '0'}, {'pos': '20', 'driver': 'KUB', 'nationality': 'POL', 'car': 'Alfa Romeo Racing Ferrari', 'pts': '0'}, {'pos': '21', 'driver': 'MAZ', 'nationality': 'RAF', 'car': 'Haas Ferrari', 'pts': '0'}]\n"
          ]
        }
      ]
    },
    {
      "cell_type": "code",
      "source": [
        "pd.DataFrame(standings_list)"
      ],
      "metadata": {
        "colab": {
          "base_uri": "https://localhost:8080/",
          "height": 707
        },
        "id": "VW_hPaD1LUPr",
        "outputId": "51cd8ea3-41d8-4a7e-f5b9-0d8620c17b8a"
      },
      "execution_count": 102,
      "outputs": [
        {
          "output_type": "execute_result",
          "data": {
            "text/html": [
              "\n",
              "  <div id=\"df-fff22e9a-a7cf-4554-bc5d-a3ecb600c901\">\n",
              "    <div class=\"colab-df-container\">\n",
              "      <div>\n",
              "<style scoped>\n",
              "    .dataframe tbody tr th:only-of-type {\n",
              "        vertical-align: middle;\n",
              "    }\n",
              "\n",
              "    .dataframe tbody tr th {\n",
              "        vertical-align: top;\n",
              "    }\n",
              "\n",
              "    .dataframe thead th {\n",
              "        text-align: right;\n",
              "    }\n",
              "</style>\n",
              "<table border=\"1\" class=\"dataframe\">\n",
              "  <thead>\n",
              "    <tr style=\"text-align: right;\">\n",
              "      <th></th>\n",
              "      <th>pos</th>\n",
              "      <th>driver</th>\n",
              "      <th>nationality</th>\n",
              "      <th>car</th>\n",
              "      <th>pts</th>\n",
              "    </tr>\n",
              "  </thead>\n",
              "  <tbody>\n",
              "    <tr>\n",
              "      <th>0</th>\n",
              "      <td>1</td>\n",
              "      <td>VER</td>\n",
              "      <td>NED</td>\n",
              "      <td>Red Bull Racing Honda</td>\n",
              "      <td>395.5</td>\n",
              "    </tr>\n",
              "    <tr>\n",
              "      <th>1</th>\n",
              "      <td>2</td>\n",
              "      <td>HAM</td>\n",
              "      <td>GBR</td>\n",
              "      <td>Mercedes</td>\n",
              "      <td>387.5</td>\n",
              "    </tr>\n",
              "    <tr>\n",
              "      <th>2</th>\n",
              "      <td>3</td>\n",
              "      <td>BOT</td>\n",
              "      <td>FIN</td>\n",
              "      <td>Mercedes</td>\n",
              "      <td>226</td>\n",
              "    </tr>\n",
              "    <tr>\n",
              "      <th>3</th>\n",
              "      <td>4</td>\n",
              "      <td>PER</td>\n",
              "      <td>MEX</td>\n",
              "      <td>Red Bull Racing Honda</td>\n",
              "      <td>190</td>\n",
              "    </tr>\n",
              "    <tr>\n",
              "      <th>4</th>\n",
              "      <td>5</td>\n",
              "      <td>SAI</td>\n",
              "      <td>ESP</td>\n",
              "      <td>Ferrari</td>\n",
              "      <td>164.5</td>\n",
              "    </tr>\n",
              "    <tr>\n",
              "      <th>5</th>\n",
              "      <td>6</td>\n",
              "      <td>NOR</td>\n",
              "      <td>GBR</td>\n",
              "      <td>McLaren Mercedes</td>\n",
              "      <td>160</td>\n",
              "    </tr>\n",
              "    <tr>\n",
              "      <th>6</th>\n",
              "      <td>7</td>\n",
              "      <td>LEC</td>\n",
              "      <td>MON</td>\n",
              "      <td>Ferrari</td>\n",
              "      <td>159</td>\n",
              "    </tr>\n",
              "    <tr>\n",
              "      <th>7</th>\n",
              "      <td>8</td>\n",
              "      <td>RIC</td>\n",
              "      <td>AUS</td>\n",
              "      <td>McLaren Mercedes</td>\n",
              "      <td>115</td>\n",
              "    </tr>\n",
              "    <tr>\n",
              "      <th>8</th>\n",
              "      <td>9</td>\n",
              "      <td>GAS</td>\n",
              "      <td>FRA</td>\n",
              "      <td>AlphaTauri Honda</td>\n",
              "      <td>110</td>\n",
              "    </tr>\n",
              "    <tr>\n",
              "      <th>9</th>\n",
              "      <td>10</td>\n",
              "      <td>ALO</td>\n",
              "      <td>ESP</td>\n",
              "      <td>Alpine Renault</td>\n",
              "      <td>81</td>\n",
              "    </tr>\n",
              "    <tr>\n",
              "      <th>10</th>\n",
              "      <td>11</td>\n",
              "      <td>OCO</td>\n",
              "      <td>FRA</td>\n",
              "      <td>Alpine Renault</td>\n",
              "      <td>74</td>\n",
              "    </tr>\n",
              "    <tr>\n",
              "      <th>11</th>\n",
              "      <td>12</td>\n",
              "      <td>VET</td>\n",
              "      <td>GER</td>\n",
              "      <td>Aston Martin Mercedes</td>\n",
              "      <td>43</td>\n",
              "    </tr>\n",
              "    <tr>\n",
              "      <th>12</th>\n",
              "      <td>13</td>\n",
              "      <td>STR</td>\n",
              "      <td>CAN</td>\n",
              "      <td>Aston Martin Mercedes</td>\n",
              "      <td>34</td>\n",
              "    </tr>\n",
              "    <tr>\n",
              "      <th>13</th>\n",
              "      <td>14</td>\n",
              "      <td>TSU</td>\n",
              "      <td>JPN</td>\n",
              "      <td>AlphaTauri Honda</td>\n",
              "      <td>32</td>\n",
              "    </tr>\n",
              "    <tr>\n",
              "      <th>14</th>\n",
              "      <td>15</td>\n",
              "      <td>RUS</td>\n",
              "      <td>GBR</td>\n",
              "      <td>Williams Mercedes</td>\n",
              "      <td>16</td>\n",
              "    </tr>\n",
              "    <tr>\n",
              "      <th>15</th>\n",
              "      <td>16</td>\n",
              "      <td>RAI</td>\n",
              "      <td>FIN</td>\n",
              "      <td>Alfa Romeo Racing Ferrari</td>\n",
              "      <td>10</td>\n",
              "    </tr>\n",
              "    <tr>\n",
              "      <th>16</th>\n",
              "      <td>17</td>\n",
              "      <td>LAT</td>\n",
              "      <td>CAN</td>\n",
              "      <td>Williams Mercedes</td>\n",
              "      <td>7</td>\n",
              "    </tr>\n",
              "    <tr>\n",
              "      <th>17</th>\n",
              "      <td>18</td>\n",
              "      <td>GIO</td>\n",
              "      <td>ITA</td>\n",
              "      <td>Alfa Romeo Racing Ferrari</td>\n",
              "      <td>3</td>\n",
              "    </tr>\n",
              "    <tr>\n",
              "      <th>18</th>\n",
              "      <td>19</td>\n",
              "      <td>MSC</td>\n",
              "      <td>GER</td>\n",
              "      <td>Haas Ferrari</td>\n",
              "      <td>0</td>\n",
              "    </tr>\n",
              "    <tr>\n",
              "      <th>19</th>\n",
              "      <td>20</td>\n",
              "      <td>KUB</td>\n",
              "      <td>POL</td>\n",
              "      <td>Alfa Romeo Racing Ferrari</td>\n",
              "      <td>0</td>\n",
              "    </tr>\n",
              "    <tr>\n",
              "      <th>20</th>\n",
              "      <td>21</td>\n",
              "      <td>MAZ</td>\n",
              "      <td>RAF</td>\n",
              "      <td>Haas Ferrari</td>\n",
              "      <td>0</td>\n",
              "    </tr>\n",
              "  </tbody>\n",
              "</table>\n",
              "</div>\n",
              "      <button class=\"colab-df-convert\" onclick=\"convertToInteractive('df-fff22e9a-a7cf-4554-bc5d-a3ecb600c901')\"\n",
              "              title=\"Convert this dataframe to an interactive table.\"\n",
              "              style=\"display:none;\">\n",
              "        \n",
              "  <svg xmlns=\"http://www.w3.org/2000/svg\" height=\"24px\"viewBox=\"0 0 24 24\"\n",
              "       width=\"24px\">\n",
              "    <path d=\"M0 0h24v24H0V0z\" fill=\"none\"/>\n",
              "    <path d=\"M18.56 5.44l.94 2.06.94-2.06 2.06-.94-2.06-.94-.94-2.06-.94 2.06-2.06.94zm-11 1L8.5 8.5l.94-2.06 2.06-.94-2.06-.94L8.5 2.5l-.94 2.06-2.06.94zm10 10l.94 2.06.94-2.06 2.06-.94-2.06-.94-.94-2.06-.94 2.06-2.06.94z\"/><path d=\"M17.41 7.96l-1.37-1.37c-.4-.4-.92-.59-1.43-.59-.52 0-1.04.2-1.43.59L10.3 9.45l-7.72 7.72c-.78.78-.78 2.05 0 2.83L4 21.41c.39.39.9.59 1.41.59.51 0 1.02-.2 1.41-.59l7.78-7.78 2.81-2.81c.8-.78.8-2.07 0-2.86zM5.41 20L4 18.59l7.72-7.72 1.47 1.35L5.41 20z\"/>\n",
              "  </svg>\n",
              "      </button>\n",
              "      \n",
              "  <style>\n",
              "    .colab-df-container {\n",
              "      display:flex;\n",
              "      flex-wrap:wrap;\n",
              "      gap: 12px;\n",
              "    }\n",
              "\n",
              "    .colab-df-convert {\n",
              "      background-color: #E8F0FE;\n",
              "      border: none;\n",
              "      border-radius: 50%;\n",
              "      cursor: pointer;\n",
              "      display: none;\n",
              "      fill: #1967D2;\n",
              "      height: 32px;\n",
              "      padding: 0 0 0 0;\n",
              "      width: 32px;\n",
              "    }\n",
              "\n",
              "    .colab-df-convert:hover {\n",
              "      background-color: #E2EBFA;\n",
              "      box-shadow: 0px 1px 2px rgba(60, 64, 67, 0.3), 0px 1px 3px 1px rgba(60, 64, 67, 0.15);\n",
              "      fill: #174EA6;\n",
              "    }\n",
              "\n",
              "    [theme=dark] .colab-df-convert {\n",
              "      background-color: #3B4455;\n",
              "      fill: #D2E3FC;\n",
              "    }\n",
              "\n",
              "    [theme=dark] .colab-df-convert:hover {\n",
              "      background-color: #434B5C;\n",
              "      box-shadow: 0px 1px 3px 1px rgba(0, 0, 0, 0.15);\n",
              "      filter: drop-shadow(0px 1px 2px rgba(0, 0, 0, 0.3));\n",
              "      fill: #FFFFFF;\n",
              "    }\n",
              "  </style>\n",
              "\n",
              "      <script>\n",
              "        const buttonEl =\n",
              "          document.querySelector('#df-fff22e9a-a7cf-4554-bc5d-a3ecb600c901 button.colab-df-convert');\n",
              "        buttonEl.style.display =\n",
              "          google.colab.kernel.accessAllowed ? 'block' : 'none';\n",
              "\n",
              "        async function convertToInteractive(key) {\n",
              "          const element = document.querySelector('#df-fff22e9a-a7cf-4554-bc5d-a3ecb600c901');\n",
              "          const dataTable =\n",
              "            await google.colab.kernel.invokeFunction('convertToInteractive',\n",
              "                                                     [key], {});\n",
              "          if (!dataTable) return;\n",
              "\n",
              "          const docLinkHtml = 'Like what you see? Visit the ' +\n",
              "            '<a target=\"_blank\" href=https://colab.research.google.com/notebooks/data_table.ipynb>data table notebook</a>'\n",
              "            + ' to learn more about interactive tables.';\n",
              "          element.innerHTML = '';\n",
              "          dataTable['output_type'] = 'display_data';\n",
              "          await google.colab.output.renderOutput(dataTable, element);\n",
              "          const docLink = document.createElement('div');\n",
              "          docLink.innerHTML = docLinkHtml;\n",
              "          element.appendChild(docLink);\n",
              "        }\n",
              "      </script>\n",
              "    </div>\n",
              "  </div>\n",
              "  "
            ],
            "text/plain": [
              "   pos driver nationality                        car    pts\n",
              "0    1    VER         NED      Red Bull Racing Honda  395.5\n",
              "1    2    HAM         GBR                   Mercedes  387.5\n",
              "2    3    BOT         FIN                   Mercedes    226\n",
              "3    4    PER         MEX      Red Bull Racing Honda    190\n",
              "4    5    SAI         ESP                    Ferrari  164.5\n",
              "5    6    NOR         GBR           McLaren Mercedes    160\n",
              "6    7    LEC         MON                    Ferrari    159\n",
              "7    8    RIC         AUS           McLaren Mercedes    115\n",
              "8    9    GAS         FRA           AlphaTauri Honda    110\n",
              "9   10    ALO         ESP             Alpine Renault     81\n",
              "10  11    OCO         FRA             Alpine Renault     74\n",
              "11  12    VET         GER      Aston Martin Mercedes     43\n",
              "12  13    STR         CAN      Aston Martin Mercedes     34\n",
              "13  14    TSU         JPN           AlphaTauri Honda     32\n",
              "14  15    RUS         GBR          Williams Mercedes     16\n",
              "15  16    RAI         FIN  Alfa Romeo Racing Ferrari     10\n",
              "16  17    LAT         CAN          Williams Mercedes      7\n",
              "17  18    GIO         ITA  Alfa Romeo Racing Ferrari      3\n",
              "18  19    MSC         GER               Haas Ferrari      0\n",
              "19  20    KUB         POL  Alfa Romeo Racing Ferrari      0\n",
              "20  21    MAZ         RAF               Haas Ferrari      0"
            ]
          },
          "metadata": {},
          "execution_count": 102
        }
      ]
    },
    {
      "cell_type": "code",
      "source": [
        "a = pd.DataFrame(standings_list)\n",
        "a"
      ],
      "metadata": {
        "colab": {
          "base_uri": "https://localhost:8080/",
          "height": 707
        },
        "id": "wS2y30WgIzCT",
        "outputId": "98e2e416-2b4f-4d4d-b3ba-1ca8b3fabd19"
      },
      "execution_count": 103,
      "outputs": [
        {
          "output_type": "execute_result",
          "data": {
            "text/html": [
              "\n",
              "  <div id=\"df-0fdc107c-608c-4d06-a292-f3948e99283c\">\n",
              "    <div class=\"colab-df-container\">\n",
              "      <div>\n",
              "<style scoped>\n",
              "    .dataframe tbody tr th:only-of-type {\n",
              "        vertical-align: middle;\n",
              "    }\n",
              "\n",
              "    .dataframe tbody tr th {\n",
              "        vertical-align: top;\n",
              "    }\n",
              "\n",
              "    .dataframe thead th {\n",
              "        text-align: right;\n",
              "    }\n",
              "</style>\n",
              "<table border=\"1\" class=\"dataframe\">\n",
              "  <thead>\n",
              "    <tr style=\"text-align: right;\">\n",
              "      <th></th>\n",
              "      <th>pos</th>\n",
              "      <th>driver</th>\n",
              "      <th>nationality</th>\n",
              "      <th>car</th>\n",
              "      <th>pts</th>\n",
              "    </tr>\n",
              "  </thead>\n",
              "  <tbody>\n",
              "    <tr>\n",
              "      <th>0</th>\n",
              "      <td>1</td>\n",
              "      <td>VER</td>\n",
              "      <td>NED</td>\n",
              "      <td>Red Bull Racing Honda</td>\n",
              "      <td>395.5</td>\n",
              "    </tr>\n",
              "    <tr>\n",
              "      <th>1</th>\n",
              "      <td>2</td>\n",
              "      <td>HAM</td>\n",
              "      <td>GBR</td>\n",
              "      <td>Mercedes</td>\n",
              "      <td>387.5</td>\n",
              "    </tr>\n",
              "    <tr>\n",
              "      <th>2</th>\n",
              "      <td>3</td>\n",
              "      <td>BOT</td>\n",
              "      <td>FIN</td>\n",
              "      <td>Mercedes</td>\n",
              "      <td>226</td>\n",
              "    </tr>\n",
              "    <tr>\n",
              "      <th>3</th>\n",
              "      <td>4</td>\n",
              "      <td>PER</td>\n",
              "      <td>MEX</td>\n",
              "      <td>Red Bull Racing Honda</td>\n",
              "      <td>190</td>\n",
              "    </tr>\n",
              "    <tr>\n",
              "      <th>4</th>\n",
              "      <td>5</td>\n",
              "      <td>SAI</td>\n",
              "      <td>ESP</td>\n",
              "      <td>Ferrari</td>\n",
              "      <td>164.5</td>\n",
              "    </tr>\n",
              "    <tr>\n",
              "      <th>5</th>\n",
              "      <td>6</td>\n",
              "      <td>NOR</td>\n",
              "      <td>GBR</td>\n",
              "      <td>McLaren Mercedes</td>\n",
              "      <td>160</td>\n",
              "    </tr>\n",
              "    <tr>\n",
              "      <th>6</th>\n",
              "      <td>7</td>\n",
              "      <td>LEC</td>\n",
              "      <td>MON</td>\n",
              "      <td>Ferrari</td>\n",
              "      <td>159</td>\n",
              "    </tr>\n",
              "    <tr>\n",
              "      <th>7</th>\n",
              "      <td>8</td>\n",
              "      <td>RIC</td>\n",
              "      <td>AUS</td>\n",
              "      <td>McLaren Mercedes</td>\n",
              "      <td>115</td>\n",
              "    </tr>\n",
              "    <tr>\n",
              "      <th>8</th>\n",
              "      <td>9</td>\n",
              "      <td>GAS</td>\n",
              "      <td>FRA</td>\n",
              "      <td>AlphaTauri Honda</td>\n",
              "      <td>110</td>\n",
              "    </tr>\n",
              "    <tr>\n",
              "      <th>9</th>\n",
              "      <td>10</td>\n",
              "      <td>ALO</td>\n",
              "      <td>ESP</td>\n",
              "      <td>Alpine Renault</td>\n",
              "      <td>81</td>\n",
              "    </tr>\n",
              "    <tr>\n",
              "      <th>10</th>\n",
              "      <td>11</td>\n",
              "      <td>OCO</td>\n",
              "      <td>FRA</td>\n",
              "      <td>Alpine Renault</td>\n",
              "      <td>74</td>\n",
              "    </tr>\n",
              "    <tr>\n",
              "      <th>11</th>\n",
              "      <td>12</td>\n",
              "      <td>VET</td>\n",
              "      <td>GER</td>\n",
              "      <td>Aston Martin Mercedes</td>\n",
              "      <td>43</td>\n",
              "    </tr>\n",
              "    <tr>\n",
              "      <th>12</th>\n",
              "      <td>13</td>\n",
              "      <td>STR</td>\n",
              "      <td>CAN</td>\n",
              "      <td>Aston Martin Mercedes</td>\n",
              "      <td>34</td>\n",
              "    </tr>\n",
              "    <tr>\n",
              "      <th>13</th>\n",
              "      <td>14</td>\n",
              "      <td>TSU</td>\n",
              "      <td>JPN</td>\n",
              "      <td>AlphaTauri Honda</td>\n",
              "      <td>32</td>\n",
              "    </tr>\n",
              "    <tr>\n",
              "      <th>14</th>\n",
              "      <td>15</td>\n",
              "      <td>RUS</td>\n",
              "      <td>GBR</td>\n",
              "      <td>Williams Mercedes</td>\n",
              "      <td>16</td>\n",
              "    </tr>\n",
              "    <tr>\n",
              "      <th>15</th>\n",
              "      <td>16</td>\n",
              "      <td>RAI</td>\n",
              "      <td>FIN</td>\n",
              "      <td>Alfa Romeo Racing Ferrari</td>\n",
              "      <td>10</td>\n",
              "    </tr>\n",
              "    <tr>\n",
              "      <th>16</th>\n",
              "      <td>17</td>\n",
              "      <td>LAT</td>\n",
              "      <td>CAN</td>\n",
              "      <td>Williams Mercedes</td>\n",
              "      <td>7</td>\n",
              "    </tr>\n",
              "    <tr>\n",
              "      <th>17</th>\n",
              "      <td>18</td>\n",
              "      <td>GIO</td>\n",
              "      <td>ITA</td>\n",
              "      <td>Alfa Romeo Racing Ferrari</td>\n",
              "      <td>3</td>\n",
              "    </tr>\n",
              "    <tr>\n",
              "      <th>18</th>\n",
              "      <td>19</td>\n",
              "      <td>MSC</td>\n",
              "      <td>GER</td>\n",
              "      <td>Haas Ferrari</td>\n",
              "      <td>0</td>\n",
              "    </tr>\n",
              "    <tr>\n",
              "      <th>19</th>\n",
              "      <td>20</td>\n",
              "      <td>KUB</td>\n",
              "      <td>POL</td>\n",
              "      <td>Alfa Romeo Racing Ferrari</td>\n",
              "      <td>0</td>\n",
              "    </tr>\n",
              "    <tr>\n",
              "      <th>20</th>\n",
              "      <td>21</td>\n",
              "      <td>MAZ</td>\n",
              "      <td>RAF</td>\n",
              "      <td>Haas Ferrari</td>\n",
              "      <td>0</td>\n",
              "    </tr>\n",
              "  </tbody>\n",
              "</table>\n",
              "</div>\n",
              "      <button class=\"colab-df-convert\" onclick=\"convertToInteractive('df-0fdc107c-608c-4d06-a292-f3948e99283c')\"\n",
              "              title=\"Convert this dataframe to an interactive table.\"\n",
              "              style=\"display:none;\">\n",
              "        \n",
              "  <svg xmlns=\"http://www.w3.org/2000/svg\" height=\"24px\"viewBox=\"0 0 24 24\"\n",
              "       width=\"24px\">\n",
              "    <path d=\"M0 0h24v24H0V0z\" fill=\"none\"/>\n",
              "    <path d=\"M18.56 5.44l.94 2.06.94-2.06 2.06-.94-2.06-.94-.94-2.06-.94 2.06-2.06.94zm-11 1L8.5 8.5l.94-2.06 2.06-.94-2.06-.94L8.5 2.5l-.94 2.06-2.06.94zm10 10l.94 2.06.94-2.06 2.06-.94-2.06-.94-.94-2.06-.94 2.06-2.06.94z\"/><path d=\"M17.41 7.96l-1.37-1.37c-.4-.4-.92-.59-1.43-.59-.52 0-1.04.2-1.43.59L10.3 9.45l-7.72 7.72c-.78.78-.78 2.05 0 2.83L4 21.41c.39.39.9.59 1.41.59.51 0 1.02-.2 1.41-.59l7.78-7.78 2.81-2.81c.8-.78.8-2.07 0-2.86zM5.41 20L4 18.59l7.72-7.72 1.47 1.35L5.41 20z\"/>\n",
              "  </svg>\n",
              "      </button>\n",
              "      \n",
              "  <style>\n",
              "    .colab-df-container {\n",
              "      display:flex;\n",
              "      flex-wrap:wrap;\n",
              "      gap: 12px;\n",
              "    }\n",
              "\n",
              "    .colab-df-convert {\n",
              "      background-color: #E8F0FE;\n",
              "      border: none;\n",
              "      border-radius: 50%;\n",
              "      cursor: pointer;\n",
              "      display: none;\n",
              "      fill: #1967D2;\n",
              "      height: 32px;\n",
              "      padding: 0 0 0 0;\n",
              "      width: 32px;\n",
              "    }\n",
              "\n",
              "    .colab-df-convert:hover {\n",
              "      background-color: #E2EBFA;\n",
              "      box-shadow: 0px 1px 2px rgba(60, 64, 67, 0.3), 0px 1px 3px 1px rgba(60, 64, 67, 0.15);\n",
              "      fill: #174EA6;\n",
              "    }\n",
              "\n",
              "    [theme=dark] .colab-df-convert {\n",
              "      background-color: #3B4455;\n",
              "      fill: #D2E3FC;\n",
              "    }\n",
              "\n",
              "    [theme=dark] .colab-df-convert:hover {\n",
              "      background-color: #434B5C;\n",
              "      box-shadow: 0px 1px 3px 1px rgba(0, 0, 0, 0.15);\n",
              "      filter: drop-shadow(0px 1px 2px rgba(0, 0, 0, 0.3));\n",
              "      fill: #FFFFFF;\n",
              "    }\n",
              "  </style>\n",
              "\n",
              "      <script>\n",
              "        const buttonEl =\n",
              "          document.querySelector('#df-0fdc107c-608c-4d06-a292-f3948e99283c button.colab-df-convert');\n",
              "        buttonEl.style.display =\n",
              "          google.colab.kernel.accessAllowed ? 'block' : 'none';\n",
              "\n",
              "        async function convertToInteractive(key) {\n",
              "          const element = document.querySelector('#df-0fdc107c-608c-4d06-a292-f3948e99283c');\n",
              "          const dataTable =\n",
              "            await google.colab.kernel.invokeFunction('convertToInteractive',\n",
              "                                                     [key], {});\n",
              "          if (!dataTable) return;\n",
              "\n",
              "          const docLinkHtml = 'Like what you see? Visit the ' +\n",
              "            '<a target=\"_blank\" href=https://colab.research.google.com/notebooks/data_table.ipynb>data table notebook</a>'\n",
              "            + ' to learn more about interactive tables.';\n",
              "          element.innerHTML = '';\n",
              "          dataTable['output_type'] = 'display_data';\n",
              "          await google.colab.output.renderOutput(dataTable, element);\n",
              "          const docLink = document.createElement('div');\n",
              "          docLink.innerHTML = docLinkHtml;\n",
              "          element.appendChild(docLink);\n",
              "        }\n",
              "      </script>\n",
              "    </div>\n",
              "  </div>\n",
              "  "
            ],
            "text/plain": [
              "   pos driver nationality                        car    pts\n",
              "0    1    VER         NED      Red Bull Racing Honda  395.5\n",
              "1    2    HAM         GBR                   Mercedes  387.5\n",
              "2    3    BOT         FIN                   Mercedes    226\n",
              "3    4    PER         MEX      Red Bull Racing Honda    190\n",
              "4    5    SAI         ESP                    Ferrari  164.5\n",
              "5    6    NOR         GBR           McLaren Mercedes    160\n",
              "6    7    LEC         MON                    Ferrari    159\n",
              "7    8    RIC         AUS           McLaren Mercedes    115\n",
              "8    9    GAS         FRA           AlphaTauri Honda    110\n",
              "9   10    ALO         ESP             Alpine Renault     81\n",
              "10  11    OCO         FRA             Alpine Renault     74\n",
              "11  12    VET         GER      Aston Martin Mercedes     43\n",
              "12  13    STR         CAN      Aston Martin Mercedes     34\n",
              "13  14    TSU         JPN           AlphaTauri Honda     32\n",
              "14  15    RUS         GBR          Williams Mercedes     16\n",
              "15  16    RAI         FIN  Alfa Romeo Racing Ferrari     10\n",
              "16  17    LAT         CAN          Williams Mercedes      7\n",
              "17  18    GIO         ITA  Alfa Romeo Racing Ferrari      3\n",
              "18  19    MSC         GER               Haas Ferrari      0\n",
              "19  20    KUB         POL  Alfa Romeo Racing Ferrari      0\n",
              "20  21    MAZ         RAF               Haas Ferrari      0"
            ]
          },
          "metadata": {},
          "execution_count": 103
        }
      ]
    },
    {
      "cell_type": "markdown",
      "source": [
        "# Practice 9: Extract data from api"
      ],
      "metadata": {
        "id": "_w-Obl5RI0yX"
      }
    },
    {
      "cell_type": "markdown",
      "source": [
        "Link: https://cf-courses-data.s3.us.cloud-object-storage.appdomain.cloud/IBM-DS0321EN-SkillsNetwork/datasets/API_call_spacex_api.json"
      ],
      "metadata": {
        "id": "Y1UFsCD8JAQh"
      }
    },
    {
      "cell_type": "code",
      "source": [
        "import requests\n",
        "from bs4 import BeautifulSoup\n",
        "import pandas as pd"
      ],
      "metadata": {
        "id": "cL6hE9ALIvb3"
      },
      "execution_count": 104,
      "outputs": []
    },
    {
      "cell_type": "code",
      "source": [
        "url = 'https://cf-courses-data.s3.us.cloud-object-storage.appdomain.cloud/IBM-DS0321EN-SkillsNetwork/datasets/API_call_spacex_api.json'\n",
        "response_9 = requests.get(url, headers = headers)\n",
        "response_9"
      ],
      "metadata": {
        "colab": {
          "base_uri": "https://localhost:8080/"
        },
        "id": "N6yvHlVeJNkD",
        "outputId": "9d804537-df7c-47b4-f1c6-4519aeff8422"
      },
      "execution_count": 105,
      "outputs": [
        {
          "output_type": "execute_result",
          "data": {
            "text/plain": [
              "<Response [200]>"
            ]
          },
          "metadata": {},
          "execution_count": 105
        }
      ]
    },
    {
      "cell_type": "code",
      "source": [
        "response_9_json = response_9.json()\n",
        "response_9_json[0]"
      ],
      "metadata": {
        "colab": {
          "base_uri": "https://localhost:8080/"
        },
        "id": "Jsc86QkSJYKK",
        "outputId": "9fe07408-3e28-4ba8-f89a-345ebe133c99"
      },
      "execution_count": 106,
      "outputs": [
        {
          "output_type": "execute_result",
          "data": {
            "text/plain": [
              "{'auto_update': True,\n",
              " 'capsules': [],\n",
              " 'cores': [{'core': '5e9e289df35918033d3b2623',\n",
              "   'flight': 1,\n",
              "   'gridfins': False,\n",
              "   'landing_attempt': False,\n",
              "   'landing_success': None,\n",
              "   'landing_type': None,\n",
              "   'landpad': None,\n",
              "   'legs': False,\n",
              "   'reused': False}],\n",
              " 'crew': [],\n",
              " 'date_local': '2006-03-25T10:30:00+12:00',\n",
              " 'date_precision': 'hour',\n",
              " 'date_unix': 1143239400,\n",
              " 'date_utc': '2006-03-24T22:30:00.000Z',\n",
              " 'details': 'Engine failure at 33 seconds and loss of vehicle',\n",
              " 'failures': [{'altitude': None,\n",
              "   'reason': 'merlin engine failure',\n",
              "   'time': 33}],\n",
              " 'fairings': {'recovered': False,\n",
              "  'recovery_attempt': False,\n",
              "  'reused': False,\n",
              "  'ships': []},\n",
              " 'flight_number': 1,\n",
              " 'id': '5eb87cd9ffd86e000604b32a',\n",
              " 'launchpad': '5e9e4502f5090995de566f86',\n",
              " 'links': {'article': 'https://www.space.com/2196-spacex-inaugural-falcon-1-rocket-lost-launch.html',\n",
              "  'flickr': {'original': [], 'small': []},\n",
              "  'patch': {'large': 'https://images2.imgbox.com/40/e3/GypSkayF_o.png',\n",
              "   'small': 'https://images2.imgbox.com/3c/0e/T8iJcSN3_o.png'},\n",
              "  'presskit': None,\n",
              "  'reddit': {'campaign': None,\n",
              "   'launch': None,\n",
              "   'media': None,\n",
              "   'recovery': None},\n",
              "  'webcast': 'https://www.youtube.com/watch?v=0a_00nJ_Y88',\n",
              "  'wikipedia': 'https://en.wikipedia.org/wiki/DemoSat',\n",
              "  'youtube_id': '0a_00nJ_Y88'},\n",
              " 'name': 'FalconSat',\n",
              " 'net': False,\n",
              " 'payloads': ['5eb0e4b5b6c3bb0006eeb1e1'],\n",
              " 'rocket': '5e9d0d95eda69955f709d1eb',\n",
              " 'ships': [],\n",
              " 'static_fire_date_unix': 1142553600,\n",
              " 'static_fire_date_utc': '2006-03-17T00:00:00.000Z',\n",
              " 'success': False,\n",
              " 'tbd': False,\n",
              " 'upcoming': False,\n",
              " 'window': 0}"
            ]
          },
          "metadata": {},
          "execution_count": 106
        }
      ]
    },
    {
      "cell_type": "code",
      "source": [
        "response_9_normalise = pd.json_normalize(response_9_json)\n",
        "response_9_normalise"
      ],
      "metadata": {
        "colab": {
          "base_uri": "https://localhost:8080/",
          "height": 1000
        },
        "id": "yHpaR5Gg1WAk",
        "outputId": "afd87452-91c6-4823-d797-60f37c86f2f0"
      },
      "execution_count": 107,
      "outputs": [
        {
          "output_type": "execute_result",
          "data": {
            "text/html": [
              "\n",
              "  <div id=\"df-f50d013a-c6df-448a-bd72-e048b34b0100\">\n",
              "    <div class=\"colab-df-container\">\n",
              "      <div>\n",
              "<style scoped>\n",
              "    .dataframe tbody tr th:only-of-type {\n",
              "        vertical-align: middle;\n",
              "    }\n",
              "\n",
              "    .dataframe tbody tr th {\n",
              "        vertical-align: top;\n",
              "    }\n",
              "\n",
              "    .dataframe thead th {\n",
              "        text-align: right;\n",
              "    }\n",
              "</style>\n",
              "<table border=\"1\" class=\"dataframe\">\n",
              "  <thead>\n",
              "    <tr style=\"text-align: right;\">\n",
              "      <th></th>\n",
              "      <th>static_fire_date_utc</th>\n",
              "      <th>static_fire_date_unix</th>\n",
              "      <th>tbd</th>\n",
              "      <th>net</th>\n",
              "      <th>window</th>\n",
              "      <th>rocket</th>\n",
              "      <th>success</th>\n",
              "      <th>details</th>\n",
              "      <th>crew</th>\n",
              "      <th>ships</th>\n",
              "      <th>...</th>\n",
              "      <th>links.reddit.media</th>\n",
              "      <th>links.reddit.recovery</th>\n",
              "      <th>links.flickr.small</th>\n",
              "      <th>links.flickr.original</th>\n",
              "      <th>links.presskit</th>\n",
              "      <th>links.webcast</th>\n",
              "      <th>links.youtube_id</th>\n",
              "      <th>links.article</th>\n",
              "      <th>links.wikipedia</th>\n",
              "      <th>fairings</th>\n",
              "    </tr>\n",
              "  </thead>\n",
              "  <tbody>\n",
              "    <tr>\n",
              "      <th>0</th>\n",
              "      <td>2006-03-17T00:00:00.000Z</td>\n",
              "      <td>1.142554e+09</td>\n",
              "      <td>False</td>\n",
              "      <td>False</td>\n",
              "      <td>0.0</td>\n",
              "      <td>5e9d0d95eda69955f709d1eb</td>\n",
              "      <td>False</td>\n",
              "      <td>Engine failure at 33 seconds and loss of vehicle</td>\n",
              "      <td>[]</td>\n",
              "      <td>[]</td>\n",
              "      <td>...</td>\n",
              "      <td>None</td>\n",
              "      <td>None</td>\n",
              "      <td>[]</td>\n",
              "      <td>[]</td>\n",
              "      <td>None</td>\n",
              "      <td>https://www.youtube.com/watch?v=0a_00nJ_Y88</td>\n",
              "      <td>0a_00nJ_Y88</td>\n",
              "      <td>https://www.space.com/2196-spacex-inaugural-falcon-1-rocket-lost-launch.html</td>\n",
              "      <td>https://en.wikipedia.org/wiki/DemoSat</td>\n",
              "      <td>NaN</td>\n",
              "    </tr>\n",
              "    <tr>\n",
              "      <th>1</th>\n",
              "      <td>None</td>\n",
              "      <td>NaN</td>\n",
              "      <td>False</td>\n",
              "      <td>False</td>\n",
              "      <td>0.0</td>\n",
              "      <td>5e9d0d95eda69955f709d1eb</td>\n",
              "      <td>False</td>\n",
              "      <td>Successful first stage burn and transition to second stage, maximum altitude 289 km, Premature engine shutdown at T+7 min 30 s, Failed to reach orbit, Failed to recover first stage</td>\n",
              "      <td>[]</td>\n",
              "      <td>[]</td>\n",
              "      <td>...</td>\n",
              "      <td>None</td>\n",
              "      <td>None</td>\n",
              "      <td>[]</td>\n",
              "      <td>[]</td>\n",
              "      <td>None</td>\n",
              "      <td>https://www.youtube.com/watch?v=Lk4zQ2wP-Nc</td>\n",
              "      <td>Lk4zQ2wP-Nc</td>\n",
              "      <td>https://www.space.com/3590-spacex-falcon-1-rocket-fails-reach-orbit.html</td>\n",
              "      <td>https://en.wikipedia.org/wiki/DemoSat</td>\n",
              "      <td>NaN</td>\n",
              "    </tr>\n",
              "    <tr>\n",
              "      <th>2</th>\n",
              "      <td>None</td>\n",
              "      <td>NaN</td>\n",
              "      <td>False</td>\n",
              "      <td>False</td>\n",
              "      <td>0.0</td>\n",
              "      <td>5e9d0d95eda69955f709d1eb</td>\n",
              "      <td>False</td>\n",
              "      <td>Residual stage 1 thrust led to collision between stage 1 and stage 2</td>\n",
              "      <td>[]</td>\n",
              "      <td>[]</td>\n",
              "      <td>...</td>\n",
              "      <td>None</td>\n",
              "      <td>None</td>\n",
              "      <td>[]</td>\n",
              "      <td>[]</td>\n",
              "      <td>None</td>\n",
              "      <td>https://www.youtube.com/watch?v=v0w9p3U8860</td>\n",
              "      <td>v0w9p3U8860</td>\n",
              "      <td>http://www.spacex.com/news/2013/02/11/falcon-1-flight-3-mission-summary</td>\n",
              "      <td>https://en.wikipedia.org/wiki/Trailblazer_(satellite)</td>\n",
              "      <td>NaN</td>\n",
              "    </tr>\n",
              "    <tr>\n",
              "      <th>3</th>\n",
              "      <td>2008-09-20T00:00:00.000Z</td>\n",
              "      <td>1.221869e+09</td>\n",
              "      <td>False</td>\n",
              "      <td>False</td>\n",
              "      <td>0.0</td>\n",
              "      <td>5e9d0d95eda69955f709d1eb</td>\n",
              "      <td>True</td>\n",
              "      <td>Ratsat was carried to orbit on the first successful orbital launch of any privately funded and developed, liquid-propelled carrier rocket, the SpaceX Falcon 1</td>\n",
              "      <td>[]</td>\n",
              "      <td>[]</td>\n",
              "      <td>...</td>\n",
              "      <td>None</td>\n",
              "      <td>None</td>\n",
              "      <td>[]</td>\n",
              "      <td>[]</td>\n",
              "      <td>None</td>\n",
              "      <td>https://www.youtube.com/watch?v=dLQ2tZEH6G0</td>\n",
              "      <td>dLQ2tZEH6G0</td>\n",
              "      <td>https://en.wikipedia.org/wiki/Ratsat</td>\n",
              "      <td>https://en.wikipedia.org/wiki/Ratsat</td>\n",
              "      <td>NaN</td>\n",
              "    </tr>\n",
              "    <tr>\n",
              "      <th>4</th>\n",
              "      <td>None</td>\n",
              "      <td>NaN</td>\n",
              "      <td>False</td>\n",
              "      <td>False</td>\n",
              "      <td>0.0</td>\n",
              "      <td>5e9d0d95eda69955f709d1eb</td>\n",
              "      <td>True</td>\n",
              "      <td>None</td>\n",
              "      <td>[]</td>\n",
              "      <td>[]</td>\n",
              "      <td>...</td>\n",
              "      <td>None</td>\n",
              "      <td>None</td>\n",
              "      <td>[]</td>\n",
              "      <td>[]</td>\n",
              "      <td>http://www.spacex.com/press/2012/12/19/spacexs-falcon-1-successfully-delivers-razaksat-satellite-orbit</td>\n",
              "      <td>https://www.youtube.com/watch?v=yTaIDooc8Og</td>\n",
              "      <td>yTaIDooc8Og</td>\n",
              "      <td>http://www.spacex.com/news/2013/02/12/falcon-1-flight-5</td>\n",
              "      <td>https://en.wikipedia.org/wiki/RazakSAT</td>\n",
              "      <td>NaN</td>\n",
              "    </tr>\n",
              "    <tr>\n",
              "      <th>...</th>\n",
              "      <td>...</td>\n",
              "      <td>...</td>\n",
              "      <td>...</td>\n",
              "      <td>...</td>\n",
              "      <td>...</td>\n",
              "      <td>...</td>\n",
              "      <td>...</td>\n",
              "      <td>...</td>\n",
              "      <td>...</td>\n",
              "      <td>...</td>\n",
              "      <td>...</td>\n",
              "      <td>...</td>\n",
              "      <td>...</td>\n",
              "      <td>...</td>\n",
              "      <td>...</td>\n",
              "      <td>...</td>\n",
              "      <td>...</td>\n",
              "      <td>...</td>\n",
              "      <td>...</td>\n",
              "      <td>...</td>\n",
              "      <td>...</td>\n",
              "    </tr>\n",
              "    <tr>\n",
              "      <th>102</th>\n",
              "      <td>None</td>\n",
              "      <td>NaN</td>\n",
              "      <td>False</td>\n",
              "      <td>False</td>\n",
              "      <td>0.0</td>\n",
              "      <td>5e9d0d95eda69973a809d1ec</td>\n",
              "      <td>True</td>\n",
              "      <td>This mission will launch the twelfth batch of operational Starlink satellites, which are expected to be version 1.0, from SLC-40, Cape Canaveral Air Force Station. It is the thirteenth Starlink launch overall. The satellites will be delivered to low Earth orbit and will spend a few weeks maneuvering to their operational altitude of 550 km. The booster for this mission is expected to land on an ASDS.</td>\n",
              "      <td>[]</td>\n",
              "      <td>[5ea6ed2f080df4000697c90b, 5ea6ed2f080df4000697c910, 5ea6ed2e080df4000697c907, 5ea6ed2e080df4000697c908, 5ea6ed30080df4000697c913]</td>\n",
              "      <td>...</td>\n",
              "      <td>https://www.reddit.com/r/spacex/comments/iudifm/rspacex_starlink12_media_thread_photographer/</td>\n",
              "      <td>None</td>\n",
              "      <td>[]</td>\n",
              "      <td>[https://live.staticflickr.com/65535/50428228397_6151927733_o.jpg, https://live.staticflickr.com/65535/50427359318_67b3397892_o.jpg, https://live.staticflickr.com/65535/50428050591_36defbe958_o.jpg]</td>\n",
              "      <td>None</td>\n",
              "      <td>https://youtu.be/UZkaE_9zwQQ</td>\n",
              "      <td>UZkaE_9zwQQ</td>\n",
              "      <td>None</td>\n",
              "      <td>https://en.wikipedia.org/wiki/Starlink</td>\n",
              "      <td>NaN</td>\n",
              "    </tr>\n",
              "    <tr>\n",
              "      <th>103</th>\n",
              "      <td>2020-10-17T05:23:00.000Z</td>\n",
              "      <td>1.602912e+09</td>\n",
              "      <td>False</td>\n",
              "      <td>False</td>\n",
              "      <td>NaN</td>\n",
              "      <td>5e9d0d95eda69973a809d1ec</td>\n",
              "      <td>True</td>\n",
              "      <td>This mission will launch the thirteenth batch of operational Starlink satellites, which are expected to be version 1.0, from LC-39A, Kennedy Space Center. It is the fourteenth Starlink launch overall. The satellites will be delivered to low Earth orbit and will spend a few weeks maneuvering to their operational altitude of 550 km. The booster for this mission is expected to land on an ASDS.</td>\n",
              "      <td>[]</td>\n",
              "      <td>[5ea6ed30080df4000697c913, 5ea6ed2f080df4000697c90b, 5ee68c683c228f36bd5809b5, 5ea6ed2e080df4000697c907, 5ea6ed2e080df4000697c908]</td>\n",
              "      <td>...</td>\n",
              "      <td>https://www.reddit.com/r/spacex/comments/jdgsm2/rspacex_starlink13_media_thread_photographer/</td>\n",
              "      <td>https://www.reddit.com/r/spacex/comments/jdgpgl/starlink13_recovery_updates_discussion_thread/</td>\n",
              "      <td>[]</td>\n",
              "      <td>[https://live.staticflickr.com/65535/50500804918_eb1187e1b2_o.jpg, https://live.staticflickr.com/65535/50501674637_f16f528728_o.jpg, https://live.staticflickr.com/65535/50501515611_2a3753bed1_o.jpg, https://live.staticflickr.com/65535/50501674632_0d5276b1b5_o.jpg]</td>\n",
              "      <td>None</td>\n",
              "      <td>https://youtu.be/UM8CDDAmp98</td>\n",
              "      <td>UM8CDDAmp98</td>\n",
              "      <td>https://spaceflightnow.com/2020/10/18/spacex-launches-another-batch-of-starlink-satellites/</td>\n",
              "      <td>https://en.wikipedia.org/wiki/Starlink</td>\n",
              "      <td>NaN</td>\n",
              "    </tr>\n",
              "    <tr>\n",
              "      <th>104</th>\n",
              "      <td>2020-10-21T12:55:00.000Z</td>\n",
              "      <td>1.603285e+09</td>\n",
              "      <td>False</td>\n",
              "      <td>False</td>\n",
              "      <td>NaN</td>\n",
              "      <td>5e9d0d95eda69973a809d1ec</td>\n",
              "      <td>True</td>\n",
              "      <td>This mission will launch the fourteenth batch of operational Starlink satellites, which are expected to be version 1.0, from SLC-40, Kennedy Space Center. It is the fifteenth Starlink launch overall. The satellites will be delivered to low Earth orbit and will spend a few weeks maneuvering to their operational altitude of 550 km. The booster for this mission is expected to land on JRTI.</td>\n",
              "      <td>[]</td>\n",
              "      <td>[5ea6ed2f080df4000697c910, 5ea6ed2f080df4000697c90b, 5ea6ed2e080df4000697c907, 5ea6ed2e080df4000697c908]</td>\n",
              "      <td>...</td>\n",
              "      <td>https://www.reddit.com/r/spacex/comments/jhcwun/rspacex_starlink14_media_thread_photographer/</td>\n",
              "      <td>None</td>\n",
              "      <td>[]</td>\n",
              "      <td>[]</td>\n",
              "      <td>None</td>\n",
              "      <td>https://youtu.be/2gbVgTxLgN0</td>\n",
              "      <td>2gbVgTxLgN0</td>\n",
              "      <td>https://spaceflightnow.com/2020/10/24/spacex-adds-another-60-satellites-to-starlink-network/</td>\n",
              "      <td>https://en.wikipedia.org/wiki/Starlink</td>\n",
              "      <td>NaN</td>\n",
              "    </tr>\n",
              "    <tr>\n",
              "      <th>105</th>\n",
              "      <td>2020-09-25T05:42:00.000Z</td>\n",
              "      <td>1.601013e+09</td>\n",
              "      <td>False</td>\n",
              "      <td>False</td>\n",
              "      <td>NaN</td>\n",
              "      <td>5e9d0d95eda69973a809d1ec</td>\n",
              "      <td>True</td>\n",
              "      <td>SpaceX will launch GPS Block III Space Vehicle 04 from SLC-40, Cape Canaveral AFS aboard a Falcon 9. GPS III is owned and operated by the US Air Force and produced by Lockheed Martin. This will be the fourth GPS III satellite launched and the third launched by SpaceX. The satellite will be delivered into a MEO transfer orbit. The booster for this mission will land on an ASDS.</td>\n",
              "      <td>[]</td>\n",
              "      <td>[5ea6ed30080df4000697c913, 5ee68c683c228f36bd5809b5, 5ea6ed2e080df4000697c907]</td>\n",
              "      <td>...</td>\n",
              "      <td>None</td>\n",
              "      <td>None</td>\n",
              "      <td>[]</td>\n",
              "      <td>[]</td>\n",
              "      <td>None</td>\n",
              "      <td>https://youtu.be/wufXF5YKR1M</td>\n",
              "      <td>wufXF5YKR1M</td>\n",
              "      <td>https://spaceflightnow.com/2020/11/06/spacex-launches-gps-navigation-satellite-from-cape-canaveral/</td>\n",
              "      <td>https://en.wikipedia.org/wiki/GPS_Block_III</td>\n",
              "      <td>NaN</td>\n",
              "    </tr>\n",
              "    <tr>\n",
              "      <th>106</th>\n",
              "      <td>2020-11-11T16:17:00.000Z</td>\n",
              "      <td>1.605111e+09</td>\n",
              "      <td>False</td>\n",
              "      <td>False</td>\n",
              "      <td>NaN</td>\n",
              "      <td>5e9d0d95eda69973a809d1ec</td>\n",
              "      <td>True</td>\n",
              "      <td>SpaceX will launch the first operational mission of its Crew Dragon vehicle as part of NASA's Commercial Crew Transportation Capability Program (CCtCap), carrying 3 NASA astronauts and 1 JAXA astronaut to the International Space Station. This mission will be the second crewed flight to launch from the United States since the end of the Space Shuttle program in 2011.</td>\n",
              "      <td>[5f7f1543bf32c864a529b23e, 5f7f158bbf32c864a529b23f, 5f7f15d5bf32c864a529b240, 5f7f1614bf32c864a529b241]</td>\n",
              "      <td>[5ea6ed2f080df4000697c910, 5ee68c683c228f36bd5809b5, 5ea6ed2f080df4000697c90c, 5ea6ed2e080df4000697c909, 5ea6ed2f080df4000697c90b]</td>\n",
              "      <td>...</td>\n",
              "      <td>https://www.reddit.com/r/spacex/comments/judv0r/rspacex_crew1_media_thread_photographer_contest/</td>\n",
              "      <td>None</td>\n",
              "      <td>[]</td>\n",
              "      <td>[]</td>\n",
              "      <td>None</td>\n",
              "      <td>https://youtu.be/bnChQbxLkkI</td>\n",
              "      <td>bnChQbxLkkI</td>\n",
              "      <td>None</td>\n",
              "      <td>https://en.wikipedia.org/wiki/SpaceX_Crew-1</td>\n",
              "      <td>NaN</td>\n",
              "    </tr>\n",
              "  </tbody>\n",
              "</table>\n",
              "<p>107 rows × 42 columns</p>\n",
              "</div>\n",
              "      <button class=\"colab-df-convert\" onclick=\"convertToInteractive('df-f50d013a-c6df-448a-bd72-e048b34b0100')\"\n",
              "              title=\"Convert this dataframe to an interactive table.\"\n",
              "              style=\"display:none;\">\n",
              "        \n",
              "  <svg xmlns=\"http://www.w3.org/2000/svg\" height=\"24px\"viewBox=\"0 0 24 24\"\n",
              "       width=\"24px\">\n",
              "    <path d=\"M0 0h24v24H0V0z\" fill=\"none\"/>\n",
              "    <path d=\"M18.56 5.44l.94 2.06.94-2.06 2.06-.94-2.06-.94-.94-2.06-.94 2.06-2.06.94zm-11 1L8.5 8.5l.94-2.06 2.06-.94-2.06-.94L8.5 2.5l-.94 2.06-2.06.94zm10 10l.94 2.06.94-2.06 2.06-.94-2.06-.94-.94-2.06-.94 2.06-2.06.94z\"/><path d=\"M17.41 7.96l-1.37-1.37c-.4-.4-.92-.59-1.43-.59-.52 0-1.04.2-1.43.59L10.3 9.45l-7.72 7.72c-.78.78-.78 2.05 0 2.83L4 21.41c.39.39.9.59 1.41.59.51 0 1.02-.2 1.41-.59l7.78-7.78 2.81-2.81c.8-.78.8-2.07 0-2.86zM5.41 20L4 18.59l7.72-7.72 1.47 1.35L5.41 20z\"/>\n",
              "  </svg>\n",
              "      </button>\n",
              "      \n",
              "  <style>\n",
              "    .colab-df-container {\n",
              "      display:flex;\n",
              "      flex-wrap:wrap;\n",
              "      gap: 12px;\n",
              "    }\n",
              "\n",
              "    .colab-df-convert {\n",
              "      background-color: #E8F0FE;\n",
              "      border: none;\n",
              "      border-radius: 50%;\n",
              "      cursor: pointer;\n",
              "      display: none;\n",
              "      fill: #1967D2;\n",
              "      height: 32px;\n",
              "      padding: 0 0 0 0;\n",
              "      width: 32px;\n",
              "    }\n",
              "\n",
              "    .colab-df-convert:hover {\n",
              "      background-color: #E2EBFA;\n",
              "      box-shadow: 0px 1px 2px rgba(60, 64, 67, 0.3), 0px 1px 3px 1px rgba(60, 64, 67, 0.15);\n",
              "      fill: #174EA6;\n",
              "    }\n",
              "\n",
              "    [theme=dark] .colab-df-convert {\n",
              "      background-color: #3B4455;\n",
              "      fill: #D2E3FC;\n",
              "    }\n",
              "\n",
              "    [theme=dark] .colab-df-convert:hover {\n",
              "      background-color: #434B5C;\n",
              "      box-shadow: 0px 1px 3px 1px rgba(0, 0, 0, 0.15);\n",
              "      filter: drop-shadow(0px 1px 2px rgba(0, 0, 0, 0.3));\n",
              "      fill: #FFFFFF;\n",
              "    }\n",
              "  </style>\n",
              "\n",
              "      <script>\n",
              "        const buttonEl =\n",
              "          document.querySelector('#df-f50d013a-c6df-448a-bd72-e048b34b0100 button.colab-df-convert');\n",
              "        buttonEl.style.display =\n",
              "          google.colab.kernel.accessAllowed ? 'block' : 'none';\n",
              "\n",
              "        async function convertToInteractive(key) {\n",
              "          const element = document.querySelector('#df-f50d013a-c6df-448a-bd72-e048b34b0100');\n",
              "          const dataTable =\n",
              "            await google.colab.kernel.invokeFunction('convertToInteractive',\n",
              "                                                     [key], {});\n",
              "          if (!dataTable) return;\n",
              "\n",
              "          const docLinkHtml = 'Like what you see? Visit the ' +\n",
              "            '<a target=\"_blank\" href=https://colab.research.google.com/notebooks/data_table.ipynb>data table notebook</a>'\n",
              "            + ' to learn more about interactive tables.';\n",
              "          element.innerHTML = '';\n",
              "          dataTable['output_type'] = 'display_data';\n",
              "          await google.colab.output.renderOutput(dataTable, element);\n",
              "          const docLink = document.createElement('div');\n",
              "          docLink.innerHTML = docLinkHtml;\n",
              "          element.appendChild(docLink);\n",
              "        }\n",
              "      </script>\n",
              "    </div>\n",
              "  </div>\n",
              "  "
            ],
            "text/plain": [
              "         static_fire_date_utc  static_fire_date_unix    tbd    net  window  \\\n",
              "0    2006-03-17T00:00:00.000Z           1.142554e+09  False  False     0.0   \n",
              "1                        None                    NaN  False  False     0.0   \n",
              "2                        None                    NaN  False  False     0.0   \n",
              "3    2008-09-20T00:00:00.000Z           1.221869e+09  False  False     0.0   \n",
              "4                        None                    NaN  False  False     0.0   \n",
              "..                        ...                    ...    ...    ...     ...   \n",
              "102                      None                    NaN  False  False     0.0   \n",
              "103  2020-10-17T05:23:00.000Z           1.602912e+09  False  False     NaN   \n",
              "104  2020-10-21T12:55:00.000Z           1.603285e+09  False  False     NaN   \n",
              "105  2020-09-25T05:42:00.000Z           1.601013e+09  False  False     NaN   \n",
              "106  2020-11-11T16:17:00.000Z           1.605111e+09  False  False     NaN   \n",
              "\n",
              "                       rocket  success  \\\n",
              "0    5e9d0d95eda69955f709d1eb    False   \n",
              "1    5e9d0d95eda69955f709d1eb    False   \n",
              "2    5e9d0d95eda69955f709d1eb    False   \n",
              "3    5e9d0d95eda69955f709d1eb     True   \n",
              "4    5e9d0d95eda69955f709d1eb     True   \n",
              "..                        ...      ...   \n",
              "102  5e9d0d95eda69973a809d1ec     True   \n",
              "103  5e9d0d95eda69973a809d1ec     True   \n",
              "104  5e9d0d95eda69973a809d1ec     True   \n",
              "105  5e9d0d95eda69973a809d1ec     True   \n",
              "106  5e9d0d95eda69973a809d1ec     True   \n",
              "\n",
              "                                                                                                                                                                                                                                                                                                                                                                                                                details  \\\n",
              "0                                                                                                                                                                                                                                                                                                                                                                      Engine failure at 33 seconds and loss of vehicle   \n",
              "1                                                                                                                                                                                                                                  Successful first stage burn and transition to second stage, maximum altitude 289 km, Premature engine shutdown at T+7 min 30 s, Failed to reach orbit, Failed to recover first stage   \n",
              "2                                                                                                                                                                                                                                                                                                                                                  Residual stage 1 thrust led to collision between stage 1 and stage 2   \n",
              "3                                                                                                                                                                                                                                                        Ratsat was carried to orbit on the first successful orbital launch of any privately funded and developed, liquid-propelled carrier rocket, the SpaceX Falcon 1   \n",
              "4                                                                                                                                                                                                                                                                                                                                                                                                                  None   \n",
              "..                                                                                                                                                                                                                                                                                                                                                                                                                  ...   \n",
              "102  This mission will launch the twelfth batch of operational Starlink satellites, which are expected to be version 1.0, from SLC-40, Cape Canaveral Air Force Station. It is the thirteenth Starlink launch overall. The satellites will be delivered to low Earth orbit and will spend a few weeks maneuvering to their operational altitude of 550 km. The booster for this mission is expected to land on an ASDS.   \n",
              "103           This mission will launch the thirteenth batch of operational Starlink satellites, which are expected to be version 1.0, from LC-39A, Kennedy Space Center. It is the fourteenth Starlink launch overall. The satellites will be delivered to low Earth orbit and will spend a few weeks maneuvering to their operational altitude of 550 km. The booster for this mission is expected to land on an ASDS.   \n",
              "104               This mission will launch the fourteenth batch of operational Starlink satellites, which are expected to be version 1.0, from SLC-40, Kennedy Space Center. It is the fifteenth Starlink launch overall. The satellites will be delivered to low Earth orbit and will spend a few weeks maneuvering to their operational altitude of 550 km. The booster for this mission is expected to land on JRTI.   \n",
              "105                          SpaceX will launch GPS Block III Space Vehicle 04 from SLC-40, Cape Canaveral AFS aboard a Falcon 9. GPS III is owned and operated by the US Air Force and produced by Lockheed Martin. This will be the fourth GPS III satellite launched and the third launched by SpaceX. The satellite will be delivered into a MEO transfer orbit. The booster for this mission will land on an ASDS.   \n",
              "106                                    SpaceX will launch the first operational mission of its Crew Dragon vehicle as part of NASA's Commercial Crew Transportation Capability Program (CCtCap), carrying 3 NASA astronauts and 1 JAXA astronaut to the International Space Station. This mission will be the second crewed flight to launch from the United States since the end of the Space Shuttle program in 2011.   \n",
              "\n",
              "                                                                                                         crew  \\\n",
              "0                                                                                                          []   \n",
              "1                                                                                                          []   \n",
              "2                                                                                                          []   \n",
              "3                                                                                                          []   \n",
              "4                                                                                                          []   \n",
              "..                                                                                                        ...   \n",
              "102                                                                                                        []   \n",
              "103                                                                                                        []   \n",
              "104                                                                                                        []   \n",
              "105                                                                                                        []   \n",
              "106  [5f7f1543bf32c864a529b23e, 5f7f158bbf32c864a529b23f, 5f7f15d5bf32c864a529b240, 5f7f1614bf32c864a529b241]   \n",
              "\n",
              "                                                                                                                                  ships  \\\n",
              "0                                                                                                                                    []   \n",
              "1                                                                                                                                    []   \n",
              "2                                                                                                                                    []   \n",
              "3                                                                                                                                    []   \n",
              "4                                                                                                                                    []   \n",
              "..                                                                                                                                  ...   \n",
              "102  [5ea6ed2f080df4000697c90b, 5ea6ed2f080df4000697c910, 5ea6ed2e080df4000697c907, 5ea6ed2e080df4000697c908, 5ea6ed30080df4000697c913]   \n",
              "103  [5ea6ed30080df4000697c913, 5ea6ed2f080df4000697c90b, 5ee68c683c228f36bd5809b5, 5ea6ed2e080df4000697c907, 5ea6ed2e080df4000697c908]   \n",
              "104                            [5ea6ed2f080df4000697c910, 5ea6ed2f080df4000697c90b, 5ea6ed2e080df4000697c907, 5ea6ed2e080df4000697c908]   \n",
              "105                                                      [5ea6ed30080df4000697c913, 5ee68c683c228f36bd5809b5, 5ea6ed2e080df4000697c907]   \n",
              "106  [5ea6ed2f080df4000697c910, 5ee68c683c228f36bd5809b5, 5ea6ed2f080df4000697c90c, 5ea6ed2e080df4000697c909, 5ea6ed2f080df4000697c90b]   \n",
              "\n",
              "     ...  \\\n",
              "0    ...   \n",
              "1    ...   \n",
              "2    ...   \n",
              "3    ...   \n",
              "4    ...   \n",
              "..   ...   \n",
              "102  ...   \n",
              "103  ...   \n",
              "104  ...   \n",
              "105  ...   \n",
              "106  ...   \n",
              "\n",
              "                                                                                   links.reddit.media  \\\n",
              "0                                                                                                None   \n",
              "1                                                                                                None   \n",
              "2                                                                                                None   \n",
              "3                                                                                                None   \n",
              "4                                                                                                None   \n",
              "..                                                                                                ...   \n",
              "102     https://www.reddit.com/r/spacex/comments/iudifm/rspacex_starlink12_media_thread_photographer/   \n",
              "103     https://www.reddit.com/r/spacex/comments/jdgsm2/rspacex_starlink13_media_thread_photographer/   \n",
              "104     https://www.reddit.com/r/spacex/comments/jhcwun/rspacex_starlink14_media_thread_photographer/   \n",
              "105                                                                                              None   \n",
              "106  https://www.reddit.com/r/spacex/comments/judv0r/rspacex_crew1_media_thread_photographer_contest/   \n",
              "\n",
              "                                                                              links.reddit.recovery  \\\n",
              "0                                                                                              None   \n",
              "1                                                                                              None   \n",
              "2                                                                                              None   \n",
              "3                                                                                              None   \n",
              "4                                                                                              None   \n",
              "..                                                                                              ...   \n",
              "102                                                                                            None   \n",
              "103  https://www.reddit.com/r/spacex/comments/jdgpgl/starlink13_recovery_updates_discussion_thread/   \n",
              "104                                                                                            None   \n",
              "105                                                                                            None   \n",
              "106                                                                                            None   \n",
              "\n",
              "    links.flickr.small  \\\n",
              "0                   []   \n",
              "1                   []   \n",
              "2                   []   \n",
              "3                   []   \n",
              "4                   []   \n",
              "..                 ...   \n",
              "102                 []   \n",
              "103                 []   \n",
              "104                 []   \n",
              "105                 []   \n",
              "106                 []   \n",
              "\n",
              "                                                                                                                                                                                                                                                        links.flickr.original  \\\n",
              "0                                                                                                                                                                                                                                                                          []   \n",
              "1                                                                                                                                                                                                                                                                          []   \n",
              "2                                                                                                                                                                                                                                                                          []   \n",
              "3                                                                                                                                                                                                                                                                          []   \n",
              "4                                                                                                                                                                                                                                                                          []   \n",
              "..                                                                                                                                                                                                                                                                        ...   \n",
              "102                                                                    [https://live.staticflickr.com/65535/50428228397_6151927733_o.jpg, https://live.staticflickr.com/65535/50427359318_67b3397892_o.jpg, https://live.staticflickr.com/65535/50428050591_36defbe958_o.jpg]   \n",
              "103  [https://live.staticflickr.com/65535/50500804918_eb1187e1b2_o.jpg, https://live.staticflickr.com/65535/50501674637_f16f528728_o.jpg, https://live.staticflickr.com/65535/50501515611_2a3753bed1_o.jpg, https://live.staticflickr.com/65535/50501674632_0d5276b1b5_o.jpg]   \n",
              "104                                                                                                                                                                                                                                                                        []   \n",
              "105                                                                                                                                                                                                                                                                        []   \n",
              "106                                                                                                                                                                                                                                                                        []   \n",
              "\n",
              "                                                                                             links.presskit  \\\n",
              "0                                                                                                      None   \n",
              "1                                                                                                      None   \n",
              "2                                                                                                      None   \n",
              "3                                                                                                      None   \n",
              "4    http://www.spacex.com/press/2012/12/19/spacexs-falcon-1-successfully-delivers-razaksat-satellite-orbit   \n",
              "..                                                                                                      ...   \n",
              "102                                                                                                    None   \n",
              "103                                                                                                    None   \n",
              "104                                                                                                    None   \n",
              "105                                                                                                    None   \n",
              "106                                                                                                    None   \n",
              "\n",
              "                                   links.webcast links.youtube_id  \\\n",
              "0    https://www.youtube.com/watch?v=0a_00nJ_Y88      0a_00nJ_Y88   \n",
              "1    https://www.youtube.com/watch?v=Lk4zQ2wP-Nc      Lk4zQ2wP-Nc   \n",
              "2    https://www.youtube.com/watch?v=v0w9p3U8860      v0w9p3U8860   \n",
              "3    https://www.youtube.com/watch?v=dLQ2tZEH6G0      dLQ2tZEH6G0   \n",
              "4    https://www.youtube.com/watch?v=yTaIDooc8Og      yTaIDooc8Og   \n",
              "..                                           ...              ...   \n",
              "102                 https://youtu.be/UZkaE_9zwQQ      UZkaE_9zwQQ   \n",
              "103                 https://youtu.be/UM8CDDAmp98      UM8CDDAmp98   \n",
              "104                 https://youtu.be/2gbVgTxLgN0      2gbVgTxLgN0   \n",
              "105                 https://youtu.be/wufXF5YKR1M      wufXF5YKR1M   \n",
              "106                 https://youtu.be/bnChQbxLkkI      bnChQbxLkkI   \n",
              "\n",
              "                                                                                           links.article  \\\n",
              "0                           https://www.space.com/2196-spacex-inaugural-falcon-1-rocket-lost-launch.html   \n",
              "1                               https://www.space.com/3590-spacex-falcon-1-rocket-fails-reach-orbit.html   \n",
              "2                                http://www.spacex.com/news/2013/02/11/falcon-1-flight-3-mission-summary   \n",
              "3                                                                   https://en.wikipedia.org/wiki/Ratsat   \n",
              "4                                                http://www.spacex.com/news/2013/02/12/falcon-1-flight-5   \n",
              "..                                                                                                   ...   \n",
              "102                                                                                                 None   \n",
              "103          https://spaceflightnow.com/2020/10/18/spacex-launches-another-batch-of-starlink-satellites/   \n",
              "104         https://spaceflightnow.com/2020/10/24/spacex-adds-another-60-satellites-to-starlink-network/   \n",
              "105  https://spaceflightnow.com/2020/11/06/spacex-launches-gps-navigation-satellite-from-cape-canaveral/   \n",
              "106                                                                                                 None   \n",
              "\n",
              "                                           links.wikipedia fairings  \n",
              "0                    https://en.wikipedia.org/wiki/DemoSat      NaN  \n",
              "1                    https://en.wikipedia.org/wiki/DemoSat      NaN  \n",
              "2    https://en.wikipedia.org/wiki/Trailblazer_(satellite)      NaN  \n",
              "3                     https://en.wikipedia.org/wiki/Ratsat      NaN  \n",
              "4                   https://en.wikipedia.org/wiki/RazakSAT      NaN  \n",
              "..                                                     ...      ...  \n",
              "102                 https://en.wikipedia.org/wiki/Starlink      NaN  \n",
              "103                 https://en.wikipedia.org/wiki/Starlink      NaN  \n",
              "104                 https://en.wikipedia.org/wiki/Starlink      NaN  \n",
              "105            https://en.wikipedia.org/wiki/GPS_Block_III      NaN  \n",
              "106            https://en.wikipedia.org/wiki/SpaceX_Crew-1      NaN  \n",
              "\n",
              "[107 rows x 42 columns]"
            ]
          },
          "metadata": {},
          "execution_count": 107
        }
      ]
    }
  ]
}
