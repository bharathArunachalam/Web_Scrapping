{
  "nbformat": 4,
  "nbformat_minor": 0,
  "metadata": {
    "colab": {
      "name": "WebScrapping.ipynb",
      "provenance": [],
      "collapsed_sections": [],
      "authorship_tag": "ABX9TyM8ahMhlbuIMginMYZnTVUJ",
      "include_colab_link": true
    },
    "kernelspec": {
      "name": "python3",
      "display_name": "Python 3"
    },
    "language_info": {
      "name": "python"
    }
  },
  "cells": [
    {
      "cell_type": "markdown",
      "metadata": {
        "id": "view-in-github",
        "colab_type": "text"
      },
      "source": [
        "<a href=\"https://colab.research.google.com/github/bharathArunachalam/Web_Scrapping/blob/main/WebScrapping_practice_exercises.ipynb\" target=\"_parent\"><img src=\"https://colab.research.google.com/assets/colab-badge.svg\" alt=\"Open In Colab\"/></a>"
      ]
    },
    {
      "cell_type": "markdown",
      "source": [
        "# Practice 1: Web scrapping stock information"
      ],
      "metadata": {
        "id": "SBs5M7K--L1n"
      }
    },
    {
      "cell_type": "markdown",
      "source": [
        "Objective: Scrape the following information from 'https://www.moneycontrol.com/'\n",
        "\n",
        "Build the table below for 6 companies:\n",
        "\n",
        "['Rail Vikas', 'TCS', 'Indigo Paints', 'IOC', 'PVR', 'Reliance']\n",
        "\n",
        "|Name| Date | Time| Closing_price| Change_in_value| Percent_change|\n"
      ],
      "metadata": {
        "id": "VeJN5XC2haak"
      }
    },
    {
      "cell_type": "code",
      "source": [
        "import requests\n",
        "\n",
        "url = 'https://www.moneycontrol.com/india/stockpricequote/'\n",
        "# this page contains links to all the stocks in Indian market.\n",
        "\n",
        "headers = {'User-Agent':'Mozilla/5.0 (Windows NT 10.0; Win64; x64) AppleWebKit/537.36 (KHTML, like Gecko) Chrome/98.0.4758.102 Safari/537.36'}\n",
        "# response 200 without adding User-Agent detail to requests.get()\n",
        "\n",
        "response = requests.get(url)\n",
        "response"
      ],
      "metadata": {
        "id": "G8iW4ohh-X2E",
        "colab": {
          "base_uri": "https://localhost:8080/"
        },
        "outputId": "1f55855f-4a74-48da-c751-b7533f3dbd96"
      },
      "execution_count": null,
      "outputs": [
        {
          "output_type": "execute_result",
          "data": {
            "text/plain": [
              "<Response [200]>"
            ]
          },
          "metadata": {},
          "execution_count": 103
        }
      ]
    },
    {
      "cell_type": "code",
      "source": [
        "response_str = response.text"
      ],
      "metadata": {
        "id": "obw8mEJsjvlI"
      },
      "execution_count": null,
      "outputs": []
    },
    {
      "cell_type": "code",
      "source": [
        "from bs4 import BeautifulSoup\n",
        "import lxml\n",
        "\n",
        "soup = BeautifulSoup(response_str, 'lxml')\n",
        "\n",
        "#BeautifulSoup object is ready"
      ],
      "metadata": {
        "id": "n8y7mgmGkV0e"
      },
      "execution_count": null,
      "outputs": []
    },
    {
      "cell_type": "code",
      "source": [
        "link_compilation = soup.find('div', {'class': 'PT15'}).table.find_all('a')\n",
        "\n",
        "company_names = ['Rail Vikas', 'TCS', 'Indigo Paints', 'IOC', 'PVR', 'Reliance']\n",
        "#the list of companies we need to track data on. Add company name to this list to see the value in the data frame below.\n",
        "\n",
        "company_links = []\n",
        "\n",
        "for link in link_compilation:\n",
        "    for name in company_names:\n",
        "        if name in link:\n",
        "            company_links.append(link.get('href'))\n",
        "# list of company links we are tracking.\n",
        "\n",
        "company_links"
      ],
      "metadata": {
        "colab": {
          "base_uri": "https://localhost:8080/"
        },
        "id": "Txk49Zp4k1Pc",
        "outputId": "ec47dc0b-2676-4184-feea-c1445ca3e074"
      },
      "execution_count": null,
      "outputs": [
        {
          "output_type": "execute_result",
          "data": {
            "text/plain": [
              "['https://www.moneycontrol.com/india/stockpricequote/paints/indigopaints/IP08',\n",
              " 'https://www.moneycontrol.com/india/stockpricequote/refineries/indianoilcorporation/IOC',\n",
              " 'https://www.moneycontrol.com/india/stockpricequote/mediaentertainment/pvr/PVR',\n",
              " 'https://www.moneycontrol.com/india/stockpricequote/miscellaneous/railvikasnigam/RVN',\n",
              " 'https://www.moneycontrol.com/india/stockpricequote/refineries/relianceindustries/RI',\n",
              " 'https://www.moneycontrol.com/india/stockpricequote/computerssoftware/tataconsultancyservices/TCS']"
            ]
          },
          "metadata": {},
          "execution_count": 106
        }
      ]
    },
    {
      "cell_type": "code",
      "source": [
        "# response_1  = requests.get(company_links[4])\n",
        "# response_1"
      ],
      "metadata": {
        "id": "37ipBcRS1DgV"
      },
      "execution_count": null,
      "outputs": []
    },
    {
      "cell_type": "code",
      "source": [
        "\n",
        "# response_1_str = response_1.text"
      ],
      "metadata": {
        "id": "LPILFWU71Qjz"
      },
      "execution_count": null,
      "outputs": []
    },
    {
      "cell_type": "code",
      "source": [
        "# soup_1 = BeautifulSoup(response_1_str, 'lxml')\n",
        "# company_name = soup_1.find('div', {'class':'indices_namntab clearfix'}).find('div', {'class':'inid_name'}).h1.text\n",
        "# #company_name\n",
        "\n",
        "# time = soup_1.find('div', {'class':'indimprice'}).find('p', {'class': 'nseasondate'}).text[-5:]\n",
        "# #time\n",
        "\n",
        "# date = soup_1.find('div', {'class':'indimprice'}).find('p', {'class': 'nseasondate'}).text[-20:-8]\n",
        "# #date\n",
        "\n",
        "# price_percent = soup_1.find('div', {'class': 'indimprice'}).find('div',{'class': 'nsechange'}).text\n",
        "# price_percent_list = price_percent.split(' ')\n",
        "\n",
        "# price_change = price_percent_list[0]\n",
        "# percent_change = price_percent_list[1].replace('(', '').replace(')', ''). replace('%', '')\n",
        "\n",
        "# #price_change\n",
        "# #percent_change\n",
        "\n",
        "# closing_price = soup_1.find('div', {'class': 'inprice1 nsecp'}).get('rel')\n",
        "# #closing_price\n",
        "\n",
        "# print(company_name, time, date, price_change, percent_change, closing_price)"
      ],
      "metadata": {
        "id": "qXMB9Wj61ima"
      },
      "execution_count": null,
      "outputs": []
    },
    {
      "cell_type": "code",
      "source": [
        "from datetime import datetime"
      ],
      "metadata": {
        "id": "AGVx7L00Kvc0"
      },
      "execution_count": null,
      "outputs": []
    },
    {
      "cell_type": "code",
      "source": [
        "# build a function for the above cell:\n",
        "def stock_data_extraction(link):\n",
        "    \n",
        "    response_1 = requests.get(link).text\n",
        "    soup_1 = BeautifulSoup(response_1, 'lxml')\n",
        "\n",
        "    date = soup_1.find('div', {'class':'indimprice'}).find('p', {'class': 'nseasondate'}).text[-20:-8]\n",
        "    #date =\n",
        "    day = date[0:2]\n",
        "    month = date[3:6].lower()\n",
        "    year = date[-4:]\n",
        "    date_format = day + ' ' + month + ' ' + year\n",
        "    date_format_2 = date_format.replace(' ', '/')\n",
        "    \"\"\"formatting the date. We received it as '25 Feb, 2022', We need it as '25/feb/2022' \"\"\"\n",
        "    \n",
        "    price_percent = soup_1.find('div', {'class': 'indimprice'}).find('div',{'class': 'nsechange'}).text\n",
        "    price_percent_list = price_percent.split(' ')\n",
        "    \"\"\"formatting the price_percent.We received it as '(-0.24)', We need it as '-0.24' \"\"\"\n",
        "    \n",
        "    stock_dict = {\n",
        "                  'company_name' : soup_1.find('div', {'class':'indices_namntab clearfix'}).find('div', {'class':'inid_name'}).h1.text,\n",
        "                  'date' : date_format_2,\n",
        "                  'time' : soup_1.find('div', {'class':'indimprice'}).find('p', {'class': 'nseasondate'}).text[-5:],\n",
        "                  'closing_price' : float(soup_1.find('div', {'class': 'inprice1 nsecp'}).get('rel')),\n",
        "                  'price_change' : float(price_percent_list[0]),\n",
        "                  'percent_change' : float(price_percent_list[1].replace('(', '').replace(')', ''). replace('%', '')),\n",
        "                  }\n",
        "    \n",
        "    return stock_dict\n",
        "\n",
        "stock_data_extraction(company_links[1])"
      ],
      "metadata": {
        "colab": {
          "base_uri": "https://localhost:8080/"
        },
        "id": "DBQ4b6xG_VOb",
        "outputId": "4eff1f17-60b3-4166-91fd-fa060045ed4d"
      },
      "execution_count": null,
      "outputs": [
        {
          "output_type": "execute_result",
          "data": {
            "text/plain": [
              "{'closing_price': 115.0,\n",
              " 'company_name': 'Indian Oil Corporation Ltd.',\n",
              " 'date': '28/feb/2022',\n",
              " 'percent_change': 2.36,\n",
              " 'price_change': 2.65,\n",
              " 'time': '03:59'}"
            ]
          },
          "metadata": {},
          "execution_count": 111
        }
      ]
    },
    {
      "cell_type": "code",
      "source": [
        "#checking response stat of individual links\n",
        "\n",
        "stock_data_list = []\n",
        "\n",
        "for link in company_links:\n",
        "    stock_data_list.append(stock_data_extraction(link))\n",
        "\n",
        "print(stock_data_list)\n"
      ],
      "metadata": {
        "colab": {
          "base_uri": "https://localhost:8080/"
        },
        "id": "tz4G4gLT3EJV",
        "outputId": "364471b9-d5b3-40f1-c2eb-7586037fb71b"
      },
      "execution_count": null,
      "outputs": [
        {
          "output_type": "stream",
          "name": "stdout",
          "text": [
            "[{'company_name': 'Indigo Paints Ltd.', 'date': '28/feb/2022', 'time': '03:59', 'closing_price': 1790.65, 'price_change': 43.15, 'percent_change': 2.47}, {'company_name': 'Indian Oil Corporation Ltd.', 'date': '28/feb/2022', 'time': '03:59', 'closing_price': 115.0, 'price_change': 2.65, 'percent_change': 2.36}, {'company_name': 'PVR Ltd.', 'date': '28/feb/2022', 'time': '03:59', 'closing_price': 1635.75, 'price_change': 39.1, 'percent_change': 2.45}, {'company_name': 'Rail Vikas Nigam Ltd.', 'date': '28/feb/2022', 'time': '03:59', 'closing_price': 30.95, 'price_change': -0.05, 'percent_change': -0.16}, {'company_name': 'Reliance Industries Ltd.', 'date': '28/feb/2022', 'time': '03:59', 'closing_price': 2359.55, 'price_change': 75.6, 'percent_change': 3.31}, {'company_name': 'Tata Consultancy Services Ltd.', 'date': '28/feb/2022', 'time': '03:59', 'closing_price': 3554.2, 'price_change': 33.45, 'percent_change': 0.95}]\n"
          ]
        }
      ]
    },
    {
      "cell_type": "code",
      "source": [
        "import pandas as pd\n",
        "\n",
        "stock_data_df = pd.DataFrame(stock_data_list)  \n",
        "stock_data_df "
      ],
      "metadata": {
        "colab": {
          "base_uri": "https://localhost:8080/",
          "height": 237
        },
        "id": "-HcMFeK3_HNd",
        "outputId": "7da0aa58-0d1e-4556-f3e4-55feb80078ca"
      },
      "execution_count": null,
      "outputs": [
        {
          "output_type": "execute_result",
          "data": {
            "text/html": [
              "\n",
              "  <div id=\"df-28f700ce-aed8-4f03-b727-84837c13adb0\">\n",
              "    <div class=\"colab-df-container\">\n",
              "      <div>\n",
              "<style scoped>\n",
              "    .dataframe tbody tr th:only-of-type {\n",
              "        vertical-align: middle;\n",
              "    }\n",
              "\n",
              "    .dataframe tbody tr th {\n",
              "        vertical-align: top;\n",
              "    }\n",
              "\n",
              "    .dataframe thead th {\n",
              "        text-align: right;\n",
              "    }\n",
              "</style>\n",
              "<table border=\"1\" class=\"dataframe\">\n",
              "  <thead>\n",
              "    <tr style=\"text-align: right;\">\n",
              "      <th></th>\n",
              "      <th>company_name</th>\n",
              "      <th>date</th>\n",
              "      <th>time</th>\n",
              "      <th>closing_price</th>\n",
              "      <th>price_change</th>\n",
              "      <th>percent_change</th>\n",
              "    </tr>\n",
              "  </thead>\n",
              "  <tbody>\n",
              "    <tr>\n",
              "      <th>0</th>\n",
              "      <td>Indigo Paints Ltd.</td>\n",
              "      <td>28/feb/2022</td>\n",
              "      <td>03:59</td>\n",
              "      <td>1790.65</td>\n",
              "      <td>43.15</td>\n",
              "      <td>2.47</td>\n",
              "    </tr>\n",
              "    <tr>\n",
              "      <th>1</th>\n",
              "      <td>Indian Oil Corporation Ltd.</td>\n",
              "      <td>28/feb/2022</td>\n",
              "      <td>03:59</td>\n",
              "      <td>115.00</td>\n",
              "      <td>2.65</td>\n",
              "      <td>2.36</td>\n",
              "    </tr>\n",
              "    <tr>\n",
              "      <th>2</th>\n",
              "      <td>PVR Ltd.</td>\n",
              "      <td>28/feb/2022</td>\n",
              "      <td>03:59</td>\n",
              "      <td>1635.75</td>\n",
              "      <td>39.10</td>\n",
              "      <td>2.45</td>\n",
              "    </tr>\n",
              "    <tr>\n",
              "      <th>3</th>\n",
              "      <td>Rail Vikas Nigam Ltd.</td>\n",
              "      <td>28/feb/2022</td>\n",
              "      <td>03:59</td>\n",
              "      <td>30.95</td>\n",
              "      <td>-0.05</td>\n",
              "      <td>-0.16</td>\n",
              "    </tr>\n",
              "    <tr>\n",
              "      <th>4</th>\n",
              "      <td>Reliance Industries Ltd.</td>\n",
              "      <td>28/feb/2022</td>\n",
              "      <td>03:59</td>\n",
              "      <td>2359.55</td>\n",
              "      <td>75.60</td>\n",
              "      <td>3.31</td>\n",
              "    </tr>\n",
              "    <tr>\n",
              "      <th>5</th>\n",
              "      <td>Tata Consultancy Services Ltd.</td>\n",
              "      <td>28/feb/2022</td>\n",
              "      <td>03:59</td>\n",
              "      <td>3554.20</td>\n",
              "      <td>33.45</td>\n",
              "      <td>0.95</td>\n",
              "    </tr>\n",
              "  </tbody>\n",
              "</table>\n",
              "</div>\n",
              "      <button class=\"colab-df-convert\" onclick=\"convertToInteractive('df-28f700ce-aed8-4f03-b727-84837c13adb0')\"\n",
              "              title=\"Convert this dataframe to an interactive table.\"\n",
              "              style=\"display:none;\">\n",
              "        \n",
              "  <svg xmlns=\"http://www.w3.org/2000/svg\" height=\"24px\"viewBox=\"0 0 24 24\"\n",
              "       width=\"24px\">\n",
              "    <path d=\"M0 0h24v24H0V0z\" fill=\"none\"/>\n",
              "    <path d=\"M18.56 5.44l.94 2.06.94-2.06 2.06-.94-2.06-.94-.94-2.06-.94 2.06-2.06.94zm-11 1L8.5 8.5l.94-2.06 2.06-.94-2.06-.94L8.5 2.5l-.94 2.06-2.06.94zm10 10l.94 2.06.94-2.06 2.06-.94-2.06-.94-.94-2.06-.94 2.06-2.06.94z\"/><path d=\"M17.41 7.96l-1.37-1.37c-.4-.4-.92-.59-1.43-.59-.52 0-1.04.2-1.43.59L10.3 9.45l-7.72 7.72c-.78.78-.78 2.05 0 2.83L4 21.41c.39.39.9.59 1.41.59.51 0 1.02-.2 1.41-.59l7.78-7.78 2.81-2.81c.8-.78.8-2.07 0-2.86zM5.41 20L4 18.59l7.72-7.72 1.47 1.35L5.41 20z\"/>\n",
              "  </svg>\n",
              "      </button>\n",
              "      \n",
              "  <style>\n",
              "    .colab-df-container {\n",
              "      display:flex;\n",
              "      flex-wrap:wrap;\n",
              "      gap: 12px;\n",
              "    }\n",
              "\n",
              "    .colab-df-convert {\n",
              "      background-color: #E8F0FE;\n",
              "      border: none;\n",
              "      border-radius: 50%;\n",
              "      cursor: pointer;\n",
              "      display: none;\n",
              "      fill: #1967D2;\n",
              "      height: 32px;\n",
              "      padding: 0 0 0 0;\n",
              "      width: 32px;\n",
              "    }\n",
              "\n",
              "    .colab-df-convert:hover {\n",
              "      background-color: #E2EBFA;\n",
              "      box-shadow: 0px 1px 2px rgba(60, 64, 67, 0.3), 0px 1px 3px 1px rgba(60, 64, 67, 0.15);\n",
              "      fill: #174EA6;\n",
              "    }\n",
              "\n",
              "    [theme=dark] .colab-df-convert {\n",
              "      background-color: #3B4455;\n",
              "      fill: #D2E3FC;\n",
              "    }\n",
              "\n",
              "    [theme=dark] .colab-df-convert:hover {\n",
              "      background-color: #434B5C;\n",
              "      box-shadow: 0px 1px 3px 1px rgba(0, 0, 0, 0.15);\n",
              "      filter: drop-shadow(0px 1px 2px rgba(0, 0, 0, 0.3));\n",
              "      fill: #FFFFFF;\n",
              "    }\n",
              "  </style>\n",
              "\n",
              "      <script>\n",
              "        const buttonEl =\n",
              "          document.querySelector('#df-28f700ce-aed8-4f03-b727-84837c13adb0 button.colab-df-convert');\n",
              "        buttonEl.style.display =\n",
              "          google.colab.kernel.accessAllowed ? 'block' : 'none';\n",
              "\n",
              "        async function convertToInteractive(key) {\n",
              "          const element = document.querySelector('#df-28f700ce-aed8-4f03-b727-84837c13adb0');\n",
              "          const dataTable =\n",
              "            await google.colab.kernel.invokeFunction('convertToInteractive',\n",
              "                                                     [key], {});\n",
              "          if (!dataTable) return;\n",
              "\n",
              "          const docLinkHtml = 'Like what you see? Visit the ' +\n",
              "            '<a target=\"_blank\" href=https://colab.research.google.com/notebooks/data_table.ipynb>data table notebook</a>'\n",
              "            + ' to learn more about interactive tables.';\n",
              "          element.innerHTML = '';\n",
              "          dataTable['output_type'] = 'display_data';\n",
              "          await google.colab.output.renderOutput(dataTable, element);\n",
              "          const docLink = document.createElement('div');\n",
              "          docLink.innerHTML = docLinkHtml;\n",
              "          element.appendChild(docLink);\n",
              "        }\n",
              "      </script>\n",
              "    </div>\n",
              "  </div>\n",
              "  "
            ],
            "text/plain": [
              "                     company_name         date  ... price_change  percent_change\n",
              "0  Indigo Paints Ltd.              28/feb/2022  ...  43.15        2.47          \n",
              "1  Indian Oil Corporation Ltd.     28/feb/2022  ...  2.65         2.36          \n",
              "2  PVR Ltd.                        28/feb/2022  ...  39.10        2.45          \n",
              "3  Rail Vikas Nigam Ltd.           28/feb/2022  ... -0.05        -0.16          \n",
              "4  Reliance Industries Ltd.        28/feb/2022  ...  75.60        3.31          \n",
              "5  Tata Consultancy Services Ltd.  28/feb/2022  ...  33.45        0.95          \n",
              "\n",
              "[6 rows x 6 columns]"
            ]
          },
          "metadata": {},
          "execution_count": 113
        }
      ]
    },
    {
      "cell_type": "code",
      "source": [
        "import json\n",
        "with open('stock_data_1.json', 'w') as a:\n",
        "    json.dump(stock_data_list, a)\n",
        "\n",
        "# converting the list of dictionaries as .json file"
      ],
      "metadata": {
        "id": "OjeCajO2hnKt"
      },
      "execution_count": null,
      "outputs": []
    },
    {
      "cell_type": "markdown",
      "source": [
        "# Practice 2: Web scrapping f1 calender 2022"
      ],
      "metadata": {
        "id": "dfDZCO2LwsxB"
      }
    },
    {
      "cell_type": "markdown",
      "source": [
        "Objective: Scrape the following information from 'https://www.formula1.com'\n",
        "\n",
        "Build the table below for all the races:\n",
        "\n",
        "|GP| Country | City| Race Weekend (from - to)| Qualifying Date| Qualifying Time|| Race Date| Race Time|"
      ],
      "metadata": {
        "id": "osaGKharMEmp"
      }
    },
    {
      "cell_type": "code",
      "source": [
        "import requests\n",
        "url = 'https://www.formula1.com'\n",
        "\n",
        "headers = {'User-Agent': 'Mozilla/5.0 (Macintosh; Intel Mac OS X 10_15_7) AppleWebKit/537.36 (KHTML, like Gecko) Chrome/96.0.4664.110 Safari/537.36'}\n",
        "response = requests.get(url, headers = headers)\n",
        "response"
      ],
      "metadata": {
        "colab": {
          "base_uri": "https://localhost:8080/"
        },
        "id": "k1ZTtsM0xEO_",
        "outputId": "2d02bc73-a522-4e17-c352-645f99ad7cd1"
      },
      "execution_count": 1,
      "outputs": [
        {
          "output_type": "execute_result",
          "data": {
            "text/plain": [
              "<Response [200]>"
            ]
          },
          "metadata": {},
          "execution_count": 1
        }
      ]
    },
    {
      "cell_type": "code",
      "source": [
        "response_str = response.text"
      ],
      "metadata": {
        "id": "umcUlSgeyM9s"
      },
      "execution_count": 2,
      "outputs": []
    },
    {
      "cell_type": "code",
      "source": [
        "#response_str"
      ],
      "metadata": {
        "id": "yJk7Br7Ky6Wb"
      },
      "execution_count": 3,
      "outputs": []
    },
    {
      "cell_type": "code",
      "source": [
        "from bs4 import BeautifulSoup\n",
        "import lxml\n",
        "\n",
        "soup = BeautifulSoup(response_str, 'lxml')\n",
        "#soup"
      ],
      "metadata": {
        "id": "7liZBnyQy8Tp"
      },
      "execution_count": 4,
      "outputs": []
    },
    {
      "cell_type": "code",
      "source": [
        "race_list = soup.find('div',{'class':'race-list'}).find_all('article')\n",
        "#the node below which all data is available."
      ],
      "metadata": {
        "id": "6x2ZYv92L8QL"
      },
      "execution_count": 5,
      "outputs": []
    },
    {
      "cell_type": "code",
      "source": [
        "country_names = []\n",
        "for item in race_list:\n",
        "    country_names.append(item.find('span', {'class':'name'}).text)\n"
      ],
      "metadata": {
        "id": "PyjYHm_NK2OQ"
      },
      "execution_count": 6,
      "outputs": []
    },
    {
      "cell_type": "code",
      "source": [
        "gp_names = []\n",
        "for gp in race_list:\n",
        "    gp_names.append(gp.find('h3').a.text)\n"
      ],
      "metadata": {
        "id": "MdFyp64xS3Sn"
      },
      "execution_count": 7,
      "outputs": []
    },
    {
      "cell_type": "code",
      "source": [
        "from_race_dates = []\n",
        "for date in race_list:\n",
        "    from_race_dates.append( date.find('time', {'class': 'from date-full'}).text.strip())\n",
        "\n",
        "to_race_dates = []\n",
        "for date in race_list:\n",
        "    to_race_dates.append( date.find('time', {'class': 'to date-full'}).text.strip())\n"
      ],
      "metadata": {
        "id": "jR31DVR-MIkm"
      },
      "execution_count": 8,
      "outputs": []
    },
    {
      "cell_type": "code",
      "source": [
        "import pandas as pd\n",
        "pd.set_option('display.max_colwidth', 1)\n",
        "\n",
        "race_schedule_data = {'country': country_names, 'gp': gp_names, 'from': from_race_dates,'to': to_race_dates}\n",
        "\n",
        "index= []\n",
        "for i in range (1, len(country_names)+1):\n",
        "    index.append(i)\n",
        "\n",
        "f1_schedule_df = pd.DataFrame(race_schedule_data, index= index)\n",
        "f1_schedule_df"
      ],
      "metadata": {
        "colab": {
          "base_uri": "https://localhost:8080/",
          "height": 739
        },
        "id": "-zAXvunuPu--",
        "outputId": "18548dff-ba0f-4f77-c743-9d00a5d1c18b"
      },
      "execution_count": 9,
      "outputs": [
        {
          "output_type": "execute_result",
          "data": {
            "text/html": [
              "\n",
              "  <div id=\"df-752a2b5a-68c2-429c-84b0-bab10d57f900\">\n",
              "    <div class=\"colab-df-container\">\n",
              "      <div>\n",
              "<style scoped>\n",
              "    .dataframe tbody tr th:only-of-type {\n",
              "        vertical-align: middle;\n",
              "    }\n",
              "\n",
              "    .dataframe tbody tr th {\n",
              "        vertical-align: top;\n",
              "    }\n",
              "\n",
              "    .dataframe thead th {\n",
              "        text-align: right;\n",
              "    }\n",
              "</style>\n",
              "<table border=\"1\" class=\"dataframe\">\n",
              "  <thead>\n",
              "    <tr style=\"text-align: right;\">\n",
              "      <th></th>\n",
              "      <th>country</th>\n",
              "      <th>gp</th>\n",
              "      <th>from</th>\n",
              "      <th>to</th>\n",
              "    </tr>\n",
              "  </thead>\n",
              "  <tbody>\n",
              "    <tr>\n",
              "      <th>1</th>\n",
              "      <td>Bahrain</td>\n",
              "      <td>FORMULA 1 GULF AIR BAHRAIN GRAND PRIX 2022</td>\n",
              "      <td>18 Mar 2022</td>\n",
              "      <td>20 Mar 2022</td>\n",
              "    </tr>\n",
              "    <tr>\n",
              "      <th>2</th>\n",
              "      <td>Saudi Arabia</td>\n",
              "      <td>FORMULA 1 STC SAUDI ARABIAN GRAND PRIX 2022</td>\n",
              "      <td>25 Mar 2022</td>\n",
              "      <td>27 Mar 2022</td>\n",
              "    </tr>\n",
              "    <tr>\n",
              "      <th>3</th>\n",
              "      <td>Australia</td>\n",
              "      <td>FORMULA 1 HEINEKEN AUSTRALIAN GRAND PRIX 2022</td>\n",
              "      <td>08 Apr 2022</td>\n",
              "      <td>10 Apr 2022</td>\n",
              "    </tr>\n",
              "    <tr>\n",
              "      <th>4</th>\n",
              "      <td>Italy</td>\n",
              "      <td>FORMULA 1 ROLEX GRAN PREMIO DELL'EMILIA ROMAGNA 2022</td>\n",
              "      <td>22 Apr 2022</td>\n",
              "      <td>24 Apr 2022</td>\n",
              "    </tr>\n",
              "    <tr>\n",
              "      <th>5</th>\n",
              "      <td>United States</td>\n",
              "      <td>FORMULA 1 CRYPTO.COM MIAMI GRAND PRIX 2022</td>\n",
              "      <td>06 May 2022</td>\n",
              "      <td>08 May 2022</td>\n",
              "    </tr>\n",
              "    <tr>\n",
              "      <th>6</th>\n",
              "      <td>Spain</td>\n",
              "      <td>FORMULA 1 PIRELLI GRAN PREMIO DE ESPAÃA 2022</td>\n",
              "      <td>20 May 2022</td>\n",
              "      <td>22 May 2022</td>\n",
              "    </tr>\n",
              "    <tr>\n",
              "      <th>7</th>\n",
              "      <td>Monaco</td>\n",
              "      <td>FORMULA 1 GRAND PRIX DE MONACO 2022</td>\n",
              "      <td>27 May 2022</td>\n",
              "      <td>29 May 2022</td>\n",
              "    </tr>\n",
              "    <tr>\n",
              "      <th>8</th>\n",
              "      <td>Azerbaijan</td>\n",
              "      <td>FORMULA 1 AZERBAIJAN GRAND PRIX 2022</td>\n",
              "      <td>10 Jun 2022</td>\n",
              "      <td>12 Jun 2022</td>\n",
              "    </tr>\n",
              "    <tr>\n",
              "      <th>9</th>\n",
              "      <td>Canada</td>\n",
              "      <td>FORMULA 1 GRAND PRIX DU CANADA 2022</td>\n",
              "      <td>17 Jun 2022</td>\n",
              "      <td>19 Jun 2022</td>\n",
              "    </tr>\n",
              "    <tr>\n",
              "      <th>10</th>\n",
              "      <td>Great Britain</td>\n",
              "      <td>FORMULA 1 BRITISH GRAND PRIX 2022</td>\n",
              "      <td>01 Jul 2022</td>\n",
              "      <td>03 Jul 2022</td>\n",
              "    </tr>\n",
              "    <tr>\n",
              "      <th>11</th>\n",
              "      <td>Austria</td>\n",
              "      <td>FORMULA 1 GROSSER PREIS VON ÃSTERREICH 2022</td>\n",
              "      <td>08 Jul 2022</td>\n",
              "      <td>10 Jul 2022</td>\n",
              "    </tr>\n",
              "    <tr>\n",
              "      <th>12</th>\n",
              "      <td>France</td>\n",
              "      <td>FORMULA 1 GRAND PRIX DE FRANCE 2022</td>\n",
              "      <td>22 Jul 2022</td>\n",
              "      <td>24 Jul 2022</td>\n",
              "    </tr>\n",
              "    <tr>\n",
              "      <th>13</th>\n",
              "      <td>Hungary</td>\n",
              "      <td>FORMULA 1 MAGYAR NAGYDÃJ 2022</td>\n",
              "      <td>29 Jul 2022</td>\n",
              "      <td>31 Jul 2022</td>\n",
              "    </tr>\n",
              "    <tr>\n",
              "      <th>14</th>\n",
              "      <td>Belgium</td>\n",
              "      <td>FORMULA 1 ROLEX BELGIAN GRAND PRIX 2022</td>\n",
              "      <td>26 Aug 2022</td>\n",
              "      <td>28 Aug 2022</td>\n",
              "    </tr>\n",
              "    <tr>\n",
              "      <th>15</th>\n",
              "      <td>Netherlands</td>\n",
              "      <td>FORMULA 1 HEINEKEN DUTCH GRAND PRIX 2022</td>\n",
              "      <td>02 Sep 2022</td>\n",
              "      <td>04 Sep 2022</td>\n",
              "    </tr>\n",
              "    <tr>\n",
              "      <th>16</th>\n",
              "      <td>Italy</td>\n",
              "      <td>FORMULA 1 PIRELLI GRAN PREMIO DâITALIA 2022</td>\n",
              "      <td>09 Sep 2022</td>\n",
              "      <td>11 Sep 2022</td>\n",
              "    </tr>\n",
              "    <tr>\n",
              "      <th>17</th>\n",
              "      <td>Singapore</td>\n",
              "      <td>FORMULA 1 SINGAPORE GRAND PRIX 2022</td>\n",
              "      <td>30 Sep 2022</td>\n",
              "      <td>02 Oct 2022</td>\n",
              "    </tr>\n",
              "    <tr>\n",
              "      <th>18</th>\n",
              "      <td>Japan</td>\n",
              "      <td>FORMULA 1 JAPANESE GRAND PRIX 2022</td>\n",
              "      <td>07 Oct 2022</td>\n",
              "      <td>09 Oct 2022</td>\n",
              "    </tr>\n",
              "    <tr>\n",
              "      <th>19</th>\n",
              "      <td>United States</td>\n",
              "      <td>FORMULA 1 ARAMCO UNITED STATES GRAND PRIX 2022</td>\n",
              "      <td>21 Oct 2022</td>\n",
              "      <td>23 Oct 2022</td>\n",
              "    </tr>\n",
              "    <tr>\n",
              "      <th>20</th>\n",
              "      <td>Mexico</td>\n",
              "      <td>FORMULA 1 GRAN PREMIO DE LA CIUDAD DE MÃXICO 2022</td>\n",
              "      <td>28 Oct 2022</td>\n",
              "      <td>30 Oct 2022</td>\n",
              "    </tr>\n",
              "    <tr>\n",
              "      <th>21</th>\n",
              "      <td>Brazil</td>\n",
              "      <td>FORMULA 1 HEINEKEN GRANDE PRÃMIO DE SÃO PAULO 2022</td>\n",
              "      <td>11 Nov 2022</td>\n",
              "      <td>13 Nov 2022</td>\n",
              "    </tr>\n",
              "    <tr>\n",
              "      <th>22</th>\n",
              "      <td>Abu Dhabi</td>\n",
              "      <td>FORMULA 1 ETIHAD AIRWAYS ABU DHABI GRAND PRIX 2022</td>\n",
              "      <td>18 Nov 2022</td>\n",
              "      <td>20 Nov 2022</td>\n",
              "    </tr>\n",
              "  </tbody>\n",
              "</table>\n",
              "</div>\n",
              "      <button class=\"colab-df-convert\" onclick=\"convertToInteractive('df-752a2b5a-68c2-429c-84b0-bab10d57f900')\"\n",
              "              title=\"Convert this dataframe to an interactive table.\"\n",
              "              style=\"display:none;\">\n",
              "        \n",
              "  <svg xmlns=\"http://www.w3.org/2000/svg\" height=\"24px\"viewBox=\"0 0 24 24\"\n",
              "       width=\"24px\">\n",
              "    <path d=\"M0 0h24v24H0V0z\" fill=\"none\"/>\n",
              "    <path d=\"M18.56 5.44l.94 2.06.94-2.06 2.06-.94-2.06-.94-.94-2.06-.94 2.06-2.06.94zm-11 1L8.5 8.5l.94-2.06 2.06-.94-2.06-.94L8.5 2.5l-.94 2.06-2.06.94zm10 10l.94 2.06.94-2.06 2.06-.94-2.06-.94-.94-2.06-.94 2.06-2.06.94z\"/><path d=\"M17.41 7.96l-1.37-1.37c-.4-.4-.92-.59-1.43-.59-.52 0-1.04.2-1.43.59L10.3 9.45l-7.72 7.72c-.78.78-.78 2.05 0 2.83L4 21.41c.39.39.9.59 1.41.59.51 0 1.02-.2 1.41-.59l7.78-7.78 2.81-2.81c.8-.78.8-2.07 0-2.86zM5.41 20L4 18.59l7.72-7.72 1.47 1.35L5.41 20z\"/>\n",
              "  </svg>\n",
              "      </button>\n",
              "      \n",
              "  <style>\n",
              "    .colab-df-container {\n",
              "      display:flex;\n",
              "      flex-wrap:wrap;\n",
              "      gap: 12px;\n",
              "    }\n",
              "\n",
              "    .colab-df-convert {\n",
              "      background-color: #E8F0FE;\n",
              "      border: none;\n",
              "      border-radius: 50%;\n",
              "      cursor: pointer;\n",
              "      display: none;\n",
              "      fill: #1967D2;\n",
              "      height: 32px;\n",
              "      padding: 0 0 0 0;\n",
              "      width: 32px;\n",
              "    }\n",
              "\n",
              "    .colab-df-convert:hover {\n",
              "      background-color: #E2EBFA;\n",
              "      box-shadow: 0px 1px 2px rgba(60, 64, 67, 0.3), 0px 1px 3px 1px rgba(60, 64, 67, 0.15);\n",
              "      fill: #174EA6;\n",
              "    }\n",
              "\n",
              "    [theme=dark] .colab-df-convert {\n",
              "      background-color: #3B4455;\n",
              "      fill: #D2E3FC;\n",
              "    }\n",
              "\n",
              "    [theme=dark] .colab-df-convert:hover {\n",
              "      background-color: #434B5C;\n",
              "      box-shadow: 0px 1px 3px 1px rgba(0, 0, 0, 0.15);\n",
              "      filter: drop-shadow(0px 1px 2px rgba(0, 0, 0, 0.3));\n",
              "      fill: #FFFFFF;\n",
              "    }\n",
              "  </style>\n",
              "\n",
              "      <script>\n",
              "        const buttonEl =\n",
              "          document.querySelector('#df-752a2b5a-68c2-429c-84b0-bab10d57f900 button.colab-df-convert');\n",
              "        buttonEl.style.display =\n",
              "          google.colab.kernel.accessAllowed ? 'block' : 'none';\n",
              "\n",
              "        async function convertToInteractive(key) {\n",
              "          const element = document.querySelector('#df-752a2b5a-68c2-429c-84b0-bab10d57f900');\n",
              "          const dataTable =\n",
              "            await google.colab.kernel.invokeFunction('convertToInteractive',\n",
              "                                                     [key], {});\n",
              "          if (!dataTable) return;\n",
              "\n",
              "          const docLinkHtml = 'Like what you see? Visit the ' +\n",
              "            '<a target=\"_blank\" href=https://colab.research.google.com/notebooks/data_table.ipynb>data table notebook</a>'\n",
              "            + ' to learn more about interactive tables.';\n",
              "          element.innerHTML = '';\n",
              "          dataTable['output_type'] = 'display_data';\n",
              "          await google.colab.output.renderOutput(dataTable, element);\n",
              "          const docLink = document.createElement('div');\n",
              "          docLink.innerHTML = docLinkHtml;\n",
              "          element.appendChild(docLink);\n",
              "        }\n",
              "      </script>\n",
              "    </div>\n",
              "  </div>\n",
              "  "
            ],
            "text/plain": [
              "          country  ...           to\n",
              "1   Bahrain        ...  20 Mar 2022\n",
              "2   Saudi Arabia   ...  27 Mar 2022\n",
              "3   Australia      ...  10 Apr 2022\n",
              "4   Italy          ...  24 Apr 2022\n",
              "5   United States  ...  08 May 2022\n",
              "6   Spain          ...  22 May 2022\n",
              "7   Monaco         ...  29 May 2022\n",
              "8   Azerbaijan     ...  12 Jun 2022\n",
              "9   Canada         ...  19 Jun 2022\n",
              "10  Great Britain  ...  03 Jul 2022\n",
              "11  Austria        ...  10 Jul 2022\n",
              "12  France         ...  24 Jul 2022\n",
              "13  Hungary        ...  31 Jul 2022\n",
              "14  Belgium        ...  28 Aug 2022\n",
              "15  Netherlands    ...  04 Sep 2022\n",
              "16  Italy          ...  11 Sep 2022\n",
              "17  Singapore      ...  02 Oct 2022\n",
              "18  Japan          ...  09 Oct 2022\n",
              "19  United States  ...  23 Oct 2022\n",
              "20  Mexico         ...  30 Oct 2022\n",
              "21  Brazil         ...  13 Nov 2022\n",
              "22  Abu Dhabi      ...  20 Nov 2022\n",
              "\n",
              "[22 rows x 4 columns]"
            ]
          },
          "metadata": {},
          "execution_count": 9
        }
      ]
    },
    {
      "cell_type": "code",
      "source": [
        "f1_schedule_df.to_excel(\"f1_schedule_2022.xlsx\")"
      ],
      "metadata": {
        "id": "RnqX2_5hV9jz"
      },
      "execution_count": 10,
      "outputs": []
    },
    {
      "cell_type": "code",
      "source": [
        ""
      ],
      "metadata": {
        "id": "wS_4GP-7aBC9"
      },
      "execution_count": 10,
      "outputs": []
    }
  ]
}