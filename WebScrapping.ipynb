{
  "nbformat": 4,
  "nbformat_minor": 0,
  "metadata": {
    "colab": {
      "name": "WebScrapping.ipynb",
      "provenance": [],
      "collapsed_sections": [],
      "authorship_tag": "ABX9TyPLMgKZumnErZf3agORfzJ1",
      "include_colab_link": true
    },
    "kernelspec": {
      "name": "python3",
      "display_name": "Python 3"
    },
    "language_info": {
      "name": "python"
    }
  },
  "cells": [
    {
      "cell_type": "markdown",
      "metadata": {
        "id": "view-in-github",
        "colab_type": "text"
      },
      "source": [
        "<a href=\"https://colab.research.google.com/github/bharathArunachalam/Web_Scrapping/blob/main/WebScrapping.ipynb\" target=\"_parent\"><img src=\"https://colab.research.google.com/assets/colab-badge.svg\" alt=\"Open In Colab\"/></a>"
      ]
    },
    {
      "cell_type": "markdown",
      "source": [
        "# Practice: Web scrapping from website"
      ],
      "metadata": {
        "id": "SBs5M7K--L1n"
      }
    },
    {
      "cell_type": "markdown",
      "source": [
        "Objective: Scrape the following information from 'https://www.moneycontrol.com/'\n",
        "\n",
        "Build the table below for 6 companies:\n",
        "\n",
        "['Rail Vikas', 'TCS', 'Indigo Paints', 'IOC', 'PVR', 'Reliance']\n",
        "\n",
        "|Name| Date | Time| Closing_price| Change_in_value| Percent_change|\n"
      ],
      "metadata": {
        "id": "VeJN5XC2haak"
      }
    },
    {
      "cell_type": "code",
      "source": [
        "import requests\n",
        "\n",
        "url = 'https://www.moneycontrol.com/india/stockpricequote/'\n",
        "# this page contains links to all the stocks in Indian market.\n",
        "\n",
        "headers = {'User-Agent':'Mozilla/5.0 (Windows NT 10.0; Win64; x64) AppleWebKit/537.36 (KHTML, like Gecko) Chrome/98.0.4758.102 Safari/537.36'}\n",
        "# response 200 without adding User-Agent detail to requests.get()\n",
        "\n",
        "response = requests.get(url)\n",
        "response"
      ],
      "metadata": {
        "id": "G8iW4ohh-X2E",
        "colab": {
          "base_uri": "https://localhost:8080/"
        },
        "outputId": "071f752c-a403-4237-bf2a-637da2b10ad1"
      },
      "execution_count": null,
      "outputs": [
        {
          "output_type": "execute_result",
          "data": {
            "text/plain": [
              "<Response [200]>"
            ]
          },
          "metadata": {},
          "execution_count": 22
        }
      ]
    },
    {
      "cell_type": "code",
      "source": [
        "response_str = response.text"
      ],
      "metadata": {
        "id": "obw8mEJsjvlI"
      },
      "execution_count": null,
      "outputs": []
    },
    {
      "cell_type": "code",
      "source": [
        "from bs4 import BeautifulSoup\n",
        "import lxml\n",
        "\n",
        "soup = BeautifulSoup(response_str, 'lxml')\n",
        "\n",
        "#BeautifulSoup object is ready"
      ],
      "metadata": {
        "id": "n8y7mgmGkV0e"
      },
      "execution_count": null,
      "outputs": []
    },
    {
      "cell_type": "code",
      "source": [
        "link_compilation = soup.find('div', {'class': 'PT15'}).table.find_all('a')\n",
        "\n",
        "company_names = ['Rail Vikas', 'TCS', 'Indigo Paints', 'IOC', 'PVR', 'Reliance']\n",
        "#the list of companies we need to track data on. Add company name to this list to see the value in the data frame below.\n",
        "\n",
        "company_links = []\n",
        "\n",
        "for link in link_compilation:\n",
        "    for name in company_names:\n",
        "        if name in link:\n",
        "            company_links.append(link.get('href'))\n",
        "# list of company links we are tracking.\n",
        "\n",
        "company_links"
      ],
      "metadata": {
        "colab": {
          "base_uri": "https://localhost:8080/"
        },
        "id": "Txk49Zp4k1Pc",
        "outputId": "3504b917-4582-4a1d-c81a-3a600dcaa857"
      },
      "execution_count": null,
      "outputs": [
        {
          "output_type": "execute_result",
          "data": {
            "text/plain": [
              "['https://www.moneycontrol.com/india/stockpricequote/paints/indigopaints/IP08',\n",
              " 'https://www.moneycontrol.com/india/stockpricequote/refineries/indianoilcorporation/IOC',\n",
              " 'https://www.moneycontrol.com/india/stockpricequote/mediaentertainment/pvr/PVR',\n",
              " 'https://www.moneycontrol.com/india/stockpricequote/miscellaneous/railvikasnigam/RVN',\n",
              " 'https://www.moneycontrol.com/india/stockpricequote/refineries/relianceindustries/RI',\n",
              " 'https://www.moneycontrol.com/india/stockpricequote/computerssoftware/tataconsultancyservices/TCS']"
            ]
          },
          "metadata": {},
          "execution_count": 25
        }
      ]
    },
    {
      "cell_type": "code",
      "source": [
        "# response_1  = requests.get(company_links[4])\n",
        "# response_1"
      ],
      "metadata": {
        "id": "37ipBcRS1DgV"
      },
      "execution_count": null,
      "outputs": []
    },
    {
      "cell_type": "code",
      "source": [
        "\n",
        "# response_1_str = response_1.text"
      ],
      "metadata": {
        "id": "LPILFWU71Qjz"
      },
      "execution_count": null,
      "outputs": []
    },
    {
      "cell_type": "code",
      "source": [
        "# soup_1 = BeautifulSoup(response_1_str, 'lxml')\n",
        "# company_name = soup_1.find('div', {'class':'indices_namntab clearfix'}).find('div', {'class':'inid_name'}).h1.text\n",
        "# #company_name\n",
        "\n",
        "# time = soup_1.find('div', {'class':'indimprice'}).find('p', {'class': 'nseasondate'}).text[-5:]\n",
        "# #time\n",
        "\n",
        "# date = soup_1.find('div', {'class':'indimprice'}).find('p', {'class': 'nseasondate'}).text[-20:-8]\n",
        "# #date\n",
        "\n",
        "# price_percent = soup_1.find('div', {'class': 'indimprice'}).find('div',{'class': 'nsechange'}).text\n",
        "# price_percent_list = price_percent.split(' ')\n",
        "\n",
        "# price_change = price_percent_list[0]\n",
        "# percent_change = price_percent_list[1].replace('(', '').replace(')', ''). replace('%', '')\n",
        "\n",
        "# #price_change\n",
        "# #percent_change\n",
        "\n",
        "# closing_price = soup_1.find('div', {'class': 'inprice1 nsecp'}).get('rel')\n",
        "# #closing_price\n",
        "\n",
        "# print(company_name, time, date, price_change, percent_change, closing_price)"
      ],
      "metadata": {
        "id": "qXMB9Wj61ima"
      },
      "execution_count": null,
      "outputs": []
    },
    {
      "cell_type": "code",
      "source": [
        "from datetime import datetime"
      ],
      "metadata": {
        "id": "AGVx7L00Kvc0"
      },
      "execution_count": null,
      "outputs": []
    },
    {
      "cell_type": "code",
      "source": [
        "# build a function for the above cell:\n",
        "def stock_data_extraction(link):\n",
        "    \n",
        "    response_1 = requests.get(link).text\n",
        "    soup_1 = BeautifulSoup(response_1, 'lxml')\n",
        "\n",
        "    date = soup_1.find('div', {'class':'indimprice'}).find('p', {'class': 'nseasondate'}).text[-20:-8]\n",
        "    #date =\n",
        "    day = date[0:2]\n",
        "    month = date[3:6].lower()\n",
        "    year = date[-4:]\n",
        "    date_format = day + ' ' + month + ' ' + year\n",
        "    date_format_2 = date_format.replace(' ', '/')\n",
        "    \"\"\"formatting the date. We received it as '25 Feb, 2022', We need it as '25/feb/2022' \"\"\"\n",
        "    \n",
        "    price_percent = soup_1.find('div', {'class': 'indimprice'}).find('div',{'class': 'nsechange'}).text\n",
        "    price_percent_list = price_percent.split(' ')\n",
        "    \"\"\"formatting the price_percent.We received it as '(-0.24)', We need it as '-0.24' \"\"\"\n",
        "    \n",
        "    stock_dict = {\n",
        "                  'company_name' : soup_1.find('div', {'class':'indices_namntab clearfix'}).find('div', {'class':'inid_name'}).h1.text,\n",
        "                  'date' : date_format_2,\n",
        "                  'time' : soup_1.find('div', {'class':'indimprice'}).find('p', {'class': 'nseasondate'}).text[-5:],\n",
        "                  'closing_price' : float(soup_1.find('div', {'class': 'inprice1 nsecp'}).get('rel')),\n",
        "                  'price_change' : float(price_percent_list[0]),\n",
        "                  'percent_change' : float(price_percent_list[1].replace('(', '').replace(')', ''). replace('%', '')),\n",
        "                  }\n",
        "    \n",
        "    return stock_dict\n",
        "\n",
        "stock_data_extraction(company_links[1])"
      ],
      "metadata": {
        "colab": {
          "base_uri": "https://localhost:8080/"
        },
        "id": "DBQ4b6xG_VOb",
        "outputId": "1b3cec21-7f41-4b27-9aae-11e43b7a0a33"
      },
      "execution_count": null,
      "outputs": [
        {
          "output_type": "execute_result",
          "data": {
            "text/plain": [
              "{'closing_price': 112.35,\n",
              " 'company_name': 'Indian Oil Corporation Ltd.',\n",
              " 'date': '25/feb/2022',\n",
              " 'percent_change': 2.14,\n",
              " 'price_change': 2.35,\n",
              " 'time': '03:59'}"
            ]
          },
          "metadata": {},
          "execution_count": 30
        }
      ]
    },
    {
      "cell_type": "code",
      "source": [
        "#checking response stat of individual links\n",
        "\n",
        "stock_data_list = []\n",
        "\n",
        "for link in company_links:\n",
        "    stock_data_list.append(stock_data_extraction(link))\n",
        "\n",
        "print(stock_data_list)\n"
      ],
      "metadata": {
        "colab": {
          "base_uri": "https://localhost:8080/"
        },
        "id": "tz4G4gLT3EJV",
        "outputId": "a2983709-85af-4848-bacc-d6518bd60dd0"
      },
      "execution_count": null,
      "outputs": [
        {
          "output_type": "stream",
          "name": "stdout",
          "text": [
            "[{'company_name': 'Indigo Paints Ltd.', 'date': '25/feb/2022', 'time': '03:59', 'closing_price': 1747.5, 'price_change': -48.25, 'percent_change': -2.69}, {'company_name': 'Indian Oil Corporation Ltd.', 'date': '25/feb/2022', 'time': '03:59', 'closing_price': 112.35, 'price_change': 2.35, 'percent_change': 2.14}, {'company_name': 'PVR Ltd.', 'date': '25/feb/2022', 'time': '03:51', 'closing_price': 1596.65, 'price_change': 82.4, 'percent_change': 5.44}, {'company_name': 'Rail Vikas Nigam Ltd.', 'date': '25/feb/2022', 'time': '03:59', 'closing_price': 31.0, 'price_change': 1.8, 'percent_change': 6.16}, {'company_name': 'Reliance Industries Ltd.', 'date': '25/feb/2022', 'time': '03:59', 'closing_price': 2283.95, 'price_change': 28.2, 'percent_change': 1.25}, {'company_name': 'Tata Consultancy Services Ltd.', 'date': '25/feb/2022', 'time': '03:59', 'closing_price': 3520.75, 'price_change': 119.1, 'percent_change': 3.5}]\n"
          ]
        }
      ]
    },
    {
      "cell_type": "code",
      "source": [
        "import pandas as pd\n",
        "\n",
        "stock_data_df = pd.DataFrame(stock_data_list)  \n",
        "stock_data_df "
      ],
      "metadata": {
        "colab": {
          "base_uri": "https://localhost:8080/",
          "height": 237
        },
        "id": "-HcMFeK3_HNd",
        "outputId": "830a74b8-4bc9-4351-dd53-851a211b9376"
      },
      "execution_count": null,
      "outputs": [
        {
          "output_type": "execute_result",
          "data": {
            "text/html": [
              "\n",
              "  <div id=\"df-29f49cd2-a22b-4339-b5a5-49285131e0ad\">\n",
              "    <div class=\"colab-df-container\">\n",
              "      <div>\n",
              "<style scoped>\n",
              "    .dataframe tbody tr th:only-of-type {\n",
              "        vertical-align: middle;\n",
              "    }\n",
              "\n",
              "    .dataframe tbody tr th {\n",
              "        vertical-align: top;\n",
              "    }\n",
              "\n",
              "    .dataframe thead th {\n",
              "        text-align: right;\n",
              "    }\n",
              "</style>\n",
              "<table border=\"1\" class=\"dataframe\">\n",
              "  <thead>\n",
              "    <tr style=\"text-align: right;\">\n",
              "      <th></th>\n",
              "      <th>company_name</th>\n",
              "      <th>date</th>\n",
              "      <th>time</th>\n",
              "      <th>closing_price</th>\n",
              "      <th>price_change</th>\n",
              "      <th>percent_change</th>\n",
              "    </tr>\n",
              "  </thead>\n",
              "  <tbody>\n",
              "    <tr>\n",
              "      <th>0</th>\n",
              "      <td>Indigo Paints Ltd.</td>\n",
              "      <td>25/feb/2022</td>\n",
              "      <td>03:59</td>\n",
              "      <td>1747.50</td>\n",
              "      <td>-48.25</td>\n",
              "      <td>-2.69</td>\n",
              "    </tr>\n",
              "    <tr>\n",
              "      <th>1</th>\n",
              "      <td>Indian Oil Corporation Ltd.</td>\n",
              "      <td>25/feb/2022</td>\n",
              "      <td>03:59</td>\n",
              "      <td>112.35</td>\n",
              "      <td>2.35</td>\n",
              "      <td>2.14</td>\n",
              "    </tr>\n",
              "    <tr>\n",
              "      <th>2</th>\n",
              "      <td>PVR Ltd.</td>\n",
              "      <td>25/feb/2022</td>\n",
              "      <td>03:51</td>\n",
              "      <td>1596.65</td>\n",
              "      <td>82.40</td>\n",
              "      <td>5.44</td>\n",
              "    </tr>\n",
              "    <tr>\n",
              "      <th>3</th>\n",
              "      <td>Rail Vikas Nigam Ltd.</td>\n",
              "      <td>25/feb/2022</td>\n",
              "      <td>03:59</td>\n",
              "      <td>31.00</td>\n",
              "      <td>1.80</td>\n",
              "      <td>6.16</td>\n",
              "    </tr>\n",
              "    <tr>\n",
              "      <th>4</th>\n",
              "      <td>Reliance Industries Ltd.</td>\n",
              "      <td>25/feb/2022</td>\n",
              "      <td>03:59</td>\n",
              "      <td>2283.95</td>\n",
              "      <td>28.20</td>\n",
              "      <td>1.25</td>\n",
              "    </tr>\n",
              "    <tr>\n",
              "      <th>5</th>\n",
              "      <td>Tata Consultancy Services Ltd.</td>\n",
              "      <td>25/feb/2022</td>\n",
              "      <td>03:59</td>\n",
              "      <td>3520.75</td>\n",
              "      <td>119.10</td>\n",
              "      <td>3.50</td>\n",
              "    </tr>\n",
              "  </tbody>\n",
              "</table>\n",
              "</div>\n",
              "      <button class=\"colab-df-convert\" onclick=\"convertToInteractive('df-29f49cd2-a22b-4339-b5a5-49285131e0ad')\"\n",
              "              title=\"Convert this dataframe to an interactive table.\"\n",
              "              style=\"display:none;\">\n",
              "        \n",
              "  <svg xmlns=\"http://www.w3.org/2000/svg\" height=\"24px\"viewBox=\"0 0 24 24\"\n",
              "       width=\"24px\">\n",
              "    <path d=\"M0 0h24v24H0V0z\" fill=\"none\"/>\n",
              "    <path d=\"M18.56 5.44l.94 2.06.94-2.06 2.06-.94-2.06-.94-.94-2.06-.94 2.06-2.06.94zm-11 1L8.5 8.5l.94-2.06 2.06-.94-2.06-.94L8.5 2.5l-.94 2.06-2.06.94zm10 10l.94 2.06.94-2.06 2.06-.94-2.06-.94-.94-2.06-.94 2.06-2.06.94z\"/><path d=\"M17.41 7.96l-1.37-1.37c-.4-.4-.92-.59-1.43-.59-.52 0-1.04.2-1.43.59L10.3 9.45l-7.72 7.72c-.78.78-.78 2.05 0 2.83L4 21.41c.39.39.9.59 1.41.59.51 0 1.02-.2 1.41-.59l7.78-7.78 2.81-2.81c.8-.78.8-2.07 0-2.86zM5.41 20L4 18.59l7.72-7.72 1.47 1.35L5.41 20z\"/>\n",
              "  </svg>\n",
              "      </button>\n",
              "      \n",
              "  <style>\n",
              "    .colab-df-container {\n",
              "      display:flex;\n",
              "      flex-wrap:wrap;\n",
              "      gap: 12px;\n",
              "    }\n",
              "\n",
              "    .colab-df-convert {\n",
              "      background-color: #E8F0FE;\n",
              "      border: none;\n",
              "      border-radius: 50%;\n",
              "      cursor: pointer;\n",
              "      display: none;\n",
              "      fill: #1967D2;\n",
              "      height: 32px;\n",
              "      padding: 0 0 0 0;\n",
              "      width: 32px;\n",
              "    }\n",
              "\n",
              "    .colab-df-convert:hover {\n",
              "      background-color: #E2EBFA;\n",
              "      box-shadow: 0px 1px 2px rgba(60, 64, 67, 0.3), 0px 1px 3px 1px rgba(60, 64, 67, 0.15);\n",
              "      fill: #174EA6;\n",
              "    }\n",
              "\n",
              "    [theme=dark] .colab-df-convert {\n",
              "      background-color: #3B4455;\n",
              "      fill: #D2E3FC;\n",
              "    }\n",
              "\n",
              "    [theme=dark] .colab-df-convert:hover {\n",
              "      background-color: #434B5C;\n",
              "      box-shadow: 0px 1px 3px 1px rgba(0, 0, 0, 0.15);\n",
              "      filter: drop-shadow(0px 1px 2px rgba(0, 0, 0, 0.3));\n",
              "      fill: #FFFFFF;\n",
              "    }\n",
              "  </style>\n",
              "\n",
              "      <script>\n",
              "        const buttonEl =\n",
              "          document.querySelector('#df-29f49cd2-a22b-4339-b5a5-49285131e0ad button.colab-df-convert');\n",
              "        buttonEl.style.display =\n",
              "          google.colab.kernel.accessAllowed ? 'block' : 'none';\n",
              "\n",
              "        async function convertToInteractive(key) {\n",
              "          const element = document.querySelector('#df-29f49cd2-a22b-4339-b5a5-49285131e0ad');\n",
              "          const dataTable =\n",
              "            await google.colab.kernel.invokeFunction('convertToInteractive',\n",
              "                                                     [key], {});\n",
              "          if (!dataTable) return;\n",
              "\n",
              "          const docLinkHtml = 'Like what you see? Visit the ' +\n",
              "            '<a target=\"_blank\" href=https://colab.research.google.com/notebooks/data_table.ipynb>data table notebook</a>'\n",
              "            + ' to learn more about interactive tables.';\n",
              "          element.innerHTML = '';\n",
              "          dataTable['output_type'] = 'display_data';\n",
              "          await google.colab.output.renderOutput(dataTable, element);\n",
              "          const docLink = document.createElement('div');\n",
              "          docLink.innerHTML = docLinkHtml;\n",
              "          element.appendChild(docLink);\n",
              "        }\n",
              "      </script>\n",
              "    </div>\n",
              "  </div>\n",
              "  "
            ],
            "text/plain": [
              "                     company_name         date  ... price_change  percent_change\n",
              "0              Indigo Paints Ltd.  25/feb/2022  ...       -48.25           -2.69\n",
              "1     Indian Oil Corporation Ltd.  25/feb/2022  ...         2.35            2.14\n",
              "2                        PVR Ltd.  25/feb/2022  ...        82.40            5.44\n",
              "3           Rail Vikas Nigam Ltd.  25/feb/2022  ...         1.80            6.16\n",
              "4        Reliance Industries Ltd.  25/feb/2022  ...        28.20            1.25\n",
              "5  Tata Consultancy Services Ltd.  25/feb/2022  ...       119.10            3.50\n",
              "\n",
              "[6 rows x 6 columns]"
            ]
          },
          "metadata": {},
          "execution_count": 32
        }
      ]
    },
    {
      "cell_type": "code",
      "source": [
        "import json\n",
        "with open('stock_data_1.json', 'w') as a:\n",
        "    json.dump(stock_data_list, a)\n",
        "\n",
        "# converting the list of dictionaries as .json file"
      ],
      "metadata": {
        "id": "OjeCajO2hnKt"
      },
      "execution_count": null,
      "outputs": []
    }
  ]
}