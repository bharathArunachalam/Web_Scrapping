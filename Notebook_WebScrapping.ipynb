{
  "nbformat": 4,
  "nbformat_minor": 0,
  "metadata": {
    "colab": {
      "name": "Notebook: WebScrapping.ipynb",
      "provenance": [],
      "collapsed_sections": [
        "SBs5M7K--L1n",
        "3Sx7uaT3hW51"
      ],
      "authorship_tag": "ABX9TyOtVeMKY5Kr4Ct/2H9TEriK",
      "include_colab_link": true
    },
    "kernelspec": {
      "name": "python3",
      "display_name": "Python 3"
    },
    "language_info": {
      "name": "python"
    }
  },
  "cells": [
    {
      "cell_type": "markdown",
      "metadata": {
        "id": "view-in-github",
        "colab_type": "text"
      },
      "source": [
        "<a href=\"https://colab.research.google.com/github/bharathArunachalam/Web_Scrapping/blob/main/Notebook_WebScrapping.ipynb\" target=\"_parent\"><img src=\"https://colab.research.google.com/assets/colab-badge.svg\" alt=\"Open In Colab\"/></a>"
      ]
    },
    {
      "cell_type": "markdown",
      "source": [
        "# Practice 1: Web scrapping stock information"
      ],
      "metadata": {
        "id": "SBs5M7K--L1n"
      }
    },
    {
      "cell_type": "markdown",
      "source": [
        "Objective: Scrape the following information from 'https://www.moneycontrol.com/'\n",
        "\n",
        "Build the table below for 6 companies:\n",
        "\n",
        "['Rail Vikas', 'TCS', 'Indigo Paints', 'IOC', 'PVR', 'Reliance']\n",
        "\n",
        "|Name| Date | Time| Closing_price| Change_in_value| Percent_change|\n"
      ],
      "metadata": {
        "id": "VeJN5XC2haak"
      }
    },
    {
      "cell_type": "code",
      "source": [
        "import requests\n",
        "\n",
        "url_1 = 'https://www.moneycontrol.com/india/stockpricequote/'\n",
        "# this page contains links to all the stocks in Indian market.\n",
        "\n",
        "headers = {'User-Agent':'Mozilla/5.0 (Windows NT 10.0; Win64; x64) AppleWebKit/537.36 (KHTML, like Gecko) Chrome/98.0.4758.102 Safari/537.36'}\n",
        "# response 200 without adding User-Agent detail to requests.get()\n",
        "\n",
        "response = requests.get(url_1)\n",
        "response"
      ],
      "metadata": {
        "id": "G8iW4ohh-X2E",
        "colab": {
          "base_uri": "https://localhost:8080/"
        },
        "outputId": "fb0978dd-93bb-44bd-f5ff-d0909475322e"
      },
      "execution_count": null,
      "outputs": [
        {
          "output_type": "execute_result",
          "data": {
            "text/plain": [
              "<Response [200]>"
            ]
          },
          "metadata": {},
          "execution_count": 53
        }
      ]
    },
    {
      "cell_type": "code",
      "source": [
        "response_str_1 = response.text"
      ],
      "metadata": {
        "id": "obw8mEJsjvlI"
      },
      "execution_count": null,
      "outputs": []
    },
    {
      "cell_type": "code",
      "source": [
        "from bs4 import BeautifulSoup\n",
        "import lxml\n",
        "\n",
        "soup_1 = BeautifulSoup(response_str_1, 'lxml')\n",
        "\n",
        "#BeautifulSoup object is ready"
      ],
      "metadata": {
        "id": "n8y7mgmGkV0e"
      },
      "execution_count": null,
      "outputs": []
    },
    {
      "cell_type": "code",
      "source": [
        "link_compilation = soup_1.find('div', {'class': 'PT15'}).table.find_all('a')\n",
        "\n",
        "company_names = ['Rail Vikas', 'TCS', 'Indigo Paints', 'IOC', 'PVR', 'Reliance']\n",
        "#the list of companies we need to track data on. Add company name to this list to see the value in the data frame below.\n",
        "\n",
        "company_links = []\n",
        "\n",
        "for link in link_compilation:\n",
        "    for name in company_names:\n",
        "        if name in link:\n",
        "            company_links.append(link.get('href'))\n",
        "# list of company links we are tracking.\n",
        "\n",
        "company_links"
      ],
      "metadata": {
        "colab": {
          "base_uri": "https://localhost:8080/"
        },
        "id": "Txk49Zp4k1Pc",
        "outputId": "123a89b5-3086-4226-d522-7e56efec601d"
      },
      "execution_count": null,
      "outputs": [
        {
          "output_type": "execute_result",
          "data": {
            "text/plain": [
              "['https://www.moneycontrol.com/india/stockpricequote/paints/indigopaints/IP08',\n",
              " 'https://www.moneycontrol.com/india/stockpricequote/refineries/indianoilcorporation/IOC',\n",
              " 'https://www.moneycontrol.com/india/stockpricequote/mediaentertainment/pvr/PVR',\n",
              " 'https://www.moneycontrol.com/india/stockpricequote/miscellaneous/railvikasnigam/RVN',\n",
              " 'https://www.moneycontrol.com/india/stockpricequote/refineries/relianceindustries/RI',\n",
              " 'https://www.moneycontrol.com/india/stockpricequote/computerssoftware/tataconsultancyservices/TCS']"
            ]
          },
          "metadata": {},
          "execution_count": 56
        }
      ]
    },
    {
      "cell_type": "code",
      "source": [
        "# response_1  = requests.get(company_links[4])\n",
        "# response_1"
      ],
      "metadata": {
        "id": "37ipBcRS1DgV"
      },
      "execution_count": null,
      "outputs": []
    },
    {
      "cell_type": "code",
      "source": [
        "\n",
        "# response_1_str = response_1.text"
      ],
      "metadata": {
        "id": "LPILFWU71Qjz"
      },
      "execution_count": null,
      "outputs": []
    },
    {
      "cell_type": "code",
      "source": [
        "# soup_1 = BeautifulSoup(response_1_str, 'lxml')\n",
        "# company_name = soup_1.find('div', {'class':'indices_namntab clearfix'}).find('div', {'class':'inid_name'}).h1.text\n",
        "# #company_name\n",
        "\n",
        "# time = soup_1.find('div', {'class':'indimprice'}).find('p', {'class': 'nseasondate'}).text[-5:]\n",
        "# #time\n",
        "\n",
        "# date = soup_1.find('div', {'class':'indimprice'}).find('p', {'class': 'nseasondate'}).text[-20:-8]\n",
        "# #date\n",
        "\n",
        "# price_percent = soup_1.find('div', {'class': 'indimprice'}).find('div',{'class': 'nsechange'}).text\n",
        "# price_percent_list = price_percent.split(' ')\n",
        "\n",
        "# price_change = price_percent_list[0]\n",
        "# percent_change = price_percent_list[1].replace('(', '').replace(')', ''). replace('%', '')\n",
        "\n",
        "# #price_change\n",
        "# #percent_change\n",
        "\n",
        "# closing_price = soup_1.find('div', {'class': 'inprice1 nsecp'}).get('rel')\n",
        "# #closing_price\n",
        "\n",
        "# print(company_name, time, date, price_change, percent_change, closing_price)"
      ],
      "metadata": {
        "id": "qXMB9Wj61ima"
      },
      "execution_count": null,
      "outputs": []
    },
    {
      "cell_type": "code",
      "source": [
        "from datetime import datetime"
      ],
      "metadata": {
        "id": "AGVx7L00Kvc0"
      },
      "execution_count": null,
      "outputs": []
    },
    {
      "cell_type": "code",
      "source": [
        "# build a function for the above cell:\n",
        "def stock_data_extraction(link):\n",
        "    \n",
        "    response_str_1 = requests.get(link).text\n",
        "    soup_1 = BeautifulSoup(response_str_1, 'lxml')\n",
        "\n",
        "    date = soup_1.find('div', {'class':'indimprice'}).find('p', {'class': 'nseasondate'}).text[-20:-8]\n",
        "    #date =\n",
        "    day = date[0:2]\n",
        "    month = date[3:6].lower()\n",
        "    year = date[-4:]\n",
        "    date_format = day + ' ' + month + ' ' + year\n",
        "    date_format_2 = date_format.replace(' ', '/')\n",
        "    \"\"\"formatting the date. We received it as '25 Feb, 2022', We need it as '25/feb/2022' \"\"\"\n",
        "    \n",
        "    price_percent = soup_1.find('div', {'class': 'indimprice'}).find('div',{'class': 'nsechange'}).text\n",
        "    price_percent_list = price_percent.split(' ')\n",
        "    \"\"\"formatting the price_percent.We received it as '(-0.24)', We need it as '-0.24' \"\"\"\n",
        "    \n",
        "    stock_dict = {\n",
        "                  'company_name' : soup_1.find('div', {'class':'indices_namntab clearfix'}).find('div', {'class':'inid_name'}).h1.text,\n",
        "                  'date' : date_format_2,\n",
        "                  'time' : soup_1.find('div', {'class':'indimprice'}).find('p', {'class': 'nseasondate'}).text[-5:],\n",
        "                  'closing_price' : float(soup_1.find('div', {'class': 'inprice1 nsecp'}).get('rel')),\n",
        "                  'price_change' : float(price_percent_list[0]),\n",
        "                  'percent_change' : float(price_percent_list[1].replace('(', '').replace(')', ''). replace('%', '')),\n",
        "                  }\n",
        "    \n",
        "    return stock_dict\n",
        "\n",
        "stock_data_extraction(company_links[1])"
      ],
      "metadata": {
        "colab": {
          "base_uri": "https://localhost:8080/"
        },
        "id": "DBQ4b6xG_VOb",
        "outputId": "ecaecb5b-f94d-4d74-c5b0-1f277e15fcd1"
      },
      "execution_count": null,
      "outputs": [
        {
          "output_type": "execute_result",
          "data": {
            "text/plain": [
              "{'closing_price': 114.65,\n",
              " 'company_name': 'Indian Oil Corporation Ltd.',\n",
              " 'date': '03/mar/2022',\n",
              " 'percent_change': 2.14,\n",
              " 'price_change': 2.4,\n",
              " 'time': '03:59'}"
            ]
          },
          "metadata": {},
          "execution_count": 61
        }
      ]
    },
    {
      "cell_type": "code",
      "source": [
        "#checking response stat of individual links\n",
        "\n",
        "stock_data_list = []\n",
        "\n",
        "for link in company_links:\n",
        "    stock_data_list.append(stock_data_extraction(link))\n",
        "\n",
        "print(stock_data_list)\n"
      ],
      "metadata": {
        "colab": {
          "base_uri": "https://localhost:8080/"
        },
        "id": "tz4G4gLT3EJV",
        "outputId": "db6b3ecf-c05e-40d1-dbb8-fb0293c996c0"
      },
      "execution_count": null,
      "outputs": [
        {
          "output_type": "stream",
          "name": "stdout",
          "text": [
            "[{'company_name': 'Indigo Paints Ltd.', 'date': '03/mar/2022', 'time': '03:52', 'closing_price': 1754.5, 'price_change': 7.2, 'percent_change': 0.41}, {'company_name': 'Indian Oil Corporation Ltd.', 'date': '03/mar/2022', 'time': '03:59', 'closing_price': 114.65, 'price_change': 2.4, 'percent_change': 2.14}, {'company_name': 'PVR Ltd.', 'date': '03/mar/2022', 'time': '03:58', 'closing_price': 1628.5, 'price_change': -28.2, 'percent_change': -1.7}, {'company_name': 'Rail Vikas Nigam Ltd.', 'date': '03/mar/2022', 'time': '03:59', 'closing_price': 31.1, 'price_change': 0.05, 'percent_change': 0.16}, {'company_name': 'Reliance Industries Ltd.', 'date': '03/mar/2022', 'time': '03:59', 'closing_price': 2378.3, 'price_change': -20.25, 'percent_change': -0.84}, {'company_name': 'Tata Consultancy Services Ltd.', 'date': '03/mar/2022', 'time': '03:59', 'closing_price': 3544.4, 'price_change': -1.75, 'percent_change': -0.05}]\n"
          ]
        }
      ]
    },
    {
      "cell_type": "code",
      "source": [
        "import pandas as pd\n",
        "\n",
        "stock_data_df = pd.DataFrame(stock_data_list)  \n",
        "stock_data_df "
      ],
      "metadata": {
        "colab": {
          "base_uri": "https://localhost:8080/",
          "height": 237
        },
        "id": "-HcMFeK3_HNd",
        "outputId": "46ee6e58-1e9e-4e42-9337-5fb615c979c7"
      },
      "execution_count": null,
      "outputs": [
        {
          "output_type": "execute_result",
          "data": {
            "text/html": [
              "\n",
              "  <div id=\"df-913effb5-872b-4ea1-a7e6-946574913f01\">\n",
              "    <div class=\"colab-df-container\">\n",
              "      <div>\n",
              "<style scoped>\n",
              "    .dataframe tbody tr th:only-of-type {\n",
              "        vertical-align: middle;\n",
              "    }\n",
              "\n",
              "    .dataframe tbody tr th {\n",
              "        vertical-align: top;\n",
              "    }\n",
              "\n",
              "    .dataframe thead th {\n",
              "        text-align: right;\n",
              "    }\n",
              "</style>\n",
              "<table border=\"1\" class=\"dataframe\">\n",
              "  <thead>\n",
              "    <tr style=\"text-align: right;\">\n",
              "      <th></th>\n",
              "      <th>company_name</th>\n",
              "      <th>date</th>\n",
              "      <th>time</th>\n",
              "      <th>closing_price</th>\n",
              "      <th>price_change</th>\n",
              "      <th>percent_change</th>\n",
              "    </tr>\n",
              "  </thead>\n",
              "  <tbody>\n",
              "    <tr>\n",
              "      <th>0</th>\n",
              "      <td>Indigo Paints Ltd.</td>\n",
              "      <td>03/mar/2022</td>\n",
              "      <td>03:52</td>\n",
              "      <td>1754.50</td>\n",
              "      <td>7.20</td>\n",
              "      <td>0.41</td>\n",
              "    </tr>\n",
              "    <tr>\n",
              "      <th>1</th>\n",
              "      <td>Indian Oil Corporation Ltd.</td>\n",
              "      <td>03/mar/2022</td>\n",
              "      <td>03:59</td>\n",
              "      <td>114.65</td>\n",
              "      <td>2.40</td>\n",
              "      <td>2.14</td>\n",
              "    </tr>\n",
              "    <tr>\n",
              "      <th>2</th>\n",
              "      <td>PVR Ltd.</td>\n",
              "      <td>03/mar/2022</td>\n",
              "      <td>03:58</td>\n",
              "      <td>1628.50</td>\n",
              "      <td>-28.20</td>\n",
              "      <td>-1.70</td>\n",
              "    </tr>\n",
              "    <tr>\n",
              "      <th>3</th>\n",
              "      <td>Rail Vikas Nigam Ltd.</td>\n",
              "      <td>03/mar/2022</td>\n",
              "      <td>03:59</td>\n",
              "      <td>31.10</td>\n",
              "      <td>0.05</td>\n",
              "      <td>0.16</td>\n",
              "    </tr>\n",
              "    <tr>\n",
              "      <th>4</th>\n",
              "      <td>Reliance Industries Ltd.</td>\n",
              "      <td>03/mar/2022</td>\n",
              "      <td>03:59</td>\n",
              "      <td>2378.30</td>\n",
              "      <td>-20.25</td>\n",
              "      <td>-0.84</td>\n",
              "    </tr>\n",
              "    <tr>\n",
              "      <th>5</th>\n",
              "      <td>Tata Consultancy Services Ltd.</td>\n",
              "      <td>03/mar/2022</td>\n",
              "      <td>03:59</td>\n",
              "      <td>3544.40</td>\n",
              "      <td>-1.75</td>\n",
              "      <td>-0.05</td>\n",
              "    </tr>\n",
              "  </tbody>\n",
              "</table>\n",
              "</div>\n",
              "      <button class=\"colab-df-convert\" onclick=\"convertToInteractive('df-913effb5-872b-4ea1-a7e6-946574913f01')\"\n",
              "              title=\"Convert this dataframe to an interactive table.\"\n",
              "              style=\"display:none;\">\n",
              "        \n",
              "  <svg xmlns=\"http://www.w3.org/2000/svg\" height=\"24px\"viewBox=\"0 0 24 24\"\n",
              "       width=\"24px\">\n",
              "    <path d=\"M0 0h24v24H0V0z\" fill=\"none\"/>\n",
              "    <path d=\"M18.56 5.44l.94 2.06.94-2.06 2.06-.94-2.06-.94-.94-2.06-.94 2.06-2.06.94zm-11 1L8.5 8.5l.94-2.06 2.06-.94-2.06-.94L8.5 2.5l-.94 2.06-2.06.94zm10 10l.94 2.06.94-2.06 2.06-.94-2.06-.94-.94-2.06-.94 2.06-2.06.94z\"/><path d=\"M17.41 7.96l-1.37-1.37c-.4-.4-.92-.59-1.43-.59-.52 0-1.04.2-1.43.59L10.3 9.45l-7.72 7.72c-.78.78-.78 2.05 0 2.83L4 21.41c.39.39.9.59 1.41.59.51 0 1.02-.2 1.41-.59l7.78-7.78 2.81-2.81c.8-.78.8-2.07 0-2.86zM5.41 20L4 18.59l7.72-7.72 1.47 1.35L5.41 20z\"/>\n",
              "  </svg>\n",
              "      </button>\n",
              "      \n",
              "  <style>\n",
              "    .colab-df-container {\n",
              "      display:flex;\n",
              "      flex-wrap:wrap;\n",
              "      gap: 12px;\n",
              "    }\n",
              "\n",
              "    .colab-df-convert {\n",
              "      background-color: #E8F0FE;\n",
              "      border: none;\n",
              "      border-radius: 50%;\n",
              "      cursor: pointer;\n",
              "      display: none;\n",
              "      fill: #1967D2;\n",
              "      height: 32px;\n",
              "      padding: 0 0 0 0;\n",
              "      width: 32px;\n",
              "    }\n",
              "\n",
              "    .colab-df-convert:hover {\n",
              "      background-color: #E2EBFA;\n",
              "      box-shadow: 0px 1px 2px rgba(60, 64, 67, 0.3), 0px 1px 3px 1px rgba(60, 64, 67, 0.15);\n",
              "      fill: #174EA6;\n",
              "    }\n",
              "\n",
              "    [theme=dark] .colab-df-convert {\n",
              "      background-color: #3B4455;\n",
              "      fill: #D2E3FC;\n",
              "    }\n",
              "\n",
              "    [theme=dark] .colab-df-convert:hover {\n",
              "      background-color: #434B5C;\n",
              "      box-shadow: 0px 1px 3px 1px rgba(0, 0, 0, 0.15);\n",
              "      filter: drop-shadow(0px 1px 2px rgba(0, 0, 0, 0.3));\n",
              "      fill: #FFFFFF;\n",
              "    }\n",
              "  </style>\n",
              "\n",
              "      <script>\n",
              "        const buttonEl =\n",
              "          document.querySelector('#df-913effb5-872b-4ea1-a7e6-946574913f01 button.colab-df-convert');\n",
              "        buttonEl.style.display =\n",
              "          google.colab.kernel.accessAllowed ? 'block' : 'none';\n",
              "\n",
              "        async function convertToInteractive(key) {\n",
              "          const element = document.querySelector('#df-913effb5-872b-4ea1-a7e6-946574913f01');\n",
              "          const dataTable =\n",
              "            await google.colab.kernel.invokeFunction('convertToInteractive',\n",
              "                                                     [key], {});\n",
              "          if (!dataTable) return;\n",
              "\n",
              "          const docLinkHtml = 'Like what you see? Visit the ' +\n",
              "            '<a target=\"_blank\" href=https://colab.research.google.com/notebooks/data_table.ipynb>data table notebook</a>'\n",
              "            + ' to learn more about interactive tables.';\n",
              "          element.innerHTML = '';\n",
              "          dataTable['output_type'] = 'display_data';\n",
              "          await google.colab.output.renderOutput(dataTable, element);\n",
              "          const docLink = document.createElement('div');\n",
              "          docLink.innerHTML = docLinkHtml;\n",
              "          element.appendChild(docLink);\n",
              "        }\n",
              "      </script>\n",
              "    </div>\n",
              "  </div>\n",
              "  "
            ],
            "text/plain": [
              "                     company_name         date  ... price_change  percent_change\n",
              "0              Indigo Paints Ltd.  03/mar/2022  ...         7.20            0.41\n",
              "1     Indian Oil Corporation Ltd.  03/mar/2022  ...         2.40            2.14\n",
              "2                        PVR Ltd.  03/mar/2022  ...       -28.20           -1.70\n",
              "3           Rail Vikas Nigam Ltd.  03/mar/2022  ...         0.05            0.16\n",
              "4        Reliance Industries Ltd.  03/mar/2022  ...       -20.25           -0.84\n",
              "5  Tata Consultancy Services Ltd.  03/mar/2022  ...        -1.75           -0.05\n",
              "\n",
              "[6 rows x 6 columns]"
            ]
          },
          "metadata": {},
          "execution_count": 63
        }
      ]
    },
    {
      "cell_type": "code",
      "source": [
        "import json\n",
        "with open('stock_data_1.json', 'w') as a:\n",
        "    json.dump(stock_data_list, a)\n",
        "\n",
        "# converting the list of dictionaries as .json file"
      ],
      "metadata": {
        "id": "OjeCajO2hnKt"
      },
      "execution_count": null,
      "outputs": []
    },
    {
      "cell_type": "markdown",
      "source": [
        "# Practice 2: Web scrapping f1 calender 2022"
      ],
      "metadata": {
        "id": "dfDZCO2LwsxB"
      }
    },
    {
      "cell_type": "markdown",
      "source": [
        "Objective: Scrape the following information from 'https://www.formula1.com'\n",
        "\n",
        "Build the table below for all the races:\n",
        "\n",
        "| Country | gp| Race Weekend (from)| Race Weekend (to)|"
      ],
      "metadata": {
        "id": "osaGKharMEmp"
      }
    },
    {
      "cell_type": "code",
      "source": [
        "import requests\n",
        "url_2 = 'https://www.formula1.com'\n",
        "\n",
        "response_2 = requests.get(url_2)\n",
        "response_2"
      ],
      "metadata": {
        "colab": {
          "base_uri": "https://localhost:8080/"
        },
        "id": "k1ZTtsM0xEO_",
        "outputId": "9c579332-da3a-4161-e6ad-1cd507bb6b8b"
      },
      "execution_count": 3,
      "outputs": [
        {
          "output_type": "execute_result",
          "data": {
            "text/plain": [
              "<Response [200]>"
            ]
          },
          "metadata": {},
          "execution_count": 3
        }
      ]
    },
    {
      "cell_type": "code",
      "source": [
        "response_str_2 = response_2.text"
      ],
      "metadata": {
        "id": "umcUlSgeyM9s"
      },
      "execution_count": 4,
      "outputs": []
    },
    {
      "cell_type": "code",
      "source": [
        "#response_str_2"
      ],
      "metadata": {
        "id": "yJk7Br7Ky6Wb"
      },
      "execution_count": 5,
      "outputs": []
    },
    {
      "cell_type": "code",
      "source": [
        "from bs4 import BeautifulSoup\n",
        "import lxml\n",
        "\n",
        "soup_2 = BeautifulSoup(response_str_2, 'lxml')\n",
        "#soup_2"
      ],
      "metadata": {
        "id": "7liZBnyQy8Tp"
      },
      "execution_count": 6,
      "outputs": []
    },
    {
      "cell_type": "code",
      "source": [
        "race_list = soup_2.find('div',{'class':'race-list'}).find_all('article')\n",
        "#race_list\n",
        "#the node below which all data is available."
      ],
      "metadata": {
        "id": "6x2ZYv92L8QL"
      },
      "execution_count": 7,
      "outputs": []
    },
    {
      "cell_type": "code",
      "source": [
        "country_names = []\n",
        "for item in race_list:\n",
        "    country_names.append(item.find('span', {'class':'name'}).text)\n"
      ],
      "metadata": {
        "id": "PyjYHm_NK2OQ"
      },
      "execution_count": 8,
      "outputs": []
    },
    {
      "cell_type": "code",
      "source": [
        "gp_names = []\n",
        "for gp in race_list:\n",
        "    gp_names.append(gp.find('h3').a.text)\n"
      ],
      "metadata": {
        "id": "MdFyp64xS3Sn"
      },
      "execution_count": 9,
      "outputs": []
    },
    {
      "cell_type": "code",
      "source": [
        "from_race_dates = []\n",
        "for date in race_list:\n",
        "    from_race_dates.append( date.find('time', {'class': 'from date-full'}).text.strip())\n",
        "\n",
        "to_race_dates = []\n",
        "for date in race_list:\n",
        "    to_race_dates.append( date.find('time', {'class': 'to date-full'}).text.strip())\n"
      ],
      "metadata": {
        "id": "jR31DVR-MIkm"
      },
      "execution_count": 10,
      "outputs": []
    },
    {
      "cell_type": "code",
      "source": [
        "import pandas as pd\n",
        "pd.set_option('display.max_colwidth', 1)\n",
        "\n",
        "race_schedule_data = {'country': country_names, 'gp': gp_names, 'from': from_race_dates,'to': to_race_dates}\n",
        "\n",
        "index= []\n",
        "for i in range (1, len(country_names)+1):\n",
        "    index.append(i)\n",
        "\n",
        "f1_schedule_df = pd.DataFrame(race_schedule_data, index= index)\n",
        "f1_schedule_df"
      ],
      "metadata": {
        "colab": {
          "base_uri": "https://localhost:8080/",
          "height": 739
        },
        "id": "-zAXvunuPu--",
        "outputId": "b0fbad02-da42-428c-f638-0a179789b42e"
      },
      "execution_count": 11,
      "outputs": [
        {
          "output_type": "execute_result",
          "data": {
            "text/html": [
              "\n",
              "  <div id=\"df-07206782-728b-44a0-b50e-a589d4d4952f\">\n",
              "    <div class=\"colab-df-container\">\n",
              "      <div>\n",
              "<style scoped>\n",
              "    .dataframe tbody tr th:only-of-type {\n",
              "        vertical-align: middle;\n",
              "    }\n",
              "\n",
              "    .dataframe tbody tr th {\n",
              "        vertical-align: top;\n",
              "    }\n",
              "\n",
              "    .dataframe thead th {\n",
              "        text-align: right;\n",
              "    }\n",
              "</style>\n",
              "<table border=\"1\" class=\"dataframe\">\n",
              "  <thead>\n",
              "    <tr style=\"text-align: right;\">\n",
              "      <th></th>\n",
              "      <th>country</th>\n",
              "      <th>gp</th>\n",
              "      <th>from</th>\n",
              "      <th>to</th>\n",
              "    </tr>\n",
              "  </thead>\n",
              "  <tbody>\n",
              "    <tr>\n",
              "      <th>1</th>\n",
              "      <td>Bahrain</td>\n",
              "      <td>FORMULA 1 GULF AIR BAHRAIN GRAND PRIX 2022</td>\n",
              "      <td>18 Mar 2022</td>\n",
              "      <td>20 Mar 2022</td>\n",
              "    </tr>\n",
              "    <tr>\n",
              "      <th>2</th>\n",
              "      <td>Saudi Arabia</td>\n",
              "      <td>FORMULA 1 STC SAUDI ARABIAN GRAND PRIX 2022</td>\n",
              "      <td>25 Mar 2022</td>\n",
              "      <td>27 Mar 2022</td>\n",
              "    </tr>\n",
              "    <tr>\n",
              "      <th>3</th>\n",
              "      <td>Australia</td>\n",
              "      <td>FORMULA 1 HEINEKEN AUSTRALIAN GRAND PRIX 2022</td>\n",
              "      <td>08 Apr 2022</td>\n",
              "      <td>10 Apr 2022</td>\n",
              "    </tr>\n",
              "    <tr>\n",
              "      <th>4</th>\n",
              "      <td>Italy</td>\n",
              "      <td>FORMULA 1 ROLEX GRAN PREMIO DELL'EMILIA ROMAGNA 2022</td>\n",
              "      <td>22 Apr 2022</td>\n",
              "      <td>24 Apr 2022</td>\n",
              "    </tr>\n",
              "    <tr>\n",
              "      <th>5</th>\n",
              "      <td>United States</td>\n",
              "      <td>FORMULA 1 CRYPTO.COM MIAMI GRAND PRIX 2022</td>\n",
              "      <td>06 May 2022</td>\n",
              "      <td>08 May 2022</td>\n",
              "    </tr>\n",
              "    <tr>\n",
              "      <th>6</th>\n",
              "      <td>Spain</td>\n",
              "      <td>FORMULA 1 PIRELLI GRAN PREMIO DE ESPAÃA 2022</td>\n",
              "      <td>20 May 2022</td>\n",
              "      <td>22 May 2022</td>\n",
              "    </tr>\n",
              "    <tr>\n",
              "      <th>7</th>\n",
              "      <td>Monaco</td>\n",
              "      <td>FORMULA 1 GRAND PRIX DE MONACO 2022</td>\n",
              "      <td>27 May 2022</td>\n",
              "      <td>29 May 2022</td>\n",
              "    </tr>\n",
              "    <tr>\n",
              "      <th>8</th>\n",
              "      <td>Azerbaijan</td>\n",
              "      <td>FORMULA 1 AZERBAIJAN GRAND PRIX 2022</td>\n",
              "      <td>10 Jun 2022</td>\n",
              "      <td>12 Jun 2022</td>\n",
              "    </tr>\n",
              "    <tr>\n",
              "      <th>9</th>\n",
              "      <td>Canada</td>\n",
              "      <td>FORMULA 1 GRAND PRIX DU CANADA 2022</td>\n",
              "      <td>17 Jun 2022</td>\n",
              "      <td>19 Jun 2022</td>\n",
              "    </tr>\n",
              "    <tr>\n",
              "      <th>10</th>\n",
              "      <td>Great Britain</td>\n",
              "      <td>FORMULA 1 BRITISH GRAND PRIX 2022</td>\n",
              "      <td>01 Jul 2022</td>\n",
              "      <td>03 Jul 2022</td>\n",
              "    </tr>\n",
              "    <tr>\n",
              "      <th>11</th>\n",
              "      <td>Austria</td>\n",
              "      <td>FORMULA 1 GROSSER PREIS VON ÃSTERREICH 2022</td>\n",
              "      <td>08 Jul 2022</td>\n",
              "      <td>10 Jul 2022</td>\n",
              "    </tr>\n",
              "    <tr>\n",
              "      <th>12</th>\n",
              "      <td>France</td>\n",
              "      <td>FORMULA 1 GRAND PRIX DE FRANCE 2022</td>\n",
              "      <td>22 Jul 2022</td>\n",
              "      <td>24 Jul 2022</td>\n",
              "    </tr>\n",
              "    <tr>\n",
              "      <th>13</th>\n",
              "      <td>Hungary</td>\n",
              "      <td>FORMULA 1 MAGYAR NAGYDÃJ 2022</td>\n",
              "      <td>29 Jul 2022</td>\n",
              "      <td>31 Jul 2022</td>\n",
              "    </tr>\n",
              "    <tr>\n",
              "      <th>14</th>\n",
              "      <td>Belgium</td>\n",
              "      <td>FORMULA 1 ROLEX BELGIAN GRAND PRIX 2022</td>\n",
              "      <td>26 Aug 2022</td>\n",
              "      <td>28 Aug 2022</td>\n",
              "    </tr>\n",
              "    <tr>\n",
              "      <th>15</th>\n",
              "      <td>Netherlands</td>\n",
              "      <td>FORMULA 1 HEINEKEN DUTCH GRAND PRIX 2022</td>\n",
              "      <td>02 Sep 2022</td>\n",
              "      <td>04 Sep 2022</td>\n",
              "    </tr>\n",
              "    <tr>\n",
              "      <th>16</th>\n",
              "      <td>Italy</td>\n",
              "      <td>FORMULA 1 PIRELLI GRAN PREMIO DâITALIA 2022</td>\n",
              "      <td>09 Sep 2022</td>\n",
              "      <td>11 Sep 2022</td>\n",
              "    </tr>\n",
              "    <tr>\n",
              "      <th>17</th>\n",
              "      <td>Singapore</td>\n",
              "      <td>FORMULA 1 SINGAPORE GRAND PRIX 2022</td>\n",
              "      <td>30 Sep 2022</td>\n",
              "      <td>02 Oct 2022</td>\n",
              "    </tr>\n",
              "    <tr>\n",
              "      <th>18</th>\n",
              "      <td>Japan</td>\n",
              "      <td>FORMULA 1 JAPANESE GRAND PRIX 2022</td>\n",
              "      <td>07 Oct 2022</td>\n",
              "      <td>09 Oct 2022</td>\n",
              "    </tr>\n",
              "    <tr>\n",
              "      <th>19</th>\n",
              "      <td>United States</td>\n",
              "      <td>FORMULA 1 ARAMCO UNITED STATES GRAND PRIX 2022</td>\n",
              "      <td>21 Oct 2022</td>\n",
              "      <td>23 Oct 2022</td>\n",
              "    </tr>\n",
              "    <tr>\n",
              "      <th>20</th>\n",
              "      <td>Mexico</td>\n",
              "      <td>FORMULA 1 GRAN PREMIO DE LA CIUDAD DE MÃXICO 2022</td>\n",
              "      <td>28 Oct 2022</td>\n",
              "      <td>30 Oct 2022</td>\n",
              "    </tr>\n",
              "    <tr>\n",
              "      <th>21</th>\n",
              "      <td>Brazil</td>\n",
              "      <td>FORMULA 1 HEINEKEN GRANDE PRÃMIO DE SÃO PAULO 2022</td>\n",
              "      <td>11 Nov 2022</td>\n",
              "      <td>13 Nov 2022</td>\n",
              "    </tr>\n",
              "    <tr>\n",
              "      <th>22</th>\n",
              "      <td>Abu Dhabi</td>\n",
              "      <td>FORMULA 1 ETIHAD AIRWAYS ABU DHABI GRAND PRIX 2022</td>\n",
              "      <td>18 Nov 2022</td>\n",
              "      <td>20 Nov 2022</td>\n",
              "    </tr>\n",
              "  </tbody>\n",
              "</table>\n",
              "</div>\n",
              "      <button class=\"colab-df-convert\" onclick=\"convertToInteractive('df-07206782-728b-44a0-b50e-a589d4d4952f')\"\n",
              "              title=\"Convert this dataframe to an interactive table.\"\n",
              "              style=\"display:none;\">\n",
              "        \n",
              "  <svg xmlns=\"http://www.w3.org/2000/svg\" height=\"24px\"viewBox=\"0 0 24 24\"\n",
              "       width=\"24px\">\n",
              "    <path d=\"M0 0h24v24H0V0z\" fill=\"none\"/>\n",
              "    <path d=\"M18.56 5.44l.94 2.06.94-2.06 2.06-.94-2.06-.94-.94-2.06-.94 2.06-2.06.94zm-11 1L8.5 8.5l.94-2.06 2.06-.94-2.06-.94L8.5 2.5l-.94 2.06-2.06.94zm10 10l.94 2.06.94-2.06 2.06-.94-2.06-.94-.94-2.06-.94 2.06-2.06.94z\"/><path d=\"M17.41 7.96l-1.37-1.37c-.4-.4-.92-.59-1.43-.59-.52 0-1.04.2-1.43.59L10.3 9.45l-7.72 7.72c-.78.78-.78 2.05 0 2.83L4 21.41c.39.39.9.59 1.41.59.51 0 1.02-.2 1.41-.59l7.78-7.78 2.81-2.81c.8-.78.8-2.07 0-2.86zM5.41 20L4 18.59l7.72-7.72 1.47 1.35L5.41 20z\"/>\n",
              "  </svg>\n",
              "      </button>\n",
              "      \n",
              "  <style>\n",
              "    .colab-df-container {\n",
              "      display:flex;\n",
              "      flex-wrap:wrap;\n",
              "      gap: 12px;\n",
              "    }\n",
              "\n",
              "    .colab-df-convert {\n",
              "      background-color: #E8F0FE;\n",
              "      border: none;\n",
              "      border-radius: 50%;\n",
              "      cursor: pointer;\n",
              "      display: none;\n",
              "      fill: #1967D2;\n",
              "      height: 32px;\n",
              "      padding: 0 0 0 0;\n",
              "      width: 32px;\n",
              "    }\n",
              "\n",
              "    .colab-df-convert:hover {\n",
              "      background-color: #E2EBFA;\n",
              "      box-shadow: 0px 1px 2px rgba(60, 64, 67, 0.3), 0px 1px 3px 1px rgba(60, 64, 67, 0.15);\n",
              "      fill: #174EA6;\n",
              "    }\n",
              "\n",
              "    [theme=dark] .colab-df-convert {\n",
              "      background-color: #3B4455;\n",
              "      fill: #D2E3FC;\n",
              "    }\n",
              "\n",
              "    [theme=dark] .colab-df-convert:hover {\n",
              "      background-color: #434B5C;\n",
              "      box-shadow: 0px 1px 3px 1px rgba(0, 0, 0, 0.15);\n",
              "      filter: drop-shadow(0px 1px 2px rgba(0, 0, 0, 0.3));\n",
              "      fill: #FFFFFF;\n",
              "    }\n",
              "  </style>\n",
              "\n",
              "      <script>\n",
              "        const buttonEl =\n",
              "          document.querySelector('#df-07206782-728b-44a0-b50e-a589d4d4952f button.colab-df-convert');\n",
              "        buttonEl.style.display =\n",
              "          google.colab.kernel.accessAllowed ? 'block' : 'none';\n",
              "\n",
              "        async function convertToInteractive(key) {\n",
              "          const element = document.querySelector('#df-07206782-728b-44a0-b50e-a589d4d4952f');\n",
              "          const dataTable =\n",
              "            await google.colab.kernel.invokeFunction('convertToInteractive',\n",
              "                                                     [key], {});\n",
              "          if (!dataTable) return;\n",
              "\n",
              "          const docLinkHtml = 'Like what you see? Visit the ' +\n",
              "            '<a target=\"_blank\" href=https://colab.research.google.com/notebooks/data_table.ipynb>data table notebook</a>'\n",
              "            + ' to learn more about interactive tables.';\n",
              "          element.innerHTML = '';\n",
              "          dataTable['output_type'] = 'display_data';\n",
              "          await google.colab.output.renderOutput(dataTable, element);\n",
              "          const docLink = document.createElement('div');\n",
              "          docLink.innerHTML = docLinkHtml;\n",
              "          element.appendChild(docLink);\n",
              "        }\n",
              "      </script>\n",
              "    </div>\n",
              "  </div>\n",
              "  "
            ],
            "text/plain": [
              "          country                                                    gp  \\\n",
              "1   Bahrain        FORMULA 1 GULF AIR BAHRAIN GRAND PRIX 2022             \n",
              "2   Saudi Arabia   FORMULA 1 STC SAUDI ARABIAN GRAND PRIX 2022            \n",
              "3   Australia      FORMULA 1 HEINEKEN AUSTRALIAN GRAND PRIX 2022          \n",
              "4   Italy          FORMULA 1 ROLEX GRAN PREMIO DELL'EMILIA ROMAGNA 2022   \n",
              "5   United States  FORMULA 1 CRYPTO.COM MIAMI GRAND PRIX 2022             \n",
              "6   Spain          FORMULA 1 PIRELLI GRAN PREMIO DE ESPAÃA 2022          \n",
              "7   Monaco         FORMULA 1 GRAND PRIX DE MONACO 2022                    \n",
              "8   Azerbaijan     FORMULA 1 AZERBAIJAN GRAND PRIX 2022                   \n",
              "9   Canada         FORMULA 1 GRAND PRIX DU CANADA 2022                    \n",
              "10  Great Britain  FORMULA 1 BRITISH GRAND PRIX 2022                      \n",
              "11  Austria        FORMULA 1 GROSSER PREIS VON ÃSTERREICH 2022           \n",
              "12  France         FORMULA 1 GRAND PRIX DE FRANCE 2022                    \n",
              "13  Hungary        FORMULA 1 MAGYAR NAGYDÃJ 2022                         \n",
              "14  Belgium        FORMULA 1 ROLEX BELGIAN GRAND PRIX 2022                \n",
              "15  Netherlands    FORMULA 1 HEINEKEN DUTCH GRAND PRIX 2022               \n",
              "16  Italy          FORMULA 1 PIRELLI GRAN PREMIO DâITALIA 2022          \n",
              "17  Singapore      FORMULA 1 SINGAPORE GRAND PRIX 2022                    \n",
              "18  Japan          FORMULA 1 JAPANESE GRAND PRIX 2022                     \n",
              "19  United States  FORMULA 1 ARAMCO UNITED STATES GRAND PRIX 2022         \n",
              "20  Mexico         FORMULA 1 GRAN PREMIO DE LA CIUDAD DE MÃXICO 2022     \n",
              "21  Brazil         FORMULA 1 HEINEKEN GRANDE PRÃMIO DE SÃO PAULO 2022   \n",
              "22  Abu Dhabi      FORMULA 1 ETIHAD AIRWAYS ABU DHABI GRAND PRIX 2022     \n",
              "\n",
              "           from           to  \n",
              "1   18 Mar 2022  20 Mar 2022  \n",
              "2   25 Mar 2022  27 Mar 2022  \n",
              "3   08 Apr 2022  10 Apr 2022  \n",
              "4   22 Apr 2022  24 Apr 2022  \n",
              "5   06 May 2022  08 May 2022  \n",
              "6   20 May 2022  22 May 2022  \n",
              "7   27 May 2022  29 May 2022  \n",
              "8   10 Jun 2022  12 Jun 2022  \n",
              "9   17 Jun 2022  19 Jun 2022  \n",
              "10  01 Jul 2022  03 Jul 2022  \n",
              "11  08 Jul 2022  10 Jul 2022  \n",
              "12  22 Jul 2022  24 Jul 2022  \n",
              "13  29 Jul 2022  31 Jul 2022  \n",
              "14  26 Aug 2022  28 Aug 2022  \n",
              "15  02 Sep 2022  04 Sep 2022  \n",
              "16  09 Sep 2022  11 Sep 2022  \n",
              "17  30 Sep 2022  02 Oct 2022  \n",
              "18  07 Oct 2022  09 Oct 2022  \n",
              "19  21 Oct 2022  23 Oct 2022  \n",
              "20  28 Oct 2022  30 Oct 2022  \n",
              "21  11 Nov 2022  13 Nov 2022  \n",
              "22  18 Nov 2022  20 Nov 2022  "
            ]
          },
          "metadata": {},
          "execution_count": 11
        }
      ]
    },
    {
      "cell_type": "code",
      "source": [
        "f1_schedule_df.to_excel(\"f1_schedule_2022.xlsx\")"
      ],
      "metadata": {
        "id": "RnqX2_5hV9jz"
      },
      "execution_count": 12,
      "outputs": []
    },
    {
      "cell_type": "markdown",
      "source": [
        "# Practice 3: Web scrapping of points premier leauge table "
      ],
      "metadata": {
        "id": "exRW66X3_kGT"
      }
    },
    {
      "cell_type": "markdown",
      "source": [
        "Objective: Scrape the following information from 'https://www.premierleague.com/'\n",
        "\n",
        "Build the table below for all the races:\n",
        "\n",
        "|position| club | played| won| drawn| lost| GF| GA| GD| points|"
      ],
      "metadata": {
        "id": "GinaczCfAB4f"
      }
    },
    {
      "cell_type": "code",
      "source": [
        "import requests\n",
        "from bs4 import BeautifulSoup\n",
        "import pandas as pd"
      ],
      "metadata": {
        "id": "7evfk76lABRc"
      },
      "execution_count": 66,
      "outputs": []
    },
    {
      "cell_type": "code",
      "source": [
        "url = 'https://www.premierleague.com/tables'\n",
        "response_3 = requests.get(url)\n",
        "response_3"
      ],
      "metadata": {
        "colab": {
          "base_uri": "https://localhost:8080/"
        },
        "id": "dMS3fmbfBqhC",
        "outputId": "cf57f271-3e6a-4f10-ebc8-0a78acba67e7"
      },
      "execution_count": 67,
      "outputs": [
        {
          "output_type": "execute_result",
          "data": {
            "text/plain": [
              "<Response [200]>"
            ]
          },
          "metadata": {},
          "execution_count": 67
        }
      ]
    },
    {
      "cell_type": "code",
      "source": [
        "response_3_str = response_3.text\n",
        "#response_3_str"
      ],
      "metadata": {
        "id": "LwcG3659CLBb"
      },
      "execution_count": 68,
      "outputs": []
    },
    {
      "cell_type": "code",
      "source": [
        "soup_3 = BeautifulSoup(response_3_str, 'lxml')\n",
        "#soup_3"
      ],
      "metadata": {
        "id": "HPjcBAglCh8k"
      },
      "execution_count": 69,
      "outputs": []
    },
    {
      "cell_type": "code",
      "source": [
        "len(soup_3.find_all('table'))"
      ],
      "metadata": {
        "colab": {
          "base_uri": "https://localhost:8080/"
        },
        "id": "9KCmwV_rCvqv",
        "outputId": "f77f2506-a347-4061-9455-e9bd4c66de5b"
      },
      "execution_count": 70,
      "outputs": [
        {
          "output_type": "execute_result",
          "data": {
            "text/plain": [
              "4"
            ]
          },
          "metadata": {},
          "execution_count": 70
        }
      ]
    },
    {
      "cell_type": "code",
      "source": [
        "table = soup_3.find('table')\n",
        "#table"
      ],
      "metadata": {
        "id": "p3_yAhcqDRGZ"
      },
      "execution_count": 71,
      "outputs": []
    },
    {
      "cell_type": "code",
      "source": [
        "#creating column names:\n",
        "\n",
        "column_list = ['rank', 'club', 'played', 'won', 'drawn', 'lost', 'GF', 'GA', 'GD', 'points']"
      ],
      "metadata": {
        "id": "nCzfji64D8XC"
      },
      "execution_count": 72,
      "outputs": []
    },
    {
      "cell_type": "code",
      "source": [
        "# Converting each row of the table into a list item\n",
        "\n",
        "trs = table.find('tbody').find_all('tr')\n",
        "# print(trs[0])\n",
        "all_trs_list = []\n",
        "for tr in trs:\n",
        "    x = tr.find_all('td')[1:11]\n",
        "    if len(x) != 0:\n",
        "        all_trs_list.append(x)\n",
        "print(len(all_trs_list))\n"
      ],
      "metadata": {
        "colab": {
          "base_uri": "https://localhost:8080/"
        },
        "id": "iazJ1acPUDoF",
        "outputId": "f00a5fc1-ba8a-4c06-d288-1608650a2997"
      },
      "execution_count": 75,
      "outputs": [
        {
          "output_type": "stream",
          "name": "stdout",
          "text": [
            "20\n"
          ]
        }
      ]
    },
    {
      "cell_type": "code",
      "source": [
        "# extacting information from each cell of the row\n",
        "a = []\n",
        "for td in all_trs:\n",
        "\n",
        "    dictionary = {\n",
        "                    'rank' : td[0].find('span', {'class': 'value'}).text,\n",
        "                    'club' : td[1].find('span', {'class': 'long'}).text,\n",
        "                    'played' : td[2].text,\n",
        "                    'won' : td[3].text,\n",
        "                    'drawn' : td[4].text,\n",
        "                    'lost' : td[5].text,\n",
        "                    'gf' : td[6].text,\n",
        "                    'ga': td[7].text,\n",
        "                    'gd' : td[8].text.strip(),\n",
        "                    'points' : td[9].text\n",
        "                }\n",
        "    a.append(dictionary)\n",
        "print(a)\n"
      ],
      "metadata": {
        "colab": {
          "base_uri": "https://localhost:8080/"
        },
        "id": "PaKPgFMyE-IW",
        "outputId": "a3e72f4e-64cc-4085-8208-42cc698f1721"
      },
      "execution_count": 22,
      "outputs": [
        {
          "output_type": "stream",
          "name": "stdout",
          "text": [
            "[{'rank': '1', 'club': 'Manchester City', 'played': '27', 'won': '21', 'drawn': '3', 'lost': '3', 'gf': '64', 'ga': '17', 'gd': '+47', 'points': '66'}, {'rank': '2', 'club': 'Liverpool', 'played': '26', 'won': '18', 'drawn': '6', 'lost': '2', 'gf': '70', 'ga': '20', 'gd': '+50', 'points': '60'}, {'rank': '3', 'club': 'Chelsea', 'played': '25', 'won': '14', 'drawn': '8', 'lost': '3', 'gf': '49', 'ga': '18', 'gd': '+31', 'points': '50'}, {'rank': '4', 'club': 'Manchester United', 'played': '27', 'won': '13', 'drawn': '8', 'lost': '6', 'gf': '44', 'ga': '34', 'gd': '+10', 'points': '47'}, {'rank': '5', 'club': 'West Ham United', 'played': '27', 'won': '13', 'drawn': '6', 'lost': '8', 'gf': '46', 'ga': '34', 'gd': '+12', 'points': '45'}, {'rank': '6', 'club': 'Arsenal', 'played': '24', 'won': '14', 'drawn': '3', 'lost': '7', 'gf': '38', 'ga': '27', 'gd': '+11', 'points': '45'}, {'rank': '7', 'club': 'Tottenham Hotspur', 'played': '25', 'won': '13', 'drawn': '3', 'lost': '9', 'gf': '35', 'ga': '32', 'gd': '+3', 'points': '42'}, {'rank': '8', 'club': 'Wolverhampton Wanderers', 'played': '26', 'won': '12', 'drawn': '4', 'lost': '10', 'gf': '24', 'ga': '21', 'gd': '+3', 'points': '40'}, {'rank': '9', 'club': 'Southampton', 'played': '26', 'won': '8', 'drawn': '11', 'lost': '7', 'gf': '34', 'ga': '37', 'gd': '-3', 'points': '35'}, {'rank': '10', 'club': 'Brighton and Hove Albion', 'played': '26', 'won': '7', 'drawn': '12', 'lost': '7', 'gf': '25', 'ga': '30', 'gd': '-5', 'points': '33'}, {'rank': '11', 'club': 'Crystal Palace', 'played': '27', 'won': '6', 'drawn': '12', 'lost': '9', 'gf': '37', 'ga': '38', 'gd': '-1', 'points': '30'}, {'rank': '12', 'club': 'Leicester City', 'played': '24', 'won': '8', 'drawn': '6', 'lost': '10', 'gf': '39', 'ga': '43', 'gd': '-4', 'points': '30'}, {'rank': '13', 'club': 'Aston Villa', 'played': '25', 'won': '9', 'drawn': '3', 'lost': '13', 'gf': '33', 'ga': '37', 'gd': '-4', 'points': '30'}, {'rank': '14', 'club': 'Newcastle United', 'played': '25', 'won': '5', 'drawn': '10', 'lost': '10', 'gf': '28', 'ga': '45', 'gd': '-17', 'points': '25'}, {'rank': '15', 'club': 'Brentford', 'played': '27', 'won': '6', 'drawn': '6', 'lost': '15', 'gf': '27', 'ga': '44', 'gd': '-17', 'points': '24'}, {'rank': '16', 'club': 'Leeds United', 'played': '26', 'won': '5', 'drawn': '8', 'lost': '13', 'gf': '29', 'ga': '60', 'gd': '-31', 'points': '23'}, {'rank': '17', 'club': 'Everton', 'played': '24', 'won': '6', 'drawn': '4', 'lost': '14', 'gf': '28', 'ga': '41', 'gd': '-13', 'points': '22'}, {'rank': '18', 'club': 'Burnley', 'played': '25', 'won': '3', 'drawn': '12', 'lost': '10', 'gf': '22', 'ga': '32', 'gd': '-10', 'points': '21'}, {'rank': '19', 'club': 'Watford', 'played': '26', 'won': '5', 'drawn': '4', 'lost': '17', 'gf': '25', 'ga': '47', 'gd': '-22', 'points': '19'}, {'rank': '20', 'club': 'Norwich City', 'played': '26', 'won': '4', 'drawn': '5', 'lost': '17', 'gf': '15', 'ga': '55', 'gd': '-40', 'points': '17'}]\n"
          ]
        }
      ]
    },
    {
      "cell_type": "code",
      "source": [
        "pd.DataFrame(a)"
      ],
      "metadata": {
        "colab": {
          "base_uri": "https://localhost:8080/",
          "height": 677
        },
        "id": "Mjz7LWjFQUWp",
        "outputId": "40544855-3ada-425c-ca76-18951c8c198a"
      },
      "execution_count": 24,
      "outputs": [
        {
          "output_type": "execute_result",
          "data": {
            "text/html": [
              "\n",
              "  <div id=\"df-6f6ea0ff-14e7-4e4e-897d-2c521fb93149\">\n",
              "    <div class=\"colab-df-container\">\n",
              "      <div>\n",
              "<style scoped>\n",
              "    .dataframe tbody tr th:only-of-type {\n",
              "        vertical-align: middle;\n",
              "    }\n",
              "\n",
              "    .dataframe tbody tr th {\n",
              "        vertical-align: top;\n",
              "    }\n",
              "\n",
              "    .dataframe thead th {\n",
              "        text-align: right;\n",
              "    }\n",
              "</style>\n",
              "<table border=\"1\" class=\"dataframe\">\n",
              "  <thead>\n",
              "    <tr style=\"text-align: right;\">\n",
              "      <th></th>\n",
              "      <th>rank</th>\n",
              "      <th>club</th>\n",
              "      <th>played</th>\n",
              "      <th>won</th>\n",
              "      <th>drawn</th>\n",
              "      <th>lost</th>\n",
              "      <th>gf</th>\n",
              "      <th>ga</th>\n",
              "      <th>gd</th>\n",
              "      <th>points</th>\n",
              "    </tr>\n",
              "  </thead>\n",
              "  <tbody>\n",
              "    <tr>\n",
              "      <th>0</th>\n",
              "      <td>1</td>\n",
              "      <td>Manchester City</td>\n",
              "      <td>27</td>\n",
              "      <td>21</td>\n",
              "      <td>3</td>\n",
              "      <td>3</td>\n",
              "      <td>64</td>\n",
              "      <td>17</td>\n",
              "      <td>+47</td>\n",
              "      <td>66</td>\n",
              "    </tr>\n",
              "    <tr>\n",
              "      <th>1</th>\n",
              "      <td>2</td>\n",
              "      <td>Liverpool</td>\n",
              "      <td>26</td>\n",
              "      <td>18</td>\n",
              "      <td>6</td>\n",
              "      <td>2</td>\n",
              "      <td>70</td>\n",
              "      <td>20</td>\n",
              "      <td>+50</td>\n",
              "      <td>60</td>\n",
              "    </tr>\n",
              "    <tr>\n",
              "      <th>2</th>\n",
              "      <td>3</td>\n",
              "      <td>Chelsea</td>\n",
              "      <td>25</td>\n",
              "      <td>14</td>\n",
              "      <td>8</td>\n",
              "      <td>3</td>\n",
              "      <td>49</td>\n",
              "      <td>18</td>\n",
              "      <td>+31</td>\n",
              "      <td>50</td>\n",
              "    </tr>\n",
              "    <tr>\n",
              "      <th>3</th>\n",
              "      <td>4</td>\n",
              "      <td>Manchester United</td>\n",
              "      <td>27</td>\n",
              "      <td>13</td>\n",
              "      <td>8</td>\n",
              "      <td>6</td>\n",
              "      <td>44</td>\n",
              "      <td>34</td>\n",
              "      <td>+10</td>\n",
              "      <td>47</td>\n",
              "    </tr>\n",
              "    <tr>\n",
              "      <th>4</th>\n",
              "      <td>5</td>\n",
              "      <td>West Ham United</td>\n",
              "      <td>27</td>\n",
              "      <td>13</td>\n",
              "      <td>6</td>\n",
              "      <td>8</td>\n",
              "      <td>46</td>\n",
              "      <td>34</td>\n",
              "      <td>+12</td>\n",
              "      <td>45</td>\n",
              "    </tr>\n",
              "    <tr>\n",
              "      <th>5</th>\n",
              "      <td>6</td>\n",
              "      <td>Arsenal</td>\n",
              "      <td>24</td>\n",
              "      <td>14</td>\n",
              "      <td>3</td>\n",
              "      <td>7</td>\n",
              "      <td>38</td>\n",
              "      <td>27</td>\n",
              "      <td>+11</td>\n",
              "      <td>45</td>\n",
              "    </tr>\n",
              "    <tr>\n",
              "      <th>6</th>\n",
              "      <td>7</td>\n",
              "      <td>Tottenham Hotspur</td>\n",
              "      <td>25</td>\n",
              "      <td>13</td>\n",
              "      <td>3</td>\n",
              "      <td>9</td>\n",
              "      <td>35</td>\n",
              "      <td>32</td>\n",
              "      <td>+3</td>\n",
              "      <td>42</td>\n",
              "    </tr>\n",
              "    <tr>\n",
              "      <th>7</th>\n",
              "      <td>8</td>\n",
              "      <td>Wolverhampton Wanderers</td>\n",
              "      <td>26</td>\n",
              "      <td>12</td>\n",
              "      <td>4</td>\n",
              "      <td>10</td>\n",
              "      <td>24</td>\n",
              "      <td>21</td>\n",
              "      <td>+3</td>\n",
              "      <td>40</td>\n",
              "    </tr>\n",
              "    <tr>\n",
              "      <th>8</th>\n",
              "      <td>9</td>\n",
              "      <td>Southampton</td>\n",
              "      <td>26</td>\n",
              "      <td>8</td>\n",
              "      <td>11</td>\n",
              "      <td>7</td>\n",
              "      <td>34</td>\n",
              "      <td>37</td>\n",
              "      <td>-3</td>\n",
              "      <td>35</td>\n",
              "    </tr>\n",
              "    <tr>\n",
              "      <th>9</th>\n",
              "      <td>10</td>\n",
              "      <td>Brighton and Hove Albion</td>\n",
              "      <td>26</td>\n",
              "      <td>7</td>\n",
              "      <td>12</td>\n",
              "      <td>7</td>\n",
              "      <td>25</td>\n",
              "      <td>30</td>\n",
              "      <td>-5</td>\n",
              "      <td>33</td>\n",
              "    </tr>\n",
              "    <tr>\n",
              "      <th>10</th>\n",
              "      <td>11</td>\n",
              "      <td>Crystal Palace</td>\n",
              "      <td>27</td>\n",
              "      <td>6</td>\n",
              "      <td>12</td>\n",
              "      <td>9</td>\n",
              "      <td>37</td>\n",
              "      <td>38</td>\n",
              "      <td>-1</td>\n",
              "      <td>30</td>\n",
              "    </tr>\n",
              "    <tr>\n",
              "      <th>11</th>\n",
              "      <td>12</td>\n",
              "      <td>Leicester City</td>\n",
              "      <td>24</td>\n",
              "      <td>8</td>\n",
              "      <td>6</td>\n",
              "      <td>10</td>\n",
              "      <td>39</td>\n",
              "      <td>43</td>\n",
              "      <td>-4</td>\n",
              "      <td>30</td>\n",
              "    </tr>\n",
              "    <tr>\n",
              "      <th>12</th>\n",
              "      <td>13</td>\n",
              "      <td>Aston Villa</td>\n",
              "      <td>25</td>\n",
              "      <td>9</td>\n",
              "      <td>3</td>\n",
              "      <td>13</td>\n",
              "      <td>33</td>\n",
              "      <td>37</td>\n",
              "      <td>-4</td>\n",
              "      <td>30</td>\n",
              "    </tr>\n",
              "    <tr>\n",
              "      <th>13</th>\n",
              "      <td>14</td>\n",
              "      <td>Newcastle United</td>\n",
              "      <td>25</td>\n",
              "      <td>5</td>\n",
              "      <td>10</td>\n",
              "      <td>10</td>\n",
              "      <td>28</td>\n",
              "      <td>45</td>\n",
              "      <td>-17</td>\n",
              "      <td>25</td>\n",
              "    </tr>\n",
              "    <tr>\n",
              "      <th>14</th>\n",
              "      <td>15</td>\n",
              "      <td>Brentford</td>\n",
              "      <td>27</td>\n",
              "      <td>6</td>\n",
              "      <td>6</td>\n",
              "      <td>15</td>\n",
              "      <td>27</td>\n",
              "      <td>44</td>\n",
              "      <td>-17</td>\n",
              "      <td>24</td>\n",
              "    </tr>\n",
              "    <tr>\n",
              "      <th>15</th>\n",
              "      <td>16</td>\n",
              "      <td>Leeds United</td>\n",
              "      <td>26</td>\n",
              "      <td>5</td>\n",
              "      <td>8</td>\n",
              "      <td>13</td>\n",
              "      <td>29</td>\n",
              "      <td>60</td>\n",
              "      <td>-31</td>\n",
              "      <td>23</td>\n",
              "    </tr>\n",
              "    <tr>\n",
              "      <th>16</th>\n",
              "      <td>17</td>\n",
              "      <td>Everton</td>\n",
              "      <td>24</td>\n",
              "      <td>6</td>\n",
              "      <td>4</td>\n",
              "      <td>14</td>\n",
              "      <td>28</td>\n",
              "      <td>41</td>\n",
              "      <td>-13</td>\n",
              "      <td>22</td>\n",
              "    </tr>\n",
              "    <tr>\n",
              "      <th>17</th>\n",
              "      <td>18</td>\n",
              "      <td>Burnley</td>\n",
              "      <td>25</td>\n",
              "      <td>3</td>\n",
              "      <td>12</td>\n",
              "      <td>10</td>\n",
              "      <td>22</td>\n",
              "      <td>32</td>\n",
              "      <td>-10</td>\n",
              "      <td>21</td>\n",
              "    </tr>\n",
              "    <tr>\n",
              "      <th>18</th>\n",
              "      <td>19</td>\n",
              "      <td>Watford</td>\n",
              "      <td>26</td>\n",
              "      <td>5</td>\n",
              "      <td>4</td>\n",
              "      <td>17</td>\n",
              "      <td>25</td>\n",
              "      <td>47</td>\n",
              "      <td>-22</td>\n",
              "      <td>19</td>\n",
              "    </tr>\n",
              "    <tr>\n",
              "      <th>19</th>\n",
              "      <td>20</td>\n",
              "      <td>Norwich City</td>\n",
              "      <td>26</td>\n",
              "      <td>4</td>\n",
              "      <td>5</td>\n",
              "      <td>17</td>\n",
              "      <td>15</td>\n",
              "      <td>55</td>\n",
              "      <td>-40</td>\n",
              "      <td>17</td>\n",
              "    </tr>\n",
              "  </tbody>\n",
              "</table>\n",
              "</div>\n",
              "      <button class=\"colab-df-convert\" onclick=\"convertToInteractive('df-6f6ea0ff-14e7-4e4e-897d-2c521fb93149')\"\n",
              "              title=\"Convert this dataframe to an interactive table.\"\n",
              "              style=\"display:none;\">\n",
              "        \n",
              "  <svg xmlns=\"http://www.w3.org/2000/svg\" height=\"24px\"viewBox=\"0 0 24 24\"\n",
              "       width=\"24px\">\n",
              "    <path d=\"M0 0h24v24H0V0z\" fill=\"none\"/>\n",
              "    <path d=\"M18.56 5.44l.94 2.06.94-2.06 2.06-.94-2.06-.94-.94-2.06-.94 2.06-2.06.94zm-11 1L8.5 8.5l.94-2.06 2.06-.94-2.06-.94L8.5 2.5l-.94 2.06-2.06.94zm10 10l.94 2.06.94-2.06 2.06-.94-2.06-.94-.94-2.06-.94 2.06-2.06.94z\"/><path d=\"M17.41 7.96l-1.37-1.37c-.4-.4-.92-.59-1.43-.59-.52 0-1.04.2-1.43.59L10.3 9.45l-7.72 7.72c-.78.78-.78 2.05 0 2.83L4 21.41c.39.39.9.59 1.41.59.51 0 1.02-.2 1.41-.59l7.78-7.78 2.81-2.81c.8-.78.8-2.07 0-2.86zM5.41 20L4 18.59l7.72-7.72 1.47 1.35L5.41 20z\"/>\n",
              "  </svg>\n",
              "      </button>\n",
              "      \n",
              "  <style>\n",
              "    .colab-df-container {\n",
              "      display:flex;\n",
              "      flex-wrap:wrap;\n",
              "      gap: 12px;\n",
              "    }\n",
              "\n",
              "    .colab-df-convert {\n",
              "      background-color: #E8F0FE;\n",
              "      border: none;\n",
              "      border-radius: 50%;\n",
              "      cursor: pointer;\n",
              "      display: none;\n",
              "      fill: #1967D2;\n",
              "      height: 32px;\n",
              "      padding: 0 0 0 0;\n",
              "      width: 32px;\n",
              "    }\n",
              "\n",
              "    .colab-df-convert:hover {\n",
              "      background-color: #E2EBFA;\n",
              "      box-shadow: 0px 1px 2px rgba(60, 64, 67, 0.3), 0px 1px 3px 1px rgba(60, 64, 67, 0.15);\n",
              "      fill: #174EA6;\n",
              "    }\n",
              "\n",
              "    [theme=dark] .colab-df-convert {\n",
              "      background-color: #3B4455;\n",
              "      fill: #D2E3FC;\n",
              "    }\n",
              "\n",
              "    [theme=dark] .colab-df-convert:hover {\n",
              "      background-color: #434B5C;\n",
              "      box-shadow: 0px 1px 3px 1px rgba(0, 0, 0, 0.15);\n",
              "      filter: drop-shadow(0px 1px 2px rgba(0, 0, 0, 0.3));\n",
              "      fill: #FFFFFF;\n",
              "    }\n",
              "  </style>\n",
              "\n",
              "      <script>\n",
              "        const buttonEl =\n",
              "          document.querySelector('#df-6f6ea0ff-14e7-4e4e-897d-2c521fb93149 button.colab-df-convert');\n",
              "        buttonEl.style.display =\n",
              "          google.colab.kernel.accessAllowed ? 'block' : 'none';\n",
              "\n",
              "        async function convertToInteractive(key) {\n",
              "          const element = document.querySelector('#df-6f6ea0ff-14e7-4e4e-897d-2c521fb93149');\n",
              "          const dataTable =\n",
              "            await google.colab.kernel.invokeFunction('convertToInteractive',\n",
              "                                                     [key], {});\n",
              "          if (!dataTable) return;\n",
              "\n",
              "          const docLinkHtml = 'Like what you see? Visit the ' +\n",
              "            '<a target=\"_blank\" href=https://colab.research.google.com/notebooks/data_table.ipynb>data table notebook</a>'\n",
              "            + ' to learn more about interactive tables.';\n",
              "          element.innerHTML = '';\n",
              "          dataTable['output_type'] = 'display_data';\n",
              "          await google.colab.output.renderOutput(dataTable, element);\n",
              "          const docLink = document.createElement('div');\n",
              "          docLink.innerHTML = docLinkHtml;\n",
              "          element.appendChild(docLink);\n",
              "        }\n",
              "      </script>\n",
              "    </div>\n",
              "  </div>\n",
              "  "
            ],
            "text/plain": [
              "   rank                      club played won drawn lost  gf  ga   gd points\n",
              "0   1    Manchester City           27     21  3     3    64  17  +47  66   \n",
              "1   2    Liverpool                 26     18  6     2    70  20  +50  60   \n",
              "2   3    Chelsea                   25     14  8     3    49  18  +31  50   \n",
              "3   4    Manchester United         27     13  8     6    44  34  +10  47   \n",
              "4   5    West Ham United           27     13  6     8    46  34  +12  45   \n",
              "5   6    Arsenal                   24     14  3     7    38  27  +11  45   \n",
              "6   7    Tottenham Hotspur         25     13  3     9    35  32  +3   42   \n",
              "7   8    Wolverhampton Wanderers   26     12  4     10   24  21  +3   40   \n",
              "8   9    Southampton               26     8   11    7    34  37  -3   35   \n",
              "9   10   Brighton and Hove Albion  26     7   12    7    25  30  -5   33   \n",
              "10  11   Crystal Palace            27     6   12    9    37  38  -1   30   \n",
              "11  12   Leicester City            24     8   6     10   39  43  -4   30   \n",
              "12  13   Aston Villa               25     9   3     13   33  37  -4   30   \n",
              "13  14   Newcastle United          25     5   10    10   28  45  -17  25   \n",
              "14  15   Brentford                 27     6   6     15   27  44  -17  24   \n",
              "15  16   Leeds United              26     5   8     13   29  60  -31  23   \n",
              "16  17   Everton                   24     6   4     14   28  41  -13  22   \n",
              "17  18   Burnley                   25     3   12    10   22  32  -10  21   \n",
              "18  19   Watford                   26     5   4     17   25  47  -22  19   \n",
              "19  20   Norwich City              26     4   5     17   15  55  -40  17   "
            ]
          },
          "metadata": {},
          "execution_count": 24
        }
      ]
    },
    {
      "cell_type": "markdown",
      "source": [
        "# Practice 4:Scrape the table from the below link"
      ],
      "metadata": {
        "id": "3Sx7uaT3hW51"
      }
    },
    {
      "cell_type": "code",
      "source": [
        "import requests\n",
        "from bs4 import BeautifulSoup\n",
        "import pandas as pd"
      ],
      "metadata": {
        "id": "IdvRs6Npbv55"
      },
      "execution_count": 1,
      "outputs": []
    },
    {
      "cell_type": "code",
      "source": [
        "url = 'https://en.wikipedia.org/wiki/Cricket'\n",
        "response_4 = requests.get(url)\n",
        "response_4"
      ],
      "metadata": {
        "colab": {
          "base_uri": "https://localhost:8080/"
        },
        "id": "WJ4WtRFths-f",
        "outputId": "212b363e-fdfc-4752-b6e7-ce3db4ef8b18"
      },
      "execution_count": 2,
      "outputs": [
        {
          "output_type": "execute_result",
          "data": {
            "text/plain": [
              "<Response [200]>"
            ]
          },
          "metadata": {},
          "execution_count": 2
        }
      ]
    },
    {
      "cell_type": "code",
      "source": [
        "soup = BeautifulSoup(response_4.text, 'lxml')\n",
        "soup.title"
      ],
      "metadata": {
        "colab": {
          "base_uri": "https://localhost:8080/"
        },
        "id": "III_zmlbh51P",
        "outputId": "e5f7b551-dd3f-4724-e464-8e16e85f4b15"
      },
      "execution_count": 25,
      "outputs": [
        {
          "output_type": "execute_result",
          "data": {
            "text/plain": [
              "<title>Cricket - Wikipedia</title>"
            ]
          },
          "metadata": {},
          "execution_count": 25
        }
      ]
    },
    {
      "cell_type": "markdown",
      "source": [
        "Locating the table we need to scrape"
      ],
      "metadata": {
        "id": "S_WslkuijS2v"
      }
    },
    {
      "cell_type": "code",
      "source": [
        "len(soup.find_all('table'))"
      ],
      "metadata": {
        "colab": {
          "base_uri": "https://localhost:8080/"
        },
        "id": "vJtTCstHil5I",
        "outputId": "c4dd3f8f-e01c-4ca5-b7db-74a855823df7"
      },
      "execution_count": 27,
      "outputs": [
        {
          "output_type": "execute_result",
          "data": {
            "text/plain": [
              "28"
            ]
          },
          "metadata": {},
          "execution_count": 27
        }
      ]
    },
    {
      "cell_type": "code",
      "source": [
        "len(soup.find('table', {'class': 'wikitable sortable'}))"
      ],
      "metadata": {
        "colab": {
          "base_uri": "https://localhost:8080/"
        },
        "id": "j3sqQuvLioUJ",
        "outputId": "76b30bb3-8bb8-427c-af76-067280b3accb"
      },
      "execution_count": 30,
      "outputs": [
        {
          "output_type": "execute_result",
          "data": {
            "text/plain": [
              "2"
            ]
          },
          "metadata": {},
          "execution_count": 30
        }
      ]
    },
    {
      "cell_type": "code",
      "source": [
        "table = soup.find_all('table', {'class': 'wikitable sortable'})[0]"
      ],
      "metadata": {
        "id": "yWxf6eSxi-F1"
      },
      "execution_count": 34,
      "outputs": []
    },
    {
      "cell_type": "markdown",
      "source": [
        "Creating the column list - contains the names of the columns"
      ],
      "metadata": {
        "id": "ZtoU1xHdjynn"
      }
    },
    {
      "cell_type": "code",
      "source": [
        "column_list_4 = ['team', 'governing_body', 'member_since']"
      ],
      "metadata": {
        "id": "SQMYP9KPjGjU"
      },
      "execution_count": 35,
      "outputs": []
    },
    {
      "cell_type": "code",
      "source": [
        "table_all_rows = table.tbody.find_all('tr')[1:]\n",
        "table_all_rows[0]"
      ],
      "metadata": {
        "colab": {
          "base_uri": "https://localhost:8080/"
        },
        "id": "5JQHZl0WmK1J",
        "outputId": "2332d5ad-1995-434b-ac3c-e5b3c5a91e96"
      },
      "execution_count": 50,
      "outputs": [
        {
          "output_type": "execute_result",
          "data": {
            "text/plain": [
              "<tr>\n",
              "<th scope=\"row\"><a href=\"/wiki/Afghanistan\" title=\"Afghanistan\">Afghanistan</a>\n",
              "</th>\n",
              "<td><a href=\"/wiki/Afghanistan_Cricket_Board\" title=\"Afghanistan Cricket Board\">Afghanistan Cricket Board</a>\n",
              "</td>\n",
              "<td>22 June 2017\n",
              "</td></tr>"
            ]
          },
          "metadata": {},
          "execution_count": 50
        }
      ]
    },
    {
      "cell_type": "code",
      "source": [
        "team = table_all_rows[0].th.text.strip()\n",
        "\n",
        "td = table_all_rows[0].find_all('td')\n",
        "governing_body = td[0].text.strip()\n",
        "member_since = td[1].text.strip()\n"
      ],
      "metadata": {
        "colab": {
          "base_uri": "https://localhost:8080/",
          "height": 35
        },
        "id": "0NNalghpkgve",
        "outputId": "f807b688-1265-4c62-b67f-a0cfd2ca88ce"
      },
      "execution_count": 55,
      "outputs": [
        {
          "output_type": "execute_result",
          "data": {
            "application/vnd.google.colaboratory.intrinsic+json": {
              "type": "string"
            },
            "text/plain": [
              "'22 June 2017'"
            ]
          },
          "metadata": {},
          "execution_count": 55
        }
      ]
    },
    {
      "cell_type": "code",
      "source": [
        "value_list = []\n",
        "for row in table_all_rows:\n",
        "    td = row.find_all('td') \n",
        "    dic_4 = {\n",
        "            'team' : row.th.text.strip(), \n",
        "            'governing_body' : td[0].text.strip() , \n",
        "            'member_since' : td[1].text.strip()\n",
        "            }\n",
        "    value_list.append(dic_4)\n",
        "value_list"
      ],
      "metadata": {
        "colab": {
          "base_uri": "https://localhost:8080/"
        },
        "id": "XazO3DAwjw6Z",
        "outputId": "26df5ecc-a7c6-4522-b53b-8126e7c82c45"
      },
      "execution_count": 62,
      "outputs": [
        {
          "output_type": "execute_result",
          "data": {
            "text/plain": [
              "[{'governing_body': 'Afghanistan Cricket Board',\n",
              "  'member_since': '22 June 2017',\n",
              "  'team': 'Afghanistan'},\n",
              " {'governing_body': 'Cricket Australia',\n",
              "  'member_since': '15 July 1909',\n",
              "  'team': 'Australia'},\n",
              " {'governing_body': 'Bangladesh Cricket Board',\n",
              "  'member_since': '26 June 2000',\n",
              "  'team': 'Bangladesh'},\n",
              " {'governing_body': 'England and Wales Cricket Board',\n",
              "  'member_since': '15 July 1909',\n",
              "  'team': 'England'},\n",
              " {'governing_body': 'Board of Control for Cricket in India',\n",
              "  'member_since': '31 May 1926',\n",
              "  'team': 'India'},\n",
              " {'governing_body': 'Cricket Ireland',\n",
              "  'member_since': '22 June 2017',\n",
              "  'team': 'Ireland'},\n",
              " {'governing_body': 'New Zealand Cricket',\n",
              "  'member_since': '31 May 1926',\n",
              "  'team': 'New Zealand'},\n",
              " {'governing_body': 'Pakistan Cricket Board',\n",
              "  'member_since': '28 July 1952',\n",
              "  'team': 'Pakistan'},\n",
              " {'governing_body': 'Cricket South Africa',\n",
              "  'member_since': '15 July 1909',\n",
              "  'team': 'South Africa'},\n",
              " {'governing_body': 'Sri Lanka Cricket',\n",
              "  'member_since': '21 July 1981',\n",
              "  'team': 'Sri Lanka'},\n",
              " {'governing_body': 'Cricket West Indies',\n",
              "  'member_since': '31 May 1926',\n",
              "  'team': 'West Indies'},\n",
              " {'governing_body': 'Zimbabwe Cricket',\n",
              "  'member_since': '6 July 1992',\n",
              "  'team': 'Zimbabwe'}]"
            ]
          },
          "metadata": {},
          "execution_count": 62
        }
      ]
    },
    {
      "cell_type": "code",
      "source": [
        "df_4 = pd.DataFrame(value_list)"
      ],
      "metadata": {
        "id": "VyrdSf9YkDd0"
      },
      "execution_count": 61,
      "outputs": []
    },
    {
      "cell_type": "code",
      "source": [
        "df_4"
      ],
      "metadata": {
        "colab": {
          "base_uri": "https://localhost:8080/",
          "height": 425
        },
        "id": "dy2tlUSBpJWA",
        "outputId": "a6a457e8-e7e8-49ed-965b-ceff5c4beb7a"
      },
      "execution_count": 63,
      "outputs": [
        {
          "output_type": "execute_result",
          "data": {
            "text/html": [
              "\n",
              "  <div id=\"df-f71afc0b-606a-44fa-8161-68be020e8454\">\n",
              "    <div class=\"colab-df-container\">\n",
              "      <div>\n",
              "<style scoped>\n",
              "    .dataframe tbody tr th:only-of-type {\n",
              "        vertical-align: middle;\n",
              "    }\n",
              "\n",
              "    .dataframe tbody tr th {\n",
              "        vertical-align: top;\n",
              "    }\n",
              "\n",
              "    .dataframe thead th {\n",
              "        text-align: right;\n",
              "    }\n",
              "</style>\n",
              "<table border=\"1\" class=\"dataframe\">\n",
              "  <thead>\n",
              "    <tr style=\"text-align: right;\">\n",
              "      <th></th>\n",
              "      <th>team</th>\n",
              "      <th>governing_body</th>\n",
              "      <th>member_since</th>\n",
              "    </tr>\n",
              "  </thead>\n",
              "  <tbody>\n",
              "    <tr>\n",
              "      <th>0</th>\n",
              "      <td>Afghanistan</td>\n",
              "      <td>Afghanistan Cricket Board</td>\n",
              "      <td>22 June 2017</td>\n",
              "    </tr>\n",
              "    <tr>\n",
              "      <th>1</th>\n",
              "      <td>Australia</td>\n",
              "      <td>Cricket Australia</td>\n",
              "      <td>15 July 1909</td>\n",
              "    </tr>\n",
              "    <tr>\n",
              "      <th>2</th>\n",
              "      <td>Bangladesh</td>\n",
              "      <td>Bangladesh Cricket Board</td>\n",
              "      <td>26 June 2000</td>\n",
              "    </tr>\n",
              "    <tr>\n",
              "      <th>3</th>\n",
              "      <td>England</td>\n",
              "      <td>England and Wales Cricket Board</td>\n",
              "      <td>15 July 1909</td>\n",
              "    </tr>\n",
              "    <tr>\n",
              "      <th>4</th>\n",
              "      <td>India</td>\n",
              "      <td>Board of Control for Cricket in India</td>\n",
              "      <td>31 May 1926</td>\n",
              "    </tr>\n",
              "    <tr>\n",
              "      <th>5</th>\n",
              "      <td>Ireland</td>\n",
              "      <td>Cricket Ireland</td>\n",
              "      <td>22 June 2017</td>\n",
              "    </tr>\n",
              "    <tr>\n",
              "      <th>6</th>\n",
              "      <td>New Zealand</td>\n",
              "      <td>New Zealand Cricket</td>\n",
              "      <td>31 May 1926</td>\n",
              "    </tr>\n",
              "    <tr>\n",
              "      <th>7</th>\n",
              "      <td>Pakistan</td>\n",
              "      <td>Pakistan Cricket Board</td>\n",
              "      <td>28 July 1952</td>\n",
              "    </tr>\n",
              "    <tr>\n",
              "      <th>8</th>\n",
              "      <td>South Africa</td>\n",
              "      <td>Cricket South Africa</td>\n",
              "      <td>15 July 1909</td>\n",
              "    </tr>\n",
              "    <tr>\n",
              "      <th>9</th>\n",
              "      <td>Sri Lanka</td>\n",
              "      <td>Sri Lanka Cricket</td>\n",
              "      <td>21 July 1981</td>\n",
              "    </tr>\n",
              "    <tr>\n",
              "      <th>10</th>\n",
              "      <td>West Indies</td>\n",
              "      <td>Cricket West Indies</td>\n",
              "      <td>31 May 1926</td>\n",
              "    </tr>\n",
              "    <tr>\n",
              "      <th>11</th>\n",
              "      <td>Zimbabwe</td>\n",
              "      <td>Zimbabwe Cricket</td>\n",
              "      <td>6 July 1992</td>\n",
              "    </tr>\n",
              "  </tbody>\n",
              "</table>\n",
              "</div>\n",
              "      <button class=\"colab-df-convert\" onclick=\"convertToInteractive('df-f71afc0b-606a-44fa-8161-68be020e8454')\"\n",
              "              title=\"Convert this dataframe to an interactive table.\"\n",
              "              style=\"display:none;\">\n",
              "        \n",
              "  <svg xmlns=\"http://www.w3.org/2000/svg\" height=\"24px\"viewBox=\"0 0 24 24\"\n",
              "       width=\"24px\">\n",
              "    <path d=\"M0 0h24v24H0V0z\" fill=\"none\"/>\n",
              "    <path d=\"M18.56 5.44l.94 2.06.94-2.06 2.06-.94-2.06-.94-.94-2.06-.94 2.06-2.06.94zm-11 1L8.5 8.5l.94-2.06 2.06-.94-2.06-.94L8.5 2.5l-.94 2.06-2.06.94zm10 10l.94 2.06.94-2.06 2.06-.94-2.06-.94-.94-2.06-.94 2.06-2.06.94z\"/><path d=\"M17.41 7.96l-1.37-1.37c-.4-.4-.92-.59-1.43-.59-.52 0-1.04.2-1.43.59L10.3 9.45l-7.72 7.72c-.78.78-.78 2.05 0 2.83L4 21.41c.39.39.9.59 1.41.59.51 0 1.02-.2 1.41-.59l7.78-7.78 2.81-2.81c.8-.78.8-2.07 0-2.86zM5.41 20L4 18.59l7.72-7.72 1.47 1.35L5.41 20z\"/>\n",
              "  </svg>\n",
              "      </button>\n",
              "      \n",
              "  <style>\n",
              "    .colab-df-container {\n",
              "      display:flex;\n",
              "      flex-wrap:wrap;\n",
              "      gap: 12px;\n",
              "    }\n",
              "\n",
              "    .colab-df-convert {\n",
              "      background-color: #E8F0FE;\n",
              "      border: none;\n",
              "      border-radius: 50%;\n",
              "      cursor: pointer;\n",
              "      display: none;\n",
              "      fill: #1967D2;\n",
              "      height: 32px;\n",
              "      padding: 0 0 0 0;\n",
              "      width: 32px;\n",
              "    }\n",
              "\n",
              "    .colab-df-convert:hover {\n",
              "      background-color: #E2EBFA;\n",
              "      box-shadow: 0px 1px 2px rgba(60, 64, 67, 0.3), 0px 1px 3px 1px rgba(60, 64, 67, 0.15);\n",
              "      fill: #174EA6;\n",
              "    }\n",
              "\n",
              "    [theme=dark] .colab-df-convert {\n",
              "      background-color: #3B4455;\n",
              "      fill: #D2E3FC;\n",
              "    }\n",
              "\n",
              "    [theme=dark] .colab-df-convert:hover {\n",
              "      background-color: #434B5C;\n",
              "      box-shadow: 0px 1px 3px 1px rgba(0, 0, 0, 0.15);\n",
              "      filter: drop-shadow(0px 1px 2px rgba(0, 0, 0, 0.3));\n",
              "      fill: #FFFFFF;\n",
              "    }\n",
              "  </style>\n",
              "\n",
              "      <script>\n",
              "        const buttonEl =\n",
              "          document.querySelector('#df-f71afc0b-606a-44fa-8161-68be020e8454 button.colab-df-convert');\n",
              "        buttonEl.style.display =\n",
              "          google.colab.kernel.accessAllowed ? 'block' : 'none';\n",
              "\n",
              "        async function convertToInteractive(key) {\n",
              "          const element = document.querySelector('#df-f71afc0b-606a-44fa-8161-68be020e8454');\n",
              "          const dataTable =\n",
              "            await google.colab.kernel.invokeFunction('convertToInteractive',\n",
              "                                                     [key], {});\n",
              "          if (!dataTable) return;\n",
              "\n",
              "          const docLinkHtml = 'Like what you see? Visit the ' +\n",
              "            '<a target=\"_blank\" href=https://colab.research.google.com/notebooks/data_table.ipynb>data table notebook</a>'\n",
              "            + ' to learn more about interactive tables.';\n",
              "          element.innerHTML = '';\n",
              "          dataTable['output_type'] = 'display_data';\n",
              "          await google.colab.output.renderOutput(dataTable, element);\n",
              "          const docLink = document.createElement('div');\n",
              "          docLink.innerHTML = docLinkHtml;\n",
              "          element.appendChild(docLink);\n",
              "        }\n",
              "      </script>\n",
              "    </div>\n",
              "  </div>\n",
              "  "
            ],
            "text/plain": [
              "            team                         governing_body  member_since\n",
              "0   Afghanistan   Afghanistan Cricket Board              22 June 2017\n",
              "1   Australia     Cricket Australia                      15 July 1909\n",
              "2   Bangladesh    Bangladesh Cricket Board               26 June 2000\n",
              "3   England       England and Wales Cricket Board        15 July 1909\n",
              "4   India         Board of Control for Cricket in India  31 May 1926 \n",
              "5   Ireland       Cricket Ireland                        22 June 2017\n",
              "6   New Zealand   New Zealand Cricket                    31 May 1926 \n",
              "7   Pakistan      Pakistan Cricket Board                 28 July 1952\n",
              "8   South Africa  Cricket South Africa                   15 July 1909\n",
              "9   Sri Lanka     Sri Lanka Cricket                      21 July 1981\n",
              "10  West Indies   Cricket West Indies                    31 May 1926 \n",
              "11  Zimbabwe      Zimbabwe Cricket                       6 July 1992 "
            ]
          },
          "metadata": {},
          "execution_count": 63
        }
      ]
    },
    {
      "cell_type": "code",
      "source": [
        ""
      ],
      "metadata": {
        "id": "E_ro8vrwpZY1"
      },
      "execution_count": null,
      "outputs": []
    }
  ]
}